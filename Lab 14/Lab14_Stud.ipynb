{
 "cells": [
  {
   "cell_type": "markdown",
   "metadata": {},
   "source": [
    "# Working with Strings\n",
    "String objects are immutable, so attempting to rebind or delete an item or slice of a string raises an exception. "
   ]
  },
  {
   "cell_type": "markdown",
   "metadata": {},
   "source": [
    "##### Task 1: Run below lines of code and try to change the values "
   ]
  },
  {
   "cell_type": "code",
   "execution_count": null,
   "metadata": {
    "scrolled": false
   },
   "outputs": [],
   "source": [
    "string1 = \"This is a string\"\n",
    "string2 = ' This is another string'\n",
    "\n",
    "print(string1)\n",
    "print(string2)\n",
    "print(string1+string2) #concatenation\n",
    "print(string1*2) # repetition"
   ]
  },
  {
   "cell_type": "markdown",
   "metadata": {},
   "source": [
    "##### Task 2: Run below lines of code and try to change the values"
   ]
  },
  {
   "cell_type": "code",
   "execution_count": null,
   "metadata": {},
   "outputs": [],
   "source": [
    "string3 = \"I love my country\"\n",
    "subtring=\"love\"\n",
    "result=subtring not in string3\n",
    "print(result)\n",
    "\n",
    "# set subtring=\"hate\" and check whether it exists in substring3 or not \n",
    "# write your code after this line\n",
    "string3 = \"I love my country\"\n",
    "subtring=\"hate\"\n",
    "result=subtring not in string3\n",
    "print(result)"
   ]
  },
  {
   "cell_type": "markdown",
   "metadata": {},
   "source": [
    "##### Task 3: Run below lines of code and try to change the values"
   ]
  },
  {
   "cell_type": "code",
   "execution_count": null,
   "metadata": {},
   "outputs": [],
   "source": [
    "string4 = \"Strings can only store characters\"\n",
    "print(string4)\n",
    "print(string4[0])\n",
    "print(string4[6])\n",
    "print(string4[-2])\n",
    "\n",
    "\n",
    "\n",
    "# write the code to print the characters g,y,l using both +ive and -ive index\n",
    "# write your code after this line"
   ]
  },
  {
   "cell_type": "markdown",
   "metadata": {},
   "source": [
    "##### Task 4: Run below lines of code and try to change the values"
   ]
  },
  {
   "cell_type": "code",
   "execution_count": null,
   "metadata": {},
   "outputs": [],
   "source": [
    "string5 = \"Strings can only store characters\"\n",
    "print(string5)\n",
    "print(string5[2:5])\n",
    "print(string5[0:])\n",
    "print(string5[2:])\n",
    "print(string5[:])\n",
    "print(string5[:-9])\n",
    "\n",
    "print(string5[-4])\n",
    "\n",
    "print(string5[::2])\n",
    "\n",
    "print(string5[::-2])\n",
    "\n",
    "\n",
    "# Create new string and apply different slicig and indexing operations on it.\n",
    "# write your code after this line"
   ]
  },
  {
   "cell_type": "markdown",
   "metadata": {},
   "source": [
    "#### Program 1: Execute the following code in Python to print using seperate string variables"
   ]
  },
  {
   "cell_type": "code",
   "execution_count": null,
   "metadata": {},
   "outputs": [],
   "source": [
    "str1='Bennett University'\n",
    "str2=\"'Bennett University'\"\n",
    "str3='\"Bennett University\"'\n",
    "str4=\"'Bennett' University\"\n",
    "str5=\"'Bennett' 'University'\"\n",
    "str6=\"'Bennett', 'University'\"\n",
    "str7='I have so many friend\\'s at Bennett University'\n",
    "\n",
    "print(str1)\n",
    "print(str2)\n",
    "print(str3)\n",
    "print(str4)\n",
    "print(str5)\n",
    "print(str6)\n",
    "print(str7)\n"
   ]
  },
  {
   "cell_type": "markdown",
   "metadata": {},
   "source": [
    "#### Program 2: Execute the following code in python in which string values are enclosed between triple quotes like \"\"\" your string \"\"\" to do the following:\n",
    "- Display the string stored in variable. \n",
    "- Split the same string to print each word on new liine without using any \\n\n",
    "- Create another normal string variable in which the string is spanned over multiple lines withot using \"\"\" \"\"\" and \\n"
   ]
  },
  {
   "cell_type": "code",
   "execution_count": null,
   "metadata": {
    "scrolled": false
   },
   "outputs": [],
   "source": [
    "name=\"\"\"This is an example of string variable \"\"\"\n",
    "print(name)\n",
    "\n",
    "name=\"\"\"This is an\n",
    "example of string\n",
    "variable \"\"\"\n",
    "\n",
    "print(name)\n",
    "\n",
    "name2='i have so \\\n",
    "many frieds \\\n",
    "at bennett university '\n",
    "\n",
    "print(name2)\n",
    "        "
   ]
  },
  {
   "cell_type": "markdown",
   "metadata": {},
   "source": [
    "#### Useful Functions\n",
    "\n",
    "Most of these functions will work on any type of sequence\n",
    "\n",
    "- len(s) returns the number of characters in the string s.\n",
    "- title() Captalize the each starting character of a word\n",
    "- capitalize() capatalize the starting character of a sentence.\n",
    "- s.lower() returns a copy of s, but with all uppercase characters converted to lowercase.\n",
    "- s.upper() returns a copy of s with all lowercase characters converted to uppercase.\n"
   ]
  },
  {
   "cell_type": "markdown",
   "metadata": {},
   "source": [
    "#### Program 3: Write a program in python that accepts a string from user and apply \n",
    "len(s), upper(), lower(), title(), capitalize() functions on it."
   ]
  },
  {
   "cell_type": "code",
   "execution_count": null,
   "metadata": {},
   "outputs": [],
   "source": [
    "str1=input(\"Enter any string: \")\n",
    "# write your code after this line"
   ]
  },
  {
   "cell_type": "markdown",
   "metadata": {},
   "source": [
    "#### Useful Functions\n",
    "\n",
    "- s.split([sep]) returns a list whose elements are the words in the string. The parameter sep is optional, by default strings are split on all whitespace (spaces, tabs, newlines). For example, 'To be, or not to be.'.split() will evaluate to ['To', 'be,', 'or', 'not', 'to', 'be.']. Note that split doesn't remove punctuation.\n"
   ]
  },
  {
   "cell_type": "markdown",
   "metadata": {},
   "source": [
    "#### Program 4: Execute the following program in Python that accepts a string from user and splits it based on blanks.\n"
   ]
  },
  {
   "cell_type": "code",
   "execution_count": null,
   "metadata": {},
   "outputs": [],
   "source": []
  },
  {
   "cell_type": "markdown",
   "metadata": {},
   "source": [
    "#### Program 5: Write a program in Python that accepts a string from user which has words separated by hyphen(-). Use function list to split it based on hyphen(-).\n"
   ]
  },
  {
   "cell_type": "code",
   "execution_count": null,
   "metadata": {},
   "outputs": [],
   "source": [
    "str1=\"Hello- How- are- you?\"\n",
    "#write your code here\n"
   ]
  },
  {
   "cell_type": "markdown",
   "metadata": {},
   "source": [
    "### Useful functions\n",
    "\n",
    "#### Searching\n",
    "\n",
    "- s.index(x) returns the index of the first occurrence of the substring x in s. If x isn't a substring an error is thrown.\n",
    "- s.find(x) does the same thing as index, but returns -1 if x isn't a substring, rather than throwing an error.\n",
    "- s.rindex(x) and s.rfind(x) (short for right index and right find) return the last occurrence of the substring x in s.\n",
    "- startswith(substring), returns True if the string starts with given subtstring\n",
    "- endswith(substring), return True if the string ends with given subtstring\n",
    "\n"
   ]
  },
  {
   "cell_type": "markdown",
   "metadata": {},
   "source": [
    "#### Program 6: Execute the following program that accepts a string from user and apply index(s),find(x), rindex(s), rfind()\n",
    "#### Use a new value of variable s and observe the answers\n",
    "\n"
   ]
  },
  {
   "cell_type": "code",
   "execution_count": null,
   "metadata": {},
   "outputs": [],
   "source": [
    "str1='hello hi'\n",
    "s='h'\n",
    "print('Index of ', s, 'is :', str1.index(s))\n",
    "print('find() ', s, 'is :', str1.find(s))\n",
    "print('rindex()', s, 'is :', str1.rindex(s))\n",
    "print(str1.endswith('b'))\n",
    "print(str1.startswith('he'))\n"
   ]
  },
  {
   "cell_type": "markdown",
   "metadata": {},
   "source": [
    "### Useful functions\n",
    "\n",
    "#### Searching\n",
    "\n",
    "- s.count(x) returns the number of times the substring x appears in s. Note that it only counts non-overlapping occurrences, so '000000'.count('000') will return 2.\n",
    "- s.replace(x, y) replaces every occurrence of the substring x in s with y. For example, 'batCatRat'.replace('at', 'oy') will return 'boyCoyRoy'.\n"
   ]
  },
  {
   "cell_type": "markdown",
   "metadata": {},
   "source": [
    "#### Program 7: Execute the following Python program which reads a string from a user, prints the frequency of occurrence of first character and change all the occurrences of first character to ‘$’."
   ]
  },
  {
   "cell_type": "code",
   "execution_count": null,
   "metadata": {},
   "outputs": [],
   "source": [
    "str1=input(\"Enter any string: \")\n",
    "#write your code here"
   ]
  },
  {
   "cell_type": "markdown",
   "metadata": {},
   "source": [
    "### Program 8: Write a program in Python which takes a new string as input and prints the frequency of occurrence of first character in a string without using count function.\n"
   ]
  },
  {
   "cell_type": "code",
   "execution_count": null,
   "metadata": {},
   "outputs": [],
   "source": [
    "#write your code here"
   ]
  },
  {
   "cell_type": "markdown",
   "metadata": {},
   "source": [
    "### Program 9: Define a function freq in Python which returns the frequency of occurrence of first character in a string without using count function."
   ]
  },
  {
   "cell_type": "code",
   "execution_count": null,
   "metadata": {},
   "outputs": [],
   "source": [
    "#write your code here\n"
   ]
  },
  {
   "cell_type": "markdown",
   "metadata": {
    "collapsed": true
   },
   "source": [
    "# Optional Programs"
   ]
  },
  {
   "cell_type": "markdown",
   "metadata": {},
   "source": [
    "#### Program 10: WAP in Python to read a string from user and print in it sorted order of words."
   ]
  },
  {
   "cell_type": "code",
   "execution_count": null,
   "metadata": {},
   "outputs": [],
   "source": []
  },
  {
   "cell_type": "markdown",
   "metadata": {},
   "source": [
    "#### Program 11: Write a python program to remove punctuations !()-[]{};:'\"\\,<>./?@#$%^&*_~ from a string. \n",
    "##### For example if the user enteres the string as : hello @ (how) are - you? \n",
    "##### then your program should print: hello how are you"
   ]
  },
  {
   "cell_type": "code",
   "execution_count": null,
   "metadata": {},
   "outputs": [],
   "source": [
    "punctuations = '''!()-[]{};:'\"\\,<>./?@#$%^&*_~'''\n",
    "\n",
    "str1 = input(\"Enter string with punctuations: \")\n",
    "#write your code here"
   ]
  },
  {
   "cell_type": "markdown",
   "metadata": {
    "collapsed": true
   },
   "source": [
    "### Program 12: Write a program in Python to count the number of vowels in a string."
   ]
  },
  {
   "cell_type": "code",
   "execution_count": null,
   "metadata": {},
   "outputs": [],
   "source": [
    "#write your code here"
   ]
  },
  {
   "cell_type": "markdown",
   "metadata": {},
   "source": [
    "### Program 13: Write a program in Python to remove all duplicate characters from a string\n"
   ]
  },
  {
   "cell_type": "code",
   "execution_count": null,
   "metadata": {},
   "outputs": [],
   "source": [
    "#write your code here"
   ]
  }
 ],
 "metadata": {
  "kernelspec": {
   "display_name": "Python 3",
   "language": "python",
   "name": "python3"
  },
  "language_info": {
   "codemirror_mode": {
    "name": "ipython",
    "version": 3
   },
   "file_extension": ".py",
   "mimetype": "text/x-python",
   "name": "python",
   "nbconvert_exporter": "python",
   "pygments_lexer": "ipython3",
   "version": "3.6.5"
  }
 },
 "nbformat": 4,
 "nbformat_minor": 2
}

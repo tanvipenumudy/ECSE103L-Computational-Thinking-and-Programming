{
  "nbformat": 4,
  "nbformat_minor": 0,
  "metadata": {
    "colab": {
      "name": "Labassign14_E18CSE187_Tanvi_Penumudy.ipynb",
      "version": "0.3.2",
      "provenance": [],
      "collapsed_sections": []
    },
    "kernelspec": {
      "display_name": "Python 3",
      "language": "python",
      "name": "python3"
    }
  },
  "cells": [
    {
      "metadata": {
        "id": "BwAlnt-wff5T",
        "colab_type": "text"
      },
      "cell_type": "markdown",
      "source": [
        "#Name: Tanvi Penumudy\n",
        "#Enrollment no.: E18CSE187\n",
        "#Lab Assignment: 14\n",
        "# Working with Strings\n",
        "String objects are immutable, so attempting to rebind or delete an item or slice of a string raises an exception. "
      ]
    },
    {
      "metadata": {
        "id": "LBA9ETpIff5Z",
        "colab_type": "text"
      },
      "cell_type": "markdown",
      "source": [
        "##### Task 1: Run below lines of code and try to change the values "
      ]
    },
    {
      "metadata": {
        "id": "MhN19UQuff5d",
        "colab_type": "code",
        "colab": {},
        "outputId": "7625924a-3558-442d-ccb6-68c469595c65"
      },
      "cell_type": "code",
      "source": [
        "string1 = \"Hey, this is Tanvi\"\n",
        "string2 = 'I study at Bennett'\n",
        "\n",
        "print(string1)\n",
        "print(string2)\n",
        "print(string1+string2) #concatenation\n",
        "print(string1*2) # repetition"
      ],
      "execution_count": 0,
      "outputs": [
        {
          "output_type": "stream",
          "text": [
            "Hey, this is Tanvi\n",
            "I study at Bennett\n",
            "Hey, this is TanviI study at Bennett\n",
            "Hey, this is TanviHey, this is Tanvi\n"
          ],
          "name": "stdout"
        }
      ]
    },
    {
      "metadata": {
        "id": "8q7ulbLEff5w",
        "colab_type": "text"
      },
      "cell_type": "markdown",
      "source": [
        "##### Task 2: Run below lines of code and try to change the values"
      ]
    },
    {
      "metadata": {
        "id": "8HQaqOIwff5y",
        "colab_type": "code",
        "colab": {},
        "outputId": "bdaff2d2-80d7-4842-8aa0-feaeaab9ebcb"
      },
      "cell_type": "code",
      "source": [
        "string3 = \"I love our nation\"\n",
        "subtring=\"nation\"\n",
        "result=subtring not in string3\n",
        "print(result)\n",
        "\n",
        "# set subtring=\"hate\" and check whether it exists in substring3 or not \n",
        "# write your code after this line\n",
        "string3 = \"I love our nation\"\n",
        "subtring=\"my\"\n",
        "result=subtring not in string3\n",
        "print(result)"
      ],
      "execution_count": 0,
      "outputs": [
        {
          "output_type": "stream",
          "text": [
            "False\n",
            "True\n"
          ],
          "name": "stdout"
        }
      ]
    },
    {
      "metadata": {
        "id": "XT-OTaqiff5-",
        "colab_type": "text"
      },
      "cell_type": "markdown",
      "source": [
        "##### Task 3: Run below lines of code and try to change the values"
      ]
    },
    {
      "metadata": {
        "id": "ddq6u7_Zff6B",
        "colab_type": "code",
        "colab": {},
        "outputId": "06b846a7-b340-46fc-ced9-83c2a99d9a75"
      },
      "cell_type": "code",
      "source": [
        "stri = \"Every cloud has a silver lining\"\n",
        "print(stri)\n",
        "print(stri[2])\n",
        "print(stri[-4])\n",
        "print(stri[8])\n",
        "\n",
        "\n",
        "\n",
        "# write the code to print the characters g,y,l using both +ive and -ive index\n",
        "# write your code after this line"
      ],
      "execution_count": 0,
      "outputs": [
        {
          "output_type": "stream",
          "text": [
            "Every cloud has a silver lining\n",
            "e\n",
            "n\n",
            "o\n"
          ],
          "name": "stdout"
        }
      ]
    },
    {
      "metadata": {
        "id": "vBzmFrYKff6N",
        "colab_type": "text"
      },
      "cell_type": "markdown",
      "source": [
        "##### Task 4: Run below lines of code and try to change the values"
      ]
    },
    {
      "metadata": {
        "id": "8Vpw0ngCff6P",
        "colab_type": "code",
        "colab": {},
        "outputId": "dfa3a24f-3433-4629-9704-eedee7bd0703"
      },
      "cell_type": "code",
      "source": [
        "string5 = \"Strings can only store characters\"\n",
        "print(string5)\n",
        "print(string5[2:3])\n",
        "print(string5[0:])\n",
        "\n",
        "print(string5[2:4])\n",
        "print(string5[:])\n",
        "print(string5[0:-9])\n",
        "\n",
        "print(string5[-4])\n",
        "\n",
        "print(string5[::3])\n",
        "\n",
        "print(string5[::-3])\n",
        "\n",
        "\n",
        "# Create new string and apply different slicig and indexing operations on it.\n",
        "# write your code after this line\n",
        "\n",
        "var= \"Love what you do and do what you love\"\n",
        "print(var)\n",
        "print(var[2:4])\n",
        "print(var[0:8])\n",
        "print(var[2:])\n",
        "print(var[:])\n",
        "print(var[:-7])\n",
        "print(var[::-2])\n"
      ],
      "execution_count": 0,
      "outputs": [
        {
          "output_type": "stream",
          "text": [
            "Strings can only store characters\n",
            "r\n",
            "Strings can only store characters\n",
            "ri\n",
            "Strings can only store characters\n",
            "Strings can only store c\n",
            "t\n",
            "Sisaoytehae\n",
            "strcrsl cgr\n",
            "Love what you do and do what you love\n",
            "ve\n",
            "Love wha\n",
            "ve what you do and do what you love\n",
            "Love what you do and do what you love\n",
            "Love what you do and do what y\n",
            "eo o awo n duyth vL\n"
          ],
          "name": "stdout"
        }
      ]
    },
    {
      "metadata": {
        "id": "AwbfG_YRff6a",
        "colab_type": "text"
      },
      "cell_type": "markdown",
      "source": [
        "#### Program 1: Execute the following code in Python to print using seperate string variables"
      ]
    },
    {
      "metadata": {
        "id": "rhtWtROSff6d",
        "colab_type": "code",
        "colab": {},
        "outputId": "992ff7b3-3b49-4301-e625-8dd6474e8730"
      },
      "cell_type": "code",
      "source": [
        "s1='Tanvi Penumudy'\n",
        "s2=\"'Vineeta Penumudy'\"\n",
        "s3='\"Savitha Pkishoreenumudy\"'\n",
        "s4=\"'kishore' Penumudy\"\n",
        "s5=\"'Vikas' 'the Concept School'\"\n",
        "s6=\"'Bennett', 'University'\"\n",
        "s7='My sister\\'s really clever'\n",
        "s8='Sruju'\" Sindhu\"\n",
        "\n",
        "print(s1)\n",
        "print(s2)\n",
        "print(s3)\n",
        "print(s4)\n",
        "print(s5)\n",
        "print(s6)\n",
        "print(s7)\n",
        "print(s8)\n"
      ],
      "execution_count": 0,
      "outputs": [
        {
          "output_type": "stream",
          "text": [
            "Tanvi Penumudy\n",
            "'Vineeta Penumudy'\n",
            "\"Savitha Pkishoreenumudy\"\n",
            "'kishore' Penumudy\n",
            "'Vikas' 'the Concept School'\n",
            "'Bennett', 'University'\n",
            "My sister's really clever\n",
            "Sruju Sindhu\n"
          ],
          "name": "stdout"
        }
      ]
    },
    {
      "metadata": {
        "id": "HsVWOcbxff6u",
        "colab_type": "text"
      },
      "cell_type": "markdown",
      "source": [
        "#### Program 2: Execute the following code in python in which string values are enclosed between triple quotes like \"\"\" your string \"\"\" to do the following:\n",
        "- Display the string stored in variable. \n",
        "- Split the same string to print each word on new liine without using any \\n\n",
        "- Create another normal string variable in which the string is spanned over multiple lines withot using \"\"\" \"\"\" and \\n"
      ]
    },
    {
      "metadata": {
        "id": "d5ItBQ_cff6x",
        "colab_type": "code",
        "colab": {},
        "outputId": "62d113f2-d737-493c-def4-fbd0a159d1fd"
      },
      "cell_type": "code",
      "source": [
        "name=\"\"\"This is an example of string variable \"\"\"\n",
        "print(name)\n",
        "\n",
        "name=\"\"\"This is an\n",
        "example of string\n",
        "variable \"\"\"\n",
        "\n",
        "print(name)\n",
        "\n",
        "name2='i have so \\\n",
        "many frieds \\\n",
        "at bennett university '\n",
        "\n",
        "print(name2)\n",
        "\n",
        "n=\"\"\"This is Tanvi Penumudy \"\"\"\n",
        "print(n)\n",
        "\n",
        "n=\"\"\"This is \n",
        "Tanvi\n",
        "Penumudy \"\"\"\n",
        "\n",
        "print(n)\n",
        "\n",
        "n1='I love my family \\\n",
        " I love Hyderabad\\\n",
        " '\n",
        "\n",
        "print(n1)\n",
        "        "
      ],
      "execution_count": 0,
      "outputs": [
        {
          "output_type": "stream",
          "text": [
            "This is an example of string variable \n",
            "This is an\n",
            "example of string\n",
            "variable \n",
            "i have so many frieds at bennett university \n",
            "This is Tanvi Penumudy \n",
            "This is \n",
            "Tanvi\n",
            "Penumudy \n",
            "I love my family  I love Hyderabad \n"
          ],
          "name": "stdout"
        }
      ]
    },
    {
      "metadata": {
        "id": "DTVZ1Q-Eff67",
        "colab_type": "text"
      },
      "cell_type": "markdown",
      "source": [
        "#### Useful Functions\n",
        "\n",
        "Most of these functions will work on any type of sequence\n",
        "\n",
        "- len(s) returns the number of characters in the string s.\n",
        "- title() Captalize the each starting character of a word\n",
        "- capitalize() capatalize the starting character of a sentence.\n",
        "- s.lower() returns a copy of s, but with all uppercase characters converted to lowercase.\n",
        "- s.upper() returns a copy of s with all lowercase characters converted to uppercase.\n"
      ]
    },
    {
      "metadata": {
        "id": "B0UhX71Eff69",
        "colab_type": "text"
      },
      "cell_type": "markdown",
      "source": [
        "#### Program 3: Write a program in python that accepts a string from user and apply \n",
        "len(s), upper(), lower(), title(), capitalize() functions on it."
      ]
    },
    {
      "metadata": {
        "id": "kRNo_FhWff6_",
        "colab_type": "code",
        "colab": {},
        "outputId": "cf295aea-7128-4e4d-8285-faed863e4eb1"
      },
      "cell_type": "code",
      "source": [
        "s=input(\"Enter any string: \")\n",
        "# write your code after this line\n",
        "print(len(s))\n",
        "print(s.upper())\n",
        "print(s.lower())\n",
        "print(s.title())\n",
        "print(s.capitalize())\n"
      ],
      "execution_count": 0,
      "outputs": [
        {
          "output_type": "stream",
          "text": [
            "Enter any string: Tanvi Penumudy\n",
            "14\n",
            "TANVI PENUMUDY\n",
            "tanvi penumudy\n",
            "Tanvi Penumudy\n",
            "Tanvi penumudy\n"
          ],
          "name": "stdout"
        }
      ]
    },
    {
      "metadata": {
        "id": "SCuNDyMMff7I",
        "colab_type": "text"
      },
      "cell_type": "markdown",
      "source": [
        "#### Useful Functions\n",
        "\n",
        "- s.split([sep]) returns a list whose elements are the words in the string. The parameter sep is optional, by default strings are split on all whitespace (spaces, tabs, newlines). For example, 'To be, or not to be.'.split() will evaluate to ['To', 'be,', 'or', 'not', 'to', 'be.']. Note that split doesn't remove punctuation.\n"
      ]
    },
    {
      "metadata": {
        "id": "kJ3nhNggff7L",
        "colab_type": "text"
      },
      "cell_type": "markdown",
      "source": [
        "#### Program 4: Execute the following program in Python that accepts a string from user and splits it based on blanks.\n"
      ]
    },
    {
      "metadata": {
        "id": "ccbfnbUwff7N",
        "colab_type": "code",
        "colab": {
          "base_uri": "https://localhost:8080/",
          "height": 51
        },
        "outputId": "f5f784b3-7ad5-4f34-f91a-d46d1b5a1217"
      },
      "cell_type": "code",
      "source": [
        "string=input(\"Enter any random string character:\")\n",
        "split_string =string.split()\n",
        "print(split_string) \n"
      ],
      "execution_count": 12,
      "outputs": [
        {
          "output_type": "stream",
          "text": [
            "Enter any random string character:Tanvi Penumudy\n",
            "['Tanvi', 'Penumudy']\n"
          ],
          "name": "stdout"
        }
      ]
    },
    {
      "metadata": {
        "id": "Dbptk8cdff7f",
        "colab_type": "text"
      },
      "cell_type": "markdown",
      "source": [
        "#### Program 5: Write a program in Python that accepts a string from user which has words separated by hyphen(-). Use function list to split it based on hyphen(-).\n"
      ]
    },
    {
      "metadata": {
        "id": "vOnw9lQoff7h",
        "colab_type": "code",
        "colab": {},
        "outputId": "09b30d52-3bc5-4004-9a66-66052a980a90"
      },
      "cell_type": "code",
      "source": [
        "str1=\"Hello- How- are- you?\"\n",
        "#write your code here\n",
        "str2=input(\"Enter any random string:\")\n",
        "print(\"_\".join(str1))\n",
        "print(\"_\".join(str2))"
      ],
      "execution_count": 0,
      "outputs": [
        {
          "output_type": "stream",
          "text": [
            "Enter any random string:TANVI\n",
            "H_e_l_l_o_-_ _H_o_w_-_ _a_r_e_-_ _y_o_u_?\n",
            "T_A_N_V_I\n"
          ],
          "name": "stdout"
        }
      ]
    },
    {
      "metadata": {
        "id": "2r31VLf9ff7q",
        "colab_type": "text"
      },
      "cell_type": "markdown",
      "source": [
        "### Useful functions\n",
        "\n",
        "#### Searching\n",
        "\n",
        "- s.index(x) returns the index of the first occurrence of the substring x in s. If x isn't a substring an error is thrown.\n",
        "- s.find(x) does the same thing as index, but returns -1 if x isn't a substring, rather than throwing an error.\n",
        "- s.rindex(x) and s.rfind(x) (short for right index and right find) return the last occurrence of the substring x in s.\n",
        "- startswith(substring), returns True if the string starts with given subtstring\n",
        "- endswith(substring), return True if the string ends with given subtstring\n",
        "\n"
      ]
    },
    {
      "metadata": {
        "id": "5NkmjjS-ff7t",
        "colab_type": "text"
      },
      "cell_type": "markdown",
      "source": [
        "#### Program 6: Execute the following program that accepts a string from user and apply index(s),find(x), rindex(s), rfind()\n",
        "#### Use a new value of variable s and observe the answers\n",
        "\n"
      ]
    },
    {
      "metadata": {
        "id": "mz0a2jQ4ff7u",
        "colab_type": "code",
        "colab": {
          "base_uri": "https://localhost:8080/",
          "height": 102
        },
        "outputId": "b5b4136d-a776-424a-9557-3c471bd483e7"
      },
      "cell_type": "code",
      "source": [
        "str1='hello hi'\n",
        "s='h'\n",
        "print('Index of: ',s, 'is :', str1.index(s))\n",
        "print('find() of: ',s, 'is :', str1.find(s))\n",
        "print('index() of:',s, 'is :', str1.rindex(s))\n",
        "print(str1.endswith('h'))\n",
        "print(str1.startswith('be'))\n"
      ],
      "execution_count": 1,
      "outputs": [
        {
          "output_type": "stream",
          "text": [
            "Index of:  h is : 0\n",
            "find() of:  h is : 0\n",
            "index() of: h is : 6\n",
            "False\n",
            "False\n"
          ],
          "name": "stdout"
        }
      ]
    },
    {
      "metadata": {
        "id": "rycdi4rjff74",
        "colab_type": "text"
      },
      "cell_type": "markdown",
      "source": [
        "### Useful functions\n",
        "\n",
        "#### Searching\n",
        "\n",
        "- s.count(x) returns the number of times the substring x appears in s. Note that it only counts non-overlapping occurrences, so '000000'.count('000') will return 2.\n",
        "- s.replace(x, y) replaces every occurrence of the substring x in s with y. For example, 'batCatRat'.replace('at', 'oy') will return 'boyCoyRoy'.\n"
      ]
    },
    {
      "metadata": {
        "id": "G7AOmEUtff76",
        "colab_type": "text"
      },
      "cell_type": "markdown",
      "source": [
        "#### Program 7: Execute the following Python program which reads a string from a user, prints the frequency of occurrence of first character and change all the occurrences of first character to ‘$’."
      ]
    },
    {
      "metadata": {
        "id": "ZmBhcEHcff77",
        "colab_type": "code",
        "colab": {
          "base_uri": "https://localhost:8080/",
          "height": 85
        },
        "outputId": "e58fcd2f-456b-44c5-a88d-36ea64b212c8"
      },
      "cell_type": "code",
      "source": [
        "st=input(\"Enter any string: \")\n",
        "#write your code here\n",
        "print(st.count(\"n\"))\n",
        "var=st[1]\n",
        "print(st.count(var))\n",
        "print(st.replace(var,\"@\"))"
      ],
      "execution_count": 7,
      "outputs": [
        {
          "output_type": "stream",
          "text": [
            "Enter any string: Tanvi Penumudy\n",
            "2\n",
            "1\n",
            "T@nvi Penumudy\n"
          ],
          "name": "stdout"
        }
      ]
    },
    {
      "metadata": {
        "id": "Y1lMxbo0ff8H",
        "colab_type": "text"
      },
      "cell_type": "markdown",
      "source": [
        "### Program 8: Write a program in Python which takes a new string as input and prints the frequency of occurrence of first character in a string without using count function.\n"
      ]
    },
    {
      "metadata": {
        "id": "hwswOYJfff8I",
        "colab_type": "code",
        "colab": {
          "base_uri": "https://localhost:8080/",
          "height": 51
        },
        "outputId": "8519077a-a83b-4b4b-a3b3-c6dc8f341f2b"
      },
      "cell_type": "code",
      "source": [
        "#write your code here\n",
        "s=input(\"Enter any string of your choice:\")\n",
        "sum=0\n",
        "for i in s:\n",
        "    sum+=1\n",
        "print(sum)"
      ],
      "execution_count": 3,
      "outputs": [
        {
          "output_type": "stream",
          "text": [
            "Enter any string of your choice:Tanvi Penumudy\n",
            "14\n"
          ],
          "name": "stdout"
        }
      ]
    },
    {
      "metadata": {
        "id": "BWBPV0mjff8T",
        "colab_type": "text"
      },
      "cell_type": "markdown",
      "source": [
        "### Program 9: Define a function freq in Python which returns the frequency of occurrence of first character in a string without using count function."
      ]
    },
    {
      "metadata": {
        "id": "wctjojqfff8W",
        "colab_type": "code",
        "colab": {
          "base_uri": "https://localhost:8080/",
          "height": 34
        },
        "outputId": "f9cf1e15-05d7-4bd4-c2cc-70aff94342e3"
      },
      "cell_type": "code",
      "source": [
        "#write your code here\n",
        "def countLetters(word):\n",
        "    letterdict={}\n",
        "    for letter in word:\n",
        "        letterdict[letter] = 0\n",
        "    for letter in word:\n",
        "        letterdict[letter] += 1\n",
        "    return letterdict\n",
        "countLetters('google')\n",
        "\n",
        "\n"
      ],
      "execution_count": 19,
      "outputs": [
        {
          "output_type": "execute_result",
          "data": {
            "text/plain": [
              "{'e': 1, 'g': 2, 'l': 1, 'o': 2}"
            ]
          },
          "metadata": {
            "tags": []
          },
          "execution_count": 19
        }
      ]
    },
    {
      "metadata": {
        "id": "sg9k-Z8Hff8h",
        "colab_type": "text"
      },
      "cell_type": "markdown",
      "source": [
        "# Optional Programs"
      ]
    },
    {
      "metadata": {
        "id": "_NGhmLGKff8k",
        "colab_type": "text"
      },
      "cell_type": "markdown",
      "source": [
        "#### Program 10: WAP in Python to read a string from user and print in it sorted order of words."
      ]
    },
    {
      "metadata": {
        "id": "EQyHqx1Off8p",
        "colab_type": "code",
        "colab": {}
      },
      "cell_type": "code",
      "source": [
        ""
      ],
      "execution_count": 0,
      "outputs": []
    },
    {
      "metadata": {
        "id": "9XX3cfB7ff8v",
        "colab_type": "text"
      },
      "cell_type": "markdown",
      "source": [
        "#### Program 11: Write a python program to remove punctuations !()-[]{};:'\"\\,<>./?@#$%^&*_~ from a string. \n",
        "##### For example if the user enteres the string as : hello @ (how) are - you? \n",
        "##### then your program should print: hello how are you"
      ]
    },
    {
      "metadata": {
        "id": "EnhM89kLff81",
        "colab_type": "code",
        "colab": {}
      },
      "cell_type": "code",
      "source": [
        "punctuations = '''!()-[]{};:'\"\\,<>./?@#$%^&*_~'''\n",
        "\n",
        "str1 = input(\"Enter string with punctuations: \")\n",
        "#write your code here"
      ],
      "execution_count": 0,
      "outputs": []
    },
    {
      "metadata": {
        "id": "mApQoGWpff9I",
        "colab_type": "text"
      },
      "cell_type": "markdown",
      "source": [
        "### Program 12: Write a program in Python to count the number of vowels in a string."
      ]
    },
    {
      "metadata": {
        "id": "LtrU2TFVff9K",
        "colab_type": "code",
        "colab": {},
        "outputId": "6d0b361a-6b21-4418-8ac1-58ca36d65574"
      },
      "cell_type": "code",
      "source": [
        "#write your code here\n",
        "s=input(\"Enter any string of your choice:\")\n",
        "\n",
        "sum=0\n",
        "for i in s:\n",
        "    if(i==\"a\" or i==\"e\" or i==\"i\" or i==\"o\" or i==\"u\" or i==\"A\" or i==\"E\" or i==\"I\" or i==\"O\" or i==\"U\"):\n",
        "        sum+=1\n",
        "print(sum)"
      ],
      "execution_count": 0,
      "outputs": [
        {
          "output_type": "stream",
          "text": [
            "Enter any string of your choice:Tanvi Penumudy\n",
            "5\n"
          ],
          "name": "stdout"
        }
      ]
    },
    {
      "metadata": {
        "id": "5mMO_GPVff9U",
        "colab_type": "text"
      },
      "cell_type": "markdown",
      "source": [
        "### Program 13: Write a program in Python to remove all duplicate characters from a string\n"
      ]
    },
    {
      "metadata": {
        "id": "ZKK_8abBff9X",
        "colab_type": "code",
        "colab": {}
      },
      "cell_type": "code",
      "source": [
        ""
      ],
      "execution_count": 0,
      "outputs": []
    },
    {
      "metadata": {
        "id": "sX5VeMMjkiN2",
        "colab_type": "code",
        "colab": {}
      },
      "cell_type": "code",
      "source": [
        ""
      ],
      "execution_count": 0,
      "outputs": []
    }
  ]
}
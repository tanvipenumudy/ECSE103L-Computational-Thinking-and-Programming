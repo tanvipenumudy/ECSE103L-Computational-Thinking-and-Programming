{
  "nbformat": 4,
  "nbformat_minor": 0,
  "metadata": {
    "colab": {
      "name": "LabAssign_11_E18CSE187_Tanvi_Penumudy .ipynb",
      "version": "0.3.2",
      "provenance": [],
      "collapsed_sections": []
    },
    "kernelspec": {
      "display_name": "Python 3",
      "language": "python",
      "name": "python3"
    }
  },
  "cells": [
    {
      "metadata": {
        "id": "qR6SzgZdSb-b",
        "colab_type": "text"
      },
      "cell_type": "markdown",
      "source": [
        "# Python function \n",
        "#Name: Tanvi Penumudy\n",
        "##Enrollment Number: E18CSE187\n",
        "##Lab assignment Number: 11\n",
        "\n",
        "## Every solution should be done with the help of functions."
      ]
    },
    {
      "metadata": {
        "id": "D6rr9FPcSb-f",
        "colab_type": "raw"
      },
      "cell_type": "markdown",
      "source": [
        "Function is used for modularity in the program.\n",
        "\n",
        "def function_name(argument-1, argument-2,argument-3...):\n",
        "    function body\n",
        "    .\n",
        "    .\n",
        "    .\n",
        "    .\n",
        "    .\n",
        "    return var   \n",
        "#function call\n",
        "function_name(10,20,30)"
      ]
    },
    {
      "metadata": {
        "id": "ji39Ln9kSb-h",
        "colab_type": "text"
      },
      "cell_type": "markdown",
      "source": [
        "## 1. Write a program to compute gcd of two user input numbers."
      ]
    },
    {
      "metadata": {
        "id": "YJUlhcnLSb-k",
        "colab_type": "code",
        "colab": {},
        "outputId": "b35c178e-07f9-4e9d-e0c3-d1a0be321da8"
      },
      "cell_type": "code",
      "source": [
        "def gcd(a,b):\n",
        "    if(b==0):\n",
        "        return a\n",
        "    else:\n",
        "        return gcd(b,a%b)\n",
        "a=int(input(\"Enter the first number:\"))\n",
        "b=int(input(\"Enter the second number:\"))\n",
        "GCD=gcd(a,b)\n",
        "print(\"GCD is: \")\n",
        "print(GCD)\n",
        "    \n"
      ],
      "execution_count": 0,
      "outputs": [
        {
          "output_type": "stream",
          "text": [
            "Enter the first number:12\n",
            "Enter the second number:4\n",
            "GCD is: \n",
            "4\n"
          ],
          "name": "stdout"
        }
      ]
    },
    {
      "metadata": {
        "id": "O34LAARFSb-2",
        "colab_type": "text"
      },
      "cell_type": "markdown",
      "source": [
        "##2.Write a program to take an integer from the user and return reverse of the number.\n",
        "### (Example: I/P 123, O/P: 321) "
      ]
    },
    {
      "metadata": {
        "id": "oszA_uEGSb-5",
        "colab_type": "code",
        "colab": {},
        "outputId": "7950d6ab-5db3-424e-a7f0-300184cafd5e"
      },
      "cell_type": "code",
      "source": [
        "\n",
        "def rev(num):\n",
        "    rev=0\n",
        "    \n",
        "    while(num>0):\n",
        "        dig=num%10\n",
        "        rev=(rev*10)+dig\n",
        "        num=num//10\n",
        "    print(\"The reverse is\",rev)\n",
        "num=int(input(\"Enter your number:\"))\n",
        "\n",
        "\n",
        "rev(num)\n",
        "\n",
        "\n",
        "\n"
      ],
      "execution_count": 0,
      "outputs": [
        {
          "output_type": "stream",
          "text": [
            "Enter your number:2345\n",
            "The reverse is 5432\n"
          ],
          "name": "stdout"
        }
      ]
    },
    {
      "metadata": {
        "id": "JqV7hFTQSb_E",
        "colab_type": "text"
      },
      "cell_type": "markdown",
      "source": [
        "## 3. Write a program in Python to print prime numbers between 25 and 100 using function."
      ]
    },
    {
      "metadata": {
        "id": "hyIz5ImVSb_G",
        "colab_type": "code",
        "colab": {},
        "outputId": "e8a8f8fc-3d82-4062-9107-a61ce67debe0"
      },
      "cell_type": "code",
      "source": [
        "def prime(a,b):\n",
        "    for i in range(a,b+1):\n",
        "        p=1\n",
        "        for j in range(2,i):\n",
        "            if(i%j==0):\n",
        "                p=0\n",
        "        if(p):\n",
        "            print(i)\n",
        "prime(25,100)\n",
        "\n",
        "\n"
      ],
      "execution_count": 0,
      "outputs": [
        {
          "output_type": "stream",
          "text": [
            "29\n",
            "31\n",
            "37\n",
            "41\n",
            "43\n",
            "47\n",
            "53\n",
            "59\n",
            "61\n",
            "67\n",
            "71\n",
            "73\n",
            "79\n",
            "83\n",
            "89\n",
            "97\n"
          ],
          "name": "stdout"
        }
      ]
    },
    {
      "metadata": {
        "id": "aNlYoWPtSb_Q",
        "colab_type": "text"
      },
      "cell_type": "markdown",
      "source": [
        "## 4. Define a Python function pow1 that takes the values of two integers m and n from the user and calculate pow(m,n). Call this function with different values.\n",
        "### Do not use exponent operator (**) or pow()"
      ]
    },
    {
      "metadata": {
        "id": "a_8eDjhOSb_T",
        "colab_type": "code",
        "colab": {},
        "outputId": "dc114f30-1e03-4f1a-f799-b9de6242ca0e"
      },
      "cell_type": "code",
      "source": [
        "def power(m,n):\n",
        "    value=m**n\n",
        "    print(\"The required value is:\",value)\n",
        "power(3,2)\n",
        "    \n",
        "    \n",
        "    "
      ],
      "execution_count": 0,
      "outputs": [
        {
          "output_type": "stream",
          "text": [
            "The required value is: 9\n"
          ],
          "name": "stdout"
        }
      ]
    },
    {
      "metadata": {
        "id": "p6jfz4GbSb_c",
        "colab_type": "text"
      },
      "cell_type": "markdown",
      "source": [
        "## 5. Write a Python program to find the factorial of a number using a recursive function."
      ]
    },
    {
      "metadata": {
        "id": "Xwx6DExdSb_f",
        "colab_type": "code",
        "colab": {},
        "outputId": "24d35f33-8e10-44c8-ad7c-2cbb7e1210c0"
      },
      "cell_type": "code",
      "source": [
        "def factorial(num):\n",
        "    p=1\n",
        "    for i in range(1,num+1):\n",
        "        p*=i\n",
        "    print(\"The factorial of the given number is:\",p)\n",
        "factorial(5)\n",
        "        "
      ],
      "execution_count": 0,
      "outputs": [
        {
          "output_type": "stream",
          "text": [
            "The factorial of the given number is: 120\n"
          ],
          "name": "stdout"
        }
      ]
    },
    {
      "metadata": {
        "id": "YMgwgWy_Sb_p",
        "colab_type": "text"
      },
      "cell_type": "markdown",
      "source": [
        "## 6. Design and develop a python function RightShift(x ,n) that takes two integers x and n as input and returns value of the integer x shifted to the right by n positions. Assume the integers are unsigned. \n",
        "### Write a Python program that invokes this function with multiple values for x and n and tabulate the results with suitable headings withour using right shift operator."
      ]
    },
    {
      "metadata": {
        "id": "OkwHXCUhSb_r",
        "colab_type": "code",
        "colab": {},
        "outputId": "43a15e9c-8a04-4304-e96d-fa4a249d7053"
      },
      "cell_type": "code",
      "source": [
        "def rshift(x,n):\n",
        "    y=x>>n\n",
        "    print(y)\n",
        "x=int(input(\"Enter value of x : \"))\n",
        "n=int(input(\"Enter value of n : \"))\n",
        "rshift(x,n)"
      ],
      "execution_count": 0,
      "outputs": [
        {
          "output_type": "stream",
          "text": [
            "Enter value of x : 6\n",
            "Enter value of n : 2\n",
            "1\n"
          ],
          "name": "stdout"
        }
      ]
    },
    {
      "metadata": {
        "id": "p3JsDnmgSb_7",
        "colab_type": "text"
      },
      "cell_type": "markdown",
      "source": [
        "## 7.  Write a program in python to find the sum of the series 1!/1+2!/2+3!/3+4!/4+5!/5 using the function. "
      ]
    },
    {
      "metadata": {
        "id": "6v8NWUBFSb_9",
        "colab_type": "code",
        "colab": {},
        "outputId": "ea721eb4-343e-4b18-a0eb-46cecb394600"
      },
      "cell_type": "code",
      "source": [
        "def factorial_sum(num):\n",
        "    p=1\n",
        "    s=0\n",
        "    for i in range(1,num+1):\n",
        "        p*=i\n",
        "        s+=p/i\n",
        "        \n",
        "    print(\"The sum of the required sequence is:\",s)\n",
        "factorial_sum(5)"
      ],
      "execution_count": 0,
      "outputs": [
        {
          "output_type": "stream",
          "text": [
            "The sum of the required sequence is: 34.0\n"
          ],
          "name": "stdout"
        }
      ]
    },
    {
      "metadata": {
        "id": "bVUoO8DvScAI",
        "colab_type": "text"
      },
      "cell_type": "markdown",
      "source": [
        "## 8. Define a function to print nth term in Fibonacci series using recursion. Call this function with different values."
      ]
    },
    {
      "metadata": {
        "id": "FgiyM2C-ScAL",
        "colab_type": "code",
        "colab": {},
        "outputId": "0e8c3080-be06-49dd-883a-1298d7017644"
      },
      "cell_type": "code",
      "source": [
        "def fibo(num):\n",
        "    \n",
        "    n1=0\n",
        "    n2=1\n",
        "    num=int(input(\"Enter the number of terms  you wnat the sequence to be generated: \"))\n",
        "    print(\"Hence the fibonacci sequnece:\")\n",
        "    print(n1)\n",
        "    print(n2)\n",
        "    for i in range(num-2):\n",
        "        n3=n1+n2\n",
        "        n1=n2\n",
        "        n2=n3\n",
        "        print(n3)\n",
        "    \n",
        "fibo(6)\n",
        "    "
      ],
      "execution_count": 0,
      "outputs": [
        {
          "output_type": "stream",
          "text": [
            "Enter the number of terms  you wnat the sequence to be generated: 4\n",
            "Hence the fibonacci sequnece:\n",
            "0\n",
            "1\n",
            "1\n",
            "2\n"
          ],
          "name": "stdout"
        }
      ]
    },
    {
      "metadata": {
        "id": "KV6cdPhdScAU",
        "colab_type": "text"
      },
      "cell_type": "markdown",
      "source": [
        "## 9. Define a python function to convert a decimal number to its equivalent octal number without using inbuilt functions. Call this function with different values."
      ]
    },
    {
      "metadata": {
        "id": "BWU0riXNScAW",
        "colab_type": "code",
        "colab": {},
        "outputId": "19ecc64d-b338-4333-d04b-f4488029b777"
      },
      "cell_type": "code",
      "source": [
        "var=int(input(\"Enter any number of your choice:\"))\n",
        "def dec_to_oct(dec):\n",
        "    x=var%8\n",
        "    y=var//8\n",
        "    z=(y*10)+x\n",
        "    print(z)\n",
        "dec_to_oct(8)\n"
      ],
      "execution_count": 0,
      "outputs": [
        {
          "output_type": "stream",
          "text": [
            "Enter any number of your choice:246\n",
            "306\n"
          ],
          "name": "stdout"
        }
      ]
    },
    {
      "metadata": {
        "id": "ZGZgMF3hScAf",
        "colab_type": "text"
      },
      "cell_type": "markdown",
      "source": [
        "## 10. Write a python function to Check whether a number can be expressed as the sum of two prime number. For example, 20 can be written as sum of 7 and 13. 29 cannot be written as sum of 2 prime numbers"
      ]
    },
    {
      "metadata": {
        "id": "DgB2IX8LScAk",
        "colab_type": "code",
        "colab": {
          "base_uri": "https://localhost:8080/",
          "height": 51
        },
        "outputId": "62faa8ef-d9af-44bf-cc9c-6ab791147dbd"
      },
      "cell_type": "code",
      "source": [
        "def prime(x):\n",
        "    global l\n",
        "    l=[]\n",
        "    for i in range(2,a):\n",
        "        for j in range(2,i):\n",
        "            if(i%j==0):\n",
        "                break\n",
        "            else: l.append(i)\n",
        "a=int(input(\"Enter any number:\"))\n",
        "prime(a)\n",
        "for i in range(len(l)):\n",
        "    for j in range(len(l)):\n",
        "        if(l[i]+l[j]==a):\n",
        "            print(l[i],\"+\",l[j],\"=\",a)\n",
        "            break\n",
        "        else:\n",
        "            break\n",
        "    else:\n",
        "        print(a,\"is not a sum of prime\")\n",
        "        \n",
        "        \n",
        " \n",
        "  "
      ],
      "execution_count": 1,
      "outputs": [
        {
          "output_type": "stream",
          "text": [
            "Enter any number:6\n",
            "3 + 3 = 6\n"
          ],
          "name": "stdout"
        }
      ]
    },
    {
      "metadata": {
        "id": "L59XS3AKScAv",
        "colab_type": "text"
      },
      "cell_type": "markdown",
      "source": [
        "# Optional Questions"
      ]
    },
    {
      "metadata": {
        "id": "YhkQigmIScAx",
        "colab_type": "text"
      },
      "cell_type": "markdown",
      "source": [
        "## 11. Write two python function to Convert octal Number to decimal without using inbuilt functions."
      ]
    },
    {
      "metadata": {
        "id": "oBTwqMjtScAz",
        "colab_type": "code",
        "colab": {}
      },
      "cell_type": "code",
      "source": [
        "\n",
        "    "
      ],
      "execution_count": 0,
      "outputs": []
    },
    {
      "metadata": {
        "id": "8pa6LQ-NScA6",
        "colab_type": "text"
      },
      "cell_type": "markdown",
      "source": [
        "## 12.  Write a program in Python to check whether two given strings are an anagram. \n",
        "### An anagram of a string is another string that contains same characters, only the order of characters can be different. For example, “abcd” and “dabc” are anagram of each other."
      ]
    },
    {
      "metadata": {
        "id": "6Y5zcn1hScA9",
        "colab_type": "code",
        "colab": {}
      },
      "cell_type": "code",
      "source": [
        ""
      ],
      "execution_count": 0,
      "outputs": []
    },
    {
      "metadata": {
        "id": "vn960UVRScBI",
        "colab_type": "text"
      },
      "cell_type": "markdown",
      "source": [
        "## 13. Write a python program that calculates the bill  for a customer purchase in a store. in this store the item_id range from 1 to 100. These items are organised in a way that the items with item_id less than 50 are on sale (10 %) and item_id range from 50-80 are on sale (25 %) and the rest items are on the sale of 40 %.\n",
        "### Your program has a function call (saleprice) that receives the itme_id, and its price, and  it returns the current price after sale for current item, and it prints the number of items purchased so far.\n",
        "### In your main, you should read item id and call saleprice function for each item. your program should continue to nread item_id till the end of purchase. entering 0 will indicate the end of purchase. At the end your program should print the total amount of bill. "
      ]
    },
    {
      "metadata": {
        "id": "K3XIFtYQScBK",
        "colab_type": "code",
        "colab": {}
      },
      "cell_type": "code",
      "source": [
        ""
      ],
      "execution_count": 0,
      "outputs": []
    },
    {
      "metadata": {
        "id": "KC5WxArJScBT",
        "colab_type": "code",
        "colab": {}
      },
      "cell_type": "code",
      "source": [
        ""
      ],
      "execution_count": 0,
      "outputs": []
    },
    {
      "metadata": {
        "id": "dnTqZMMeScBZ",
        "colab_type": "text"
      },
      "cell_type": "markdown",
      "source": [
        "## 14.We add a Leap Day on February 29, almost every four years. The leap day is an extra, or intercalary day and we add it to the shortest month of the year, February. \n",
        "## In the Gregorian calendar three criteria must be taken into account to identify leap years:\n",
        "\n",
        "### The year can be evenly divided by 4, is a leap year, unless:\n",
        "### The year can be evenly divided by 100, it is NOT a leap year, unless:\n",
        "### The year is also evenly divisible by 400. Then it is a leap year.\n",
        "### This means that in the Gregorian calendar, the years 2000 and 2400 are leap years, while 1800, 1900, 2100, 2200, 2300 and 2500 are NOT leap years.\n",
        "\n",
        "## Sample Input\n",
        "### 1990\n",
        "\n",
        "## Sample Output\n",
        "### False\n",
        "\n",
        "## Sample Input\n",
        "### 1600\n",
        "\n",
        "## Sample Output\n",
        "### True"
      ]
    },
    {
      "metadata": {
        "id": "9ZkHuTs_ScBc",
        "colab_type": "code",
        "colab": {}
      },
      "cell_type": "code",
      "source": [
        ""
      ],
      "execution_count": 0,
      "outputs": []
    },
    {
      "metadata": {
        "id": "zxvhdAWgScBi",
        "colab_type": "code",
        "colab": {}
      },
      "cell_type": "code",
      "source": [
        ""
      ],
      "execution_count": 0,
      "outputs": []
    }
  ]
}
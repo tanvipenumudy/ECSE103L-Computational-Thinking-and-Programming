{
 "cells": [
  {
   "cell_type": "markdown",
   "metadata": {},
   "source": [
    "# Python function \n",
    "## Every solution should be done with the help of functions."
   ]
  },
  {
   "cell_type": "raw",
   "metadata": {},
   "source": [
    "Function is used for modularity in the program.\n",
    "\n",
    "def function_name(argument-1, argument-2,argument-3...):\n",
    "    function body\n",
    "    .\n",
    "    .\n",
    "    .\n",
    "    .\n",
    "    .\n",
    "    return var   \n",
    "#function call\n",
    "function_name(10,20,30)"
   ]
  },
  {
   "cell_type": "markdown",
   "metadata": {},
   "source": [
    "## 1. Write a program to compute gcd of two user input numbers."
   ]
  },
  {
   "cell_type": "code",
   "execution_count": 9,
   "metadata": {
    "collapsed": false
   },
   "outputs": [
    {
     "name": "stdout",
     "output_type": "stream",
     "text": [
      "Enter first number: 20\n",
      "Enter second number: 10\n",
      "GCD is: \n",
      "10\n"
     ]
    }
   ],
   "source": [
    "# Recursive \n",
    "def gcd(a,b):\n",
    "    if(b==0):\n",
    "        return a\n",
    "    else:\n",
    "        return gcd(b,a%b)\n",
    "a=int(input(\"Enter first number: \"))\n",
    "b=int(input(\"Enter second number: \"))\n",
    "GCD=gcd(a,b)\n",
    "print(\"GCD is: \")\n",
    "print(GCD)"
   ]
  },
  {
   "cell_type": "code",
   "execution_count": 2,
   "metadata": {
    "collapsed": false
   },
   "outputs": [
    {
     "data": {
      "text/plain": [
       "10"
      ]
     },
     "execution_count": 2,
     "metadata": {},
     "output_type": "execute_result"
    }
   ],
   "source": [
    "# Non recursive\n",
    "def computeGCD(x, y):\n",
    "   # Euclidian algorithm to find GCD of two numbers\n",
    "    while(y):\n",
    "        x, y = y, x % y\n",
    "    return x\n",
    "\n",
    "computeGCD(50, 60)"
   ]
  },
  {
   "cell_type": "markdown",
   "metadata": {},
   "source": [
    "## 2.Write a program to take an integer from the user and return reverse of the number.\n",
    "### (Example: I/P 123, O/P: 321) "
   ]
  },
  {
   "cell_type": "code",
   "execution_count": 3,
   "metadata": {
    "collapsed": false
   },
   "outputs": [
    {
     "name": "stdout",
     "output_type": "stream",
     "text": [
      "456\n"
     ]
    }
   ],
   "source": [
    "def reverse(number):\n",
    "    sum=0\n",
    "    while number!=0:\n",
    "        r=number%10\n",
    "        sum=sum*10+r\n",
    "        number//=10\n",
    "    return sum\n",
    "\n",
    "print(reverse(654))\n"
   ]
  },
  {
   "cell_type": "markdown",
   "metadata": {},
   "source": [
    "## 3. Write a program in Python to print prime numbers between 25 and 100 using function."
   ]
  },
  {
   "cell_type": "code",
   "execution_count": 4,
   "metadata": {
    "collapsed": false
   },
   "outputs": [
    {
     "name": "stdout",
     "output_type": "stream",
     "text": [
      "Prime numbers between 25 and 100 are:\n",
      "29\n",
      "31\n",
      "37\n",
      "41\n",
      "43\n",
      "47\n",
      "53\n",
      "59\n",
      "61\n",
      "67\n",
      "71\n",
      "73\n",
      "79\n",
      "83\n",
      "89\n",
      "97\n"
     ]
    }
   ],
   "source": [
    "def primeRange(start, end):\n",
    "    for num in range(start,end):\n",
    "        prime = True\n",
    "        for i in range(2,num):\n",
    "            if (num%i==0):\n",
    "                prime = False\n",
    "        if prime:\n",
    "            print (num)\n",
    "\n",
    "start= 25\n",
    "end = 100\n",
    "print(\"Prime numbers between\", start, \"and\", end, \"are:\")\n",
    "primeRange(start,end)"
   ]
  },
  {
   "cell_type": "markdown",
   "metadata": {},
   "source": [
    "## 4. Define a Pyhton function pow1 that takes the values of two integers m and n from the user and calculate pow(m,n). Call this function with different values.\n",
    "### Do not use exponent operator (**) or pow()"
   ]
  },
  {
   "cell_type": "code",
   "execution_count": 5,
   "metadata": {
    "collapsed": false
   },
   "outputs": [
    {
     "name": "stdout",
     "output_type": "stream",
     "text": [
      "Result= 32\n"
     ]
    }
   ],
   "source": [
    "# while loop\n",
    "def pow1(m,n):\n",
    "    power=1\n",
    "    while (n != 0):\n",
    "        power = power * m;\n",
    "        n = n - 1;\n",
    "    return power\n",
    "\n",
    "result=pow1(2,5)\n",
    "print(\"Result=\",result)"
   ]
  },
  {
   "cell_type": "code",
   "execution_count": 6,
   "metadata": {
    "collapsed": false
   },
   "outputs": [
    {
     "name": "stdout",
     "output_type": "stream",
     "text": [
      "Result= 128\n"
     ]
    }
   ],
   "source": [
    "# for loop\n",
    "def power2(base, num):\n",
    "    result = 1\n",
    "    for i in range(1, num+1):\n",
    "        result = result * base;\n",
    " \n",
    "    return result;\n",
    "\n",
    "print(\"Result=\",power2(2,7))"
   ]
  },
  {
   "cell_type": "markdown",
   "metadata": {},
   "source": [
    "## 5. Write a Python program to find the factorial of a number using a recursive function."
   ]
  },
  {
   "cell_type": "code",
   "execution_count": 22,
   "metadata": {
    "collapsed": false
   },
   "outputs": [
    {
     "name": "stdout",
     "output_type": "stream",
     "text": [
      "Enter a number: 3\n",
      "The factorial of 3 is 6\n"
     ]
    }
   ],
   "source": [
    "def recur_factorial(n):\n",
    "    if n == 1:\n",
    "        return n\n",
    "    else:\n",
    "        return n*recur_factorial(n-1)\n",
    "\n",
    "num = int(input(\"Enter a number: \"))\n",
    "if num < 0:\n",
    "    print(\"Sorry, factorial does not exist for negative numbers\")\n",
    "elif num == 0:\n",
    "    print(\"The factorial of 0 is 1\")\n",
    "else:\n",
    "    print(\"The factorial of\",num,\"is\",recur_factorial(num))"
   ]
  },
  {
   "cell_type": "markdown",
   "metadata": {},
   "source": [
    "## 6. Design and develop a python function RightShift(x ,n) that takes two integers x and n as input and returns value of the integer x shifted to the right by n positions. Assume the integers are unsigned. \n",
    "### Write a Python program that invokes this function with multiple values for x and n and tabulate the results with suitable headings withour using right shift operator."
   ]
  },
  {
   "cell_type": "raw",
   "metadata": {},
   "source": [
    "F-ex:\n",
    "enter an unsinged integer < = 65535:\n",
    "10\n",
    "Right shift 10 how many times:\n",
    "1\n",
    "rightshift(10,1) = 5"
   ]
  },
  {
   "cell_type": "code",
   "execution_count": null,
   "metadata": {
    "collapsed": true
   },
   "outputs": [],
   "source": [
    "def rightshift(x,n):\n",
    "    for i in range(n):\n",
    "        x=x//2\n",
    "    return x\n",
    "\n",
    "print('Enter negative number to exit ')\n",
    "while(True):\n",
    "    x=int(input('Enter x'))\n",
    "    n=int(input('Enter n'))\n",
    "    if(n<0 or x<0):\n",
    "        break\n",
    "    if x<=65535:\n",
    "        print(rightshift(x,n))\n",
    "    else:\n",
    "        break"
   ]
  },
  {
   "cell_type": "markdown",
   "metadata": {},
   "source": [
    "## 7.  Write a program in python to find the sum of the series 1!/1+2!/2+3!/3+4!/4+5!/5 using the function. "
   ]
  },
  {
   "cell_type": "code",
   "execution_count": 19,
   "metadata": {
    "collapsed": false
   },
   "outputs": [
    {
     "name": "stdout",
     "output_type": "stream",
     "text": [
      "34.0\n"
     ]
    }
   ],
   "source": [
    "import math\n",
    "\n",
    "def series_sum():\n",
    "    sol=0\n",
    "    for i in range(1,6):\n",
    "        sol=sol + (math.factorial(i)/i)\n",
    "    print(sol)\n",
    "\n",
    "series_sum()"
   ]
  },
  {
   "cell_type": "markdown",
   "metadata": {},
   "source": [
    "## 8. Define a function to print nth term in Fibonacci series using recursion. Call this function with different values."
   ]
  },
  {
   "cell_type": "code",
   "execution_count": 13,
   "metadata": {
    "collapsed": false,
    "scrolled": true
   },
   "outputs": [
    {
     "name": "stdout",
     "output_type": "stream",
     "text": [
      "Enter m: 6\n",
      "8\n"
     ]
    }
   ],
   "source": [
    "def fibonacci(n):\n",
    "    if n == 0:\n",
    "        return 0\n",
    "    elif n==1:\n",
    "        return 1\n",
    "    else:\n",
    "        return(fibonacci(n-1) + fibonacci(n-2))\n",
    "\n",
    "m = int(input(\"Enter m: \"))\n",
    "\n",
    "print(fibonacci(m))"
   ]
  },
  {
   "cell_type": "markdown",
   "metadata": {},
   "source": [
    "## 9. Define a python function to convert a decimal number to its equivalent octal number without using inbuilt functions. Call this function with different values."
   ]
  },
  {
   "cell_type": "code",
   "execution_count": 20,
   "metadata": {
    "collapsed": false
   },
   "outputs": [
    {
     "name": "stdout",
     "output_type": "stream",
     "text": [
      "Enter 1 to convert decimal to octal \n",
      " Enter 2 to convert octal to decimal\n",
      "1\n",
      "Enter decimal number: 123\n",
      "173\n"
     ]
    }
   ],
   "source": [
    "def dec2oct(n):\n",
    "    octalNumber = 0\n",
    "    i = 1\n",
    "    while (n != 0):   \n",
    "        octalNumber += (n % 8) * i\n",
    "        n//= 8\n",
    "        i *= 10    \n",
    "    return octalNumber\n",
    "\n",
    "n=int(input(\"Enter decimal number: \"))\n",
    "print(dec2oct(n))\n"
   ]
  },
  {
   "cell_type": "markdown",
   "metadata": {},
   "source": [
    "## 10. Write a python function to Check whether a number can be expressed as the sum of two prime number. For example, 20 can be written as sum of 7 and 13. 29 cannot be written as sum of 2 prime numbers"
   ]
  },
  {
   "cell_type": "code",
   "execution_count": 6,
   "metadata": {
    "collapsed": false
   },
   "outputs": [
    {
     "name": "stdout",
     "output_type": "stream",
     "text": [
      "Enter a number 30\n",
      "Yes\n"
     ]
    }
   ],
   "source": [
    "def isprime( x): \n",
    "    i = 2\n",
    "    while(i * i <= x): \n",
    "        if (x % i == 0): \n",
    "            return 0\n",
    "            x = x +1\n",
    "        i=i+1\n",
    "    return 1\n",
    "  \n",
    "def isSumOfKprimes(N): \n",
    "    K=2          \n",
    "    # if N is even directly \n",
    "    # return true; \n",
    "    if (N % 2 == 0): \n",
    "        return 1\n",
    "    else:\n",
    "        return isprime(N - 2); \n",
    "        # If N is odd, then one  \n",
    "        # prime must be 2. All  \n",
    "        # other primes are odd \n",
    "        # and cannot have a pair \n",
    "        # sum as even. \n",
    "\n",
    "n = int(input('Enter a number '))\n",
    "if (isSumOfKprimes(n)): \n",
    "    print (\"Yes\") \n",
    "else: \n",
    "    print (\"No\") "
   ]
  },
  {
   "cell_type": "markdown",
   "metadata": {},
   "source": [
    "# Optional Questions"
   ]
  },
  {
   "cell_type": "markdown",
   "metadata": {},
   "source": [
    "## 11. Write two python function to Convert octal Number to decimal without using inbuilt functions."
   ]
  },
  {
   "cell_type": "code",
   "execution_count": 20,
   "metadata": {
    "collapsed": false
   },
   "outputs": [
    {
     "name": "stdout",
     "output_type": "stream",
     "text": [
      "Enter 1 to convert decimal to octal \n",
      " Enter 2 to convert octal to decimal\n",
      "1\n",
      "Enter decimal number: 123\n",
      "173\n"
     ]
    }
   ],
   "source": [
    "def oct2dec(n):\n",
    "    decimalNumber = 0\n",
    "    i = 0\n",
    "    while(n != 0):\n",
    "        decimalNumber += (n%10) * pow(8,i)\n",
    "        i=i+1\n",
    "        n//=10\n",
    "    i = 1\n",
    "    return decimalNumber\n",
    "\n",
    "n=int(input(\"Enter octal number: \"))\n",
    "print(oct2dec(n))\n"
   ]
  },
  {
   "cell_type": "markdown",
   "metadata": {},
   "source": [
    "## 12.  Write a program in Python to check whether two given strings are an anagram. \n",
    "### An anagram of a string is another string that contains same characters, only the order of characters can be different. For example, “abcd” and “dabc” are anagram of each other."
   ]
  },
  {
   "cell_type": "code",
   "execution_count": null,
   "metadata": {
    "collapsed": true
   },
   "outputs": [],
   "source": []
  },
  {
   "cell_type": "markdown",
   "metadata": {},
   "source": [
    "## 13. Write a python program that calculates the bill  for a customer purchase in a store. in this store the item_id range from 1 to 100. These items are organised in a way that the items with item_id less than 50 are on sale (10 %) and item_id range from 50-80 are on sale (25 %) and the rest items are on the sale of 40 %.\n",
    "### Your program has a function call (saleprice) that receives the itme_id, and its price, and  it returns the current price after sale for current item, and it prints the number of items purchased so far.\n",
    "### In your main, you should read item id and call saleprice function for each item. your program should continue to nread item_id till the end of purchase. entering 0 will indicate the end of purchase. At the end your program should print the total amount of bill. "
   ]
  },
  {
   "cell_type": "code",
   "execution_count": null,
   "metadata": {
    "collapsed": true
   },
   "outputs": [],
   "source": []
  },
  {
   "cell_type": "code",
   "execution_count": null,
   "metadata": {
    "collapsed": true
   },
   "outputs": [],
   "source": []
  },
  {
   "cell_type": "markdown",
   "metadata": {},
   "source": [
    "## 14.We add a Leap Day on February 29, almost every four years. The leap day is an extra, or intercalary day and we add it to the shortest month of the year, February. \n",
    "## In the Gregorian calendar three criteria must be taken into account to identify leap years:\n",
    "\n",
    "### The year can be evenly divided by 4, is a leap year, unless:\n",
    "### The year can be evenly divided by 100, it is NOT a leap year, unless:\n",
    "### The year is also evenly divisible by 400. Then it is a leap year.\n",
    "### This means that in the Gregorian calendar, the years 2000 and 2400 are leap years, while 1800, 1900, 2100, 2200, 2300 and 2500 are NOT leap years.\n",
    "\n",
    "## Sample Input\n",
    "### 1990\n",
    "\n",
    "## Sample Output\n",
    "### False\n",
    "\n",
    "## Sample Input\n",
    "### 1600\n",
    "\n",
    "## Sample Output\n",
    "### True"
   ]
  },
  {
   "cell_type": "code",
   "execution_count": null,
   "metadata": {
    "collapsed": true
   },
   "outputs": [],
   "source": []
  }
 ],
 "metadata": {
  "kernelspec": {
   "display_name": "Python 3",
   "language": "python",
   "name": "python3"
  },
  "language_info": {
   "codemirror_mode": {
    "name": "ipython",
    "version": 3
   },
   "file_extension": ".py",
   "mimetype": "text/x-python",
   "name": "python",
   "nbconvert_exporter": "python",
   "pygments_lexer": "ipython3",
   "version": "3.6.0"
  }
 },
 "nbformat": 4,
 "nbformat_minor": 2
}

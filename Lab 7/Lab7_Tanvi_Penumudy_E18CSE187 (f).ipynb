{
  "nbformat": 4,
  "nbformat_minor": 0,
  "metadata": {
    "colab": {
      "name": "Lab7_Tanvi_Penumudy_E18CSE187.ipynb",
      "version": "0.3.2",
      "provenance": [],
      "collapsed_sections": []
    },
    "kernelspec": {
      "display_name": "Python 3",
      "language": "python",
      "name": "python3"
    }
  },
  "cells": [
    {
      "metadata": {
        "id": "CP6qFG5SgSLs",
        "colab_type": "text"
      },
      "cell_type": "markdown",
      "source": [
        "# Student Name: Tanvi Penumudy\n",
        "# Enrollment Number: E18CSE187\n",
        "# Lab assignment number: 7"
      ]
    },
    {
      "metadata": {
        "id": "owIKqDwIgSLv",
        "colab_type": "text"
      },
      "cell_type": "markdown",
      "source": [
        "## Loops"
      ]
    },
    {
      "metadata": {
        "id": "FxXR7wVPgSLz",
        "colab_type": "text"
      },
      "cell_type": "markdown",
      "source": [
        "## Compulsary questions"
      ]
    },
    {
      "metadata": {
        "id": "DzbRnKcjgSL1",
        "colab_type": "text"
      },
      "cell_type": "markdown",
      "source": [
        "#### Syntax of \"for loop\""
      ]
    },
    {
      "metadata": {
        "id": "djcTRbXXgSL3",
        "colab_type": "raw"
      },
      "cell_type": "markdown",
      "source": [
        "for iterable_var_name in range(terminating_value):\n",
        "    stmt 1\n",
        "    stmt 2\n",
        "    ...\n",
        "    \n",
        " for iterable_var_name in range(initial_value,terminating_value):\n",
        "    stmt 1\n",
        "    stmt 2\n",
        "    ...\n",
        "    \n",
        " for iterable_var_name in range(initial_value,terminating_value,updation):\n",
        "    stmt 1\n",
        "    stmt 2\n",
        "    ..."
      ]
    },
    {
      "metadata": {
        "id": "1csOMlCvgSL6",
        "colab_type": "text"
      },
      "cell_type": "markdown",
      "source": [
        "#### Syntax of \"while loop\""
      ]
    },
    {
      "metadata": {
        "id": "oGaLj90bgSL8",
        "colab_type": "raw"
      },
      "cell_type": "markdown",
      "source": [
        "initialization of loop variable\n",
        "while( condition ):\n",
        "    stmt 1\n",
        "    stmt 2\n",
        "    ...\n",
        "    update loop variable"
      ]
    },
    {
      "metadata": {
        "id": "on-Gtw1_gSMB",
        "colab_type": "text"
      },
      "cell_type": "markdown",
      "source": [
        "#### Syntax of using \"break\" in a loop"
      ]
    },
    {
      "metadata": {
        "id": "_h9PrgwwgSME",
        "colab_type": "raw"
      },
      "cell_type": "markdown",
      "source": [
        "loop (for loop or while loop):\n",
        "    if(cond):\n",
        "        stmt\n",
        "        break\n",
        "    else:\n",
        "        stmt"
      ]
    },
    {
      "metadata": {
        "id": "6ikGTjmDgSMG",
        "colab_type": "text"
      },
      "cell_type": "markdown",
      "source": [
        "#### Syntax of using \"Continue\" in a loop"
      ]
    },
    {
      "metadata": {
        "id": "wcaIRGqYgSMJ",
        "colab_type": "raw"
      },
      "cell_type": "markdown",
      "source": [
        "loop (for loop or while loop):\n",
        "    stmt                 #It will be printed always.\n",
        "    if(cond):\n",
        "        continue\n",
        "        stmt             #It will be not printed."
      ]
    },
    {
      "metadata": {
        "id": "6dlQ1NpvgSML",
        "colab_type": "text"
      },
      "cell_type": "markdown",
      "source": [
        "### 1 Write a program in Python to calculate and print the power m of a number n without using ** operator or pow (n, m) function"
      ]
    },
    {
      "metadata": {
        "id": "idA-W-pRgSMO",
        "colab_type": "code",
        "colab": {},
        "outputId": "f8050c8c-7bcc-4ab0-b549-b04616a193ff"
      },
      "cell_type": "code",
      "source": [
        "#Write your code here\n",
        "a=int(input(\"Enter the base value of the number:\"))\n",
        "b=int(input(\"Enter the power value of the number:\"))\n",
        "p=1\n",
        "for i in range(1,b+1):\n",
        "    p=p*a\n",
        "print(\"The required number is:\",p)"
      ],
      "execution_count": 0,
      "outputs": [
        {
          "output_type": "stream",
          "text": [
            "Enter the base value of the number:2\n",
            "Enter the power value of the number:3\n",
            "The required number is: 8\n"
          ],
          "name": "stdout"
        }
      ]
    },
    {
      "metadata": {
        "id": "n3vQAYkBgSMi",
        "colab_type": "text"
      },
      "cell_type": "markdown",
      "source": [
        "### 2 Write a program in Python to input 8 numbers from user. It should find and print the smallest value among these."
      ]
    },
    {
      "metadata": {
        "id": "BWV0BmOxgSMk",
        "colab_type": "code",
        "colab": {},
        "outputId": "a8cce5b4-008a-4d62-d4fd-535253f2d08b"
      },
      "cell_type": "code",
      "source": [
        "#Write your code here\n",
        "n=1000000#for largest number n=9999999/9999/99/.......\n",
        "for i in range(1,9):\n",
        "    x=int(input(\"Enter the number:\"))\n",
        "    if(x<n):#for largest number if(x>n):\n",
        "        n=x\n",
        "print(\"The smallest of the list of numbers is:\",x)\n",
        "\n"
      ],
      "execution_count": 0,
      "outputs": [
        {
          "output_type": "stream",
          "text": [
            "Enter the number:0\n",
            "Enter the number:9\n",
            "Enter the number:8\n",
            "Enter the number:7\n",
            "Enter the number:6\n",
            "Enter the number:5\n",
            "Enter the number:4\n",
            "Enter the number:3\n",
            "The smallest of the list of numbers is: 3\n"
          ],
          "name": "stdout"
        }
      ]
    },
    {
      "metadata": {
        "id": "yTlGq5dvgSMy",
        "colab_type": "text"
      },
      "cell_type": "markdown",
      "source": [
        "### 3 Write a program in Python to print odd numbers from 1 to 10 except 7. (Hint: use continue statement)"
      ]
    },
    {
      "metadata": {
        "id": "swMiXGM5gSM1",
        "colab_type": "code",
        "colab": {
          "base_uri": "https://localhost:8080/",
          "height": 90
        },
        "outputId": "4c4b88f6-50f1-4441-df4a-e685788f4047"
      },
      "cell_type": "code",
      "source": [
        "#Write your code here\n",
        "for i in range(10):\n",
        "    if(i==7 or i%2==0):\n",
        "        continue#continue means skip the statements below it\n",
        "    else:\n",
        "        print(i)\n"
      ],
      "execution_count": 1,
      "outputs": [
        {
          "output_type": "stream",
          "text": [
            "1\n",
            "3\n",
            "5\n",
            "9\n"
          ],
          "name": "stdout"
        }
      ]
    },
    {
      "metadata": {
        "id": "AEs-tOBogSM_",
        "colab_type": "text"
      },
      "cell_type": "markdown",
      "source": [
        "### 4 Write a program in Python to calculate the sum of numbers in the range from m to n which are not divisible by 2 or 3 or 5. where m<n.\n"
      ]
    },
    {
      "metadata": {
        "id": "j7lDhm_TgSNC",
        "colab_type": "code",
        "colab": {
          "base_uri": "https://localhost:8080/",
          "height": 72
        },
        "outputId": "9bc82935-ede6-45b6-f752-b032d660280c"
      },
      "cell_type": "code",
      "source": [
        "#Write your code here\n",
        "m=int(input('Enter the lower end of range: '))\n",
        "n=int(input('Enter the upper end of range: '))\n",
        "s=0\n",
        "for i in range(m,n):\n",
        "  \n",
        "  if(i%2!=0 or  i%3!=0 or i%5!=0 ):\n",
        "    i+=1\n",
        "    s+=i  \n",
        "print(\"The sum of the required series is:\",s)\n",
        "\n",
        "\n",
        "        \n",
        "    "
      ],
      "execution_count": 78,
      "outputs": [
        {
          "output_type": "stream",
          "text": [
            "Enter the lower end of range: 2\n",
            "Enter the upper end of range: 9\n",
            "The sum of the required series is: 42\n"
          ],
          "name": "stdout"
        }
      ]
    },
    {
      "metadata": {
        "id": "E0NvLqhKgSNN",
        "colab_type": "text"
      },
      "cell_type": "markdown",
      "source": [
        "### 5 Write a program in Python to calculate and print all factors of a number. And think for optimizing the program. (Hint: N/2 Times)"
      ]
    },
    {
      "metadata": {
        "id": "i9s_KfjJgSNP",
        "colab_type": "code",
        "colab": {
          "base_uri": "https://localhost:8080/",
          "height": 181
        },
        "outputId": "7c523e80-be63-489d-f965-7a3cbbdd7b29"
      },
      "cell_type": "code",
      "source": [
        "#Write your code here\n",
        "a=int(input(\"Enter any number of your choice:\"))\n",
        "for n in range(1,a+1):\n",
        "    if(a%n==0):\n",
        "        print(n)\n",
        "        "
      ],
      "execution_count": 8,
      "outputs": [
        {
          "output_type": "stream",
          "text": [
            "Enter any number of your choice:24\n",
            "1\n",
            "2\n",
            "3\n",
            "4\n",
            "6\n",
            "8\n",
            "12\n",
            "24\n"
          ],
          "name": "stdout"
        }
      ]
    },
    {
      "metadata": {
        "id": "-TMxDWs_gSNd",
        "colab_type": "text"
      },
      "cell_type": "markdown",
      "source": [
        "### 6 Write a program in Python to accept one string from user. The program should count and print the number of characters in the string using a for loop, without using inbulit functions."
      ]
    },
    {
      "metadata": {
        "id": "vq3ftD3pgSNf",
        "colab_type": "code",
        "colab": {
          "base_uri": "https://localhost:8080/",
          "height": 54
        },
        "outputId": "7fd27d7e-fbc7-4492-b7d6-a3fa84250b2e"
      },
      "cell_type": "code",
      "source": [
        "#Write your code here\n",
        "char=input('Enter any String character of your choice:')\n",
        "a=0\n",
        "for i in char:\n",
        "    a+=1\n",
        "print(\"The number of characters in the above entered string are:\",a)\n"
      ],
      "execution_count": 10,
      "outputs": [
        {
          "output_type": "stream",
          "text": [
            "Enter any String character of your choice:Tanvi Penumudy\n",
            "The number of characters in the above entered string are: 14\n"
          ],
          "name": "stdout"
        }
      ]
    },
    {
      "metadata": {
        "id": "9bKM5S4bgSNr",
        "colab_type": "text"
      },
      "cell_type": "markdown",
      "source": [
        "### 7 Write a program in Python to input a sentence with digits also. The program should count the number of uppercase letters, lowercase letters and digits in the sentence."
      ]
    },
    {
      "metadata": {
        "id": "WOdzjbTOgSNt",
        "colab_type": "code",
        "colab": {
          "base_uri": "https://localhost:8080/",
          "height": 90
        },
        "outputId": "dc8ef34d-6f6d-431c-b04d-3018aa5a9e10"
      },
      "cell_type": "code",
      "source": [
        "#Write your code here\n",
        "a=input(\"Enter any string:\")\n",
        "u=0\n",
        "l=0\n",
        "d=0\n",
        "for i in a:\n",
        "    if(i.isupper()):\n",
        "        u+=1\n",
        "    elif(i.islower()):\n",
        "        l+=1\n",
        "    elif(i.isdigit()):\n",
        "        d+=1\n",
        "print(\"The number of uppercase characters are:\",u)\n",
        "print(\"The number of lowercase characters are:\",l)\n",
        "print(\"The number of digits are:\",d)\n",
        "\n",
        "        \n",
        "\n",
        "\n",
        "\n"
      ],
      "execution_count": 11,
      "outputs": [
        {
          "output_type": "stream",
          "text": [
            "Enter any string:Tanvi Penumudy2002\n",
            "The number of uppercase characters are: 2\n",
            "The number of lowercase characters are: 11\n",
            "The number of digits are: 4\n"
          ],
          "name": "stdout"
        }
      ]
    },
    {
      "metadata": {
        "id": "xRSIe-27gSOF",
        "colab_type": "text"
      },
      "cell_type": "markdown",
      "source": [
        "### 8 Write a program in Python to accept a maximum 100 names from user. The user can enter 'stop' to exit the loop. The program should print the count of names entered by the user. "
      ]
    },
    {
      "metadata": {
        "id": "7FsSDztogSOI",
        "colab_type": "code",
        "colab": {
          "base_uri": "https://localhost:8080/",
          "height": 145
        },
        "outputId": "e362e658-6571-496e-e759-bec75d3fae63"
      },
      "cell_type": "code",
      "source": [
        "#Write your code here\n",
        "for i in range(100):\n",
        "    variable=input(\"Name:\")\n",
        "    if(variable==\"Stop\"):\n",
        "        break;\n",
        "print(\"The count of input names is:\",i)"
      ],
      "execution_count": 13,
      "outputs": [
        {
          "output_type": "stream",
          "text": [
            "Name:Tanvi\n",
            "Name:Penumudy\n",
            "Name:Tanvi penumudy\n",
            "Name:Vinni\n",
            "Name:Vineeta\n",
            "Name:Stop\n",
            "The count of input names is: 5\n"
          ],
          "name": "stdout"
        }
      ]
    },
    {
      "metadata": {
        "id": "hWMMTKM4gSOW",
        "colab_type": "text"
      },
      "cell_type": "markdown",
      "source": [
        "###  9 Write a program in Python to generate and print Fibonacci series upto first 10 numbers. \n",
        "### The Fibonacci series is 0,1,1,2,3,5,8,13… where first term is 0, second term is 1 and the nth term t(n) = t (n-1) + t (n-2)."
      ]
    },
    {
      "metadata": {
        "id": "zxT-vNATgSOa",
        "colab_type": "code",
        "colab": {
          "base_uri": "https://localhost:8080/",
          "height": 254
        },
        "outputId": "6fcb5bff-b1c3-4db6-97c5-91cafc5b3aa9"
      },
      "cell_type": "code",
      "source": [
        "#Write your code here\n",
        "n1=0\n",
        "n2=1\n",
        "print(\"Hence the Fibonacci sequence upto 10 terms is:\")\n",
        "print(n1)\n",
        "print(n2)\n",
        "for i in range(10):\n",
        "    n3=n1+n2\n",
        "    n1=n2\n",
        "    n2=n3\n",
        "    print(n3)\n"
      ],
      "execution_count": 16,
      "outputs": [
        {
          "output_type": "stream",
          "text": [
            "Hence the Fibonacci sequence upto 10 terms is:\n",
            "0\n",
            "1\n",
            "1\n",
            "2\n",
            "3\n",
            "5\n",
            "8\n",
            "13\n",
            "21\n",
            "34\n",
            "55\n",
            "89\n"
          ],
          "name": "stdout"
        }
      ]
    },
    {
      "metadata": {
        "id": "Qrxy0VjGgSOk",
        "colab_type": "text"
      },
      "cell_type": "markdown",
      "source": [
        "### 10 Write a program in Python to generate a number whose triangular number is given.\n",
        "### If number is 4, then the triangular number would be 10 (i.e. 1+2+3+4). The program should return 'ERROR', if it is not a triangular number."
      ]
    },
    {
      "metadata": {
        "id": "9Zffa_aRgSOl",
        "colab_type": "code",
        "colab": {
          "base_uri": "https://localhost:8080/",
          "height": 54
        },
        "outputId": "a9a7ddcb-0c28-4ff4-974f-62b15f4b6722"
      },
      "cell_type": "code",
      "source": [
        "#Write your code here\n",
        "n= int(input(\"Enter any Triangular number of your choice:\"))\n",
        "s=0\n",
        "i=1\n",
        "while(s<n):\n",
        "    s+=i\n",
        "    i+=1\n",
        "if(s==n):\n",
        "    print(\"The number who triangular number is the input is:\",i-1)\n",
        "else:\n",
        "  print(\"ERROR, the number you have provided isn't a triangular number.\")\n"
      ],
      "execution_count": 34,
      "outputs": [
        {
          "output_type": "stream",
          "text": [
            "Enter any Triangular number of your choice:15\n",
            "The number who triangular number is the input is: 5\n"
          ],
          "name": "stdout"
        }
      ]
    },
    {
      "metadata": {
        "id": "6IQqDzNqgSOx",
        "colab_type": "text"
      },
      "cell_type": "markdown",
      "source": [
        "### 11 Write a program in Python to read a password from the user. If the user types the correct password \"Success\", then display the message, \"Welcome!\". The user should be allowed to enter password only 3 times. If the password is not correct after 3 attempts, then display the message 'Blocked!'."
      ]
    },
    {
      "metadata": {
        "id": "6yUyPge3gSO2",
        "colab_type": "code",
        "colab": {
          "base_uri": "https://localhost:8080/",
          "height": 163
        },
        "outputId": "60eda01c-12d0-43d5-85f7-ab0e4922156b"
      },
      "cell_type": "code",
      "source": [
        "#Write your code here\n",
        "print('Please enter your password: ')\n",
        "count=0\n",
        "while (count < 3):\n",
        "    password = input('Enter password: ')\n",
        "    if (password=='abc'):\n",
        "        print('Success...')\n",
        "        print(\"Welcome\")\n",
        "        break\n",
        "    else:\n",
        "        print('Access denied. Try again.')\n",
        "        count+=1\n",
        "        "
      ],
      "execution_count": 40,
      "outputs": [
        {
          "output_type": "stream",
          "text": [
            "Please enter your password: \n",
            "Enter password: abcd\n",
            "Access denied. Try again.\n",
            "Enter password: 123\n",
            "Access denied. Try again.\n",
            "Enter password: abc\n",
            "Success...\n",
            "Welcome\n"
          ],
          "name": "stdout"
        }
      ]
    },
    {
      "metadata": {
        "id": "_DtaWI8UgSO_",
        "colab_type": "text"
      },
      "cell_type": "markdown",
      "source": [
        "## Optional questions"
      ]
    },
    {
      "metadata": {
        "id": "afcOwZN3gSPC",
        "colab_type": "text"
      },
      "cell_type": "markdown",
      "source": [
        "### 12 Write a program in Python to generate and print Fibonacci series upto n numbers where n is input by user."
      ]
    },
    {
      "metadata": {
        "id": "7uQO9TDWgSPD",
        "colab_type": "code",
        "colab": {
          "base_uri": "https://localhost:8080/",
          "height": 145
        },
        "outputId": "004e7c3f-73ec-4ed1-e1a3-e6dac41d83ff"
      },
      "cell_type": "code",
      "source": [
        "#Write your code here\n",
        "n1=0\n",
        "n2=1\n",
        "n=int(input(\"Enter the number of terms you want the sequence to be generated:\"))\n",
        "print(\"Hence the Fibonacci sequence upto 10 terms is:\")\n",
        "print(n1)\n",
        "print(n2)\n",
        "for i in range(n-2):\n",
        "    n3=n1+n2\n",
        "    n1=n2\n",
        "    n2=n3\n",
        "    print(n3)\n"
      ],
      "execution_count": 42,
      "outputs": [
        {
          "output_type": "stream",
          "text": [
            "Enter the number of terms you want the sequence to be generated:5\n",
            "Hence the Fibonacci sequence upto 10 terms is:\n",
            "0\n",
            "1\n",
            "1\n",
            "2\n",
            "3\n"
          ],
          "name": "stdout"
        }
      ]
    },
    {
      "metadata": {
        "id": "lW0u9pdNgSPK",
        "colab_type": "text"
      },
      "cell_type": "markdown",
      "source": [
        "### 13. Write a program in Python to check the validity of password input by users…….(complete details as given) \n",
        "Validation :\n",
        "\n",
        "At least 1 letter between [a-z] and 1 letter between [A-Z].\n",
        "\n",
        "At least 1 number between [0-9].\n",
        "\n",
        "At least 1 character from [$#@].\n",
        "\n",
        "Minimum length 6 characters.\n",
        "\n",
        "Maximum length 16 characters."
      ]
    },
    {
      "metadata": {
        "id": "Id8Xyph-gSPM",
        "colab_type": "raw"
      },
      "cell_type": "markdown",
      "source": [
        "Note: \n",
        "import re   #for searching a pattern in password\n",
        "len()          #For calculating length\n",
        "Example: re.search(\"[a-z]\",p) #to search weather word p has any character between a and z. "
      ]
    },
    {
      "metadata": {
        "id": "lYsmr85igSPQ",
        "colab_type": "code",
        "colab": {
          "base_uri": "https://localhost:8080/",
          "height": 54
        },
        "outputId": "d578612c-c82e-445a-a633-90394f6d9b9b"
      },
      "cell_type": "code",
      "source": [
        "#Write your code here\n",
        "import re\n",
        "pw= input(\"Please input your password to check the validity details: \")\n",
        "x = True\n",
        "while x:  \n",
        "    if (len(pw)<6 or len(pw)>16):\n",
        "        break\n",
        "    elif not re.search(\"[a-z]\",pw):\n",
        "        break\n",
        "    elif not re.search(\"[0-9]\",pw):\n",
        "        break\n",
        "    elif not re.search(\"[A-Z]\",pw):\n",
        "        break\n",
        "    elif not re.search(\"[$#@]\",pw):\n",
        "        break\n",
        "    elif re.search(\"\\s\",pw):\n",
        "        break\n",
        "    else:\n",
        "        print(\"The input is a Valid Password.\")\n",
        "        x=False\n",
        "        break\n",
        "\n",
        "if (x):\n",
        "    print(\"Sorry, the input isn't a Valid Password. \")\n",
        "\n",
        "\n"
      ],
      "execution_count": 53,
      "outputs": [
        {
          "output_type": "stream",
          "text": [
            "Please input your password to check the validity details: Tanvi@#$1234\n",
            "The input is a Valid Password.\n"
          ],
          "name": "stdout"
        }
      ]
    },
    {
      "metadata": {
        "id": "fKgMJQPrgSPY",
        "colab_type": "text"
      },
      "cell_type": "markdown",
      "source": [
        "### 14.  Write a program in Python to calculate the least common multiplier (LCM) of any two integer numbers.\n",
        "###  First number 24, Second number 36, LCM= 72"
      ]
    },
    {
      "metadata": {
        "id": "a0CYBJozgSPa",
        "colab_type": "code",
        "colab": {
          "base_uri": "https://localhost:8080/",
          "height": 72
        },
        "outputId": "e948e815-7f7e-4053-f28f-382b0c1375fc"
      },
      "cell_type": "code",
      "source": [
        "#Write your code here\n",
        "a=int(input(\"Enter the first number:\"))\n",
        "b=int(input(\"Enter the second number:\"))\n",
        "if(a>b):\n",
        "    minimum=a\n",
        "else:\n",
        "    minimum=b\n",
        "while(1):\n",
        "    if(minimum%a==0 and minimum%b==0):\n",
        "        print(\"The LCM of the input numbers is:\",minimum)\n",
        "        break\n",
        "    minimum=minimum+1"
      ],
      "execution_count": 47,
      "outputs": [
        {
          "output_type": "stream",
          "text": [
            "Enter the first number:3\n",
            "Enter the second number:4\n",
            "The LCM of the input numbers is: 12\n"
          ],
          "name": "stdout"
        }
      ]
    },
    {
      "metadata": {
        "id": "_p6Y2Mmgwfbe",
        "colab_type": "code",
        "colab": {}
      },
      "cell_type": "code",
      "source": [
        ""
      ],
      "execution_count": 0,
      "outputs": []
    }
  ]
}
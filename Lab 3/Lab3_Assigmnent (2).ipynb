{
 "cells": [
  {
   "cell_type": "markdown",
   "metadata": {},
   "source": [
    "# Student Name: \n",
    "# Enrollment Number: \n",
    "# Lab assignemnt number:"
   ]
  },
  {
   "cell_type": "markdown",
   "metadata": {},
   "source": [
    "## Lab 3: Arithmetic Expressions, Operators"
   ]
  },
  {
   "cell_type": "markdown",
   "metadata": {},
   "source": [
    "## Compulasory Questions"
   ]
  },
  {
   "cell_type": "markdown",
   "metadata": {},
   "source": [
    "### 1 Write a program in Python that takes a length of one side of square (floating-point value) as input and prints the area and perimeter of the square."
   ]
  },
  {
   "cell_type": "code",
   "execution_count": null,
   "metadata": {
    "collapsed": true,
    "scrolled": false
   },
   "outputs": [],
   "source": [
    "#write your code here"
   ]
  },
  {
   "cell_type": "markdown",
   "metadata": {},
   "source": [
    "### 2\tWrite a program in Python to take input length and breadth of a rectangle (floating-point values) and print the area and perimeter of the rectangle."
   ]
  },
  {
   "cell_type": "code",
   "execution_count": null,
   "metadata": {
    "collapsed": true,
    "scrolled": false
   },
   "outputs": [],
   "source": [
    "#write your code here\n"
   ]
  },
  {
   "cell_type": "markdown",
   "metadata": {},
   "source": [
    "### 3 Write a program in Python which converts 8 hours and 32 minutes into seconds."
   ]
  },
  {
   "cell_type": "code",
   "execution_count": null,
   "metadata": {
    "collapsed": true
   },
   "outputs": [],
   "source": [
    "hours=8\n",
    "minutes=32\n",
    "seconds= (hours*60*60)+(minutes*60)\n",
    "print(seconds)"
   ]
  },
  {
   "cell_type": "markdown",
   "metadata": {},
   "source": [
    "### 4 Write a program in Python which inputs time in hours and minutes and converts it into seconds."
   ]
  },
  {
   "cell_type": "code",
   "execution_count": null,
   "metadata": {
    "collapsed": true
   },
   "outputs": [],
   "source": [
    "#write your code here\n"
   ]
  },
  {
   "cell_type": "markdown",
   "metadata": {},
   "source": [
    "### 5\tWrite a program in Python to convert temperature in degrees Celcius to degrees Fahrenheit. The formula is F = (temp * 9/5) +32 . For temp=40 ᵒC, the output should be 104 ᵒF . Try for other different values of temp."
   ]
  },
  {
   "cell_type": "code",
   "execution_count": null,
   "metadata": {
    "collapsed": true
   },
   "outputs": [],
   "source": [
    "temp_in_deg=float(input('temperature in ᵒC '))\n",
    "#write your code here\n",
    "\n",
    "print(temp_in_deg,'ᵒC = ',temp,'ᵒF')"
   ]
  },
  {
   "cell_type": "markdown",
   "metadata": {},
   "source": [
    "### 6 Execute the following program in python to perform assignment operations and write comments on each line as per your understanding"
   ]
  },
  {
   "cell_type": "code",
   "execution_count": null,
   "metadata": {
    "collapsed": true
   },
   "outputs": [],
   "source": [
    "x=20\n",
    "#x=x+1\n",
    "x+=1\n",
    "print(x)\n",
    "#x=x-10\n",
    "x-=10\n",
    "print(x)\n",
    "#x=x*4\n",
    "x*=4\n",
    "print(x)\n"
   ]
  },
  {
   "cell_type": "markdown",
   "metadata": {},
   "source": [
    "### 7Execute the following program in python to perform assignment operations and write comments on each line as per your understanding."
   ]
  },
  {
   "cell_type": "code",
   "execution_count": null,
   "metadata": {
    "collapsed": true
   },
   "outputs": [],
   "source": [
    "x=20\n",
    "y=3\n",
    "#x=x/y\n",
    "x/=y\n",
    "print(x)\n",
    "#x=x%y\n",
    "x%=y\n",
    "print(x)\n",
    "#x=x//y\n",
    "x//=y\n",
    "print(x)\n",
    "x=6\n",
    "y=4\n",
    "#x=x&y\n",
    "x&=y\n",
    "print(x)\n",
    "#x=x|y\n",
    "x|=y\n",
    "print(x)\n"
   ]
  },
  {
   "cell_type": "markdown",
   "metadata": {},
   "source": [
    "### 8 Execute the following program in python to perform following relational operations and write comments on each line as per your understanding. "
   ]
  },
  {
   "cell_type": "code",
   "execution_count": null,
   "metadata": {
    "collapsed": true
   },
   "outputs": [],
   "source": [
    "x=\"happy\"\n",
    "y=\"had\"\n",
    "print(x<y)\n",
    "print(x>y)\n",
    "print(x==y)\n",
    "print(x!=y)"
   ]
  },
  {
   "cell_type": "markdown",
   "metadata": {},
   "source": [
    "### 9 Execute the following program in python to perform following relational operations and write comments on each line as per your understanding."
   ]
  },
  {
   "cell_type": "code",
   "execution_count": null,
   "metadata": {
    "collapsed": true
   },
   "outputs": [],
   "source": [
    "print(1<2)\n",
    "print(4>10)\n",
    "print(6==8)\n",
    "print(2>10)\n",
    "print(6<8)\n",
    "print(6>8)"
   ]
  },
  {
   "cell_type": "markdown",
   "metadata": {},
   "source": [
    "### 10 Execute the following program in python to perform following logical AND OR NOT operations and write comments on each line as per your understanding."
   ]
  },
  {
   "cell_type": "code",
   "execution_count": null,
   "metadata": {
    "collapsed": true
   },
   "outputs": [],
   "source": [
    "print(1<2 and 4>10)\n",
    "print(6==8 or 2>10)\n",
    "print(6<8 and 6>8)\n",
    "print(not(1))\n",
    "print(not(1==2))\n",
    "print(not(4>7 and 7>8))\n",
    "print(not(4>7 or 7>8))"
   ]
  },
  {
   "cell_type": "markdown",
   "metadata": {},
   "source": [
    "### 11\tWrite a program in Python that inputs data (class, age, marks in mathematics, science) about two persons- Ram and Shyam. The program uses relational operators to check whether they study in same class? Are Ram Shyam of same age? Is Ram’s marks in mathematics more than Shyam? Is Ram’s marks in science less than Ram? The answer by the program is either True or False. The operators to be used are: <, >, ==, !=. "
   ]
  },
  {
   "cell_type": "code",
   "execution_count": null,
   "metadata": {
    "collapsed": true
   },
   "outputs": [],
   "source": [
    "R_class='XII'\n",
    "S_class='XII'\n",
    "\n",
    "R_age=18\n",
    "S_age=19\n",
    "\n",
    "R_math=80\n",
    "S_math=90\n",
    "\n",
    "R_sci=85\n",
    "S_sci=92\n",
    "\n",
    "print('Both are in same class ?',R_class==S_class)\n",
    "#write your code here\n",
    "\n"
   ]
  },
  {
   "cell_type": "markdown",
   "metadata": {},
   "source": [
    "### 12 Execute the following code and write comments on each line as per your understanding."
   ]
  },
  {
   "cell_type": "code",
   "execution_count": null,
   "metadata": {
    "collapsed": true
   },
   "outputs": [],
   "source": [
    "x = True\n",
    "y = False\n",
    "print('x and y is',x and y) \n",
    "print('x or y is',x or y) \n",
    "print('not x is',not x) "
   ]
  },
  {
   "cell_type": "markdown",
   "metadata": {},
   "source": [
    "### 13 Execute the code:"
   ]
  },
  {
   "cell_type": "code",
   "execution_count": null,
   "metadata": {
    "collapsed": true
   },
   "outputs": [],
   "source": [
    "x=12 \n",
    "y=4 \n",
    "# bitwise AND of 1100 and 0100 = 0100 i.e. 4\n",
    "print(x&y) \n",
    "# bitwise OR of 1100 and 0100 = 1100 i.e. 12\n",
    "print(x|y)\n",
    "# bitwise XOR of 1100 and 0100 = 1000 i.e. 8\n",
    "print(x^y)"
   ]
  },
  {
   "cell_type": "markdown",
   "metadata": {},
   "source": [
    "### 13 Execute the code and write comments on each line as per your understanding."
   ]
  },
  {
   "cell_type": "code",
   "execution_count": null,
   "metadata": {
    "collapsed": true,
    "scrolled": true
   },
   "outputs": [],
   "source": [
    "x = 'Hello world'\n",
    "print('He' in x)    \n",
    "print('h' not in x)   \n",
    "string2='Believe in yourself'\n",
    "# write code to check if sub-string'lie' is present in string2 or not"
   ]
  },
  {
   "cell_type": "markdown",
   "metadata": {},
   "source": [
    "### 15 Write a program in Python to multiply and divide using bitwise shift operators. Observe the given example for n=8. Write code for n1=4 and execute. "
   ]
  },
  {
   "cell_type": "raw",
   "metadata": {},
   "source": [
    "if n=8 = (1000 in binary), n>>1 will give 100 i.e 4 after shifting bits by 1 place to right. \n",
    "                           n<<1 will give 10000 i.e. 16 after shifting bits by 1 place to left."
   ]
  },
  {
   "cell_type": "code",
   "execution_count": null,
   "metadata": {
    "collapsed": true,
    "scrolled": true
   },
   "outputs": [],
   "source": [
    "n=8\n",
    "print(n,'binary',format(n,'b'))\n",
    "print(n,'* 2=',n<<1)\n",
    "print(n,'/ 2=',n>>1)\n",
    "n1=4\n",
    "#write your code here"
   ]
  },
  {
   "cell_type": "markdown",
   "metadata": {},
   "source": [
    "### 16\tWrite a program in Python to multiply and divide by multiple powers of two using bitwise shift operators. Observe the given example for n=8,k=3. Write code for m=4, k1=2 and execute. "
   ]
  },
  {
   "cell_type": "raw",
   "metadata": {},
   "source": [
    "Input\n",
    "    n=8\n",
    "    k=3\n",
    "Output\n",
    "    Value of 8 after multiplying by 2 3 times = 8*8=64\n",
    "    Value of 8 after dividing by 2 3 times = 8/8=1"
   ]
  },
  {
   "cell_type": "code",
   "execution_count": null,
   "metadata": {
    "collapsed": true
   },
   "outputs": [],
   "source": [
    "n=8\n",
    "k=3\n",
    "#write your code here\n",
    "n1= n<<k\n",
    "print('Value of', n,'after multiplying by 2',k,'times =',n1)\n",
    "#write your code here\n",
    "n2=n>>k\n",
    "print('Value of',n,'after dividing by 2',k,'times =',n2)"
   ]
  },
  {
   "cell_type": "markdown",
   "metadata": {},
   "source": [
    "## Optional Questions"
   ]
  },
  {
   "cell_type": "markdown",
   "metadata": {},
   "source": [
    "### 17\tWrite a program in python to convert from degree to radian and from radian to degree. Take input from user."
   ]
  },
  {
   "cell_type": "raw",
   "metadata": {},
   "source": [
    "pi=22/7\n",
    "radian = degree*(pi/180)\n",
    "degree=(radian *180)/pi"
   ]
  },
  {
   "cell_type": "code",
   "execution_count": null,
   "metadata": {
    "collapsed": true
   },
   "outputs": [],
   "source": [
    "#write your code here for degree to radian"
   ]
  },
  {
   "cell_type": "code",
   "execution_count": null,
   "metadata": {
    "collapsed": true
   },
   "outputs": [],
   "source": [
    "#write your code here for radian to degree"
   ]
  },
  {
   "cell_type": "markdown",
   "metadata": {},
   "source": [
    "### 18\tWrite a program in Python to convert number 13 into 79. Students may introduce one more variable and  use bitwise operators (such as AND, OR, XOR). "
   ]
  },
  {
   "cell_type": "code",
   "execution_count": null,
   "metadata": {
    "collapsed": true,
    "scrolled": true
   },
   "outputs": [],
   "source": [
    "a=13\n",
    "b=79\n",
    "out=a|b\n",
    "print(out)"
   ]
  },
  {
   "cell_type": "markdown",
   "metadata": {},
   "source": [
    "### 19 Write a program in python to calculate area of triangle when all three sides are given. "
   ]
  },
  {
   "cell_type": "raw",
   "metadata": {},
   "source": [
    "s=(a+b+c)/2\n",
    "area =  √(s(s-a)(s-b)(s-c) )"
   ]
  },
  {
   "cell_type": "code",
   "execution_count": null,
   "metadata": {
    "collapsed": true,
    "scrolled": false
   },
   "outputs": [],
   "source": [
    " #write your code here"
   ]
  },
  {
   "cell_type": "markdown",
   "metadata": {
    "collapsed": true
   },
   "source": [
    "### 20 Write a program in python to perform addition, subtraction, multiplication and division operations on complex numbers. "
   ]
  },
  {
   "cell_type": "code",
   "execution_count": null,
   "metadata": {
    "collapsed": true
   },
   "outputs": [],
   "source": [
    "import cmath\n",
    "a=complex(20+5j)\n",
    "b=complex(5+3j)\n",
    "#write your code here"
   ]
  }
 ],
 "metadata": {
  "kernelspec": {
   "display_name": "Python 3",
   "language": "python",
   "name": "python3"
  },
  "language_info": {
   "codemirror_mode": {
    "name": "ipython",
    "version": 3
   },
   "file_extension": ".py",
   "mimetype": "text/x-python",
   "name": "python",
   "nbconvert_exporter": "python",
   "pygments_lexer": "ipython3",
   "version": "3.6.1"
  }
 },
 "nbformat": 4,
 "nbformat_minor": 2
}

{
 "cells": [
  {
   "cell_type": "markdown",
   "metadata": {},
   "source": [
    "# Student Name:  Tanvi Penumudy\n",
    "# Enrollment Number: E18CSE187\n",
    "# Lab assignemnt number: 3"
   ]
  },
  {
   "cell_type": "markdown",
   "metadata": {},
   "source": [
    "## Lab 3: Arithmetic Expressions, Operators"
   ]
  },
  {
   "cell_type": "markdown",
   "metadata": {},
   "source": [
    "## Compulasory Questions"
   ]
  },
  {
   "cell_type": "markdown",
   "metadata": {},
   "source": [
    "### 1 Write a program in Python that takes a length of one side of square (floating-point value) as input and prints the area and perimeter of the square."
   ]
  },
  {
   "cell_type": "code",
   "execution_count": 5,
   "metadata": {
    "scrolled": false
   },
   "outputs": [
    {
     "name": "stdout",
     "output_type": "stream",
     "text": [
      "Enter the lenght of a side of a square:16.5\n",
      "The perimeter of the square is: 66.0 and the area is: 272.25\n"
     ]
    }
   ],
   "source": [
    "#write your code here\n",
    "x=float(input(\"Enter the lenght of a side of a square:\"))\n",
    "area=x*x\n",
    "perimeter=4*x\n",
    "print('The perimeter of the square is:',perimeter, 'and the area is:',area)\n"
   ]
  },
  {
   "cell_type": "markdown",
   "metadata": {},
   "source": [
    "### 2\tWrite a program in Python to take input length and breadth of a rectangle (floating-point values) and print the area and perimeter of the rectangle."
   ]
  },
  {
   "cell_type": "code",
   "execution_count": 6,
   "metadata": {
    "scrolled": false
   },
   "outputs": [
    {
     "name": "stdout",
     "output_type": "stream",
     "text": [
      "Enter the lenght of a rectangle:16.5\n",
      "Enter the breadth of a rectangle:20.8\n",
      "The perimeter of the rectangle is: 74.6  and the area of the rectangle is: 343.2\n"
     ]
    }
   ],
   "source": [
    "#write your code here\n",
    "x=float(input(\"Enter the lenght of a rectangle:\"))\n",
    "y=float(input(\"Enter the breadth of a rectangle:\"))\n",
    "area=x*y\n",
    "perimeter=2*(x+y)\n",
    "print('The perimeter of the rectangle is:',perimeter,' and the area of the rectangle is:',area)\n"
   ]
  },
  {
   "cell_type": "markdown",
   "metadata": {},
   "source": [
    "## 3 Write a program in Python which converts 8 hours and 32 minutes into seconds."
   ]
  },
  {
   "cell_type": "code",
   "execution_count": 16,
   "metadata": {},
   "outputs": [
    {
     "name": "stdout",
     "output_type": "stream",
     "text": [
      "30720\n"
     ]
    }
   ],
   "source": [
    "hrs=8\n",
    "mins=32\n",
    "sec=(hours*60*60)+(minutes*60)\n",
    "print(sec)"
   ]
  },
  {
   "cell_type": "markdown",
   "metadata": {},
   "source": [
    "### 4 Write a program in Python which inputs time in hours and minutes and converts it into seconds."
   ]
  },
  {
   "cell_type": "code",
   "execution_count": 9,
   "metadata": {},
   "outputs": [
    {
     "name": "stdout",
     "output_type": "stream",
     "text": [
      "Enter the hours you want to convert:5\n",
      "Enter the minutes you wnat to convert:38\n",
      "20280\n"
     ]
    }
   ],
   "source": [
    "#write your code here\n",
    "hours=int(input(\"Enter the hours you want to convert:\"))\n",
    "minutes=int(input(\"Enter the minutes you wnat to convert:\"))\n",
    "seconds= (hours*60*60)+(minutes*60)\n",
    "print(seconds)\n",
    "\n",
    "\n"
   ]
  },
  {
   "cell_type": "markdown",
   "metadata": {},
   "source": [
    "### 5\tWrite a program in Python to convert temperature in degrees Celcius to degrees Fahrenheit. The formula is F = (temp * 9/5) +32 . For temp=40 ᵒC, the output should be 104 ᵒF . Try for other different values of temp."
   ]
  },
  {
   "cell_type": "code",
   "execution_count": 17,
   "metadata": {},
   "outputs": [
    {
     "name": "stdout",
     "output_type": "stream",
     "text": [
      "temperature in ᵒC 100\n",
      "100.0 ᵒC =  212.0 ᵒF\n"
     ]
    }
   ],
   "source": [
    "temp_celcius=float(input('temperature in ᵒC '))\n",
    "#write your code here\n",
    "temp_fahrenheit=(temp_celcius*9/5)+32\n",
    "print(temp_celcius,'ᵒC = ',temp_fahrenheit,'ᵒF')"
   ]
  },
  {
   "cell_type": "markdown",
   "metadata": {},
   "source": [
    "### 6 Execute the following program in python to perform assignment operations and write comments on each line as per your understanding"
   ]
  },
  {
   "cell_type": "code",
   "execution_count": 19,
   "metadata": {},
   "outputs": [
    {
     "name": "stdout",
     "output_type": "stream",
     "text": [
      "21\n",
      "11\n",
      "44\n"
     ]
    }
   ],
   "source": [
    "x=20\n",
    "x+=1#here we are editing the  value of x to be x=x+1\n",
    "print(x)\n",
    "x-=10#here we are editing the value of x to be x=x-10\n",
    "print(x)\n",
    "x*=4#here we are editing the value of x to be x=x*4\n",
    "print(x)\n"
   ]
  },
  {
   "cell_type": "markdown",
   "metadata": {},
   "source": [
    "### 7Execute the following program in python to perform assignment operations and write comments on each line as per your understanding."
   ]
  },
  {
   "cell_type": "code",
   "execution_count": 20,
   "metadata": {},
   "outputs": [
    {
     "name": "stdout",
     "output_type": "stream",
     "text": [
      "6.666666666666667\n",
      "0.666666666666667\n",
      "0.0\n",
      "4\n",
      "4\n"
     ]
    }
   ],
   "source": [
    "x=20\n",
    "y=3\n",
    "x/=y # we are editing the value of x to be x=x/y : normal division\n",
    "print(x)\n",
    "x%=y #we are editing the value of x to be x=x%y mod operation:reminder\n",
    "print(x)\n",
    "x//=y #we are editing the value of x to be x=x//y integer division\n",
    "print(x)\n",
    "x=6\n",
    "y=4\n",
    "x&=y#we are editing the value of x to be x=x&y:Bitwise operations(&-and)\n",
    "print(x)\n",
    "x|=y # we are editing the value of x to be x=x|y:Bitwise operations(|-or)\n",
    "print(x)\n"
   ]
  },
  {
   "cell_type": "markdown",
   "metadata": {},
   "source": [
    "### 8 Execute the following program in python to perform following relational operations and write comments on each line as per your understanding. "
   ]
  },
  {
   "cell_type": "code",
   "execution_count": 27,
   "metadata": {},
   "outputs": [
    {
     "name": "stdout",
     "output_type": "stream",
     "text": [
      "True\n",
      "False\n",
      "False\n",
      "True\n"
     ]
    }
   ],
   "source": [
    "x=\"ha\"\n",
    "y=\"hb\"\n",
    "print(x<y)# it compares whether the x input is less than y...it is true because a<b in alphabetical order\n",
    "print(x>y)# it compares whether the x input is more than y...it is false because a<b in alphabetical order\n",
    "print(x==y)# it compares whether the x input is in comparison(==)...it is false clearly\n",
    "print(x!=y)# it compares whether the x input not equal to y...it is true as they aren't equal"
   ]
  },
  {
   "cell_type": "markdown",
   "metadata": {},
   "source": [
    "### 9 Execute the following program in python to perform following relational operations and write comments on each line as per your understanding."
   ]
  },
  {
   "cell_type": "code",
   "execution_count": 22,
   "metadata": {},
   "outputs": [
    {
     "name": "stdout",
     "output_type": "stream",
     "text": [
      "True\n",
      "False\n",
      "False\n",
      "False\n",
      "True\n",
      "False\n"
     ]
    }
   ],
   "source": [
    "print(1<2)#the sign is correct \n",
    "print(4>10)# the sign is wrong as 4<10\n",
    "print(6==8)# the sign isn't right(comparison) as 6 is not==8\n",
    "print(2>10)#the sign isn't correct\n",
    "print(6<8)#the sign is right\n",
    "print(6>8)#the sign is wrong as 6<8"
   ]
  },
  {
   "cell_type": "markdown",
   "metadata": {},
   "source": [
    "### 10 Execute the following program in python to perform following logical AND OR NOT operations and write comments on each line as per your understanding."
   ]
  },
  {
   "cell_type": "code",
   "execution_count": 23,
   "metadata": {},
   "outputs": [
    {
     "name": "stdout",
     "output_type": "stream",
     "text": [
      "False\n",
      "False\n",
      "False\n",
      "False\n",
      "True\n",
      "True\n",
      "True\n"
     ]
    }
   ],
   "source": [
    "print(1<2 and 4>10)#F and F =F\n",
    "print(6==8 or 2>10)#F or F =F\n",
    "print(6<8 and 6>8)#F and T=F\n",
    "print(not(1))# any number by default T (except 0);not gives opposite to it hence F\n",
    "print(not(1==2))#the comparison symbol 1==2 is F ; the not gives the opposite to it hence T\n",
    "print(not(4>7 and 7>8))#F and F is F; not operation gives opposite hence T\n",
    "print(not(4>7 or 7>8))#F or F is F; not operation gives the opposite hence T"
   ]
  },
  {
   "cell_type": "markdown",
   "metadata": {},
   "source": [
    "### 11\tWrite a program in Python that inputs data (class, age, marks in mathematics, science) about two persons- Ram and Shyam. The program uses relational operators to check whether they study in same class? Are Ram Shyam of same age? Is Ram’s marks in mathematics more than Shyam? Is Ram’s marks in science less than Ram? The answer by the program is either True or False. The operators to be used are: <, >, ==, !=. "
   ]
  },
  {
   "cell_type": "code",
   "execution_count": 36,
   "metadata": {},
   "outputs": [
    {
     "name": "stdout",
     "output_type": "stream",
     "text": [
      "Both are in same class ? True\n",
      "Both are not of same age? True\n",
      "Are marks of Ram in maths more than Shyam? False\n",
      "Are marks of ram is science less than Shyam? True\n"
     ]
    }
   ],
   "source": [
    "R_class='XII'\n",
    "S_class='XII'\n",
    "\n",
    "R_age=18\n",
    "S_age=19\n",
    "\n",
    "R_math=80\n",
    "S_math=90\n",
    "\n",
    "R_sci=85\n",
    "S_sci=92\n",
    "\n",
    "print('Both are in same class ?',R_class==S_class)\n",
    "#write your code here\n",
    "print('Both are not of same age?',R_age!=S_class)\n",
    "print('Are marks of Ram in maths more than Shyam?',R_math>S_math)\n",
    "print('Are marks of ram is science less than Shyam?',R_sci<S_sci)\n",
    "\n"
   ]
  },
  {
   "cell_type": "markdown",
   "metadata": {},
   "source": [
    "### 12 Execute the following code and write comments on each line as per your understanding."
   ]
  },
  {
   "cell_type": "code",
   "execution_count": 30,
   "metadata": {},
   "outputs": [
    {
     "name": "stdout",
     "output_type": "stream",
     "text": [
      "x and y is False\n",
      "x or y is True\n",
      "not x is False\n"
     ]
    }
   ],
   "source": [
    "x = True\n",
    "y = False\n",
    "print('x and y is',x and y) #Acc. to math logic T and F =F\n",
    "print('x or y is',x or y) #Acc. to math logic T or F= T\n",
    "print('not x is',not x)#Acc. to math logic negation of x:(T)= F"
   ]
  },
  {
   "cell_type": "markdown",
   "metadata": {},
   "source": [
    "### 13 Execute the code:"
   ]
  },
  {
   "cell_type": "code",
   "execution_count": 31,
   "metadata": {},
   "outputs": [
    {
     "name": "stdout",
     "output_type": "stream",
     "text": [
      "4\n",
      "12\n",
      "8\n"
     ]
    }
   ],
   "source": [
    "x=12 \n",
    "y=4 \n",
    "# bitwise AND of 1100 and 0100 = 0100 i.e. 4\n",
    "print(x&y) \n",
    "# bitwise OR of 1100 and 0100 = 1100 i.e. 12\n",
    "print(x|y)\n",
    "# bitwise XOR of 1100 and 0100 = 1000 i.e. 8\n",
    "print(x^y)"
   ]
  },
  {
   "cell_type": "markdown",
   "metadata": {},
   "source": [
    "### 13 Execute the code and write comments on each line as per your understanding."
   ]
  },
  {
   "cell_type": "code",
   "execution_count": 34,
   "metadata": {
    "scrolled": true
   },
   "outputs": [
    {
     "name": "stdout",
     "output_type": "stream",
     "text": [
      "True\n",
      "True\n",
      "True\n",
      "True\n",
      "True\n",
      "False\n",
      "True\n"
     ]
    }
   ],
   "source": [
    "x = 'Hello world'\n",
    "print('He' in x)    \n",
    "print('h' not in x) #the program is to check whether the following group of letters are present in the input variable or not  \n",
    "string2='Believe in yourself'\n",
    "# write code to check if sub-string'lie' is present in string2 or not\n",
    "print('lie' in string2)\n",
    "print('lies' not in string2)\n",
    "print('yours' in string2)\n",
    "print('yours' not in string2)\n",
    "print('eve in' in string2)"
   ]
  },
  {
   "cell_type": "markdown",
   "metadata": {},
   "source": [
    "### 15 Write a program in Python to multiply and divide using bitwise shift operators. Observe the given example for n=8. Write code for n1=4 and execute. "
   ]
  },
  {
   "cell_type": "raw",
   "metadata": {},
   "source": [
    "if n=8 = (1000 in binary), n>>1 will give 100 i.e 4 after shifting bits by 1 place to right. \n",
    "                           n<<1 will give 10000 i.e. 16 after shifting bits by 1 place to left."
   ]
  },
  {
   "cell_type": "code",
   "execution_count": 48,
   "metadata": {
    "scrolled": true
   },
   "outputs": [
    {
     "name": "stdout",
     "output_type": "stream",
     "text": [
      "8 binary 1000\n",
      "8 * 2= 16\n",
      "8 / 2= 4\n",
      "4 binary code of the number 1000\n",
      "4 * 2= 8\n",
      "4 / 2= 2\n"
     ]
    }
   ],
   "source": [
    "n=8\n",
    "print(n,'binary',format(n,'b'))\n",
    "print(n,'* 2=',n<<1)\n",
    "print(n,'/ 2=',n>>1)\n",
    "n1=4\n",
    "#write your code here\n",
    "print(n1,'binary code of the number',format(n,'b'))\n",
    "print(n1,'* 2=',n1<<1)\n",
    "print(n1,'/ 2=',n1>>1)\n"
   ]
  },
  {
   "cell_type": "markdown",
   "metadata": {},
   "source": [
    "### 16\tWrite a program in Python to multiply and divide by multiple powers of two using bitwise shift operators. Observe the given example for n=8,k=3. Write code for m=4, k1=2 and execute. "
   ]
  },
  {
   "cell_type": "raw",
   "metadata": {},
   "source": [
    "Input\n",
    "    n=8\n",
    "    k=3\n",
    "Output\n",
    "    Value of 8 after multiplying by 2 3 times = 8*8=64\n",
    "    Value of 8 after dividing by 2 3 times = 8/8=1"
   ]
  },
  {
   "cell_type": "code",
   "execution_count": 47,
   "metadata": {},
   "outputs": [
    {
     "name": "stdout",
     "output_type": "stream",
     "text": [
      "Value of 8 after multiplying by 2 3 times = 64\n",
      "Value of 8 after dividing by 2 3 times = 1\n",
      "Value of 4 after multiplying by 2 2 times = 16\n",
      "Value of 4 after dividing by 2 2 times = 1\n"
     ]
    }
   ],
   "source": [
    "n=8\n",
    "k=3\n",
    "#write your code here\n",
    "n1= n<<k\n",
    "print('Value of', n,'after multiplying by 2',k,'times =',n1)\n",
    "#write your code here\n",
    "n2=n>>k\n",
    "print('Value of',n,'after dividing by 2',k,'times =',n2)\n",
    "m=4\n",
    "k1=2\n",
    "m1=m<<k1\n",
    "print('Value of', m,'after multiplying by 2',k1,'times =',m1)\n",
    "m2=m>>k1\n",
    "print('Value of',m,'after dividing by 2',k1,'times =',m2)\n"
   ]
  },
  {
   "cell_type": "markdown",
   "metadata": {},
   "source": [
    "## Optional Questions"
   ]
  },
  {
   "cell_type": "markdown",
   "metadata": {},
   "source": [
    "### 17\tWrite a program in python to convert from degree to radian and from radian to degree. Take input from user."
   ]
  },
  {
   "cell_type": "raw",
   "metadata": {},
   "source": [
    "pi=22/7\n",
    "radian = degree*(pi/180)\n",
    "degree=(radian *180)/pi"
   ]
  },
  {
   "cell_type": "code",
   "execution_count": 5,
   "metadata": {},
   "outputs": [
    {
     "name": "stdout",
     "output_type": "stream",
     "text": [
      "Enter the degree:180\n",
      "The value of degree in radian is: 3.142857142857143\n"
     ]
    }
   ],
   "source": [
    "#write your code here for degree to radian\n",
    "pi=22/7\n",
    "degree=float(input(\"Enter the degree:\"))\n",
    "radian=degree*(pi/180)\n",
    "print ('The value of degree in radian is:',radian)"
   ]
  },
  {
   "cell_type": "code",
   "execution_count": 4,
   "metadata": {},
   "outputs": [
    {
     "name": "stdout",
     "output_type": "stream",
     "text": [
      "Enter the radian:180\n",
      "The value of radians in degrees is: 10309.09090909091\n"
     ]
    }
   ],
   "source": [
    "#write your code here for radian to degree\n",
    "pi=22/7\n",
    "radian=float(input(\"Enter the radian:\"))\n",
    "degree=(radian*180)/pi\n",
    "print('The value of radians in degrees is:',degree)"
   ]
  },
  {
   "cell_type": "markdown",
   "metadata": {},
   "source": [
    "### 18\tWrite a program in Python to convert number 13 into 79. Students may introduce one more variable and  use bitwise operators (such as AND, OR, XOR). "
   ]
  },
  {
   "cell_type": "code",
   "execution_count": 2,
   "metadata": {
    "scrolled": true
   },
   "outputs": [
    {
     "name": "stdout",
     "output_type": "stream",
     "text": [
      "79\n",
      "13\n",
      "66\n"
     ]
    }
   ],
   "source": [
    "a=13\n",
    "b=79\n",
    "c=a|b\n",
    "print(c)\n",
    "d=a&b\n",
    "print(d)\n",
    "e=a^b\n",
    "print(e)\n"
   ]
  },
  {
   "cell_type": "markdown",
   "metadata": {},
   "source": [
    "### 19 Write a program in python to calculate area of triangle when all three sides are given. "
   ]
  },
  {
   "cell_type": "raw",
   "metadata": {},
   "source": [
    "s=(a+b+c)/2\n",
    "area =  √(s(s-a)(s-b)(s-c) )"
   ]
  },
  {
   "cell_type": "code",
   "execution_count": 1,
   "metadata": {},
   "outputs": [
    {
     "name": "stdout",
     "output_type": "stream",
     "text": [
      "First side is:3\n",
      "Second side is:3\n",
      "Third side is:3\n",
      "The area of the triangle with the given values of the sides is: 3.897114317029974\n"
     ]
    }
   ],
   "source": [
    "a=float(input('First side is:'))\n",
    "b=float(input('Second side is:'))\n",
    "c=float(input('Third side is:'))\n",
    "s=(a+b+c)/2\n",
    "x=s*(s-a)*(s-b)*(s-c)\n",
    "area=x**(1/2)\n",
    "print('The area of the triangle with the given values of the sides is:',area)"
   ]
  },
  {
   "cell_type": "markdown",
   "metadata": {
    "collapsed": true
   },
   "source": [
    "### 20 Write a program in python to perform addition, subtraction, multiplication and division operations on complex numbers. "
   ]
  },
  {
   "cell_type": "code",
   "execution_count": 49,
   "metadata": {},
   "outputs": [
    {
     "name": "stdout",
     "output_type": "stream",
     "text": [
      "The addition of the two complex numbers is (25+8j)\n",
      "The subtraction of the two complex numbers is (15+2j)\n",
      "The multiplication of the two complex numbers is (85+85j)\n",
      "The division of the two complex numbers is (3.3823529411764706-1.0294117647058825j)\n"
     ]
    }
   ],
   "source": [
    "import cmath\n",
    "a=complex(20+5j)\n",
    "b=complex(5+3j)\n",
    "#write your code here\n",
    "addition=a+b\n",
    "subtraction=a-b\n",
    "multiplication=a*b\n",
    "division=a/b\n",
    "print('The addition of the two complex numbers is',addition)\n",
    "print('The subtraction of the two complex numbers is',subtraction)\n",
    "print('The multiplication of the two complex numbers is',multiplication)\n",
    "print('The division of the two complex numbers is',division)"
   ]
  },
  {
   "cell_type": "code",
   "execution_count": null,
   "metadata": {},
   "outputs": [],
   "source": []
  }
 ],
 "metadata": {
  "kernelspec": {
   "display_name": "Python 3",
   "language": "python",
   "name": "python3"
  },
  "language_info": {
   "codemirror_mode": {
    "name": "ipython",
    "version": 3
   },
   "file_extension": ".py",
   "mimetype": "text/x-python",
   "name": "python",
   "nbconvert_exporter": "python",
   "pygments_lexer": "ipython3",
   "version": "3.6.5"
  }
 },
 "nbformat": 4,
 "nbformat_minor": 2
}

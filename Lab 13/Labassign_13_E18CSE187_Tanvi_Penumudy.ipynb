{
  "nbformat": 4,
  "nbformat_minor": 0,
  "metadata": {
    "colab": {
      "name": "Labassign_13_E18CSE187_Tanvi Penumudy.ipynb",
      "version": "0.3.2",
      "provenance": [],
      "collapsed_sections": []
    },
    "kernelspec": {
      "display_name": "Python 3",
      "language": "python",
      "name": "python3"
    }
  },
  "cells": [
    {
      "metadata": {
        "id": "JB0ZukhXpK8J",
        "colab_type": "text"
      },
      "cell_type": "markdown",
      "source": [
        "# Name: Tanvi Penumudy\n",
        "#Enrollment Number: E18CSE187\n",
        "#Lab Assignment: 13"
      ]
    },
    {
      "metadata": {
        "id": "p6737pvGpK8L",
        "colab_type": "text"
      },
      "cell_type": "markdown",
      "source": [
        "## Lists\n",
        "- A list is a collection of items, that is stored in a variable. \n",
        "- The items should be related in some way, but there are no restrictions on what can be stored in a list."
      ]
    },
    {
      "metadata": {
        "id": "BFpm4NTwpK8O",
        "colab_type": "text"
      },
      "cell_type": "markdown",
      "source": [
        "### Syntax\n",
        "list-name = [list of comma seperated values]"
      ]
    },
    {
      "metadata": {
        "id": "HvhtQaJSpK8Q",
        "colab_type": "text"
      },
      "cell_type": "markdown",
      "source": [
        "### Slicing with list\n",
        "\n",
        "index start with 0\n",
        "\n",
        " listname[index_number]\n",
        "\n",
        " listname[start_index:end_index]\n",
        "\n",
        " listname[:end_index]\n",
        "\n",
        " listname[start_index:]\n",
        "\n",
        "\n",
        "negative index: \n",
        " listname[:-index] \n",
        "\n",
        "\n",
        "### list methods\n",
        "- append()\n",
        "- len()\n",
        "- insert(index,value)\n",
        "- sort()\n",
        "- reverse()\n",
        "- pop(), pop(index)\n",
        "- min(), max(), sum()\n",
        "\n",
        "\n",
        "We can change the contents of the lists after its creation\n",
        "\n",
        "listname[index]=newvalue"
      ]
    },
    {
      "metadata": {
        "id": "lnHXok2ppK8S",
        "colab_type": "text"
      },
      "cell_type": "markdown",
      "source": [
        "#### Task 1: Run below code and try to make some changes to the code"
      ]
    },
    {
      "metadata": {
        "id": "qG9u8-71pK8U",
        "colab_type": "code",
        "colab": {},
        "outputId": "60c6a1fe-b836-494c-dde3-c4298aadb7da"
      },
      "cell_type": "code",
      "source": [
        "# list creation\n",
        "countries = ['Pakistan', 'United Kingdom', 'Russia']\n",
        "\n",
        "# print whole list\n",
        "print(countries)\n",
        "\n",
        "# Accessing list elements\n",
        "print(\"Value at 0 index: \",countries[2])\n",
        "\n",
        "# assignning new value to index\n",
        "countries[1]='India'\n",
        "\n",
        "print(\"New value at index 0: \",countries[1])"
      ],
      "execution_count": 0,
      "outputs": [
        {
          "output_type": "stream",
          "text": [
            "['Pakistan', 'United Kingdom', 'Russia']\n",
            "Value at 0 index:  Russia\n",
            "New value at index 0:  India\n"
          ],
          "name": "stdout"
        }
      ]
    },
    {
      "metadata": {
        "id": "6E6F-3-spK8h",
        "colab_type": "text"
      },
      "cell_type": "markdown",
      "source": [
        "### Iterating lists"
      ]
    },
    {
      "metadata": {
        "id": "KUZc8DEcpK8j",
        "colab_type": "text"
      },
      "cell_type": "markdown",
      "source": [
        "#### Task 2: Run below code and try to make some changes to the code"
      ]
    },
    {
      "metadata": {
        "id": "RfVrRbnYpK8m",
        "colab_type": "code",
        "colab": {},
        "outputId": "20023b4c-c84d-423d-d699-45cd332cc4af"
      },
      "cell_type": "code",
      "source": [
        "\n",
        "hybridlist=['My name is Tanvi Penumudy',\n",
        "             'I am in',\n",
        "             1,\n",
        "             'Semester']\n",
        "\n",
        "print(hybridlist)\n",
        "\n",
        "# we can access the elements of list using loops\n",
        "\n",
        "for item in hybridlist:\n",
        "    print(item)"
      ],
      "execution_count": 0,
      "outputs": [
        {
          "output_type": "stream",
          "text": [
            "['My name is Tanvi Penumudy', 'I am in', 1, 'Semester']\n",
            "My name is Tanvi Penumudy\n",
            "I am in\n",
            "1\n",
            "Semester\n"
          ],
          "name": "stdout"
        }
      ]
    },
    {
      "metadata": {
        "id": "oIDZpO1hpK8w",
        "colab_type": "text"
      },
      "cell_type": "markdown",
      "source": [
        "#### Task 3: Run below code and try to make some changes to the code"
      ]
    },
    {
      "metadata": {
        "id": "n9m1jbulpK8y",
        "colab_type": "code",
        "colab": {},
        "outputId": "1776f447-7bf5-4efd-cae9-4419c1ebd420"
      },
      "cell_type": "code",
      "source": [
        "# print the index number with value\n",
        "\n",
        "countries = ['Bhutan', 'Afghanistan', 'Kazhakistan']\n",
        "\n",
        "for index, country in enumerate(countries):\n",
        "    place = str(index)\n",
        "    print(\"Index: \" + place + \", Value: \" + country.title())\n",
        "    \n",
        "# find index of\n",
        "index = countries.index('Afghanistan') \n",
        "print(\"\\n Index of Afghanistan is: \",index)"
      ],
      "execution_count": 0,
      "outputs": [
        {
          "output_type": "stream",
          "text": [
            "Index: 0, Value: Bhutan\n",
            "Index: 1, Value: Afghanistan\n",
            "Index: 2, Value: Kazhakistan\n",
            "\n",
            " Index of Afghanistan is:  1\n"
          ],
          "name": "stdout"
        }
      ]
    },
    {
      "metadata": {
        "id": "KG-fVDXYpK88",
        "colab_type": "text"
      },
      "cell_type": "markdown",
      "source": [
        "#### Task 4: Run below code and try to make some changes to the code"
      ]
    },
    {
      "metadata": {
        "id": "PYuUIGsNpK8_",
        "colab_type": "code",
        "colab": {},
        "outputId": "acb6741c-8573-4713-b2e7-abc7ca8e8171"
      },
      "cell_type": "code",
      "source": [
        "# Remove the last country from the list by index or by value\n",
        "del countries[0]\n",
        "\n",
        "print(countries)"
      ],
      "execution_count": 0,
      "outputs": [
        {
          "output_type": "stream",
          "text": [
            "['Afghanistan']\n"
          ],
          "name": "stdout"
        }
      ]
    },
    {
      "metadata": {
        "id": "cmsEB1bfpK9I",
        "colab_type": "text"
      },
      "cell_type": "markdown",
      "source": [
        "### List comprehension (with for loop)"
      ]
    },
    {
      "metadata": {
        "id": "ddJYFxEkpK9K",
        "colab_type": "text"
      },
      "cell_type": "markdown",
      "source": [
        "#### Task 5: Run below code and try to make some changes to the code"
      ]
    },
    {
      "metadata": {
        "id": "P2HChI5JpK9N",
        "colab_type": "code",
        "colab": {},
        "outputId": "788cc45d-aaba-4b74-cc7d-e5ed11263364"
      },
      "cell_type": "code",
      "source": [
        "# without comprehension\n",
        "\n",
        "squares = []\n",
        "for x in [2, 4, 6, 8, 10]:\n",
        "    squares.append(x ** 2) \n",
        "    \n",
        "print(squares)"
      ],
      "execution_count": 0,
      "outputs": [
        {
          "output_type": "stream",
          "text": [
            "[4, 16, 36, 64, 100]\n"
          ],
          "name": "stdout"
        }
      ]
    },
    {
      "metadata": {
        "id": "vXd9uK_RpK9X",
        "colab_type": "code",
        "colab": {},
        "outputId": "69be384b-ac9f-42d9-803c-3caa1344c3a7"
      },
      "cell_type": "code",
      "source": [
        "# with comprehension\n",
        "  \n",
        "squares= [x**2 for x in [0, 2, 4, 6, 8]]\n",
        "print(squares)"
      ],
      "execution_count": 0,
      "outputs": [
        {
          "output_type": "stream",
          "text": [
            "[0, 4, 16, 36, 64]\n"
          ],
          "name": "stdout"
        }
      ]
    },
    {
      "metadata": {
        "id": "A8IlfrgGpK9h",
        "colab_type": "code",
        "colab": {},
        "outputId": "bd9eb2f3-25da-4e5c-88c0-a1313aa2fc77"
      },
      "cell_type": "code",
      "source": [
        "num=[0,2,4,6,8,10]\n",
        "list=[a for a in num]\n",
        "list"
      ],
      "execution_count": 0,
      "outputs": [
        {
          "output_type": "execute_result",
          "data": {
            "text/plain": [
              "[0, 2, 4, 6, 8, 10]"
            ]
          },
          "metadata": {
            "tags": []
          },
          "execution_count": 22
        }
      ]
    },
    {
      "metadata": {
        "id": "nZaf4143pK9q",
        "colab_type": "text"
      },
      "cell_type": "markdown",
      "source": [
        "#### Program 1: Write a python program which does the following\n",
        "- Make a list that includes four job types , such as 'programmer', 'truck driver' and so on\n",
        "- Use the *list.index()* function to find the index of one job type in your list.\n",
        "- Use the *in* function to show that this job type is in your list.\n",
        "- Use the *append()* function to add a new job type to your list.\n",
        "- Use the *insert()* function to add a new job type \"Python Programmer\" at the beginning of the list.\n",
        "- Use a loop to show all the job types in your list."
      ]
    },
    {
      "metadata": {
        "id": "JnT2WtRppK9s",
        "colab_type": "code",
        "colab": {
          "base_uri": "https://localhost:8080/",
          "height": 187
        },
        "outputId": "94b08efa-5305-45ee-b18f-93fdb79460d6"
      },
      "cell_type": "code",
      "source": [
        "list=[\"Programmer\",\"Truck driver\",\"Auto driver\",\"Doctor\"]\n",
        "list.index(\"Truck driver\")\n",
        "print(list)\n",
        "n=\"Programmer\"in list\n",
        "print(n)\n",
        "list.append(\"Engineer\")\n",
        "print(list)\n",
        "m=\"Python Programmer\"\n",
        "list.insert(0,m)\n",
        "print(list)\n",
        "for i in list:\n",
        "  print(i)\n",
        "\n",
        "\n",
        "\n",
        "\n",
        "\n",
        "\n"
      ],
      "execution_count": 43,
      "outputs": [
        {
          "output_type": "stream",
          "text": [
            "['Programmer', 'Truck driver', 'Auto driver', 'Doctor']\n",
            "True\n",
            "['Programmer', 'Truck driver', 'Auto driver', 'Doctor', 'Engineer']\n",
            "['Python Programmer', 'Programmer', 'Truck driver', 'Auto driver', 'Doctor', 'Engineer']\n",
            "Python Programmer\n",
            "Programmer\n",
            "Truck driver\n",
            "Auto driver\n",
            "Doctor\n",
            "Engineer\n"
          ],
          "name": "stdout"
        }
      ]
    },
    {
      "metadata": {
        "id": "sft0AsHgpK92",
        "colab_type": "text"
      },
      "cell_type": "markdown",
      "source": [
        "#### Problem 2: Write a python program for following\n",
        "\n",
        "- Make a list that includes the names of five famous people.\n",
        "- Remove each person from the list, one at a time, using the four methods given below:\n",
        "    - Del item from the list by del: del listname[index]\n",
        "    - Remove the item from the list by remove method: listname.remove('itemname')\n",
        "    - Using pop() method, It removes the last item from the list: listname.pop() \n",
        "    - Pop any item from the list by index: listname: listname.pop(index)\n",
        "- Print out a message that there are no famous people left in your list, and print your list to prove that it is empty."
      ]
    },
    {
      "metadata": {
        "id": "3e530ZhZpK94",
        "colab_type": "code",
        "colab": {},
        "outputId": "42c29e71-c255-46bb-b247-d178d9ce205c"
      },
      "cell_type": "code",
      "source": [
        "fam_nam=[\"Tanvi Penumudy\",\"Vineeta Penumudy\",\"Mahatma Gandhi\",'Stephen Hawking',\"Albert Einstein\"]\n",
        "del fam_nam[0]\n",
        "fam_nam.remove(\"Stephen Hawking\")\n",
        "fam_nam.pop()\n",
        "fam_nam.pop()\n",
        "fam_nam.pop()\n",
        "\n",
        "if(len(fam_nam)==0):\n",
        "    print(\"There are no famous people left in the list\")\n",
        "print(fam_nam)\n"
      ],
      "execution_count": 0,
      "outputs": [
        {
          "output_type": "stream",
          "text": [
            "There are no famous people left in the list\n",
            "[]\n"
          ],
          "name": "stdout"
        }
      ]
    },
    {
      "metadata": {
        "id": "CLNZ5q9hpK-M",
        "colab_type": "text"
      },
      "cell_type": "markdown",
      "source": [
        "#### Program 3: Write a python program which does the following\n",
        "\n",
        "- Store the first ten letters of the alphabet in a list.\n",
        "- Use a slice to print out the first three letters of the alphabet.\n",
        "- Use a slice to print out any three letters from the middle of your list.\n",
        "- Use a slice to print out the letters from any point in the middle of your list, to the end.\n"
      ]
    },
    {
      "metadata": {
        "id": "tLSgqAk9pK-O",
        "colab_type": "code",
        "colab": {
          "base_uri": "https://localhost:8080/",
          "height": 68
        },
        "outputId": "b81f6682-e3b8-4e7d-b485-64866aae22b4"
      },
      "cell_type": "code",
      "source": [
        "n=['a',\"b\",\"c\",\"d\",\"e\",\"f\",\"g\",\"h\",\"i\",\"j\"]\n",
        "print(n[0:3])\n",
        "print(n[1:6:2])\n",
        "print(n[4:])"
      ],
      "execution_count": 17,
      "outputs": [
        {
          "output_type": "stream",
          "text": [
            "['a', 'b', 'c']\n",
            "['b', 'd', 'f']\n",
            "['e', 'f', 'g', 'h', 'i', 'j']\n"
          ],
          "name": "stdout"
        }
      ]
    },
    {
      "metadata": {
        "id": "W5nPDBbIpK-Y",
        "colab_type": "text"
      },
      "cell_type": "markdown",
      "source": [
        "#### Program 4: Write a python program for following\n",
        "\n",
        "- Your goal in this exercise is to prove that copying a list protects the original list.\n",
        "- Make a list with three people's names in it.\n",
        "- Use a slice to make a copy of the entire list.\n",
        "- Add at least two new names to the new copy of the list.\n",
        "- Make a loop that prints out all of the names in the original list, along with a message that this is the original list.\n",
        "- Make a loop that prints out all of the names in the copied list, along with a message that this is the copied list."
      ]
    },
    {
      "metadata": {
        "id": "ZYILeRwWpK-b",
        "colab_type": "code",
        "colab": {},
        "outputId": "b37af656-ff50-45e0-f803-d78140a4acd7"
      },
      "cell_type": "code",
      "source": [
        "lista=[\"Tanvi\",\"Vineeta\",\"Srujani\"]\n",
        "listb=lista[0:1]\n",
        "listb.extend((29,\"Sindhu\",\"Siri\"))\n",
        "print(\"The original list is:\")\n",
        "for i in lista:\n",
        "    print(i)\n",
        "for j in listb:\n",
        "    print(j)"
      ],
      "execution_count": 0,
      "outputs": [
        {
          "output_type": "stream",
          "text": [
            "The original list is:\n",
            "Tanvi\n",
            "Vineeta\n",
            "Srujani\n",
            "Tanvi\n",
            "29\n",
            "Sindhu\n",
            "Siri\n"
          ],
          "name": "stdout"
        }
      ]
    },
    {
      "metadata": {
        "id": "OUwqLi--pK-o",
        "colab_type": "text"
      },
      "cell_type": "markdown",
      "source": [
        "#### Program 5: Write a python program for following\n",
        "\n",
        "- Create a list to store the marks of top 15 students obtained by the students in Python Quiz held on 21/08/2018. Maxmimum marks=15\n",
        "- Print the maximum marks obtained by the student from the list\n",
        "- Print the minimum marks obtained by the student\n",
        "- Find the sum of all the marks\n",
        "- Find the average of the marks\n",
        "- Reverse the original list and display using for loop\n"
      ]
    },
    {
      "metadata": {
        "id": "V25lZ1xRpK-v",
        "colab_type": "code",
        "colab": {
          "base_uri": "https://localhost:8080/",
          "height": 374
        },
        "outputId": "27e1a667-750c-46c7-8602-af33c29790f0"
      },
      "cell_type": "code",
      "source": [
        "marks=[]\n",
        "for i in range(15):\n",
        "    mark = int(input(\"Enter your marks:\"))\n",
        "    marks.append(mark)\n",
        "   \n",
        "    \n",
        "print(max(marks))\n",
        "print(min(marks))\n",
        "print(sum(marks))\n",
        "print(sum(marks)/len(marks))\n",
        "\n",
        "print(\"The Reverse list is:\")\n",
        "\n",
        "new_list=[]\n",
        "for i in range(len(marks)):\n",
        "    new_list.insert(i,marks[-1])\n",
        "    marks.pop(-1)\n",
        "print(new_list)\n",
        "\n",
        "    \n",
        "    \n",
        "    \n",
        "\n",
        "    \n",
        "\n"
      ],
      "execution_count": 26,
      "outputs": [
        {
          "output_type": "stream",
          "text": [
            "Enter your marks:100\n",
            "Enter your marks:95\n",
            "Enter your marks:90\n",
            "Enter your marks:85\n",
            "Enter your marks:80\n",
            "Enter your marks:75\n",
            "Enter your marks:70\n",
            "Enter your marks:65\n",
            "Enter your marks:60\n",
            "Enter your marks:55\n",
            "Enter your marks:50\n",
            "Enter your marks:45\n",
            "Enter your marks:40\n",
            "Enter your marks:35\n",
            "Enter your marks:30\n",
            "100\n",
            "30\n",
            "975\n",
            "65.0\n",
            "The Reverse list is:\n",
            "[30, 35, 40, 45, 50, 55, 60, 65, 70, 75, 80, 85, 90, 95, 100]\n"
          ],
          "name": "stdout"
        }
      ]
    },
    {
      "metadata": {
        "id": "3X-SmisnpK-8",
        "colab_type": "text"
      },
      "cell_type": "markdown",
      "source": [
        "#### Program 6: Write a program in Python to create a list which contains n integers entered by the user and delete all odd numbers from the list. Example: If initial contents of the list is=[1,2,3,4,5,6,7,8,9,10], the output would be=[2,4,6,8,10]."
      ]
    },
    {
      "metadata": {
        "id": "dhWIAhYRpK--",
        "colab_type": "code",
        "colab": {
          "base_uri": "https://localhost:8080/",
          "height": 51
        },
        "outputId": "cda964bd-d3fb-45a4-9612-d1857fb13283"
      },
      "cell_type": "code",
      "source": [
        "list1=[]\n",
        "a=int(input(\"Enter number:\"))\n",
        "for i in range(1,a+1):\n",
        "    list1.append(str(i))\n",
        "list2=[]\n",
        "for j in (list1):\n",
        "    if(int(j)%2==0):\n",
        "        list2.append(str(j))\n",
        "print(list2)"
      ],
      "execution_count": 11,
      "outputs": [
        {
          "output_type": "stream",
          "text": [
            "Enter number:18\n",
            "['2', '4', '6', '8', '10', '12', '14', '16', '18']\n"
          ],
          "name": "stdout"
        }
      ]
    },
    {
      "metadata": {
        "id": "jk_zxYn-pK_N",
        "colab_type": "text"
      },
      "cell_type": "markdown",
      "source": [
        "## Optional Questions"
      ]
    },
    {
      "metadata": {
        "id": "rtlRZ_D5pK_P",
        "colab_type": "text"
      },
      "cell_type": "markdown",
      "source": [
        "#### Program 7: Write a python program for following.\n",
        "- Create an initial empty list named \"countries\" \n",
        "- Read the names of n countries from the user and add them to country list:\n",
        "- Use for loop to display all the names of the countries from the list and add \"is Great\" after the country name if it is \"India\""
      ]
    },
    {
      "metadata": {
        "id": "15MpHZf7pK_T",
        "colab_type": "code",
        "colab": {}
      },
      "cell_type": "code",
      "source": [
        ""
      ],
      "execution_count": 0,
      "outputs": []
    },
    {
      "metadata": {
        "id": "yV96WiJepK_Z",
        "colab_type": "text"
      },
      "cell_type": "markdown",
      "source": [
        "### Program 8: Write a program in Python to create a list which contains n integers entered by the user and add 2 to each of the even numbers in the list. Example: If initial contents of the list is=[1,2,3,4,5,6,7,8,9,10], the output would be=[1,4,3,6,5,8,7,10,9,12]"
      ]
    },
    {
      "metadata": {
        "id": "SBBW8AhFpK_b",
        "colab_type": "code",
        "colab": {}
      },
      "cell_type": "code",
      "source": [
        ""
      ],
      "execution_count": 0,
      "outputs": []
    },
    {
      "metadata": {
        "id": "w7x2-nyYpK_k",
        "colab_type": "text"
      },
      "cell_type": "markdown",
      "source": [
        "### Program 9: Write a Python program to find the list in a list of lists whose sum of elements is the highest.\n",
        "Sample lists: [[1,2,3], [4,5,6], [10,11,12], [7,8,9]]\n",
        "Expected Output: [10, 11, 12]"
      ]
    },
    {
      "metadata": {
        "id": "G3h-Saq6pK_p",
        "colab_type": "code",
        "colab": {}
      },
      "cell_type": "code",
      "source": [
        ""
      ],
      "execution_count": 0,
      "outputs": []
    },
    {
      "metadata": {
        "id": "fO6Y4DiXpK_x",
        "colab_type": "text"
      },
      "cell_type": "markdown",
      "source": [
        "#### Program 10: Write a python program which does the following\n",
        "\n",
        "- Make a list of the most important words you have learned in programming so far.\n",
        "- Make a corresponding list of definitions. Fill your list with 'definition'.\n",
        "- Use a for loop to print out each word and its corresponding definition.\n",
        "- Maintain this program until you get to the section on Python's Dictionaries."
      ]
    },
    {
      "metadata": {
        "id": "ULktax1CpK_1",
        "colab_type": "code",
        "colab": {}
      },
      "cell_type": "code",
      "source": [
        "# start writing your code after this line"
      ],
      "execution_count": 0,
      "outputs": []
    }
  ]
}
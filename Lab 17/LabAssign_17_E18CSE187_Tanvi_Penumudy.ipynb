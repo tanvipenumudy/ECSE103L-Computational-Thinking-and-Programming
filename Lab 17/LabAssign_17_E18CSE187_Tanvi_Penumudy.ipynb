{
  "nbformat": 4,
  "nbformat_minor": 0,
  "metadata": {
    "colab": {
      "name": "LabAssign_17_E18CSE187_Tanvi_Penumudy.ipynb",
      "version": "0.3.2",
      "provenance": []
    },
    "kernelspec": {
      "display_name": "Python 3",
      "language": "python",
      "name": "python3"
    }
  },
  "cells": [
    {
      "metadata": {
        "id": "YNZKGQjYfosI",
        "colab_type": "text"
      },
      "cell_type": "markdown",
      "source": [
        "##Name:Tanvi Penumudy\n",
        "##Enrollment Number:E18CSE187\n",
        "## Lab Assignment Number: 17\n"
      ]
    },
    {
      "metadata": {
        "id": "3lB1SSQchVol",
        "colab_type": "code",
        "colab": {}
      },
      "cell_type": "code",
      "source": [
        "fobj2 = open(\"Original.txt\", \"w\")\n",
        "fobj2.write(\"Thes is the Firs cas. programing is fan and eesy.Thes is vary essy. Wee loe Pythen\")\n",
        "fobj2.close()"
      ],
      "execution_count": 0,
      "outputs": []
    },
    {
      "metadata": {
        "id": "Uub_UQgshV5t",
        "colab_type": "code",
        "colab": {}
      },
      "cell_type": "code",
      "source": [
        "fobj2 = open(\"Correct_spelled.txt\", \"w\")\n",
        "fobj2.write(\"that,first,case,car,programming,this,fun,easy,book,is,very,easy,we, Love, In, Python\")\n",
        "fobj2.close()"
      ],
      "execution_count": 0,
      "outputs": []
    },
    {
      "metadata": {
        "id": "Wub1BPvqfosM",
        "colab_type": "code",
        "outputId": "294c5608-2dda-472f-aef0-2562bb70bc1c",
        "colab": {
          "base_uri": "https://localhost:8080/",
          "height": 238
        }
      },
      "cell_type": "code",
      "source": [
        "def corr(m,n):\n",
        "    y=len(m)\n",
        "    z=len(n)\n",
        "    for i in range(y):\n",
        "        c=0\n",
        "        for j in range(z):\n",
        "            if len(m[i])==len(n[j]):\n",
        "                for k in range(len(m[i])):\n",
        "                    if m[i][k]==n[j][k]:\n",
        "                        c+=1\n",
        "                if c==len(m[i]):\n",
        "                    break\n",
        "                if c==(len(m[i])-1):\n",
        "                    m[i]=n[j]\n",
        "            c=0\n",
        "            if len(m[i])<len(n[j]):\n",
        "                for k in range(len(m[i])):\n",
        "                    if m[i][k]==n[j][k] or m[i][k]==n[j][k+1]:\n",
        "                        c+=1\n",
        "                if c==len(m[i]):\n",
        "                    m[i]=n[j]\n",
        "            c=0\n",
        "            if len(m[i])>len(n[j]):\n",
        "                for k in range(len(n[j])):\n",
        "                    if m[i][k]==n[j][k] or m[i][k+1]==n[j][k]:\n",
        "                        c+=1\n",
        "                if c==len(n[j]):\n",
        "                    m[i]=n[j]  \n",
        "    return m\n",
        "a=open('Original.txt','r')\n",
        "s=a.read().lower().split('.')\n",
        "b=open('Correct_spelled.txt','r')\n",
        "w=b.read().lower().split(',')\n",
        "c=open('Corrected.txt','w+')\n",
        "cw=[]\n",
        "print(s)\n",
        "for i in w:\n",
        "    cw.append(i.strip())\n",
        "print(cw)\n",
        "for i in s:\n",
        "    sent=[]\n",
        "    i=i.strip()\n",
        "    for w in i.split():\n",
        "        sent.append(w)\n",
        "    print(sent)\n",
        "    sent =corr(sent,cw)\n",
        "    print(sent)\n",
        "    c.write(' '.join(sent)+'.')\n",
        "c.seek(0)\n",
        "print('\\n\\n',c.read())\n"
      ],
      "execution_count": 2,
      "outputs": [
        {
          "output_type": "stream",
          "text": [
            "['thes is the firs cas', ' programing is fan and eesy', 'thes is vary essy', ' wee loe pythen']\n",
            "['that', 'first', 'case', 'car', 'programming', 'this', 'fun', 'easy', 'book', 'is', 'very', 'easy', 'we', 'love', 'in', 'python']\n",
            "['thes', 'is', 'the', 'firs', 'cas']\n",
            "['this', 'is', 'the', 'first', 'case']\n",
            "['programing', 'is', 'fan', 'and', 'eesy']\n",
            "['programming', 'is', 'fun', 'and', 'easy']\n",
            "['thes', 'is', 'vary', 'essy']\n",
            "['this', 'is', 'very', 'easy']\n",
            "['wee', 'loe', 'pythen']\n",
            "['we', 'love', 'python']\n",
            "\n",
            "\n",
            " this is the first case.programming is fun and easy.this is very easy.we love python.\n"
          ],
          "name": "stdout"
        }
      ]
    },
    {
      "metadata": {
        "id": "ClB_PpV_fosg",
        "colab_type": "code",
        "colab": {}
      },
      "cell_type": "code",
      "source": [
        ""
      ],
      "execution_count": 0,
      "outputs": []
    }
  ]
}
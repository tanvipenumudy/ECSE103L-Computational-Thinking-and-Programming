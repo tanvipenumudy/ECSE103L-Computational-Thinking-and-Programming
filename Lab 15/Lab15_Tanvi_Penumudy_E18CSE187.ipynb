{
  "nbformat": 4,
  "nbformat_minor": 0,
  "metadata": {
    "colab": {
      "name": "Lab15_Tanvi_Penumudy_E18CSE187.ipynb",
      "version": "0.3.2",
      "provenance": [],
      "collapsed_sections": []
    },
    "kernelspec": {
      "display_name": "Python 3",
      "language": "python",
      "name": "python3"
    }
  },
  "cells": [
    {
      "metadata": {
        "id": "QNbsf_xba_P9",
        "colab_type": "text"
      },
      "cell_type": "markdown",
      "source": [
        "# Tuples\n",
        "\n",
        "Tuples are similar to lists with important difference:\n",
        "\n",
        "1. Tuples are immutable, meaning they cannot be changed in place or appended to.\n",
        "2. We can apply slicing in same way as we apply on lists"
      ]
    },
    {
      "metadata": {
        "id": "VlJ0xuHia_QB",
        "colab_type": "text"
      },
      "cell_type": "markdown",
      "source": [
        "### Syntax\n",
        "\n",
        "tuplename=(list of comma seperated values)\n"
      ]
    },
    {
      "metadata": {
        "id": "5W7tUvv1a_QF",
        "colab_type": "text"
      },
      "cell_type": "markdown",
      "source": [
        "#### Task 1: Run below code and make some changes to the code"
      ]
    },
    {
      "metadata": {
        "id": "KvszHgNxa_QI",
        "colab_type": "code",
        "colab": {}
      },
      "cell_type": "code",
      "source": [
        "# creating tuples\n",
        "states=('Madhya Pradesh','Uttar Pradesh','Andhra Pradesh', 'Goa')"
      ],
      "execution_count": 0,
      "outputs": []
    },
    {
      "metadata": {
        "scrolled": true,
        "id": "kKlg9J36a_QS",
        "colab_type": "code",
        "colab": {},
        "outputId": "4d35d3e4-3114-4b4c-a113-f08f476f2243"
      },
      "cell_type": "code",
      "source": [
        "states=('Madhya Pradesh','Uttar Pradesh','Andhra Pradesh', 'Goa')\n",
        "print(states)\n",
        "print(states[0])\n",
        "print(states[0:4])\n",
        "print(states[3:])\n",
        "print(states[-2])"
      ],
      "execution_count": 0,
      "outputs": [
        {
          "output_type": "stream",
          "text": [
            "('Madhya Pradesh', 'Uttar Pradesh', 'Andhra Pradesh', 'Goa')\n",
            "Madhya Pradesh\n",
            "('Madhya Pradesh', 'Uttar Pradesh', 'Andhra Pradesh', 'Goa')\n",
            "('Goa',)\n",
            "Andhra Pradesh\n"
          ],
          "name": "stdout"
        }
      ]
    },
    {
      "metadata": {
        "scrolled": true,
        "id": "QHUdx_Lla_Qq",
        "colab_type": "code",
        "colab": {},
        "outputId": "7be4e795-7dde-479f-be6f-381e06697a2a"
      },
      "cell_type": "code",
      "source": [
        "# following oprations are not allowed on tuples\n",
        "\n",
        "states[3]='MP'\n"
      ],
      "execution_count": 0,
      "outputs": [
        {
          "output_type": "error",
          "ename": "TypeError",
          "evalue": "'tuple' object does not support item assignment",
          "traceback": [
            "\u001b[1;31m---------------------------------------------------------------------------\u001b[0m",
            "\u001b[1;31mTypeError\u001b[0m                                 Traceback (most recent call last)",
            "\u001b[1;32m<ipython-input-4-9bc9eb64df45>\u001b[0m in \u001b[0;36m<module>\u001b[1;34m()\u001b[0m\n\u001b[0;32m      1\u001b[0m \u001b[1;31m# following oprations are not allowed on tuples\u001b[0m\u001b[1;33m\u001b[0m\u001b[1;33m\u001b[0m\u001b[0m\n\u001b[0;32m      2\u001b[0m \u001b[1;33m\u001b[0m\u001b[0m\n\u001b[1;32m----> 3\u001b[1;33m \u001b[0mstates\u001b[0m\u001b[1;33m[\u001b[0m\u001b[1;36m3\u001b[0m\u001b[1;33m]\u001b[0m\u001b[1;33m=\u001b[0m\u001b[1;34m'MP'\u001b[0m\u001b[1;33m\u001b[0m\u001b[0m\n\u001b[0m",
            "\u001b[1;31mTypeError\u001b[0m: 'tuple' object does not support item assignment"
          ]
        }
      ]
    },
    {
      "metadata": {
        "id": "MBXtshVwa_Q3",
        "colab_type": "code",
        "colab": {},
        "outputId": "a42fd080-84ce-402a-c46b-f4418ce38b84"
      },
      "cell_type": "code",
      "source": [
        "#Delete a tuple\n",
        "\n",
        "numb=(1,3,5,7,9)\n",
        "print(numb)\n",
        "print(\"Deleting the entire tuple\")\n",
        "del numb\n",
        "print(numb)"
      ],
      "execution_count": 0,
      "outputs": [
        {
          "output_type": "stream",
          "text": [
            "(1, 3, 5, 7, 9)\n",
            "Deleting the entire tuple\n"
          ],
          "name": "stdout"
        },
        {
          "output_type": "error",
          "ename": "NameError",
          "evalue": "name 'numb' is not defined",
          "traceback": [
            "\u001b[1;31m---------------------------------------------------------------------------\u001b[0m",
            "\u001b[1;31mNameError\u001b[0m                                 Traceback (most recent call last)",
            "\u001b[1;32m<ipython-input-6-70727d165c29>\u001b[0m in \u001b[0;36m<module>\u001b[1;34m()\u001b[0m\n\u001b[0;32m      5\u001b[0m \u001b[0mprint\u001b[0m\u001b[1;33m(\u001b[0m\u001b[1;34m\"Deleting the entire tuple\"\u001b[0m\u001b[1;33m)\u001b[0m\u001b[1;33m\u001b[0m\u001b[0m\n\u001b[0;32m      6\u001b[0m \u001b[1;32mdel\u001b[0m \u001b[0mnumb\u001b[0m\u001b[1;33m\u001b[0m\u001b[0m\n\u001b[1;32m----> 7\u001b[1;33m \u001b[0mprint\u001b[0m\u001b[1;33m(\u001b[0m\u001b[0mnumb\u001b[0m\u001b[1;33m)\u001b[0m\u001b[1;33m\u001b[0m\u001b[0m\n\u001b[0m",
            "\u001b[1;31mNameError\u001b[0m: name 'numb' is not defined"
          ]
        }
      ]
    },
    {
      "metadata": {
        "collapsed": true,
        "id": "9IarPQ7Oa_RD",
        "colab_type": "text"
      },
      "cell_type": "markdown",
      "source": [
        "#### Program 1: Write a python program for following\n",
        "- Uses the range() function to store all the odd numbers between m and n(inclusive) in a tuple, and print them out.\n",
        "- Take the value of m (should be odd) and n (should be greater then m) from the user."
      ]
    },
    {
      "metadata": {
        "id": "7zTv_hYaa_RG",
        "colab_type": "code",
        "colab": {
          "base_uri": "https://localhost:8080/",
          "height": 68
        },
        "outputId": "bcfea825-3482-463a-c9c2-bf38153151ae"
      },
      "cell_type": "code",
      "source": [
        "#Write your code here\n",
        "n1 = int(input(\"Enter the first number:\"))\n",
        "n2 = int(input(\"Enter the second number:\"))\n",
        "tup = tuple(x for x in range(n1, n2+1, 2))\n",
        "print(tup)\n",
        "            "
      ],
      "execution_count": 2,
      "outputs": [
        {
          "output_type": "stream",
          "text": [
            "Enter the first number:3\n",
            "Enter the second number:19\n",
            "(3, 5, 7, 9, 11, 13, 15, 17, 19)\n"
          ],
          "name": "stdout"
        }
      ]
    },
    {
      "metadata": {
        "id": "0xt9StUTa_RS",
        "colab_type": "text"
      },
      "cell_type": "markdown",
      "source": [
        "#### Program 2: Write a python program to make a list of the first ten even numbers using tuple comprehension and display the tuple using for loop."
      ]
    },
    {
      "metadata": {
        "scrolled": true,
        "id": "v3vaPR82a_RV",
        "colab_type": "code",
        "colab": {
          "base_uri": "https://localhost:8080/",
          "height": 187
        },
        "outputId": "97b22b9e-7188-4be7-be5f-4997e84b356e"
      },
      "cell_type": "code",
      "source": [
        "#Write your code here\n",
        "#tuple(tan for tan in range(2,20,2))\n",
        "\n",
        "t = tuple(x for x in range(2, 21, 2))\n",
        "for i in t:\n",
        "    print(i)"
      ],
      "execution_count": 5,
      "outputs": [
        {
          "output_type": "stream",
          "text": [
            "2\n",
            "4\n",
            "6\n",
            "8\n",
            "10\n",
            "12\n",
            "14\n",
            "16\n",
            "18\n",
            "20\n"
          ],
          "name": "stdout"
        }
      ]
    },
    {
      "metadata": {
        "id": "kvsPvDUaa_Rn",
        "colab_type": "text"
      },
      "cell_type": "markdown",
      "source": [
        "#### Program 3: Write a python program to create a list of 10 random numbers and convert the list into tuple. Display the contents of both list and tuple."
      ]
    },
    {
      "metadata": {
        "id": "EgJn9Mn-a_Rq",
        "colab_type": "code",
        "colab": {},
        "outputId": "2248d021-9a52-46fc-8445-3e6b876c6fea"
      },
      "cell_type": "code",
      "source": [
        "#Write your code here\n",
        "num=[]\n",
        "for j in range(10):\n",
        "    a=int(input(\"Enter 10 numbers:\"))\n",
        "    num.append(a)\n",
        "    b=tuple(num)\n",
        "print(b)\n",
        "print(num)"
      ],
      "execution_count": 0,
      "outputs": [
        {
          "output_type": "stream",
          "text": [
            "Enter 10 numbers:1\n",
            "Enter 10 numbers:2\n",
            "Enter 10 numbers:3\n",
            "Enter 10 numbers:4\n",
            "Enter 10 numbers:5\n",
            "Enter 10 numbers:6\n",
            "Enter 10 numbers:7\n",
            "Enter 10 numbers:8\n",
            "Enter 10 numbers:9\n",
            "Enter 10 numbers:10\n",
            "(1, 2, 3, 4, 5, 6, 7, 8, 9, 10)\n",
            "[1, 2, 3, 4, 5, 6, 7, 8, 9, 10]\n"
          ],
          "name": "stdout"
        }
      ]
    },
    {
      "metadata": {
        "id": "QeRZ_ejQa_R2",
        "colab_type": "text"
      },
      "cell_type": "markdown",
      "source": [
        "##### Program 4: Write a python program for following \n",
        "- Create a tuple named \"score\" of 10 numbers. \n",
        "- Tuple might contain duplicate values. \n",
        "- Display the count of duplicate values for any given number using count function.\n",
        "- score.count(n)\n",
        "- For example, if the tuple contains (2,1,3,4,2) and we want to know how many times 2 has occured into the tuple, answer should be 2."
      ]
    },
    {
      "metadata": {
        "scrolled": true,
        "id": "r4t1lOqZa_R5",
        "colab_type": "code",
        "colab": {
          "base_uri": "https://localhost:8080/",
          "height": 119
        },
        "outputId": "79e02d86-399a-46bf-e8b2-474d0ae5328c"
      },
      "cell_type": "code",
      "source": [
        "#Write your code here\n",
        "#Score=(1,3,5,6,7,8,6,7,7,7,7)\n",
        "#print(Score.count(7))\n",
        "\n",
        "Score = (1,3,5,6,7,8,6,7,7,7,7,5,8,1,3)\n",
        "for a in set(Score):\n",
        "    print(a, \" appears \", Score.count(a), \" times\")"
      ],
      "execution_count": 7,
      "outputs": [
        {
          "output_type": "stream",
          "text": [
            "1  appears  2  times\n",
            "3  appears  2  times\n",
            "5  appears  2  times\n",
            "6  appears  2  times\n",
            "7  appears  5  times\n",
            "8  appears  2  times\n"
          ],
          "name": "stdout"
        }
      ]
    },
    {
      "metadata": {
        "id": "RsdiC33sa_SI",
        "colab_type": "text"
      },
      "cell_type": "markdown",
      "source": [
        "#### Program 5: Write a Python program\n",
        "- To get the 4th element and last 4th element of a tuple.\n",
        "- To find the repeated items of a tuple.\n",
        "- To check whether an element exists within a tuple.\n",
        "- To slice a tuple.\n",
        "- To find the index of an item of a tuple."
      ]
    },
    {
      "metadata": {
        "id": "3ie-whOca_SL",
        "colab_type": "code",
        "colab": {
          "base_uri": "https://localhost:8080/",
          "height": 221
        },
        "outputId": "37eb5aee-56b7-410b-b97d-a180b6a79c73"
      },
      "cell_type": "code",
      "source": [
        "#Write your code here\n",
        "asd=(2,3,4,5,6,7,8,3,4,5,6,7,8,1,1)\n",
        "print(asd[4])\n",
        "print(asd[-4])\n",
        "for i in set(asd):\n",
        "    if (asd.count(i) > 1):\n",
        "        print(i, \" appears \", asd.count(i), \" times\")\n",
        "if (29 in asd):\n",
        "    print(\"It is present\")\n",
        "else:\n",
        "    print(\"It isn't present\")\n",
        "ind=asd.index(5)\n",
        "print(\"The index is:\",ind)\n",
        "asf=asd[2:6]\n",
        "print(asf)"
      ],
      "execution_count": 9,
      "outputs": [
        {
          "output_type": "stream",
          "text": [
            "6\n",
            "7\n",
            "1  appears  2  times\n",
            "3  appears  2  times\n",
            "4  appears  2  times\n",
            "5  appears  2  times\n",
            "6  appears  2  times\n",
            "7  appears  2  times\n",
            "8  appears  2  times\n",
            "It isn't present\n",
            "The index is: 3\n",
            "(4, 5, 6, 7)\n"
          ],
          "name": "stdout"
        }
      ]
    },
    {
      "metadata": {
        "id": "JGncixZaa_Sa",
        "colab_type": "text"
      },
      "cell_type": "markdown",
      "source": [
        "## Dictionary"
      ]
    },
    {
      "metadata": {
        "id": "1Nu7AqtYa_Se",
        "colab_type": "text"
      },
      "cell_type": "markdown",
      "source": [
        "#### Python dictionary is an unordered collection of items. While other compound data types have only value as an element, a dictionary has a key: value pair.\n",
        "\n",
        "#### Dictionaries are optimized to retrieve values when the key is known."
      ]
    },
    {
      "metadata": {
        "id": "v8WD7C5ha_Sh",
        "colab_type": "text"
      },
      "cell_type": "markdown",
      "source": [
        "## Creation of dictionary!\n",
        "\n",
        "#### Creating a dictionary is as simple as placing items inside curly braces {} separated by comma.\n",
        "#### An item has a key and the corresponding value expressed as a pair, key: value.\n",
        "\n",
        "#### While values can be of any data type and can repeat, keys must be of immutable type (string, number or tuple with immutable elements) and must be unique"
      ]
    },
    {
      "metadata": {
        "id": "jVUHKeDea_Sk",
        "colab_type": "code",
        "colab": {},
        "outputId": "12f6a994-1ae2-4d26-8896-6f33c07545a7"
      },
      "cell_type": "code",
      "source": [
        "# empty dictionary\n",
        "my_dict = {}\n",
        "\n",
        "# dictionary with integer keys\n",
        "my_dict = {1: 'yellow', 2: 'powderblue'}\n",
        "\n",
        "print(my_dict)\n",
        "\n",
        "# dictionary with mixed keys\n",
        "my_dict = {'name': 'Shawn Mendes', 1: [2, 4, 3]}\n",
        "\n",
        "print(my_dict)\n",
        "\n",
        "# we can also create a dictionary using the built-in function dict()\n",
        "# using dict()\n",
        "my_dict = dict({1:'pig', 2:'duck'})\n",
        "\n",
        "print(my_dict)\n",
        "\n",
        "# from sequence having each item as a pair\n",
        "my_dict = dict([(1,'yak'), (3,'turtle')])\n",
        "\n",
        "print(my_dict)"
      ],
      "execution_count": 0,
      "outputs": [
        {
          "output_type": "stream",
          "text": [
            "{1: 'cat', 2: 'dog'}\n",
            "{'name': 'Abraham', 1: [2, 4, 3]}\n",
            "{1: 'pig', 2: 'duck'}\n",
            "{1: 'yak', 3: 'turtle'}\n"
          ],
          "name": "stdout"
        }
      ]
    },
    {
      "metadata": {
        "id": "fFcTykE4a_Sv",
        "colab_type": "text"
      },
      "cell_type": "markdown",
      "source": [
        "### Accessing the Dictionary element"
      ]
    },
    {
      "metadata": {
        "id": "FTz0K2Vca_Sy",
        "colab_type": "code",
        "colab": {},
        "outputId": "57f4675d-d782-48ef-cad9-c8e7fb55dbd8"
      },
      "cell_type": "code",
      "source": [
        "my_dict = {'name_1':'Justin Bieber', 'age': 28}\n",
        "\n",
        "print(my_dict['name_1'])\n",
        "\n",
        "# Using Get Function\n",
        "print(my_dict.get('age'))\n",
        "\n",
        "# Trying to access keys which doesn't exist throws error\n",
        "my_dict.get('address')\n",
        "my_dict['address']"
      ],
      "execution_count": 0,
      "outputs": [
        {
          "output_type": "stream",
          "text": [
            "Justin Bieber\n",
            "28\n"
          ],
          "name": "stdout"
        },
        {
          "output_type": "error",
          "ename": "KeyError",
          "evalue": "'address'",
          "traceback": [
            "\u001b[1;31m---------------------------------------------------------------------------\u001b[0m",
            "\u001b[1;31mKeyError\u001b[0m                                  Traceback (most recent call last)",
            "\u001b[1;32m<ipython-input-23-7eec0bd3977a>\u001b[0m in \u001b[0;36m<module>\u001b[1;34m()\u001b[0m\n\u001b[0;32m      8\u001b[0m \u001b[1;31m# Trying to access keys which doesn't exist throws error\u001b[0m\u001b[1;33m\u001b[0m\u001b[1;33m\u001b[0m\u001b[0m\n\u001b[0;32m      9\u001b[0m \u001b[0mmy_dict\u001b[0m\u001b[1;33m.\u001b[0m\u001b[0mget\u001b[0m\u001b[1;33m(\u001b[0m\u001b[1;34m'address'\u001b[0m\u001b[1;33m)\u001b[0m\u001b[1;33m\u001b[0m\u001b[0m\n\u001b[1;32m---> 10\u001b[1;33m \u001b[0mmy_dict\u001b[0m\u001b[1;33m[\u001b[0m\u001b[1;34m'address'\u001b[0m\u001b[1;33m]\u001b[0m\u001b[1;33m\u001b[0m\u001b[0m\n\u001b[0m",
            "\u001b[1;31mKeyError\u001b[0m: 'address'"
          ]
        }
      ]
    },
    {
      "metadata": {
        "id": "3LrHkVy4a_TB",
        "colab_type": "text"
      },
      "cell_type": "markdown",
      "source": [
        "### Update the dictionary Items\n",
        "- Dictionary are mutable. We can add new items or change the value of existing items using assignment operator.\n",
        "- If the key is already present, value gets updated, else a new key: value pair is added to the dictionary."
      ]
    },
    {
      "metadata": {
        "id": "KqMN8Zj9a_TI",
        "colab_type": "code",
        "colab": {},
        "outputId": "54ddfde8-52a3-43e5-bdaa-42dc9a9c2817"
      },
      "cell_type": "code",
      "source": [
        "my_dict = {'name':'Jack Ryan', 'age': 78}\n",
        "\n",
        "# update value\n",
        "my_dict['age'] = 27\n",
        "\n",
        "print(my_dict)\n",
        "\n",
        "# add item\n",
        "my_dict['address'] = 'Menlo park'  \n",
        "\n",
        "print(my_dict)"
      ],
      "execution_count": 0,
      "outputs": [
        {
          "output_type": "stream",
          "text": [
            "{'name': 'Jack Ryan', 'age': 27}\n",
            "{'name': 'Jack Ryan', 'age': 27, 'address': 'Menlo park'}\n"
          ],
          "name": "stdout"
        }
      ]
    },
    {
      "metadata": {
        "id": "7nhH5sLra_TZ",
        "colab_type": "text"
      },
      "cell_type": "markdown",
      "source": [
        "### Delection an elements from a dictionary!\n",
        "- We can remove a particular item in a dictionary by using the method pop(). This method removes as item with the provided key and returns the value.\n",
        "- The method, popitem() can be used to remove and return an arbitrary item (key, value) form the dictionary. All the items can be removed at once using the clear() method.\n",
        "- We can also use the del keyword to remove individual items or the entire dictionary itself."
      ]
    },
    {
      "metadata": {
        "scrolled": true,
        "id": "RBnitWc6a_Tf",
        "colab_type": "code",
        "colab": {},
        "outputId": "5622486b-0f93-4722-bca4-13f907b0ca96"
      },
      "cell_type": "code",
      "source": [
        "# create a dictionary\n",
        "sq = {1:1, 2:4, 3:9, 4:16, 5:25}  \n",
        "\n",
        "# remove a particular item\n",
        "print(sq.pop(3))  \n",
        "\n",
        "print(sq)\n",
        "\n",
        "# remove an arbitrary item\n",
        "print(sq.popitem())\n",
        "\n",
        "print(sq)\n",
        "\n",
        "# delete a particular item\n",
        "del sq[1]  \n",
        "\n",
        "print(sq)\n",
        "\n",
        "# remove all items\n",
        "sq.clear()\n",
        "\n",
        "print(sq)\n",
        "\n",
        "# delete the dictionary itself\n",
        "del sq\n",
        "\n",
        "print(sq)"
      ],
      "execution_count": 0,
      "outputs": [
        {
          "output_type": "stream",
          "text": [
            "9\n",
            "{1: 1, 2: 4, 4: 16, 5: 25}\n",
            "(5, 25)\n",
            "{1: 1, 2: 4, 4: 16}\n",
            "{2: 4, 4: 16}\n",
            "{}\n"
          ],
          "name": "stdout"
        },
        {
          "output_type": "error",
          "ename": "NameError",
          "evalue": "name 'sq' is not defined",
          "traceback": [
            "\u001b[1;31m---------------------------------------------------------------------------\u001b[0m",
            "\u001b[1;31mNameError\u001b[0m                                 Traceback (most recent call last)",
            "\u001b[1;32m<ipython-input-26-b1e61955acde>\u001b[0m in \u001b[0;36m<module>\u001b[1;34m()\u001b[0m\n\u001b[0;32m     25\u001b[0m \u001b[1;32mdel\u001b[0m \u001b[0msq\u001b[0m\u001b[1;33m\u001b[0m\u001b[0m\n\u001b[0;32m     26\u001b[0m \u001b[1;33m\u001b[0m\u001b[0m\n\u001b[1;32m---> 27\u001b[1;33m \u001b[0mprint\u001b[0m\u001b[1;33m(\u001b[0m\u001b[0msq\u001b[0m\u001b[1;33m)\u001b[0m\u001b[1;33m\u001b[0m\u001b[0m\n\u001b[0m",
            "\u001b[1;31mNameError\u001b[0m: name 'sq' is not defined"
          ]
        }
      ]
    },
    {
      "metadata": {
        "id": "YR8IgMEha_Tp",
        "colab_type": "text"
      },
      "cell_type": "markdown",
      "source": [
        "## Implement FLAMES game\n",
        "\n",
        "FlamesGame is a relationship calculating algorithm famous between the youngsters. At the time of graduation everyone might heard about this and many of them tried out this secretly. Some took this as very serious also. So what FLAMES stance for?\n",
        "- F - Friendship\n",
        "- L - Love\n",
        "- A - Affection\n",
        "- M - Marriage\n",
        "- E - Enemy\n",
        "- S - Sister (Sibling)\n",
        "\n",
        "How we can calculate the FLAMES?\n",
        "It is very easy to explain with some example:\n",
        "Your name: asd\n",
        "Partner name: abcd\n",
        "\n",
        "Mainly two steps are there:\n",
        "Get the flames count\n",
        "Take the two names ('asd' and 'abcd')\n",
        "\n",
        "Remove the common characters (two common characters 'a', 'd')\n",
        "\n",
        "Get the count of the characters that are left (Removed a,d and the rest are s,b,c. So total 3.)\n",
        "\n",
        "Get the flames result\n",
        "\n",
        "We take FLAMES letters ('F', 'L', 'A', 'M', 'E', 'S')\n",
        "\n",
        "And start removing letters using the flames count we got.\n",
        "\n",
        "And the letter which last the process is the result.\n",
        "\n",
        "In our example we got flames count = 3. So first we takes FLAMES.\n",
        "\n",
        "FLAMES\n",
        "\n",
        "Then we start count from left up to flames count 3. Then remove the letter which is in the position 3. In this case it is 'A'. So the letters become:\n",
        "\n",
        "FLMES\n",
        "\n",
        "Then we start count again from the letter which is removed ie, from 'M'. So the next character to remove is 'S'. So our letters become:\n",
        "\n",
        "FLME\n",
        "\n",
        "After next step:\n",
        "\n",
        "FLE\n",
        "\n",
        "Then:\n",
        "\n",
        "FE\n",
        "\n",
        "Last:\n",
        "\n",
        "F\n",
        "\n",
        "So the result is 'Friend'.\n",
        "\n",
        "Input:\n",
        "\n",
        "Input contains two lines\n",
        "\n",
        "First line represents name 1\n",
        "\n",
        "Second line represents name 2\n",
        "\n",
        "Output:\n",
        "\n",
        "A single word representing Friend/Love/Affection/Marriage/Enemy/Sister"
      ]
    },
    {
      "metadata": {
        "id": "JrhJTdVDa_Tr",
        "colab_type": "code",
        "colab": {
          "base_uri": "https://localhost:8080/",
          "height": 34
        },
        "outputId": "5b46e097-617e-4f7b-e317-0f8d3626c14a"
      },
      "cell_type": "code",
      "source": [
        "#Write your code here\n",
        "a = list(\"Tanvi\")\n",
        "b = list(\"Dhiraj\")\n",
        "\n",
        "for i in a:\n",
        "    if (i in b):\n",
        "        a.pop(a.index(i));\n",
        "        b.pop(b.index(i));\n",
        "\n",
        "l = int(len(''.join(b))  + len(''.join(a)))\n",
        "\n",
        "f  = ['F','L','A','M','E', 'S']\n",
        "last = 0\n",
        "\n",
        "while (len(f) != 1):   \n",
        "    try:\n",
        "        last = last+l-1\n",
        "        while (last > len(f)):\n",
        "            last-=len(f)\n",
        "        f.pop(last-1)\n",
        "        #print(last)\n",
        "    except:\n",
        "        break\n",
        "          \n",
        "print(f)"
      ],
      "execution_count": 14,
      "outputs": [
        {
          "output_type": "stream",
          "text": [
            "['M']\n"
          ],
          "name": "stdout"
        }
      ]
    },
    {
      "metadata": {
        "id": "m3gQZXr_a_T5",
        "colab_type": "code",
        "colab": {}
      },
      "cell_type": "code",
      "source": [
        ""
      ],
      "execution_count": 0,
      "outputs": []
    },
    {
      "metadata": {
        "id": "dmAkhQR-a_UB",
        "colab_type": "code",
        "colab": {}
      },
      "cell_type": "code",
      "source": [
        ""
      ],
      "execution_count": 0,
      "outputs": []
    }
  ]
}
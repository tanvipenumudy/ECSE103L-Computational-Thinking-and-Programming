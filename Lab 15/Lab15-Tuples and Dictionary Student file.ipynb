{
 "cells": [
  {
   "cell_type": "markdown",
   "metadata": {},
   "source": [
    "# Tuples\n",
    "\n",
    "Tuples are similar to lists with important difference:\n",
    "\n",
    "1. Tuples are immutable, meaning they cannot be changed in place or appended to.\n",
    "2. We can apply slicing in same way as we apply on lists"
   ]
  },
  {
   "cell_type": "markdown",
   "metadata": {},
   "source": [
    "### Syntax\n",
    "\n",
    "tuplename=(list of comma seperated values)\n"
   ]
  },
  {
   "cell_type": "markdown",
   "metadata": {},
   "source": [
    "#### Task 1: Run below code and make some changes to the code"
   ]
  },
  {
   "cell_type": "code",
   "execution_count": null,
   "metadata": {},
   "outputs": [],
   "source": [
    "# creating tuples\n",
    "states=('Madhya Pradesh','Uttar Pradesh','Andhra Pradesh', 'Goa')"
   ]
  },
  {
   "cell_type": "code",
   "execution_count": null,
   "metadata": {
    "scrolled": true
   },
   "outputs": [],
   "source": [
    "print(states)\n",
    "print(states[0])\n",
    "print(states[0:2])\n",
    "print(states[2:])\n",
    "print(states[-3])"
   ]
  },
  {
   "cell_type": "code",
   "execution_count": null,
   "metadata": {
    "scrolled": true
   },
   "outputs": [],
   "source": [
    "# following oprations are not allowed on tuples\n",
    "\n",
    "states[0]='MP'\n"
   ]
  },
  {
   "cell_type": "code",
   "execution_count": null,
   "metadata": {},
   "outputs": [],
   "source": [
    "#Delete a tuple\n",
    "\n",
    "number=(1,2,3,4)\n",
    "print(number)\n",
    "print(\"Deletion of Tuple\")\n",
    "del number\n",
    "print(number)"
   ]
  },
  {
   "cell_type": "markdown",
   "metadata": {
    "collapsed": true
   },
   "source": [
    "#### Program 1: Write a python program for following\n",
    "- Uses the range() function to store all the odd numbers between m and n(inclusive) in a tuple, and print them out.\n",
    "- Take the value of m (should be odd) and n (should be greater then m) from the user."
   ]
  },
  {
   "cell_type": "code",
   "execution_count": null,
   "metadata": {},
   "outputs": [],
   "source": [
    "#Write your code here"
   ]
  },
  {
   "cell_type": "markdown",
   "metadata": {},
   "source": [
    "#### Program 2: Write a python program to make a list of the first ten even numbers using tuple comprehension and display the tuple using for loop."
   ]
  },
  {
   "cell_type": "code",
   "execution_count": null,
   "metadata": {
    "scrolled": true
   },
   "outputs": [],
   "source": [
    "#Write your code here"
   ]
  },
  {
   "cell_type": "markdown",
   "metadata": {},
   "source": [
    "#### Program 3: Write a python program to create a list of 10 random numbers and convert the list into tuple. Display the contents of both list and tuple."
   ]
  },
  {
   "cell_type": "code",
   "execution_count": null,
   "metadata": {},
   "outputs": [],
   "source": [
    "#Write your code here"
   ]
  },
  {
   "cell_type": "markdown",
   "metadata": {},
   "source": [
    "##### Program 4: Write a python program for following \n",
    "- Create a tuple named \"score\" of 10 numbers. \n",
    "- Tuple might contain duplicate values. \n",
    "- Display the count of duplicate values for any given number using count function.\n",
    "- score.count(n)\n",
    "- For example, if the tuple contains (2,1,3,4,2) and we want to know how many times 2 has occured into the tuple, answer should be 2."
   ]
  },
  {
   "cell_type": "code",
   "execution_count": null,
   "metadata": {
    "scrolled": true
   },
   "outputs": [],
   "source": [
    "#Write your code here"
   ]
  },
  {
   "cell_type": "markdown",
   "metadata": {},
   "source": [
    "#### Program 5: Write a Python program\n",
    "- To get the 4th element and last 4th element of a tuple.\n",
    "- To find the repeated items of a tuple.\n",
    "- To check whether an element exists within a tuple.\n",
    "- To slice a tuple.\n",
    "- To find the index of an item of a tuple."
   ]
  },
  {
   "cell_type": "code",
   "execution_count": null,
   "metadata": {},
   "outputs": [],
   "source": [
    "#Write your code here"
   ]
  },
  {
   "cell_type": "markdown",
   "metadata": {},
   "source": [
    "## Dictionary"
   ]
  },
  {
   "cell_type": "markdown",
   "metadata": {},
   "source": [
    "#### Python dictionary is an unordered collection of items. While other compound data types have only value as an element, a dictionary has a key: value pair.\n",
    "\n",
    "#### Dictionaries are optimized to retrieve values when the key is known."
   ]
  },
  {
   "cell_type": "markdown",
   "metadata": {},
   "source": [
    "## Creation of dictionary!\n",
    "\n",
    "#### Creating a dictionary is as simple as placing items inside curly braces {} separated by comma.\n",
    "#### An item has a key and the corresponding value expressed as a pair, key: value.\n",
    "\n",
    "#### While values can be of any data type and can repeat, keys must be of immutable type (string, number or tuple with immutable elements) and must be unique"
   ]
  },
  {
   "cell_type": "code",
   "execution_count": null,
   "metadata": {},
   "outputs": [],
   "source": [
    "# empty dictionary\n",
    "my_dict = {}\n",
    "\n",
    "# dictionary with integer keys\n",
    "my_dict = {1: 'apple', 2: 'ball'}\n",
    "\n",
    "print(my_dict)\n",
    "\n",
    "# dictionary with mixed keys\n",
    "my_dict = {'name': 'John', 1: [2, 4, 3]}\n",
    "\n",
    "print(my_dict)\n",
    "\n",
    "# we can also create a dictionary using the built-in function dict()\n",
    "# using dict()\n",
    "my_dict = dict({1:'apple', 2:'ball'})\n",
    "\n",
    "print(my_dict)\n",
    "\n",
    "# from sequence having each item as a pair\n",
    "my_dict = dict([(1,'apple'), (2,'ball')])\n",
    "\n",
    "print(my_dict)"
   ]
  },
  {
   "cell_type": "markdown",
   "metadata": {},
   "source": [
    "### Accessing the Dictionary element"
   ]
  },
  {
   "cell_type": "code",
   "execution_count": null,
   "metadata": {},
   "outputs": [],
   "source": [
    "my_dict = {'name':'Jack', 'age': 26}\n",
    "\n",
    "print(my_dict['name'])\n",
    "\n",
    "# Using Get Function\n",
    "print(my_dict.get('age'))\n",
    "\n",
    "# Trying to access keys which doesn't exist throws error\n",
    "my_dict.get('address')\n",
    "my_dict['address']"
   ]
  },
  {
   "cell_type": "markdown",
   "metadata": {},
   "source": [
    "### Update the dictionary Items\n",
    "- Dictionary are mutable. We can add new items or change the value of existing items using assignment operator.\n",
    "- If the key is already present, value gets updated, else a new key: value pair is added to the dictionary."
   ]
  },
  {
   "cell_type": "code",
   "execution_count": null,
   "metadata": {},
   "outputs": [],
   "source": [
    "my_dict = {'name':'Jack', 'age': 26}\n",
    "\n",
    "# update value\n",
    "my_dict['age'] = 27\n",
    "\n",
    "print(my_dict)\n",
    "\n",
    "# add item\n",
    "my_dict['address'] = 'Downtown'  \n",
    "\n",
    "print(my_dict)"
   ]
  },
  {
   "cell_type": "markdown",
   "metadata": {},
   "source": [
    "### Delection an elements from a dictionary!\n",
    "- We can remove a particular item in a dictionary by using the method pop(). This method removes as item with the provided key and returns the value.\n",
    "- The method, popitem() can be used to remove and return an arbitrary item (key, value) form the dictionary. All the items can be removed at once using the clear() method.\n",
    "- We can also use the del keyword to remove individual items or the entire dictionary itself."
   ]
  },
  {
   "cell_type": "code",
   "execution_count": null,
   "metadata": {
    "scrolled": true
   },
   "outputs": [],
   "source": [
    "# create a dictionary\n",
    "squares = {1:1, 2:4, 3:9, 4:16, 5:25}  \n",
    "\n",
    "# remove a particular item\n",
    "print(squares.pop(4))  \n",
    "\n",
    "print(squares)\n",
    "\n",
    "# remove an arbitrary item\n",
    "print(squares.popitem())\n",
    "\n",
    "print(squares)\n",
    "\n",
    "# delete a particular item\n",
    "del squares[2]  \n",
    "\n",
    "print(squares)\n",
    "\n",
    "# remove all items\n",
    "squares.clear()\n",
    "\n",
    "print(squares)\n",
    "\n",
    "# delete the dictionary itself\n",
    "del squares\n",
    "\n",
    "print(squares)"
   ]
  },
  {
   "cell_type": "markdown",
   "metadata": {},
   "source": [
    "## Implement FLAMES game\n",
    "\n",
    "FlamesGame is a relationship calculating algorithm famous between the youngsters. At the time of graduation everyone might heard about this and many of them tried out this secretly. Some took this as very serious also. So what FLAMES stance for?\n",
    "- F - Friendship\n",
    "- L - Love\n",
    "- A - Affection\n",
    "- M - Marriage\n",
    "- E - Enemy\n",
    "- S - Sister (Sibling)\n",
    "\n",
    "How we can calculate the FLAMES?\n",
    "It is very easy to explain with some example:\n",
    "Your name: asd\n",
    "Partner name: abcd\n",
    "\n",
    "Mainly two steps are there:\n",
    "Get the flames count\n",
    "Take the two names ('asd' and 'abcd')\n",
    "\n",
    "Remove the common characters (two common characters 'a', 'd')\n",
    "\n",
    "Get the count of the characters that are left (Removed a,d and the rest are s,b,c. So total 3.)\n",
    "\n",
    "Get the flames result\n",
    "\n",
    "We take FLAMES letters ('F', 'L', 'A', 'M', 'E', 'S')\n",
    "\n",
    "And start removing letters using the flames count we got.\n",
    "\n",
    "And the letter which last the process is the result.\n",
    "\n",
    "In our example we got flames count = 3. So first we takes FLAMES.\n",
    "\n",
    "FLAMES\n",
    "\n",
    "Then we start count from left up to flames count 3. Then remove the letter which is in the position 3. In this case it is 'A'. So the letters become:\n",
    "\n",
    "FLMES\n",
    "\n",
    "Then we start count again from the letter which is removed ie, from 'M'. So the next character to remove is 'S'. So our letters become:\n",
    "\n",
    "FLME\n",
    "\n",
    "After next step:\n",
    "\n",
    "FLE\n",
    "\n",
    "Then:\n",
    "\n",
    "FE\n",
    "\n",
    "Last:\n",
    "\n",
    "F\n",
    "\n",
    "So the result is 'Friend'.\n",
    "\n",
    "Input:\n",
    "\n",
    "Input contains two lines\n",
    "\n",
    "First line represents name 1\n",
    "\n",
    "Second line represents name 2\n",
    "\n",
    "Output:\n",
    "\n",
    "A single word representing Friend/Love/Affection/Marriage/Enemy/Sister"
   ]
  },
  {
   "cell_type": "code",
   "execution_count": null,
   "metadata": {},
   "outputs": [],
   "source": [
    "#Write your code here"
   ]
  }
 ],
 "metadata": {
  "kernelspec": {
   "display_name": "Python 3",
   "language": "python",
   "name": "python3"
  },
  "language_info": {
   "codemirror_mode": {
    "name": "ipython",
    "version": 3
   },
   "file_extension": ".py",
   "mimetype": "text/x-python",
   "name": "python",
   "nbconvert_exporter": "python",
   "pygments_lexer": "ipython3",
   "version": "3.6.5"
  }
 },
 "nbformat": 4,
 "nbformat_minor": 2
}

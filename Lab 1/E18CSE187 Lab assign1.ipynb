{
 "cells": [
  {
   "cell_type": "markdown",
   "metadata": {
    "colab_type": "text",
    "id": "HXDCF1BicfN8"
   },
   "source": [
    "# Lab Assignment 1: Introduction to Python"
   ]
  },
  {
   "cell_type": "markdown",
   "metadata": {},
   "source": [
    "## Important Points:\n",
    "### For executing the code of block, press Shift + Enter.\n",
    "### For comment use #."
   ]
  },
  {
   "cell_type": "markdown",
   "metadata": {
    "colab_type": "text",
    "id": "CzYaWy7gcfN-"
   },
   "source": [
    "### Problem 1: Write a program to print  \"HELLO PYTHON !\""
   ]
  },
  {
   "cell_type": "code",
   "execution_count": 2,
   "metadata": {
    "colab": {
     "autoexec": {
      "startup": false,
      "wait_interval": 0
     }
    },
    "colab_type": "code",
    "id": "7sG2pSrdcfN_"
   },
   "outputs": [
    {
     "name": "stdout",
     "output_type": "stream",
     "text": [
      "Hello Python\n"
     ]
    }
   ],
   "source": [
    "print(\"Hello Python\")"
   ]
  },
  {
   "cell_type": "markdown",
   "metadata": {
    "colab_type": "text",
    "id": "ck-2rEF4cfOC"
   },
   "source": [
    "### Problem 2: Write a program to run the below code and try to make some changes such as country name, etc."
   ]
  },
  {
   "cell_type": "code",
   "execution_count": 13,
   "metadata": {
    "colab": {
     "autoexec": {
      "startup": false,
      "wait_interval": 0
     }
    },
    "colab_type": "code",
    "id": "Y0tRnGsQcfOD"
   },
   "outputs": [
    {
     "name": "stdout",
     "output_type": "stream",
     "text": [
      "I am originally from USA\n",
      "I love my country USA\n",
      "I love United States of America\n",
      "My state is : New Jersey\n"
     ]
    }
   ],
   "source": [
    "print('I am originally from USA')\n",
    "print(\"I love my country USA\")\n",
    "print(\"I love \"+ 'United States of America')\n",
    "print(\"My state is : \"+ \"New Jersey\")"
   ]
  },
  {
   "cell_type": "markdown",
   "metadata": {
    "colab_type": "text",
    "id": "FtY6brB4cfOG"
   },
   "source": [
    "### Problem 3:\n",
    "#### Task1: Write a program to run the below code and try to make some changes to the program."
   ]
  },
  {
   "cell_type": "code",
   "execution_count": 16,
   "metadata": {
    "colab": {
     "autoexec": {
      "startup": false,
      "wait_interval": 0
     }
    },
    "colab_type": "code",
    "id": "QJyZcQ3VcfOH"
   },
   "outputs": [
    {
     "name": "stdout",
     "output_type": "stream",
     "text": [
      "I am  USA\n",
      "I love my USA\n",
      "My native state is :  Ohio\n",
      "Tanvi is 16 year old\n",
      "Warm Welcome!!\n"
     ]
    }
   ],
   "source": [
    "Country='USA'\n",
    "state=\"Ohio\"\n",
    "age=16\n",
    "name=\"Tanvi\"\n",
    "\n",
    "print('I am ', Country)\n",
    "print('I love my '+ Country)\n",
    "print(\"My native state is : \",state)\n",
    "\n",
    "print(name, 'is', age, 'year old')\n",
    "print(\"Warm Welcome!!\")"
   ]
  },
  {
   "cell_type": "markdown",
   "metadata": {
    "colab_type": "text",
    "id": "2w4vNRIrcfOK"
   },
   "source": [
    "#### Task2: Write a program to display your infomation like (full name, branch, university name, Age, 12th %, hobbies). Store each value into some meaningful variable.  The ouptput of the program should look like:"
   ]
  },
  {
   "cell_type": "raw",
   "metadata": {
    "colab_type": "raw",
    "id": "hnveJccYcfOL"
   },
   "source": [
    "My name is :\n",
    "I am in CSE branch at Bennett University : \n",
    "I am 18 year old : \n",
    "My Higehr Secondary % is :\n",
    "My hobbies are : "
   ]
  },
  {
   "cell_type": "code",
   "execution_count": 5,
   "metadata": {
    "colab": {
     "autoexec": {
      "startup": false,
      "wait_interval": 0
     }
    },
    "colab_type": "code",
    "id": "eGTWJHDicfOM"
   },
   "outputs": [
    {
     "name": "stdout",
     "output_type": "stream",
     "text": [
      "My name is Tanvi\n",
      "I am CSE batch number 6 at Bennett\n",
      "I am 18 years old\n",
      "My higher secondary score is 97.5%\n",
      "My hobbies are Music, Art and dance\n"
     ]
    }
   ],
   "source": [
    "name=(\"My name is Tanvi\")\n",
    "print(name)\n",
    "batch_number=(\"I am CSE batch number 6 at Bennett\")\n",
    "print(batch_number)\n",
    "age=(\"I am 18 years old\")\n",
    "print(age)\n",
    "score=(\"My higher secondary score is 97.5%\")\n",
    "print(score)\n",
    "hobbies=(\"My hobbies are Music, Art and dance\")\n",
    "print(hobbies)"
   ]
  },
  {
   "cell_type": "markdown",
   "metadata": {
    "colab_type": "text",
    "id": "vclGyZbZcfOP"
   },
   "source": [
    "### Problem 4: Write a program to perform arithmetic operations (Addition, Subtraction, Multiplication, Division) on two integer numbers. The output of the program should look like:"
   ]
  },
  {
   "cell_type": "raw",
   "metadata": {
    "colab_type": "raw",
    "id": "JWXZHrlwcfOQ"
   },
   "source": [
    "First number =  \n",
    "Second number = \n",
    "Addition :  \n",
    "Subtraction :  \n",
    "Multiplication :  \n",
    "Division :  "
   ]
  },
  {
   "cell_type": "code",
   "execution_count": 10,
   "metadata": {
    "colab": {
     "autoexec": {
      "startup": false,
      "wait_interval": 0
     }
    },
    "colab_type": "code",
    "id": "wArpl58_cfOQ"
   },
   "outputs": [
    {
     "name": "stdout",
     "output_type": "stream",
     "text": [
      "Enter the first number20\n",
      "Enter the second number10\n",
      "First number= 20\n",
      "second number= 10\n",
      "addition= 30\n",
      "subtraction= 10\n",
      "multiplication= 200\n",
      "division= 2.0\n"
     ]
    }
   ],
   "source": [
    "number1=int(input(\"Enter the first number\"))\n",
    "number2=int(input(\"Enter the second number\"))\n",
    "print(\"First number=\",number1)\n",
    "print(\"second number=\",number2)\n",
    "a=number1+number2\n",
    "b=number1-number2\n",
    "c=number1*number2\n",
    "d=number1/number2\n",
    "print(\"addition=\",a)\n",
    "print(\"subtraction=\",b)\n",
    "print(\"multiplication=\",c)\n",
    "print(\"division=\",d)\n",
    "\n",
    "\n"
   ]
  },
  {
   "cell_type": "markdown",
   "metadata": {
    "colab_type": "text",
    "id": "P07eBi4KcfOU"
   },
   "source": [
    "### Problem 5: Write a run the below code."
   ]
  },
  {
   "cell_type": "code",
   "execution_count": 1,
   "metadata": {
    "colab": {
     "autoexec": {
      "startup": false,
      "wait_interval": 0
     }
    },
    "colab_type": "code",
    "id": "xLI1U8RJcfOU"
   },
   "outputs": [
    {
     "name": "stdout",
     "output_type": "stream",
     "text": [
      "Enter your first name: Tanvi\n",
      "Enter your second name: Penumudy\n",
      "Enter your semester: First\n",
      "Hello friends my name is  Tanvi Penumudy  and I am in  First semester\n"
     ]
    }
   ],
   "source": [
    "firstname=input(\"Enter your first name: \")\n",
    "lastname=input(\"Enter your second name: \")\n",
    "semester=input(\"Enter your semester: \")\n",
    "fullname=firstname + \" \" +lastname\n",
    "print(\"Hello friends my name is \",fullname, \" and I am in \", semester, \"semester\")"
   ]
  },
  {
   "cell_type": "markdown",
   "metadata": {
    "colab_type": "text",
    "id": "AJSWrElpcfOZ"
   },
   "source": [
    "### Problem 6 : Write a program to swap the contents of two variables using third variable. The output of the program should look like:"
   ]
  },
  {
   "cell_type": "raw",
   "metadata": {
    "colab_type": "raw",
    "id": "fVL5tp7XcfOa"
   },
   "source": [
    "Before swapping:\n",
    "First Value: 90\n",
    "Second Value: 10\n",
    "\n",
    "After swapping:\n",
    "First Value: 10\n",
    "Second Value: 90"
   ]
  },
  {
   "cell_type": "code",
   "execution_count": 15,
   "metadata": {
    "colab": {
     "autoexec": {
      "startup": false,
      "wait_interval": 0
     }
    },
    "colab_type": "code",
    "id": "u04a0hQXcfOa"
   },
   "outputs": [
    {
     "name": "stdout",
     "output_type": "stream",
     "text": [
      "Before swapping\n",
      "First value= 90\n",
      "Second Value 10\n",
      "After Swapping\n",
      "First Value= 10\n",
      "Second Value= 90\n"
     ]
    }
   ],
   "source": [
    "a=90\n",
    "b=10\n",
    "# write your code after this line ...\n",
    "print(\"Before swapping\")\n",
    "print(\"First value=\",a)\n",
    "print(\"Second Value\",b)\n",
    "print(\"After Swapping\")\n",
    "c=a\n",
    "a=b\n",
    "b=c\n",
    "print(\"First Value=\",a)\n",
    "print(\"Second Value=\",c)\n",
    "\n"
   ]
  },
  {
   "cell_type": "markdown",
   "metadata": {
    "colab_type": "text",
    "id": "ei6J38xOcfOd"
   },
   "source": [
    "### Problem 7 : The wheel of a bullock cart has a radius of 6 m. If the wheel rotates once, write a program to determine how much distance does the cart move?"
   ]
  },
  {
   "cell_type": "code",
   "execution_count": 4,
   "metadata": {
    "colab": {
     "autoexec": {
      "startup": false,
      "wait_interval": 0
     }
    },
    "colab_type": "code",
    "id": "EJWEn5P4cfOd"
   },
   "outputs": [
    {
     "name": "stdout",
     "output_type": "stream",
     "text": [
      "The distance travelled by the cart when the wheel rotates once is=  37.68\n"
     ]
    }
   ],
   "source": [
    "# write your code after this line\n",
    "radius=6\n",
    "pi=3.14\n",
    "distance=2*pi*radius\n",
    "print(\"The distance travelled by the cart when the wheel rotates once is= \",distance)\n"
   ]
  },
  {
   "cell_type": "markdown",
   "metadata": {
    "colab_type": "text",
    "id": "WqpIS574cfOf"
   },
   "source": [
    "### Problem 8 : Write a program to evaluate the expression: 5x^2 + 10x + 5 and print the result. Take x=10, x=20, x=15"
   ]
  },
  {
   "cell_type": "code",
   "execution_count": 9,
   "metadata": {
    "colab": {
     "autoexec": {
      "startup": false,
      "wait_interval": 0
     }
    },
    "colab_type": "code",
    "id": "7j5pPawrcfOg"
   },
   "outputs": [
    {
     "name": "stdout",
     "output_type": "stream",
     "text": [
      "605\n",
      "2205\n",
      "1280\n"
     ]
    }
   ],
   "source": [
    "# write your code after this line\n",
    "x=10\n",
    "operation1=5*x**2+10*x+5\n",
    "print(operation1)\n",
    "y=20\n",
    "operation2=5*y**2+10*y+5\n",
    "print(operation2)\n",
    "z=15\n",
    "operation3=5*z**2+10*z+5\n",
    "print(operation3)\n",
    "\n",
    "\n"
   ]
  },
  {
   "cell_type": "markdown",
   "metadata": {
    "colab_type": "text",
    "id": "bYbNt3tQcfOj"
   },
   "source": [
    "### Problem 9 : Assume Sachin’s basic salary is 10 Lakh. His dearness allowance(DA) is 40% of basic salary, and house rent allowance(HRA) is 20% of basic salary. Write a program to calculate his gross salary."
   ]
  },
  {
   "cell_type": "code",
   "execution_count": 11,
   "metadata": {
    "colab": {
     "autoexec": {
      "startup": false,
      "wait_interval": 0
     }
    },
    "colab_type": "code",
    "id": "qGVyJALqcfOk"
   },
   "outputs": [
    {
     "name": "stdout",
     "output_type": "stream",
     "text": [
      "Net gross is= 1600000.0\n"
     ]
    }
   ],
   "source": [
    "# write your code after this line\n",
    "salary=1000000\n",
    "DA=40/100*salary\n",
    "HRA=20/100*salary\n",
    "net=salary+DA+HRA\n",
    "print(\"Net gross is=\",net)\n"
   ]
  },
  {
   "cell_type": "markdown",
   "metadata": {
    "colab_type": "text",
    "id": "Gi9VMcjCcfOm"
   },
   "source": [
    "### Problem 10 : A cashier has currency notes of denominations 10, 50 and 100. Take an Input of a number for withdraw amount. Find the total number of currency notes of each denomination the cashier will have to give to the withdrawer. The output of the program should look like. Take some exmple to test your program."
   ]
  },
  {
   "cell_type": "raw",
   "metadata": {
    "colab_type": "raw",
    "id": "O_9_5QmTcfOn"
   },
   "source": [
    "Enter amount to be withdrawn: 170\n",
    "100 rupees note:1\n",
    "50 rupees note:1\n",
    "10 rupes note:2"
   ]
  },
  {
   "cell_type": "code",
   "execution_count": 13,
   "metadata": {
    "colab": {
     "autoexec": {
      "startup": false,
      "wait_interval": 0
     }
    },
    "colab_type": "code",
    "id": "7qAlMz35cfOo"
   },
   "outputs": [
    {
     "name": "stdout",
     "output_type": "stream",
     "text": [
      "enter the amount to be withdrawn=370\n",
      "100 rupees notes= 3\n",
      "50 rupees notes 1\n",
      "10 rupees notes 2\n"
     ]
    }
   ],
   "source": [
    "# write your code after this line\n",
    "x=int(input(\"enter the amount to be withdrawn=\"))\n",
    "a=x//100\n",
    "x=x%100\n",
    "b=x//50\n",
    "x=x%50\n",
    "c=x//10\n",
    "print (\"100 rupees notes=\",a)\n",
    "print(\"50 rupees notes\",b)\n",
    "print(\"10 rupees notes\",c)\n",
    "\n",
    "\n",
    "\n",
    "\n"
   ]
  },
  {
   "cell_type": "code",
   "execution_count": null,
   "metadata": {},
   "outputs": [],
   "source": []
  }
 ],
 "metadata": {
  "colab": {
   "default_view": {},
   "name": "Lab1 Notebook.ipynb",
   "provenance": [],
   "version": "0.3.2",
   "views": {}
  },
  "kernelspec": {
   "display_name": "Python 3",
   "language": "python",
   "name": "python3"
  },
  "language_info": {
   "codemirror_mode": {
    "name": "ipython",
    "version": 3
   },
   "file_extension": ".py",
   "mimetype": "text/x-python",
   "name": "python",
   "nbconvert_exporter": "python",
   "pygments_lexer": "ipython3",
   "version": "3.6.5"
  }
 },
 "nbformat": 4,
 "nbformat_minor": 1
}

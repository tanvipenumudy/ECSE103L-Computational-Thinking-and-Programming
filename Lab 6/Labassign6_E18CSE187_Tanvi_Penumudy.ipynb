{
 "cells": [
  {
   "cell_type": "markdown",
   "metadata": {},
   "source": [
    "# Student Name: Tanvi Penumudy\n",
    "# Enrollment Number: E18CSE187\n",
    "# Lab assignemnt number: 6"
   ]
  },
  {
   "cell_type": "markdown",
   "metadata": {},
   "source": [
    "## For Loop\n",
    "### Indentation (Spacing) is neccessay for writing the code inside the loop."
   ]
  },
  {
   "cell_type": "markdown",
   "metadata": {},
   "source": [
    "#### Syntax of \"for loop\""
   ]
  },
  {
   "cell_type": "raw",
   "metadata": {
    "collapsed": true
   },
   "source": [
    "for iterable_var_name in range(terminating_value):\n",
    "    stmt 1\n",
    "    stmt 2\n",
    "    ...\n",
    "\n",
    "#with initializations\n",
    "for iterable_var_name in range(initial_value,terminating_value):\n",
    "    stmt 1\n",
    "    stmt 2\n",
    "    ...\n",
    "    \n",
    "# with initialization and updation (increment/decrement)\n",
    "for iterable_var_name in range(initial_value,terminating_value,updation):\n",
    "    stmt 1\n",
    "    stmt 2\n",
    "    ..."
   ]
  },
  {
   "cell_type": "markdown",
   "metadata": {},
   "source": [
    "### 1 Write a program in Python to find the sum of 5 numbers entered by the user using a for loop."
   ]
  },
  {
   "cell_type": "code",
   "execution_count": 2,
   "metadata": {},
   "outputs": [
    {
     "name": "stdout",
     "output_type": "stream",
     "text": [
      "Enter any number of your choice:2\n",
      "Enter any number of your choice:4\n",
      "Enter any number of your choice:6\n",
      "Enter any number of your choice:1\n",
      "Enter any number of your choice:0\n",
      "13\n"
     ]
    }
   ],
   "source": [
    "# Write your code here\n",
    "sum=0\n",
    "for i in range(1,6):\n",
    "    i=int(input(\"Enter any number of your choice:\"))\n",
    "    sum=sum+i\n",
    "print(sum)"
   ]
  },
  {
   "cell_type": "markdown",
   "metadata": {},
   "source": [
    "### 2 Write a program in Python to get 10 numbers from user using a for loop. The program should print the count of positive numbers, negative numbers and zeroes entered by the user."
   ]
  },
  {
   "cell_type": "code",
   "execution_count": 19,
   "metadata": {},
   "outputs": [
    {
     "name": "stdout",
     "output_type": "stream",
     "text": [
      "Enter any ten numbers of your choice:\n",
      "1\n",
      "-23455\n",
      "0\n",
      "2\n",
      "789\n",
      "-56 \n",
      "0\n",
      "56\n",
      "-30\n",
      "234\n",
      "The count of positive numbers is: 5\n",
      "The count of negative numbers is: 3\n",
      "The count of zeroes is: 2\n"
     ]
    }
   ],
   "source": [
    "#Write your code\n",
    "positive=0\n",
    "negative=0\n",
    "zero=0\n",
    "print(\"Enter any ten numbers of your choice:\")\n",
    "for i in range(1,11,1):\n",
    "    i=int(input())\n",
    "    if(i>0):\n",
    "        positive=positive+1#or positive+=1\n",
    "    elif(i<0):\n",
    "        negative+=1\n",
    "    else:\n",
    "        zero+=1\n",
    "print(\"The count of positive numbers is:\",positive)\n",
    "print(\"The count of negative numbers is:\",negative)\n",
    "print(\"The count of zeroes is:\",zero)\n",
    "\n"
   ]
  },
  {
   "cell_type": "markdown",
   "metadata": {},
   "source": [
    "##### 3 Write a program in Python to find the sum of the series 1+3+5+7+…upto 31 using for loop."
   ]
  },
  {
   "cell_type": "code",
   "execution_count": 20,
   "metadata": {},
   "outputs": [
    {
     "name": "stdout",
     "output_type": "stream",
     "text": [
      "The sum of the series 1+3+5+7.....31 is: 225\n"
     ]
    }
   ],
   "source": [
    "#Write your code\n",
    "sum=0\n",
    "for i in range(1,31,2):\n",
    "    sum=sum+i\n",
    "print(\"The sum of the series 1+3+5+7.....31 is:\",sum)"
   ]
  },
  {
   "cell_type": "markdown",
   "metadata": {},
   "source": [
    "### 4 Write a program in Python to find the product of n numbers entered by the user using a for loop."
   ]
  },
  {
   "cell_type": "code",
   "execution_count": 23,
   "metadata": {
    "scrolled": true
   },
   "outputs": [
    {
     "name": "stdout",
     "output_type": "stream",
     "text": [
      "Enter the number of integers that you want to multiply:3\n",
      "Enter the numbers of your choice:\n",
      "2\n",
      "3\n",
      "6\n",
      "The product of the input numbers is: 36\n"
     ]
    }
   ],
   "source": [
    "#Write your code\n",
    "product=1\n",
    "a=int(input(\"Enter the number of integers that you want to multiply:\"))\n",
    "print(\"Enter the numbers of your choice:\")\n",
    "for i in range(1,a+1,1):\n",
    "    i=int(input())\n",
    "    product=product*i\n",
    "print(\"The product of the input numbers is:\",product)"
   ]
  },
  {
   "cell_type": "markdown",
   "metadata": {},
   "source": [
    "### 5 Write a program in Python to find the factorial of an integer number entered by the user using a for loop. "
   ]
  },
  {
   "cell_type": "raw",
   "metadata": {},
   "source": [
    "N!= N*(N-1)*(N-2)*….3*2*1."
   ]
  },
  {
   "cell_type": "code",
   "execution_count": 6,
   "metadata": {
    "scrolled": true
   },
   "outputs": [
    {
     "name": "stdout",
     "output_type": "stream",
     "text": [
      "Enter any integer:5\n",
      "5 != 120\n"
     ]
    }
   ],
   "source": [
    "#Write your code\n",
    "p=1\n",
    "number=int(input(\"Enter any integer:\"))\n",
    "for i in range(1,number+1,1):\n",
    "    p=p*i\n",
    "print(number,'!=',p)\n",
    "    \n",
    "    \n"
   ]
  },
  {
   "cell_type": "markdown",
   "metadata": {},
   "source": [
    "### 6 Write a program in Python to find the sum of the series using a for loop:\n",
    "\n",
    "1! + 2! + 3! + ….+ n!."
   ]
  },
  {
   "cell_type": "code",
   "execution_count": 8,
   "metadata": {
    "scrolled": true
   },
   "outputs": [
    {
     "name": "stdout",
     "output_type": "stream",
     "text": [
      "Enter any integer:3\n",
      "The sum of the sequence: 9\n"
     ]
    }
   ],
   "source": [
    "#Write your code\n",
    "s=0\n",
    "p=1\n",
    "number=int(input(\"Enter any integer:\"))\n",
    "for i in range(1,number+1,1):\n",
    "    p=p*i\n",
    "    s=s+p\n",
    "print(\"The sum of the sequence:\",s)\n",
    "#or else we can use for i in range(1,n+1):\n",
    "#sum+=math.factorial(i)"
   ]
  },
  {
   "cell_type": "markdown",
   "metadata": {},
   "source": [
    "### 7 Write a program in Python to compute the natural logarithm of 2 using a for loop, by adding upto n terms in the series: 1-1/2+1/3-1/4+…..1/n where n is a positive number entered by the user.\n"
   ]
  },
  {
   "cell_type": "code",
   "execution_count": 18,
   "metadata": {},
   "outputs": [
    {
     "name": "stdout",
     "output_type": "stream",
     "text": [
      "Enter any number of your choice:2\n",
      "Sum of the series= 0.5\n"
     ]
    }
   ],
   "source": [
    "#method II\n",
    "sum=0\n",
    "n=int(input(\"Enter any number of your choice:\"))\n",
    "for x in range(1,n+1,1):\n",
    "    if(x%2!=0):\n",
    "        sum=sum+1/x\n",
    "    else:\n",
    "        sum=sum-1/x\n",
    "print(\"Sum of the series=\",sum)"
   ]
  },
  {
   "cell_type": "markdown",
   "metadata": {},
   "source": [
    "### 8 Write a program in Python to print all numbers from 0 to 9 except 3 and 6 using a for loop. "
   ]
  },
  {
   "cell_type": "code",
   "execution_count": 4,
   "metadata": {},
   "outputs": [
    {
     "name": "stdout",
     "output_type": "stream",
     "text": [
      "0\n",
      "1\n",
      "2\n",
      "4\n",
      "5\n",
      "7\n",
      "8\n",
      "9\n",
      "0\n",
      "1\n",
      "2\n",
      "4\n",
      "5\n",
      "7\n",
      "8\n",
      "9\n"
     ]
    }
   ],
   "source": [
    "#Write your code\n",
    "for a in range(10):\n",
    "    if(a!=3 and a!=6):\n",
    "        print(a)\n"
   ]
  },
  {
   "cell_type": "markdown",
   "metadata": {},
   "source": [
    "### 9 Write a program in Python that allows user to input maximum 5 numbers using a while loop. The program should print the product when either a negative number is entered by user or 5 positive numbers have been entered."
   ]
  },
  {
   "cell_type": "code",
   "execution_count": 1,
   "metadata": {
    "scrolled": true
   },
   "outputs": [
    {
     "name": "stdout",
     "output_type": "stream",
     "text": [
      "Enter the number with the maximum being 5 numbers:\n",
      "Enter the number with the maximum being 5 numbers:\n",
      "Enter the number with the maximum being 5 numbers:\n",
      "Enter the number with the maximum being 5 numbers:\n",
      "Enter the number with the maximum being 5 numbers:\n",
      "Enter the number with the maximum being 5 numbers:\n",
      "Enter the number with the maximum being 5 numbers:\n",
      "Enter the number with the maximum being 5 numbers:\n",
      "Enter the number with the maximum being 5 numbers:\n",
      "Enter the number with the maximum being 5 numbers:\n",
      "Enter the number with the maximum being 5 numbers:\n",
      "Enter the number with the maximum being 5 numbers:\n",
      "Enter the number with the maximum being 5 numbers:\n",
      "4\n",
      "5\n",
      "7\n",
      "8\n",
      "1\n",
      "Product= 1120\n",
      "Product= 1120\n",
      "Product= 1120\n",
      "Product= 1120\n",
      "Product= 1120\n",
      "Product= 1120\n",
      "Product= 1120\n",
      "Product= 1120\n",
      "Product= 1120\n",
      "Product= 1120\n",
      "Product= 1120\n",
      "Product= 1120\n",
      "Product= 1120\n"
     ]
    }
   ],
   "source": [
    "#Write your code\n",
    "p=1\n",
    "i=5\n",
    "print(\"Enter the number with the maximum being 5 numbers:\")\n",
    "while(i>0):\n",
    "    x=int(input())\n",
    "    if(x<0):\n",
    "        break\n",
    "    else:\n",
    "        p=p*x\n",
    "        i-=1\n",
    "print(\"Product=\",p)"
   ]
  },
  {
   "cell_type": "markdown",
   "metadata": {},
   "source": [
    "### 10 Write a program in Python to input marks in 3 subjects for 3 students using nested for loop and print the total marks of each student."
   ]
  },
  {
   "cell_type": "code",
   "execution_count": 3,
   "metadata": {},
   "outputs": [
    {
     "name": "stdout",
     "output_type": "stream",
     "text": [
      "Enter marks:200\n",
      "Enter marks:100\n",
      "Enter marks:100\n",
      "Marks: 400\n",
      "Marks: 400\n",
      "Marks: 400\n",
      "Marks: 400\n",
      "Marks: 400\n",
      "Marks: 400\n",
      "Marks: 400\n",
      "Marks: 400\n",
      "Marks: 400\n",
      "Marks: 400\n",
      "Marks: 400\n",
      "Marks: 400\n",
      "Marks: 400\n"
     ]
    }
   ],
   "source": [
    "#Write your code\n",
    "sum=0\n",
    "for i in range(1,4,1):\n",
    "    a=int(input(\"Enter marks:\"))\n",
    "    sum=sum+a\n",
    "print(\"Marks:\",sum)\n"
   ]
  },
  {
   "cell_type": "markdown",
   "metadata": {},
   "source": [
    "### 11 Write a program in Python to check whether the number input by the user is a prime number or not. A number is prime if it is divisible by 1 and itself.\n",
    "For example, 2,3,5,7,11…."
   ]
  },
  {
   "cell_type": "code",
   "execution_count": 2,
   "metadata": {
    "scrolled": true
   },
   "outputs": [
    {
     "name": "stdout",
     "output_type": "stream",
     "text": [
      "29\n",
      "Prime\n",
      "Prime\n",
      "Prime\n",
      "Prime\n",
      "Prime\n",
      "Prime\n",
      "Prime\n",
      "Prime\n",
      "Prime\n",
      "Prime\n",
      "Prime\n",
      "Prime\n",
      "Prime\n"
     ]
    }
   ],
   "source": [
    "#Write your code\n",
    "temp=True\n",
    "n=int(input())\n",
    "for i in range(2,n):\n",
    "    if(n%i==0):\n",
    "        temp=False\n",
    "        break\n",
    "if(temp):\n",
    "    print(\"Prime\")\n",
    "else:\n",
    "    print(\"Not Prime\")"
   ]
  },
  {
   "cell_type": "markdown",
   "metadata": {},
   "source": [
    "## Optional questions:"
   ]
  },
  {
   "cell_type": "markdown",
   "metadata": {},
   "source": [
    "### 12 Write a program in Python to find the sum of the series: 1+x+x2+x3+….upto n terms using a for loop. The integer values of x and n are to be entered by the user."
   ]
  },
  {
   "cell_type": "code",
   "execution_count": 13,
   "metadata": {},
   "outputs": [],
   "source": [
    "#Write your code"
   ]
  },
  {
   "cell_type": "markdown",
   "metadata": {},
   "source": [
    "### 13 Write a program in Python to print the square of 1st n natural numbers where n<10 using a for loop. The program should also print the sum of all squares."
   ]
  },
  {
   "cell_type": "code",
   "execution_count": 14,
   "metadata": {
    "scrolled": true
   },
   "outputs": [],
   "source": [
    "#Write your code"
   ]
  },
  {
   "cell_type": "markdown",
   "metadata": {},
   "source": [
    "### 14 Write a program in Python to print all factors of a number using a for loop."
   ]
  },
  {
   "cell_type": "code",
   "execution_count": 15,
   "metadata": {
    "scrolled": true
   },
   "outputs": [],
   "source": [
    "#Write your code"
   ]
  },
  {
   "cell_type": "markdown",
   "metadata": {},
   "source": [
    "### 15 Write a program in Python to generate all prime numbers between m and n input by the user.\n",
    "m,n both are inclusive."
   ]
  },
  {
   "cell_type": "code",
   "execution_count": 16,
   "metadata": {},
   "outputs": [],
   "source": [
    "#Write your code"
   ]
  },
  {
   "cell_type": "markdown",
   "metadata": {},
   "source": [
    "### 16 Write a program in Python to evaluate following series using for loop:\n",
    "\n",
    "    x + 3x + 5x + 7x + 9x + 11x+....upto n terms"
   ]
  },
  {
   "cell_type": "code",
   "execution_count": 17,
   "metadata": {
    "scrolled": true
   },
   "outputs": [],
   "source": [
    "#Write your code"
   ]
  },
  {
   "cell_type": "markdown",
   "metadata": {},
   "source": [
    "### 17 Write a program in Python to print out all Armstrong numbers between 1 and 500. \n",
    "Armstrong Number: If sum of cubes of each digit of the number is equal to the number itself, then the number is called an Armstrong number."
   ]
  },
  {
   "cell_type": "raw",
   "metadata": {},
   "source": [
    "For example, 153 = ( 1 * 1 * 1 ) + ( 5 * 5 * 5 ) + ( 3 * 3 * 3 )"
   ]
  },
  {
   "cell_type": "code",
   "execution_count": 18,
   "metadata": {},
   "outputs": [],
   "source": [
    "#Write your code"
   ]
  }
 ],
 "metadata": {
  "kernelspec": {
   "display_name": "Python 3",
   "language": "python",
   "name": "python3"
  },
  "language_info": {
   "codemirror_mode": {
    "name": "ipython",
    "version": 3
   },
   "file_extension": ".py",
   "mimetype": "text/x-python",
   "name": "python",
   "nbconvert_exporter": "python",
   "pygments_lexer": "ipython3",
   "version": "3.6.5"
  }
 },
 "nbformat": 4,
 "nbformat_minor": 2
}

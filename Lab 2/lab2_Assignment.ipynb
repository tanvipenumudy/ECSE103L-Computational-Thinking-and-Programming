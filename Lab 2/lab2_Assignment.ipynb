{
 "cells": [
  {
   "cell_type": "markdown",
   "metadata": {},
   "source": [
    "# Student Name: \n",
    "# Enrollment Number: \n",
    "# Lab assignemnt number:"
   ]
  },
  {
   "cell_type": "markdown",
   "metadata": {},
   "source": [
    "## Lab 2 : Output Statements, Assignment Statements, Data Types"
   ]
  },
  {
   "cell_type": "markdown",
   "metadata": {},
   "source": [
    "## Compulsory Questions"
   ]
  },
  {
   "cell_type": "markdown",
   "metadata": {
    "colab_type": "text",
    "id": "CzYaWy7gcfN-"
   },
   "source": [
    "### 1.\tConsider the following program in Python which stores following information about your mobile phone: the model and its OS type (Android, Windows, Apple), internal storage (in GB), camera resolution (in pixel). Store as ‘True’ if it is water-proof and as ‘False’ if it not water-proof. Change different values and execute the program"
   ]
  },
  {
   "cell_type": "code",
   "execution_count": null,
   "metadata": {},
   "outputs": [],
   "source": [
    "Name='Diya'\n",
    "Type='Android'\n",
    "storage=32\n",
    "Camera_resolution=16\n",
    "water_proof=True\n",
    "\n",
    "\n",
    "print(Name,' uses',Type,'phone','\\nPhone details are:\\n')\n",
    "print('Internal Storage',storage,'GB')\n",
    "print('Camera resolution',Camera_resolution)\n",
    "\n",
    "print('\\nWater proof:',water_proof)"
   ]
  },
  {
   "cell_type": "markdown",
   "metadata": {
    "colab_type": "text",
    "id": "ck-2rEF4cfOC"
   },
   "source": [
    "### 2 Write a program in Python to get the type of each variable of problem1."
   ]
  },
  {
   "cell_type": "code",
   "execution_count": null,
   "metadata": {
    "colab": {
     "autoexec": {
      "startup": false,
      "wait_interval": 0
     }
    },
    "colab_type": "code",
    "id": "Y0tRnGsQcfOD",
    "scrolled": false
   },
   "outputs": [],
   "source": [
    "print(type(Name))\n",
    "print(type(Type))\n",
    "#write code for other 3 variables here\n"
   ]
  },
  {
   "cell_type": "markdown",
   "metadata": {},
   "source": [
    "### 3 Write a program in Python for data type conversion from: \n",
    "- int to string\n",
    "- int to float\n",
    "- string to int\n",
    "- string to float\n",
    "- float to int\n",
    "- float to string"
   ]
  },
  {
   "cell_type": "code",
   "execution_count": null,
   "metadata": {},
   "outputs": [],
   "source": [
    "a=10\n",
    "print(str(a))\n",
    "print(float(a))\n",
    "\n",
    "b='20'\n",
    "print(int(b))\n",
    "print(float(b))\n",
    "\n",
    "c=23.56\n",
    "#write code here to convert float into integer\n",
    "#write code here to convert float into string\n",
    "\n"
   ]
  },
  {
   "cell_type": "markdown",
   "metadata": {},
   "source": [
    "### 4.\tWrite a program in Python to round off the value of a number. Take new variables with different values and execute the program. "
   ]
  },
  {
   "cell_type": "code",
   "execution_count": null,
   "metadata": {},
   "outputs": [],
   "source": [
    "n=156.6\n",
    "round(n)"
   ]
  },
  {
   "cell_type": "markdown",
   "metadata": {},
   "source": [
    "### 5 Execute the following program in Pyhton to find the value of a number with two digits after decimal. Declare new floating-point variables and print with different number of digits after decimal."
   ]
  },
  {
   "cell_type": "code",
   "execution_count": null,
   "metadata": {
    "scrolled": true
   },
   "outputs": [],
   "source": [
    "n=13.8916\n",
    "print(format(n,'0.2f'))"
   ]
  },
  {
   "cell_type": "markdown",
   "metadata": {},
   "source": [
    "### 6 Excecute the following program in Python to place a comma on thousand places of a number."
   ]
  },
  {
   "cell_type": "code",
   "execution_count": null,
   "metadata": {
    "scrolled": true
   },
   "outputs": [],
   "source": [
    "n=87495\n",
    "print(format(n,','))\n",
    "n1=23890\n",
    "#write code here for n1"
   ]
  },
  {
   "cell_type": "markdown",
   "metadata": {},
   "source": [
    "### 7 Execute the following program in Python to justify the value of a number (right, left, center) in 20 chars with one digit accuracy. Use format() to print value of variable z right justify in 10 chars with 2 digit accuracy."
   ]
  },
  {
   "cell_type": "code",
   "execution_count": null,
   "metadata": {},
   "outputs": [],
   "source": [
    "x=15246.59\n",
    "y=14.156\n",
    "print(format(x,'>20.1f'))\n",
    "print(format(y,'>20.1f'))\n",
    "\n",
    "print(format(x,'<20.1f'))\n",
    "print(format(y,'<20.1f'))\n",
    "\n",
    "print(format(x,'^20.1f'))\n",
    "print(format(y,'^20.1f'))\n",
    "z=20.745\n",
    "#write your code here"
   ]
  },
  {
   "cell_type": "markdown",
   "metadata": {},
   "source": [
    "### 8 Execute the following program in Python to left, right and centered justify a string. Use width, w=10 and print again."
   ]
  },
  {
   "cell_type": "code",
   "execution_count": null,
   "metadata": {},
   "outputs": [],
   "source": [
    "word='Hello'\n",
    "print(word.ljust(20))\n",
    "print(word.rjust(20))\n",
    "print(word.center(20))\n",
    "w=10"
   ]
  },
  {
   "cell_type": "markdown",
   "metadata": {},
   "source": [
    "### 9\tWrite a program in Python to take a number from user and find its square root."
   ]
  },
  {
   "cell_type": "code",
   "execution_count": null,
   "metadata": {
    "colab_type": "raw",
    "id": "JWXZHrlwcfOQ"
   },
   "outputs": [],
   "source": [
    "import math\n",
    "n=int(input('Enter an integer number:'))\n",
    "print('Square root of',n,'is: ',math.sqrt(n))"
   ]
  },
  {
   "cell_type": "markdown",
   "metadata": {
    "colab_type": "text",
    "id": "vclGyZbZcfOP"
   },
   "source": [
    "###  10 Write a program in Python to take a number from user display its binary, hex and octal equivalent."
   ]
  },
  {
   "cell_type": "code",
   "execution_count": null,
   "metadata": {
    "colab_type": "raw",
    "id": "JWXZHrlwcfOQ"
   },
   "outputs": [],
   "source": [
    "import math\n",
    "n=int(input('Enter an integer number:'))\n",
    "print('Square root of',n,'is: ',bin(n))\n",
    "print('Square root of',n,'is: ',oct(n))\n",
    "print('Square root of',n,'is: ',hex(n))\n"
   ]
  },
  {
   "cell_type": "markdown",
   "metadata": {},
   "source": [
    "### 11 Write a program in Python to find binary, octal and hexadecimal of a number surpassing 0b in binary, 0o in octal, and 0x in hexadecimal."
   ]
  },
  {
   "cell_type": "code",
   "execution_count": null,
   "metadata": {},
   "outputs": [],
   "source": [
    "n=16\n",
    "print('binary',format(n,'b'))\n",
    "print('Octal',format(n,'o'))\n",
    "print('hexadecimal',format(n,'x'))"
   ]
  },
  {
   "cell_type": "markdown",
   "metadata": {},
   "source": [
    "### 12 Write a program in Python to print a character 5 times."
   ]
  },
  {
   "cell_type": "code",
   "execution_count": null,
   "metadata": {
    "scrolled": true
   },
   "outputs": [],
   "source": [
    "char='a'\n",
    "print(char*5)"
   ]
  },
  {
   "cell_type": "markdown",
   "metadata": {},
   "source": [
    "### 13 Write a program in Python to find the character values for different numbers and ASCII value for different characters."
   ]
  },
  {
   "cell_type": "code",
   "execution_count": null,
   "metadata": {},
   "outputs": [],
   "source": [
    "x=68\n",
    "print(chr(x))\n",
    "\n",
    "char='D'\n",
    "print(ord(char))"
   ]
  },
  {
   "cell_type": "markdown",
   "metadata": {
    "colab_type": "text",
    "id": "AJSWrElpcfOZ"
   },
   "source": [
    "### 14\tWrite a program in Python to print values of variables separated by a delimiter and end at specific symbol."
   ]
  },
  {
   "cell_type": "code",
   "execution_count": null,
   "metadata": {
    "colab_type": "raw",
    "id": "fVL5tp7XcfOa"
   },
   "outputs": [],
   "source": [
    "a=5\n",
    "b=76\n",
    "c=100\n",
    "print(a,b,c,sep=',',end='.')"
   ]
  },
  {
   "cell_type": "markdown",
   "metadata": {
    "colab_type": "text",
    "id": "ei6J38xOcfOd"
   },
   "source": [
    "### 15 Execute the following statements in Python to format the output. "
   ]
  },
  {
   "cell_type": "code",
   "execution_count": null,
   "metadata": {
    "colab": {
     "autoexec": {
      "startup": false,
      "wait_interval": 0
     }
    },
    "colab_type": "code",
    "id": "EJWEn5P4cfOd"
   },
   "outputs": [],
   "source": [
    "x = 5; y = 10\n",
    "print('The value of x is {} and y is {}'.format(x,y))"
   ]
  },
  {
   "cell_type": "code",
   "execution_count": null,
   "metadata": {
    "scrolled": true
   },
   "outputs": [],
   "source": [
    "print('I like {0} and {1}'.format('ice cream','chocolate'))"
   ]
  },
  {
   "cell_type": "code",
   "execution_count": null,
   "metadata": {
    "scrolled": true
   },
   "outputs": [],
   "source": [
    "print('I like {1} and {0}'.format('ice cream','chocolate'))"
   ]
  },
  {
   "cell_type": "code",
   "execution_count": null,
   "metadata": {
    "scrolled": true
   },
   "outputs": [],
   "source": [
    "print('Hello {name}, {greeting}'.format(greeting = 'Good morning', name = 'John'))"
   ]
  },
  {
   "cell_type": "markdown",
   "metadata": {},
   "source": [
    "### 16 Write a program in Python to evaluate the expression of string: n='100*5+9+5**2'. Use eval(n)."
   ]
  },
  {
   "cell_type": "code",
   "execution_count": null,
   "metadata": {},
   "outputs": [],
   "source": [
    "n='100*5+9+5**2'\n",
    "print(eval(n))"
   ]
  },
  {
   "cell_type": "markdown",
   "metadata": {},
   "source": [
    "### 17 Write a program in Python to unpack the value of a string and assign it to different variables."
   ]
  },
  {
   "cell_type": "code",
   "execution_count": null,
   "metadata": {},
   "outputs": [],
   "source": [
    "word='Time'\n",
    "a,b,c,d=word\n",
    "print(a,b,c,d)"
   ]
  },
  {
   "cell_type": "markdown",
   "metadata": {
    "colab_type": "text",
    "id": "bYbNt3tQcfOj"
   },
   "source": [
    "### 18 Execute the following program in Python to generate a floating-point and an integer random number."
   ]
  },
  {
   "cell_type": "code",
   "execution_count": null,
   "metadata": {},
   "outputs": [],
   "source": [
    "import random\n",
    "print(random.random())\n",
    "print(random.randint(10,50))"
   ]
  },
  {
   "cell_type": "markdown",
   "metadata": {
    "colab_type": "text",
    "id": "Gi9VMcjCcfOm"
   },
   "source": [
    "### 19 Write a program in Python to randomly generate a date of month (Hint: random number generation within range (1,31))."
   ]
  },
  {
   "cell_type": "code",
   "execution_count": null,
   "metadata": {
    "colab_type": "raw",
    "id": "O_9_5QmTcfOn"
   },
   "outputs": [],
   "source": [
    "#write your code here"
   ]
  },
  {
   "cell_type": "markdown",
   "metadata": {},
   "source": [
    "### 20 Execute the following program in Python to print the current date."
   ]
  },
  {
   "cell_type": "code",
   "execution_count": null,
   "metadata": {
    "scrolled": false
   },
   "outputs": [],
   "source": [
    "import datetime\n",
    "print(datetime.datetime.now().date())"
   ]
  },
  {
   "cell_type": "markdown",
   "metadata": {
    "colab_type": "text",
    "id": "WqpIS574cfOf"
   },
   "source": [
    "### 21 Execute the following program in Python to print the calendar of a given month and year. Try different values of y and m.\n",
    "import calendar\n",
    "calendar.month(2018,04)"
   ]
  },
  {
   "cell_type": "code",
   "execution_count": null,
   "metadata": {
    "colab": {
     "autoexec": {
      "startup": false,
      "wait_interval": 0
     }
    },
    "colab_type": "code",
    "id": "7j5pPawrcfOg"
   },
   "outputs": [],
   "source": [
    "#Write Your Code here"
   ]
  },
  {
   "cell_type": "markdown",
   "metadata": {
    "colab": {
     "autoexec": {
      "startup": false,
      "wait_interval": 0
     }
    },
    "colab_type": "code",
    "collapsed": true,
    "id": "7qAlMz35cfOo"
   },
   "source": [
    "## Optional Questions"
   ]
  },
  {
   "cell_type": "markdown",
   "metadata": {},
   "source": [
    "### 22 Raman likes tea but he has coffee. Riya likes coffee but has tea. Write a program in python so that both can enjoy what they like."
   ]
  },
  {
   "cell_type": "code",
   "execution_count": null,
   "metadata": {
    "scrolled": true
   },
   "outputs": [],
   "source": [
    "#Write Your Code here"
   ]
  },
  {
   "cell_type": "markdown",
   "metadata": {},
   "source": [
    "### 23 Write a program to solve the following expression.\n",
    "'Python'= 642"
   ]
  },
  {
   "cell_type": "code",
   "execution_count": null,
   "metadata": {
    "scrolled": true
   },
   "outputs": [],
   "source": [
    "#Write Your Code here"
   ]
  },
  {
   "attachments": {
    "image.png": {
     "image/png": "[encoded data removed]"
    }
   },
   "cell_type": "markdown",
   "metadata": {},
   "source": [
    "### 24 Write a program in python to print following .\n",
    "![image.png](attachment:image.png)\n",
    "#using Print Statement"
   ]
  },
  {
   "cell_type": "code",
   "execution_count": null,
   "metadata": {},
   "outputs": [],
   "source": [
    "#Write Your Code here"
   ]
  },
  {
   "attachments": {
    "image.png": {
     "image/png": "[encoded data removed]"
    }
   },
   "cell_type": "markdown",
   "metadata": {},
   "source": [
    "### 25 Write a program in python to print following. (Using Print Statement)\n",
    "![image.png](attachment:image.png)"
   ]
  },
  {
   "cell_type": "code",
   "execution_count": null,
   "metadata": {},
   "outputs": [],
   "source": [
    "#Write Your Code here"
   ]
  }
 ],
 "metadata": {
  "colab": {
   "default_view": {},
   "name": "Lab1 Notebook.ipynb",
   "provenance": [],
   "version": "0.3.2",
   "views": {}
  },
  "kernelspec": {
   "display_name": "Python 3",
   "language": "python",
   "name": "python3"
  },
  "language_info": {
   "codemirror_mode": {
    "name": "ipython",
    "version": 3
   },
   "file_extension": ".py",
   "mimetype": "text/x-python",
   "name": "python",
   "nbconvert_exporter": "python",
   "pygments_lexer": "ipython3",
   "version": "3.6.5"
  }
 },
 "nbformat": 4,
 "nbformat_minor": 1
}

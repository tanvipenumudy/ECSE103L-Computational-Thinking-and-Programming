{
  "nbformat": 4,
  "nbformat_minor": 0,
  "metadata": {
    "colab": {
      "name": "Lab5assignment raw.ipynb",
      "version": "0.3.2",
      "provenance": [],
      "collapsed_sections": []
    },
    "kernelspec": {
      "display_name": "Python 3",
      "language": "python",
      "name": "python3"
    }
  },
  "cells": [
    {
      "metadata": {
        "id": "rE7r_hrr8bHN",
        "colab_type": "text"
      },
      "cell_type": "markdown",
      "source": [
        "# Student Name: Tanvi Penumudy\n",
        "# Enrollment Number: E18CSE187\n",
        "# Lab assignment number: 5"
      ]
    },
    {
      "metadata": {
        "id": "qcqKVyuR8bHS",
        "colab_type": "text"
      },
      "cell_type": "markdown",
      "source": [
        "## While Loops"
      ]
    },
    {
      "metadata": {
        "id": "cfcOq6zZ8bHU",
        "colab_type": "text"
      },
      "cell_type": "markdown",
      "source": [
        "#### Syntax of \"while loop\""
      ]
    },
    {
      "metadata": {
        "id": "00uWCFGU8bHW",
        "colab_type": "raw"
      },
      "cell_type": "markdown",
      "source": [
        "initialization of loop variable\n",
        "while( condition ):\n",
        "    stmt 1\n",
        "    stmt 2\n",
        "    ...\n",
        "    update loop variable"
      ]
    },
    {
      "metadata": {
        "id": "v0xpXhZb8bHY",
        "colab_type": "text"
      },
      "cell_type": "markdown",
      "source": [
        "### 1 Write a program in Python to print table of 2 using while loop."
      ]
    },
    {
      "metadata": {
        "id": "Qc4dprpV8bHa",
        "colab_type": "raw"
      },
      "cell_type": "markdown",
      "source": [
        "Output:\n",
        "2*1 =2\n",
        "2*2 =4\n",
        "......"
      ]
    },
    {
      "metadata": {
        "id": "y3Gess0O8bHd",
        "colab_type": "code",
        "colab": {
          "base_uri": "https://localhost:8080/",
          "height": 199
        },
        "outputId": "d9f0e4b1-f20d-419b-c7df-9eb4889ddac7"
      },
      "cell_type": "code",
      "source": [
        "#Write your code\n",
        "num=1\n",
        "while(num<=10):\n",
        "    print(\"2 * \",num,\" =\", 2*num)\n",
        "    num=num+1"
      ],
      "execution_count": 0,
      "outputs": [
        {
          "output_type": "stream",
          "text": [
            "2 *  1  = 2\n",
            "2 *  2  = 4\n",
            "2 *  3  = 6\n",
            "2 *  4  = 8\n",
            "2 *  5  = 10\n",
            "2 *  6  = 12\n",
            "2 *  7  = 14\n",
            "2 *  8  = 16\n",
            "2 *  9  = 18\n",
            "2 *  10  = 20\n"
          ],
          "name": "stdout"
        }
      ]
    },
    {
      "metadata": {
        "id": "ejt07TUF8bHn",
        "colab_type": "text"
      },
      "cell_type": "markdown",
      "source": [
        "### 2 Write a program in Python to print table of any number 'n' provided by user using while loop."
      ]
    },
    {
      "metadata": {
        "id": "cO2jHL6v8bHq",
        "colab_type": "code",
        "colab": {
          "base_uri": "https://localhost:8080/",
          "height": 217
        },
        "outputId": "6f395210-2218-4309-d8a4-aadf4b7c2eff"
      },
      "cell_type": "code",
      "source": [
        "#Write your code\n",
        "num=int(input(\"Enter any number of your choice:\"))\n",
        "i=1\n",
        "while(i<=10):\n",
        "    print(num,\"*\",i,\"=\",num*i)\n",
        "    i+=1"
      ],
      "execution_count": 0,
      "outputs": [
        {
          "output_type": "stream",
          "text": [
            "Enter any number of your choice:25\n",
            "25 * 1 = 25\n",
            "25 * 2 = 50\n",
            "25 * 3 = 75\n",
            "25 * 4 = 100\n",
            "25 * 5 = 125\n",
            "25 * 6 = 150\n",
            "25 * 7 = 175\n",
            "25 * 8 = 200\n",
            "25 * 9 = 225\n",
            "25 * 10 = 250\n"
          ],
          "name": "stdout"
        }
      ]
    },
    {
      "metadata": {
        "id": "hTA16EkW8bHy",
        "colab_type": "text"
      },
      "cell_type": "markdown",
      "source": [
        "### 3 Write a program in Python to print table of a user provided number without using multiplication(*) using while loop."
      ]
    },
    {
      "metadata": {
        "id": "_anRw6DR8bH1",
        "colab_type": "code",
        "colab": {
          "base_uri": "https://localhost:8080/",
          "height": 217
        },
        "outputId": "b616c9d3-7287-4e3c-e922-1097c2022e5f"
      },
      "cell_type": "code",
      "source": [
        "#Write your code\n",
        "num=int(input(\"Enter any number of your choice:\"))\n",
        "i=1\n",
        "sum=0\n",
        "while(i<=10):\n",
        "    sum=sum+num\n",
        "    print(num,\" * \",i,\" =\",sum)\n",
        "    i=i+1"
      ],
      "execution_count": 0,
      "outputs": [
        {
          "output_type": "stream",
          "text": [
            "Enter any number of your choice:12\n",
            "12  *  1  = 12\n",
            "12  *  2  = 24\n",
            "12  *  3  = 36\n",
            "12  *  4  = 48\n",
            "12  *  5  = 60\n",
            "12  *  6  = 72\n",
            "12  *  7  = 84\n",
            "12  *  8  = 96\n",
            "12  *  9  = 108\n",
            "12  *  10  = 120\n"
          ],
          "name": "stdout"
        }
      ]
    },
    {
      "metadata": {
        "id": "m4tOsNA98bH8",
        "colab_type": "text"
      },
      "cell_type": "markdown",
      "source": [
        "### 4 Write a program in Python to print values of sin𝜃, cos𝜃 at 𝜃=0ᵒ,30ᵒ,60ᵒ,90ᵒ,...,270ᵒ using while loop."
      ]
    },
    {
      "metadata": {
        "id": "qpB5ic8m8bH-",
        "colab_type": "text"
      },
      "cell_type": "markdown",
      "source": [
        "import math\n",
        "For converting values into Radians: math.radians()\n",
        "For calculating Sin and cos values: math.sin()"
      ]
    },
    {
      "metadata": {
        "id": "S_7HjxMN8bIA",
        "colab_type": "code",
        "colab": {
          "base_uri": "https://localhost:8080/",
          "height": 345
        },
        "outputId": "990e9d0b-c439-446e-87d6-10bdbf198632"
      },
      "cell_type": "code",
      "source": [
        "#Write your code\n",
        "import math\n",
        "n=0\n",
        "while(n<+270):\n",
        "    x=math.radians(n)\n",
        "    print(\"sin\",n,\" =\",math.sin(x))\n",
        "    print(\"cos\",n,\" =\",math.cos(x))\n",
        "    n+=30"
      ],
      "execution_count": 0,
      "outputs": [
        {
          "output_type": "stream",
          "text": [
            "sin 0  = 0.0\n",
            "cos 0  = 1.0\n",
            "sin 30  = 0.49999999999999994\n",
            "cos 30  = 0.8660254037844387\n",
            "sin 60  = 0.8660254037844386\n",
            "cos 60  = 0.5000000000000001\n",
            "sin 90  = 1.0\n",
            "cos 90  = 6.123233995736766e-17\n",
            "sin 120  = 0.8660254037844387\n",
            "cos 120  = -0.4999999999999998\n",
            "sin 150  = 0.49999999999999994\n",
            "cos 150  = -0.8660254037844387\n",
            "sin 180  = 1.2246467991473532e-16\n",
            "cos 180  = -1.0\n",
            "sin 210  = -0.5000000000000001\n",
            "cos 210  = -0.8660254037844386\n",
            "sin 240  = -0.8660254037844384\n",
            "cos 240  = -0.5000000000000004\n"
          ],
          "name": "stdout"
        }
      ]
    },
    {
      "metadata": {
        "id": "njO_hTpY8bIJ",
        "colab_type": "text"
      },
      "cell_type": "markdown",
      "source": [
        "### 5 Write a program in Python to evaluate the following series using while loop:\n",
        "    \n",
        "    1! + 2! + 3! + 4! ...+ n!\n",
        "hint: use math.factorial(n) function to calculate factorial of number n."
      ]
    },
    {
      "metadata": {
        "id": "0Q50xcGr8bIL",
        "colab_type": "code",
        "colab": {
          "base_uri": "https://localhost:8080/",
          "height": 54
        },
        "outputId": "f536ca5c-a219-47da-9b1e-080ce41ca0ec"
      },
      "cell_type": "code",
      "source": [
        "#Write your code\n",
        "import math\n",
        "n=int(input(\"Enter any number of your choice:\"))\n",
        "i=1\n",
        "s=0\n",
        "while(i<=n):\n",
        "    x=math.factorial(i)\n",
        "    s=s+x\n",
        "    i+=1\n",
        "print(\"The required sum of series is:\",s)"
      ],
      "execution_count": 0,
      "outputs": [
        {
          "output_type": "stream",
          "text": [
            "Enter any number of your choice:3\n",
            "The required sum of series is: 9\n"
          ],
          "name": "stdout"
        }
      ]
    },
    {
      "metadata": {
        "id": "RCnL5UJ38bIU",
        "colab_type": "text"
      },
      "cell_type": "markdown",
      "source": [
        "### 6 Write a program in Python to print sum of first 20 natural numbers using while loop."
      ]
    },
    {
      "metadata": {
        "id": "MUvNNtKD8bIY",
        "colab_type": "code",
        "colab": {
          "base_uri": "https://localhost:8080/",
          "height": 35
        },
        "outputId": "fe33b862-2fab-4025-f30d-3c5c6114b389"
      },
      "cell_type": "code",
      "source": [
        "#Write your code\n",
        "import math\n",
        "n=0\n",
        "s=0\n",
        "while(n<=20):\n",
        "    s=s+n\n",
        "    n=n+1\n",
        "print(s)"
      ],
      "execution_count": 0,
      "outputs": [
        {
          "output_type": "stream",
          "text": [
            "210\n"
          ],
          "name": "stdout"
        }
      ]
    },
    {
      "metadata": {
        "id": "h1zH9MGR8bIn",
        "colab_type": "text"
      },
      "cell_type": "markdown",
      "source": [
        "### 7 Write a program in Python to print sum of first 10 odd numbers and first 10 even numbers using while loop."
      ]
    },
    {
      "metadata": {
        "id": "1njVGlc_8bIp",
        "colab_type": "code",
        "colab": {
          "base_uri": "https://localhost:8080/",
          "height": 54
        },
        "outputId": "eb66f423-d801-4ca5-e07b-f6b2d2b841c8"
      },
      "cell_type": "code",
      "source": [
        "#Write your code\n",
        "i=0\n",
        "s=0\n",
        "a=0\n",
        "while(i<=20):\n",
        "    if(i%2==0):\n",
        "        s=s+i\n",
        "    if(i%2==1):\n",
        "        a=a+i\n",
        "    i=i+1\n",
        "print(\"The sum of the first 10 even numbers\",s)\n",
        "print(\"the sum of the first 10 odd numbers\",a)"
      ],
      "execution_count": 0,
      "outputs": [
        {
          "output_type": "stream",
          "text": [
            "The sum of the first 10 even numbers 110\n",
            "the sum of the first 10 odd numbers 100\n"
          ],
          "name": "stdout"
        }
      ]
    },
    {
      "metadata": {
        "id": "73NU1jGg8bIy",
        "colab_type": "text"
      },
      "cell_type": "markdown",
      "source": [
        "### 8 Write a program in Python to print the square series of first 10 numbers start from 1 and their sum using while loop. \n",
        "\n",
        "For Example:\n",
        "\n",
        "1 4 9 16 25 36 49 64 81 100\n",
        "\n",
        "Squared sum =385"
      ]
    },
    {
      "metadata": {
        "id": "FRA8gR8u8bI0",
        "colab_type": "code",
        "colab": {
          "base_uri": "https://localhost:8080/",
          "height": 217
        },
        "outputId": "a53edc9f-b436-4be2-860b-530cf95455b1"
      },
      "cell_type": "code",
      "source": [
        "#Write your code\n",
        "i=1\n",
        "s=0\n",
        "while(i<=10):\n",
        "    print(i*i)\n",
        "    s+=i*i\n",
        "    i=i+1\n",
        "print(\"The required sum is equal to:\",s)"
      ],
      "execution_count": 0,
      "outputs": [
        {
          "output_type": "stream",
          "text": [
            "1\n",
            "4\n",
            "9\n",
            "16\n",
            "25\n",
            "36\n",
            "49\n",
            "64\n",
            "81\n",
            "100\n",
            "The required sum is equal to: 385\n"
          ],
          "name": "stdout"
        }
      ]
    },
    {
      "metadata": {
        "id": "GFbhwj8-8bI7",
        "colab_type": "text"
      },
      "cell_type": "markdown",
      "source": [
        "### 9 Write a program in Python to take 10 numbers from user and then calculate total number of positive number, negative number and zeros entered by user using while loop."
      ]
    },
    {
      "metadata": {
        "id": "4UWl9RpZ8bI9",
        "colab_type": "code",
        "colab": {
          "base_uri": "https://localhost:8080/",
          "height": 254
        },
        "outputId": "5e16c634-269e-4400-ecbb-39bb67601529"
      },
      "cell_type": "code",
      "source": [
        "#Write your code\n",
        "positive=0\n",
        "negative=0\n",
        "zeroes=0\n",
        "i=0\n",
        "while(i<=9):\n",
        "    num=int(input(\"Enter any number of your choice:\"))\n",
        "    if(num<0):\n",
        "        negative=negative+1\n",
        "        i=i+1\n",
        "    elif(num>0):\n",
        "        positive=positive+1\n",
        "        i=i+1\n",
        "    else:\n",
        "        zeroes=zeroes+1\n",
        "        i=i+1\n",
        "print(\"The number of positive numbers is:=\",positive)\n",
        "print(\"The number of negative numbers is:=\",negative)\n",
        "print(\"The number of zeroes is:=\",zeroes)"
      ],
      "execution_count": 0,
      "outputs": [
        {
          "output_type": "stream",
          "text": [
            "Enter any number of your choice:234\n",
            "Enter any number of your choice:0\n",
            "Enter any number of your choice:-3\n",
            "Enter any number of your choice:-45678\n",
            "Enter any number of your choice:0\n",
            "Enter any number of your choice:1234\n",
            "Enter any number of your choice:56\n",
            "Enter any number of your choice:0\n",
            "Enter any number of your choice:0\n",
            "Enter any number of your choice:7654\n",
            "The number of positive numbers is:= 4\n",
            "The number of negative numbers is:= 2\n",
            "The number of zeroes is:= 4\n"
          ],
          "name": "stdout"
        }
      ]
    },
    {
      "metadata": {
        "id": "vYrYtyLo8bJJ",
        "colab_type": "text"
      },
      "cell_type": "markdown",
      "source": [
        "### 10 Write a program in Python to enter 10 numbers and it should display the maximum number entered by user using while loop."
      ]
    },
    {
      "metadata": {
        "id": "rIM7nLcucLkc",
        "colab_type": "code",
        "colab": {
          "base_uri": "https://localhost:8080/",
          "height": 217
        },
        "outputId": "68030f6d-3023-4eae-ffba-9e061d90a1f1"
      },
      "cell_type": "code",
      "source": [
        "#Write your code\n",
        "i=1\n",
        "max=0\n",
        "while(i<=10):\n",
        "  n=int(input(\"Enter any number of your choice:\"))\n",
        "  if(n>max):\n",
        "    max=n\n",
        "    i=i+1\n",
        "print(\"The maximum number is:\",max)"
      ],
      "execution_count": 0,
      "outputs": [
        {
          "output_type": "stream",
          "text": [
            "Enter any number of your choice:1\n",
            "Enter any number of your choice:2\n",
            "Enter any number of your choice:3\n",
            "Enter any number of your choice:4\n",
            "Enter any number of your choice:5\n",
            "Enter any number of your choice:6\n",
            "Enter any number of your choice:7\n",
            "Enter any number of your choice:8\n",
            "Enter any number of your choice:9\n",
            "Enter any number of your choice:10\n",
            "The maximum number is: 10\n"
          ],
          "name": "stdout"
        }
      ]
    },
    {
      "metadata": {
        "id": "TOJ9Dj2T8bJZ",
        "colab_type": "text"
      },
      "cell_type": "markdown",
      "source": [
        "## Optional Questions"
      ]
    },
    {
      "metadata": {
        "id": "f-zz6N008bJe",
        "colab_type": "text"
      },
      "cell_type": "markdown",
      "source": [
        "### 11 Write a program in Python to enter the numbers till the user wants and at the end it should display the maximum number entered using while loop."
      ]
    },
    {
      "metadata": {
        "id": "NqGeeOI68bJg",
        "colab_type": "code",
        "colab": {}
      },
      "cell_type": "code",
      "source": [
        "#Write your code"
      ],
      "execution_count": 0,
      "outputs": []
    },
    {
      "metadata": {
        "id": "urcJtqgm8bJs",
        "colab_type": "text"
      },
      "cell_type": "markdown",
      "source": [
        "### 12 Write a program in Python to evaluate following series using while loop:\n",
        "\n",
        "    x + 3x + 5x + 7x + 9x + 11x+....upto n terms"
      ]
    },
    {
      "metadata": {
        "id": "55lys8kV8bJv",
        "colab_type": "code",
        "colab": {}
      },
      "cell_type": "code",
      "source": [
        "#Write your code"
      ],
      "execution_count": 0,
      "outputs": []
    },
    {
      "metadata": {
        "id": "dPA5lfag8bJ2",
        "colab_type": "text"
      },
      "cell_type": "markdown",
      "source": [
        "### 13 Write a program in Python to compute squares and square roots of numbers from 10 down to 1 using while loop."
      ]
    },
    {
      "metadata": {
        "id": "6Vy6lnrR8bJ4",
        "colab_type": "code",
        "colab": {}
      },
      "cell_type": "code",
      "source": [
        "#Write your code"
      ],
      "execution_count": 0,
      "outputs": []
    },
    {
      "metadata": {
        "id": "B7LwIZyK8bJ_",
        "colab_type": "text"
      },
      "cell_type": "markdown",
      "source": [
        "### 14 Write a program in Python to evaluate following series using while loop:\n",
        "    \n",
        "    1/1! + 2/2! + 3/3! + 4/4! ...+ n/n!\n",
        " \n",
        "hint: use math.factorial(n) function to calculate factorial of number n."
      ]
    },
    {
      "metadata": {
        "id": "kaKckqg48bKB",
        "colab_type": "code",
        "colab": {}
      },
      "cell_type": "code",
      "source": [
        "#Write your code"
      ],
      "execution_count": 0,
      "outputs": []
    },
    {
      "metadata": {
        "id": "sFQaBhj18bKI",
        "colab_type": "text"
      },
      "cell_type": "markdown",
      "source": [
        "### 15 Write a program in Python to print all digits of a number from least signifiant digit to most significant digit using while loop.\n"
      ]
    },
    {
      "metadata": {
        "id": "FQBFJN9G8bKK",
        "colab_type": "raw"
      },
      "cell_type": "markdown",
      "source": [
        "For Example: \n",
        "Enter any number to find its all digits:89546\n",
        "digit = 6\n",
        "digit = 4\n",
        "digit = 5\n",
        "digit = 9\n",
        "digit = 8"
      ]
    },
    {
      "metadata": {
        "id": "wW2xtsNo8bKM",
        "colab_type": "code",
        "colab": {}
      },
      "cell_type": "code",
      "source": [
        "#Write your code"
      ],
      "execution_count": 0,
      "outputs": []
    },
    {
      "metadata": {
        "id": "H_Y-k10J8bKV",
        "colab_type": "text"
      },
      "cell_type": "markdown",
      "source": [
        "### 16 Write a program in Python to calculate total number of positive number, negative number and zeros entered by user. The user can enter any number of numbers."
      ]
    },
    {
      "metadata": {
        "id": "ROcXPryJ8bKY",
        "colab_type": "code",
        "colab": {}
      },
      "cell_type": "code",
      "source": [
        "#Write your code"
      ],
      "execution_count": 0,
      "outputs": []
    },
    {
      "metadata": {
        "id": "LyfUTDg98bKj",
        "colab_type": "text"
      },
      "cell_type": "markdown",
      "source": [
        "# 17. Write a code for printing this pattern."
      ]
    },
    {
      "metadata": {
        "id": "wUraNJ058bKm",
        "colab_type": "raw"
      },
      "cell_type": "markdown",
      "source": [
        "*\n",
        "**\n",
        "***\n",
        "****\n",
        "*****"
      ]
    },
    {
      "metadata": {
        "id": "n8gZATVL8bKo",
        "colab_type": "code",
        "colab": {
          "base_uri": "https://localhost:8080/",
          "height": 108
        },
        "outputId": "1aeb946d-b93b-45b2-f0b4-758c0fc0d529"
      },
      "cell_type": "code",
      "source": [
        "#Write your code here\n",
        "print(\"*\")\n",
        "print(\"**\")\n",
        "print(\"***\")\n",
        "print(\"****\")\n",
        "print(\"*****\")\n"
      ],
      "execution_count": 0,
      "outputs": [
        {
          "output_type": "stream",
          "text": [
            "*\n",
            "**\n",
            "***\n",
            "****\n",
            "*****\n"
          ],
          "name": "stdout"
        }
      ]
    },
    {
      "metadata": {
        "id": "ttCaOtKb8bKx",
        "colab_type": "text"
      },
      "cell_type": "markdown",
      "source": [
        "# 18. Write a code for printing this pattern."
      ]
    },
    {
      "metadata": {
        "id": "kUeV2JNm8bKz",
        "colab_type": "raw"
      },
      "cell_type": "markdown",
      "source": [
        "   *\n",
        "  ***\n",
        " *****\n",
        "*******"
      ]
    },
    {
      "metadata": {
        "id": "IU3aHalR8bK0",
        "colab_type": "code",
        "colab": {
          "base_uri": "https://localhost:8080/",
          "height": 90
        },
        "outputId": "68b1835c-7a6d-488c-85b2-a7d5300195b3"
      },
      "cell_type": "code",
      "source": [
        "#Write your code here\n",
        "print(\"   *\")\n",
        "print(\"  ***\")\n",
        "print(\" *****\")\n",
        "print(\"*******\")"
      ],
      "execution_count": 0,
      "outputs": [
        {
          "output_type": "stream",
          "text": [
            "   *\n",
            "  ***\n",
            " *****\n",
            "*******\n"
          ],
          "name": "stdout"
        }
      ]
    },
    {
      "metadata": {
        "id": "ujQvS_YteP8z",
        "colab_type": "code",
        "colab": {}
      },
      "cell_type": "code",
      "source": [
        ""
      ],
      "execution_count": 0,
      "outputs": []
    }
  ]
}
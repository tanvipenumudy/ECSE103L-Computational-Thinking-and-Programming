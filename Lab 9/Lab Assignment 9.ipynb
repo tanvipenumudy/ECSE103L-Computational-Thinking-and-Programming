{
 "cells": [
  {
   "cell_type": "markdown",
   "metadata": {},
   "source": [
    "# Python function  declaration and calling"
   ]
  },
  {
   "cell_type": "raw",
   "metadata": {},
   "source": [
    "Function is used for modularity in the program.\n",
    "\n",
    "def function_name(argument-1, argument-2,argument-3...):\n",
    "    function body\n",
    "    .\n",
    "    .\n",
    "    .\n",
    "    .\n",
    "    .\n",
    "    return var   #not compulsory\n",
    "#function call\n",
    "function_name(10,20,30)"
   ]
  },
  {
   "cell_type": "markdown",
   "metadata": {},
   "source": [
    "## Example: Write a program in python to add three numbers using function"
   ]
  },
  {
   "cell_type": "code",
   "execution_count": null,
   "metadata": {},
   "outputs": [],
   "source": [
    "#main program\n",
    "x=int(input(\"enter first number\"))\n",
    "y=int(input(\"enter second number\"))\n",
    "z=int(input(\"enter third number\"))\n",
    "\n",
    "#Function Body\n",
    "def add(a,b,c):\n",
    "    sum=a+b+c\n",
    "    return sum\n",
    "\n",
    "#Function Calling\n",
    "print(\"sum of three nubers is \", add(x,y,z))"
   ]
  },
  {
   "cell_type": "markdown",
   "metadata": {},
   "source": [
    " ## 1. Write a program in Python to swap two numbers using function."
   ]
  },
  {
   "cell_type": "code",
   "execution_count": null,
   "metadata": {},
   "outputs": [],
   "source": []
  },
  {
   "cell_type": "markdown",
   "metadata": {},
   "source": [
    "## 2. Write a program in Python to check a given number is even or odd using the function."
   ]
  },
  {
   "cell_type": "code",
   "execution_count": null,
   "metadata": {},
   "outputs": [],
   "source": []
  },
  {
   "cell_type": "markdown",
   "metadata": {},
   "source": [
    "## 3. Write a program in python to check wheather the given number is prime using function. Print the output outside the function."
   ]
  },
  {
   "cell_type": "code",
   "execution_count": null,
   "metadata": {},
   "outputs": [],
   "source": []
  },
  {
   "cell_type": "markdown",
   "metadata": {},
   "source": [
    "## 4. Define a function of two variable 4x3+2y+7. and evaluate the function on points (10,-2)."
   ]
  },
  {
   "cell_type": "code",
   "execution_count": null,
   "metadata": {},
   "outputs": [],
   "source": []
  },
  {
   "cell_type": "markdown",
   "metadata": {},
   "source": [
    "## 5. Write a program in Python to print the table of a given number using function and loop."
   ]
  },
  {
   "cell_type": "code",
   "execution_count": null,
   "metadata": {},
   "outputs": [],
   "source": []
  },
  {
   "cell_type": "markdown",
   "metadata": {},
   "source": [
    "## 6.  Write a program in Python to check whether a number entered by the users is an Armstrong number or not. 153 is an Armstrong number as 153 = pow(1,3)+pow(5,3)+pow(3,3), while 125 is not an Armstrong number because 125≠1**3+2**3+5**3. The program should allow the user to input any 5 numbers for testing using function. "
   ]
  },
  {
   "cell_type": "code",
   "execution_count": null,
   "metadata": {},
   "outputs": [],
   "source": [
    "def armstrong():\n",
    "#write your code here for check the armstrong number.\n",
    "\n",
    "#calling\n",
    "n=input(\"How many numbers you want to test for Armstrong number\")\n",
    "armstrong(n)"
   ]
  },
  {
   "cell_type": "markdown",
   "metadata": {},
   "source": [
    "## 7.  Suppose there is an election in which there are 4 candidates with names “Lion King”, “King of the Ring”, “Lord of the Ring” and “Singh is King”. There are 20 people who are to vote for these 4 candidates. Write a program in Python to input the votes by 20 people and declare the result of the winner. If two candidates get draw, then perform a random voting in between two candidates."
   ]
  },
  {
   "cell_type": "code",
   "execution_count": null,
   "metadata": {},
   "outputs": [],
   "source": []
  },
  {
   "cell_type": "markdown",
   "metadata": {},
   "source": [
    "## 8. Write a program which takes an integer from the user and checks if the number is a palindrome or not and return the true and false value."
   ]
  },
  {
   "cell_type": "code",
   "execution_count": null,
   "metadata": {},
   "outputs": [],
   "source": []
  },
  {
   "cell_type": "markdown",
   "metadata": {},
   "source": [
    "## 9. Write a program to take the values of two integers m and n from the user and display and calculate the sum of even number between m and n (including both m and n). Please note that value of m must be less than value of n. "
   ]
  },
  {
   "cell_type": "code",
   "execution_count": null,
   "metadata": {},
   "outputs": [],
   "source": []
  },
  {
   "cell_type": "markdown",
   "metadata": {},
   "source": [
    "## 10. Write a program to accept characters till the user enters null and count the number of alphabets and digits entered by the user."
   ]
  },
  {
   "cell_type": "code",
   "execution_count": null,
   "metadata": {},
   "outputs": [],
   "source": []
  },
  {
   "cell_type": "markdown",
   "metadata": {},
   "source": [
    "## 11. Write a program to display the first n Fibonacci numbers. Value of n must be taken from the user using function"
   ]
  },
  {
   "cell_type": "code",
   "execution_count": null,
   "metadata": {},
   "outputs": [],
   "source": []
  },
  {
   "cell_type": "markdown",
   "metadata": {},
   "source": [
    "## 12. Write a python program that calculates the average of a group of 4 test scores, where the lowwest score in the group should be dropped. your program should use the following user defined functions.\n",
    "### a.function avg that calculates and displays the average of three highest scores. This function should be called just one time by the main, and should be passed the four scores.\n",
    "### b. function find_lowest that finds and returns the lowest of the four scores passed to it. It should be called by avg, which uses the function to determine which of the four score to drop. "
   ]
  },
  {
   "cell_type": "code",
   "execution_count": null,
   "metadata": {},
   "outputs": [],
   "source": []
  },
  {
   "cell_type": "markdown",
   "metadata": {},
   "source": [
    "## 13. Write a python function for a scintific calculator that performs addition, subtraction, multiplication, division, modulus, sign, cos, tan, etc... "
   ]
  },
  {
   "cell_type": "code",
   "execution_count": null,
   "metadata": {},
   "outputs": [],
   "source": []
  },
  {
   "cell_type": "markdown",
   "metadata": {},
   "source": [
    "## 14. The total distance travelled by vehicle in ‘t’ seconds is given by distance = ut+1/2at2 where ‘u’ and ‘a’ are the initial velocity (m/sec.) and acceleration (m/sec2). Write a python program to find the distance travelled at regular intervals of time given the values of ‘u’ and ‘a’. The program should provide the flexibility to the user to select his own time intervals and repeat the calculations for different values of ‘u’ and ‘a’."
   ]
  },
  {
   "cell_type": "code",
   "execution_count": null,
   "metadata": {},
   "outputs": [],
   "source": []
  }
 ],
 "metadata": {
  "kernelspec": {
   "display_name": "Python 3",
   "language": "python",
   "name": "python3"
  },
  "language_info": {
   "codemirror_mode": {
    "name": "ipython",
    "version": 3
   },
   "file_extension": ".py",
   "mimetype": "text/x-python",
   "name": "python",
   "nbconvert_exporter": "python",
   "pygments_lexer": "ipython3",
   "version": "3.6.5"
  }
 },
 "nbformat": 4,
 "nbformat_minor": 2
}

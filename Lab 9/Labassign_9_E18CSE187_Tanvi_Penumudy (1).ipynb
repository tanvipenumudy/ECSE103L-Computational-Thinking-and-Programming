{
  "nbformat": 4,
  "nbformat_minor": 0,
  "metadata": {
    "colab": {
      "name": "Labassign_9 E18CSE187_Tanvi_Penumudy.ipynb",
      "version": "0.3.2",
      "provenance": [],
      "collapsed_sections": []
    },
    "kernelspec": {
      "display_name": "Python 3",
      "language": "python",
      "name": "python3"
    }
  },
  "cells": [
    {
      "metadata": {
        "id": "lhp6XFomkRlb",
        "colab_type": "text"
      },
      "cell_type": "markdown",
      "source": [
        "# Python function  declaration and calling\n",
        "#Name: Tanvi Penumudy\n",
        "##Enrollment Number: E18CSE187\n",
        "##Lab assignment:9"
      ]
    },
    {
      "metadata": {
        "id": "9rGiq5UskRlh",
        "colab_type": "raw"
      },
      "cell_type": "markdown",
      "source": [
        "Function is used for modularity in the program.\n",
        "\n",
        "def function_name(argument-1, argument-2,argument-3...):\n",
        "    function body\n",
        "    .\n",
        "    .\n",
        "    .\n",
        "    .\n",
        "    .\n",
        "    return var   #not compulsory\n",
        "#function call\n",
        "function_name(10,20,30)"
      ]
    },
    {
      "metadata": {
        "id": "_RO1CwBPkRlm",
        "colab_type": "text"
      },
      "cell_type": "markdown",
      "source": [
        "## Example: Write a program in python to add three numbers using function"
      ]
    },
    {
      "metadata": {
        "id": "7k2Xlg3bkRlu",
        "colab_type": "code",
        "colab": {
          "base_uri": "https://localhost:8080/",
          "height": 85
        },
        "outputId": "835fd5a2-bd71-4767-b5a3-c91bbcfee49c"
      },
      "cell_type": "code",
      "source": [
        "#main program\n",
        "x=int(input(\"Enter first number:\"))\n",
        "y=int(input(\"Enter second number:\"))\n",
        "z=int(input(\"Enter third number:\"))\n",
        "\n",
        "#Function Body\n",
        "def add(a,b,c):\n",
        "    sum=a+b+c\n",
        "    return sum\n",
        "\n",
        "#Function Calling\n",
        "print(\"The sum of the three input numbers is: \", add(x,y,z))"
      ],
      "execution_count": 11,
      "outputs": [
        {
          "output_type": "stream",
          "text": [
            "Enter first number:10\n",
            "Enter second number:20\n",
            "Enter third number:30\n",
            "The sum of the three input numbers is:  60\n"
          ],
          "name": "stdout"
        }
      ]
    },
    {
      "metadata": {
        "id": "wUo9_QhBkRl8",
        "colab_type": "text"
      },
      "cell_type": "markdown",
      "source": [
        " ## 1. Write a program in Python to swap two numbers using function."
      ]
    },
    {
      "metadata": {
        "id": "VH-_WR3UkRmA",
        "colab_type": "code",
        "colab": {},
        "outputId": "6e1f97a6-e450-4bba-f901-5febdda62d30"
      },
      "cell_type": "code",
      "source": [
        "a=input(\"Enter any value for the first number: \")\n",
        "b=input(\"Enter any value for the second number: \")\n",
        "def swap(a,b):\n",
        "    c=a\n",
        "    a=b\n",
        "    b=c\n",
        "    return a,b\n",
        "x,y=swap(a,b)\n",
        "print(\"The value of the first number after swapping is: \",x)\n",
        "print(\"The value of the second number after swapping is: \",y)"
      ],
      "execution_count": 0,
      "outputs": [
        {
          "output_type": "stream",
          "text": [
            "Enter any value for the first number: 15\n",
            "Enter any value for the second number: 290\n",
            "The value of the first number after swapping is:  290\n",
            "The value of the second number after swapping is:  15\n"
          ],
          "name": "stdout"
        }
      ]
    },
    {
      "metadata": {
        "id": "UAm7BMOZkRmW",
        "colab_type": "text"
      },
      "cell_type": "markdown",
      "source": [
        "## 2. Write a program in Python to check a given number is even or odd using the function."
      ]
    },
    {
      "metadata": {
        "id": "N4qCI6rDkRmb",
        "colab_type": "code",
        "colab": {},
        "outputId": "489619e3-9da8-4ab8-a69d-2a10705e91d3"
      },
      "cell_type": "code",
      "source": [
        "x=int(input(\"Enter any number of your choice: \"))\n",
        "def even_odd(x):\n",
        "    return x\n",
        "if(x%2==0):\n",
        "    print(\"The input is even\")\n",
        "else:\n",
        "    print(\"The input is odd\")\n"
      ],
      "execution_count": 0,
      "outputs": [
        {
          "output_type": "stream",
          "text": [
            "Enter any number of your choice: 34\n",
            "The input is even\n"
          ],
          "name": "stdout"
        }
      ]
    },
    {
      "metadata": {
        "id": "h-5A8TLUkRmx",
        "colab_type": "text"
      },
      "cell_type": "markdown",
      "source": [
        "## 3. Write a program in python to check wheather the given number is prime using function. Print the output outside the function."
      ]
    },
    {
      "metadata": {
        "id": "67CgMybLkRm1",
        "colab_type": "code",
        "colab": {},
        "outputId": "96fc45d9-a374-4539-a0bf-c17dd6a4d48f"
      },
      "cell_type": "code",
      "source": [
        "a=int(input(\"Enter any number of your choice: \"))\n",
        "def prime(a):\n",
        "    return a\n",
        "if(x>1):\n",
        "    for j in range(2,a):\n",
        "        if (x%j==0):\n",
        "            print(a,\"is a Prime number\")\n",
        "            break\n",
        "        else:\n",
        "            print(a,\"is not a Prime number\")\n",
        "            break"
      ],
      "execution_count": 0,
      "outputs": [
        {
          "output_type": "stream",
          "text": [
            "Enter any number of your choice: 29\n",
            "29 is a Prime number\n"
          ],
          "name": "stdout"
        }
      ]
    },
    {
      "metadata": {
        "id": "X1foGaURkRnK",
        "colab_type": "text"
      },
      "cell_type": "markdown",
      "source": [
        "## 4. Define a function of two variable 4x3+2y+7. and evaluate the function on points (10,-2)."
      ]
    },
    {
      "metadata": {
        "id": "nAgB42A4kRnP",
        "colab_type": "code",
        "colab": {},
        "outputId": "9be669b0-dc6f-4ed8-a5b6-0fa838f7544c"
      },
      "cell_type": "code",
      "source": [
        "x=int(input(\"Enter the value of the first variable: \"))\n",
        "y=int(input(\"Enter the value of the second variable: \"))\n",
        "def variables(x,y):\n",
        "    return (4*(x**3) + 2*y +7)\n",
        "a=variables(x,y)\n",
        "print(\"Hence the required value of the function is: \",a)"
      ],
      "execution_count": 0,
      "outputs": [
        {
          "output_type": "stream",
          "text": [
            "Enter the value of the first variable: 10\n",
            "Enter the value of the second variable: -2\n",
            "Hence the required value of the function is:  4003\n"
          ],
          "name": "stdout"
        }
      ]
    },
    {
      "metadata": {
        "id": "5toUTbA4kRng",
        "colab_type": "text"
      },
      "cell_type": "markdown",
      "source": [
        "## 5. Write a program in Python to print the table of a given number using function and loop."
      ]
    },
    {
      "metadata": {
        "id": "Hf1g4KAokRnn",
        "colab_type": "code",
        "colab": {
          "base_uri": "https://localhost:8080/",
          "height": 204
        },
        "outputId": "dffb8423-d01c-41b7-8a4b-2b800cac7a13"
      },
      "cell_type": "code",
      "source": [
        "def table(n):\n",
        "  n=int(input(\"Enter the number whose multiplication table you want to print:\"))\n",
        "  for i in range(1, 11):\n",
        "    print(n,'*',i,'=',n*i)\n",
        "table(25)\n",
        "\n",
        "\n",
        "\n",
        "\n",
        "\n",
        "\n",
        "\n",
        "\n",
        "        "
      ],
      "execution_count": 36,
      "outputs": [
        {
          "output_type": "stream",
          "text": [
            "Enter the number whose multiplication table you want to print:50\n",
            "50 * 1 = 50\n",
            "50 * 2 = 100\n",
            "50 * 3 = 150\n",
            "50 * 4 = 200\n",
            "50 * 5 = 250\n",
            "50 * 6 = 300\n",
            "50 * 7 = 350\n",
            "50 * 8 = 400\n",
            "50 * 9 = 450\n",
            "50 * 10 = 500\n"
          ],
          "name": "stdout"
        }
      ]
    },
    {
      "metadata": {
        "id": "NTuOUx0UkRn5",
        "colab_type": "text"
      },
      "cell_type": "markdown",
      "source": [
        "## 6.  Write a program in Python to check whether a number entered by the users is an Armstrong number or not. 153 is an Armstrong number as 153 = pow(1,3)+pow(5,3)+pow(3,3), while 125 is not an Armstrong number because 125≠1**3+2**3+5**3. The program should allow the user to input any 5 numbers for testing using function. "
      ]
    },
    {
      "metadata": {
        "id": "TcIdN6GGkRoB",
        "colab_type": "code",
        "colab": {
          "base_uri": "https://localhost:8080/",
          "height": 51
        },
        "outputId": "6863227c-5527-4f8d-9310-8847a0e50e52"
      },
      "cell_type": "code",
      "source": [
        "def armstrong(num):\n",
        "  num=int(input(\"Enter a number: \"))\n",
        "  sum=0\n",
        "  temp=num\n",
        "  while(temp > 0):\n",
        "    digit=temp%10\n",
        "    sum+=digit**3\n",
        "    temp//=10\n",
        "  if (num == sum):\n",
        "    print(\"The input:\",num,\"is an Armstrong number\")\n",
        "  else:\n",
        "    print(\"The input:\",num,\"is not an Armstrong number\")\n",
        "armstrong(153)    \n"
      ],
      "execution_count": 33,
      "outputs": [
        {
          "output_type": "stream",
          "text": [
            "Enter a number: 153\n",
            "The input: 153 is an Armstrong number\n"
          ],
          "name": "stdout"
        }
      ]
    },
    {
      "metadata": {
        "id": "OO3MPGDskRoP",
        "colab_type": "text"
      },
      "cell_type": "markdown",
      "source": [
        "## 7.  Suppose there is an election in which there are 4 candidates with names “Lion King”, “King of the Ring”, “Lord of the Ring” and “Singh is King”. There are 20 people who are to vote for these 4 candidates. Write a program in Python to input the votes by 20 people and declare the result of the winner. If two candidates get draw, then perform a random voting in between two candidates."
      ]
    },
    {
      "metadata": {
        "id": "5oSxercWkRoT",
        "colab_type": "code",
        "colab": {
          "base_uri": "https://localhost:8080/",
          "height": 459
        },
        "outputId": "f2e6878c-cb4d-461f-85c4-cfee65d23bc0"
      },
      "cell_type": "code",
      "source": [
        "def voting(x):\n",
        "  import random\n",
        "  lk,kr,lr,sk=0,0,0,0\n",
        "  print(\"lk stands for Lion King\\nkr stands for King of the Ring\\nlr stands for Lord of the Ring\\nsk stands for Singh is King\")\n",
        "  print(\"Enter the abbreviation of the party you want to vote for one by one:\")\n",
        "  for i in range(x):\n",
        "    y=input()\n",
        "    if(y==\"lk\"):\n",
        "      lk+=1\n",
        "    elif(y==\"kr\"):\n",
        "      kr+=1\n",
        "    elif(y==\"lr\"):\n",
        "      lr+=1\n",
        "    elif(y==\"sk\"):\n",
        "      sk+=1\n",
        "\n",
        "  if(max(lk,kr,lr,sk)==lk):\n",
        "     print(\"Lion King is the winner of the poll!\")\n",
        "  if(max(lk,kr,lr,sk)==kr):\n",
        "     print(\"King of the Ring is the winner of the poll!\")\n",
        "  if(max(lk,kr,lr,sk)==lr):\n",
        "     print(\"Lord of the Ring is the winner of the poll!\")\n",
        "  if(max(lk,kr,lr,sk)==sk):\n",
        "    print(\"Singh is King is the winner of the poll!\")\n",
        "voting(20)\n",
        "  \n",
        "\n",
        "\n",
        "   "
      ],
      "execution_count": 9,
      "outputs": [
        {
          "output_type": "stream",
          "text": [
            "lk stands for Lion King\n",
            "kr stands for King of the Ring\n",
            "lr stands for Lord of the Ring\n",
            "sk stands for Singh is King\n",
            "Enter the abbreviation of the party you want to vote for one by one:\n",
            "lk\n",
            "lr\n",
            "sk\n",
            "sk\n",
            "lr\n",
            "lr\n",
            "lr\n",
            "lr\n",
            "lr\n",
            "lr\n",
            "lk\n",
            "kr\n",
            "lr\n",
            "sk\n",
            "lr\n",
            "sk\n",
            "sk\n",
            "lr\n",
            "lr\n",
            "lr\n",
            "Lord of the Ring is the winner of the poll!\n"
          ],
          "name": "stdout"
        }
      ]
    },
    {
      "metadata": {
        "id": "tCmEpH2nkRod",
        "colab_type": "text"
      },
      "cell_type": "markdown",
      "source": [
        "## 8. Write a program which takes an integer from the user and checks if the number is a palindrome or not and return the true and false value."
      ]
    },
    {
      "metadata": {
        "id": "vBpuCKe-kRoh",
        "colab_type": "code",
        "colab": {},
        "outputId": "c03c88ac-7097-43de-8c1b-d9bbb0d36ccf"
      },
      "cell_type": "code",
      "source": [
        "n=int(input(\"Enter any number of your choice:\"))\n",
        "temp=n\n",
        "rev=0\n",
        "while(n>0):\n",
        "    dig=n%10\n",
        "    rev=rev*10+dig\n",
        "    n=n//10\n",
        "if(temp==rev):\n",
        "    print(\"The input is a palindrome\")\n",
        "else:\n",
        "    print(\"The input isn't a palindrome\")\n",
        "    "
      ],
      "execution_count": 0,
      "outputs": [
        {
          "output_type": "stream",
          "text": [
            "Enter any number of your choice:12321\n",
            "The input is a palindrome\n"
          ],
          "name": "stdout"
        }
      ]
    },
    {
      "metadata": {
        "id": "3vYSfTIEkRoy",
        "colab_type": "text"
      },
      "cell_type": "markdown",
      "source": [
        "## 9. Write a program to take the values of two integers m and n from the user and display and calculate the sum of even number between m and n (including both m and n). Please note that value of m must be less than value of n. "
      ]
    },
    {
      "metadata": {
        "id": "rfsB4bapkRo1",
        "colab_type": "code",
        "colab": {
          "base_uri": "https://localhost:8080/",
          "height": 68
        },
        "outputId": "ad5e87fd-4d33-49e8-a169-ff58a3f496d3"
      },
      "cell_type": "code",
      "source": [
        "def sum_even(a,b):\n",
        "    a=int(input(\"Enter the value of the first number:\"))\n",
        "    b=int(input(\"Enter the value of the second number:\"))\n",
        "    s=0\n",
        "    for i in range(a,b,1):\n",
        "        if(i%2==0):\n",
        "            s+=i\n",
        "    print(\"The required sum is:\",s)\n",
        "sum_even(1,10)\n"
      ],
      "execution_count": 35,
      "outputs": [
        {
          "output_type": "stream",
          "text": [
            "Enter the value of the first number:1\n",
            "Enter the value of the second number:20\n",
            "The required sum is: 90\n"
          ],
          "name": "stdout"
        }
      ]
    },
    {
      "metadata": {
        "id": "D6Qz5ftCkRpA",
        "colab_type": "text"
      },
      "cell_type": "markdown",
      "source": [
        "## 10. Write a program to accept characters till the user enters null and count the number of alphabets and digits entered by the user."
      ]
    },
    {
      "metadata": {
        "id": "GEKK-Q81kRpD",
        "colab_type": "code",
        "colab": {}
      },
      "cell_type": "code",
      "source": [
        ""
      ],
      "execution_count": 0,
      "outputs": []
    },
    {
      "metadata": {
        "id": "_qm0pLyfkRpS",
        "colab_type": "text"
      },
      "cell_type": "markdown",
      "source": [
        "## 11. Write a program to display the first n Fibonacci numbers. Value of n must be taken from the user using function"
      ]
    },
    {
      "metadata": {
        "id": "nk749QkIkRpW",
        "colab_type": "code",
        "colab": {}
      },
      "cell_type": "code",
      "source": [
        ""
      ],
      "execution_count": 0,
      "outputs": []
    },
    {
      "metadata": {
        "id": "o5lDI9PlkRpg",
        "colab_type": "text"
      },
      "cell_type": "markdown",
      "source": [
        "## 12. Write a python program that calculates the average of a group of 4 test scores, where the lowest score in the group should be dropped. your program should use the following user defined functions.\n",
        "### a.function avg that calculates and displays the average of three highest scores. This function should be called just one time by the main, and should be passed the four scores.\n",
        "### b. function find_lowest that finds and returns the lowest of the four scores passed to it. It should be called by avg, which uses the function to determine which of the four score to drop. "
      ]
    },
    {
      "metadata": {
        "id": "qmJDyGv0kRpj",
        "colab_type": "code",
        "colab": {}
      },
      "cell_type": "code",
      "source": [
        ""
      ],
      "execution_count": 0,
      "outputs": []
    },
    {
      "metadata": {
        "id": "RGfuCRnqkRpu",
        "colab_type": "text"
      },
      "cell_type": "markdown",
      "source": [
        "## 13. Write a python function for a scintific calculator that performs addition, subtraction, multiplication, division, modulus, sin, cos, tan, etc... "
      ]
    },
    {
      "metadata": {
        "id": "cZGt1MR2kRpy",
        "colab_type": "code",
        "colab": {}
      },
      "cell_type": "code",
      "source": [
        "\n",
        "    \n"
      ],
      "execution_count": 0,
      "outputs": []
    },
    {
      "metadata": {
        "id": "tQ7kCybWkRqA",
        "colab_type": "text"
      },
      "cell_type": "markdown",
      "source": [
        "## 14. The total distance travelled by vehicle in ‘t’ seconds is given by distance = ut+1/2at2 where ‘u’ and ‘a’ are the initial velocity (m/sec.) and acceleration (m/sec2). Write a python program to find the distance travelled at regular intervals of time given the values of ‘u’ and ‘a’. The program should provide the flexibility to the user to select his own time intervals and repeat the calculations for different values of ‘u’ and ‘a’."
      ]
    },
    {
      "metadata": {
        "id": "zsvyMd-0kRqE",
        "colab_type": "code",
        "colab": {}
      },
      "cell_type": "code",
      "source": [
        ""
      ],
      "execution_count": 0,
      "outputs": []
    }
  ]
}
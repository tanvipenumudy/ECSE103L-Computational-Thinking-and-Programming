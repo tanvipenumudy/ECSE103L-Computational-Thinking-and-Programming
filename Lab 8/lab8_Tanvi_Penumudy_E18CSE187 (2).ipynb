{
  "nbformat": 4,
  "nbformat_minor": 0,
  "metadata": {
    "colab": {
      "name": "lab8_Tanvi_Penumudy_E18CSE187.ipynb",
      "version": "0.3.2",
      "provenance": [],
      "collapsed_sections": []
    },
    "kernelspec": {
      "display_name": "Python 3",
      "language": "python",
      "name": "python3"
    }
  },
  "cells": [
    {
      "metadata": {
        "id": "5zMTgUb6DtEK",
        "colab_type": "text"
      },
      "cell_type": "markdown",
      "source": [
        "# Student Name: Tanvi Penumudy\n",
        "# Enrollment Number: E18CSE187\n",
        "# Lab assignment number: 8"
      ]
    },
    {
      "metadata": {
        "id": "rgWYcFd-DtEO",
        "colab_type": "text"
      },
      "cell_type": "markdown",
      "source": [
        "## Nested Loops"
      ]
    },
    {
      "metadata": {
        "id": "vAzGQa2RDtER",
        "colab_type": "text"
      },
      "cell_type": "markdown",
      "source": [
        "### 1 Run the following program to see how many time outer and inner loop run."
      ]
    },
    {
      "metadata": {
        "id": "jk8CL-xaDtEV",
        "colab_type": "code",
        "colab": {},
        "outputId": "a0a951bf-60b9-475d-d230-848db1890f00"
      },
      "cell_type": "code",
      "source": [
        "inner=0\n",
        "outer=0\n",
        "for i in range(1,5):\n",
        "    outer+=1\n",
        "    for j in range(1,4):\n",
        "        inner+=1\n",
        "print(outer,inner)\n"
      ],
      "execution_count": 0,
      "outputs": [
        {
          "output_type": "stream",
          "text": [
            "4 12\n"
          ],
          "name": "stdout"
        }
      ]
    },
    {
      "metadata": {
        "id": "kM7On1IDDtEp",
        "colab_type": "text"
      },
      "cell_type": "markdown",
      "source": [
        "### 2 Write a program in Python to print a square pattern using loop.\n",
        "    * * * * *\n",
        "    * * * * *\n",
        "    * * * * *\n",
        "    * * * * *\n",
        "    * * * * *"
      ]
    },
    {
      "metadata": {
        "id": "d7i_nWY0DtEr",
        "colab_type": "code",
        "colab": {
          "base_uri": "https://localhost:8080/",
          "height": 108
        },
        "outputId": "5e24e0f0-18ef-4188-ad62-b2e5801f0983"
      },
      "cell_type": "code",
      "source": [
        "#Write your code\n",
        "char='* '\n",
        "for i in range(5):\n",
        "    print(char*5)"
      ],
      "execution_count": 5,
      "outputs": [
        {
          "output_type": "stream",
          "text": [
            "* * * * * \n",
            "* * * * * \n",
            "* * * * * \n",
            "* * * * * \n",
            "* * * * * \n"
          ],
          "name": "stdout"
        }
      ]
    },
    {
      "metadata": {
        "id": "Q3eHWjZiDtE0",
        "colab_type": "text"
      },
      "cell_type": "markdown",
      "source": [
        "### 3 Print the following output using a Python program:\n",
        "    5  4  3  2  1\n",
        "    5  4  3  2  1    \n",
        "    5  4  3  2  1\n",
        "    5  4  3  2  1 "
      ]
    },
    {
      "metadata": {
        "id": "R0n9dcLCDtE2",
        "colab_type": "code",
        "colab": {
          "base_uri": "https://localhost:8080/",
          "height": 108
        },
        "outputId": "7727fb53-92b6-4966-f386-6714fc0d8498"
      },
      "cell_type": "code",
      "source": [
        "#Write your code\n",
        "for a in range(5):\n",
        "    for b in range (5,0,-1):\n",
        "        print(b,\" \",end='')\n",
        "    print()#for printing in the next line it should be in the first loop and outside the second loop.\n",
        "        \n"
      ],
      "execution_count": 11,
      "outputs": [
        {
          "output_type": "stream",
          "text": [
            "5  4  3  2  1  \n",
            "5  4  3  2  1  \n",
            "5  4  3  2  1  \n",
            "5  4  3  2  1  \n",
            "5  4  3  2  1  \n"
          ],
          "name": "stdout"
        }
      ]
    },
    {
      "metadata": {
        "id": "akNM6Px2DtE-",
        "colab_type": "text"
      },
      "cell_type": "markdown",
      "source": [
        "### 4 Write a program in Python to print following pattern using loop:\n",
        "    * \n",
        "    * * \n",
        "    * * * \n",
        "    * * * * \n",
        "    * * * * *"
      ]
    },
    {
      "metadata": {
        "id": "Y_8kTzqPDtFA",
        "colab_type": "code",
        "colab": {
          "base_uri": "https://localhost:8080/",
          "height": 126
        },
        "outputId": "d94540b4-05c2-48fd-c59b-f321a12f9731"
      },
      "cell_type": "code",
      "source": [
        "#Write your code\n",
        "for a in range(6):\n",
        "    for b in range(a):\n",
        "        print('*',end=\" \")\n",
        "    print()"
      ],
      "execution_count": 14,
      "outputs": [
        {
          "output_type": "stream",
          "text": [
            "\n",
            "* \n",
            "* * \n",
            "* * * \n",
            "* * * * \n",
            "* * * * * \n"
          ],
          "name": "stdout"
        }
      ]
    },
    {
      "metadata": {
        "id": "64qESe4QDtFI",
        "colab_type": "text"
      },
      "cell_type": "markdown",
      "source": [
        "### 5 Write a program in Python to print following pattern using loop:\n",
        "    * * * * * \n",
        "      * * * * \n",
        "        * * * \n",
        "          * * \n",
        "            * "
      ]
    },
    {
      "metadata": {
        "id": "TEBu5MleDtFK",
        "colab_type": "code",
        "colab": {
          "base_uri": "https://localhost:8080/",
          "height": 108
        },
        "outputId": "4d36dfd7-35e6-405a-be4a-c1925db80e17"
      },
      "cell_type": "code",
      "source": [
        "#Write your code\n",
        "for a in range(5,0,-1):\n",
        "    for b in range(6-a,0,-1):\n",
        "        print(\" \",end=\" \")\n",
        "    for b in range(a):\n",
        "        print('*',end=\" \")\n",
        "    print()"
      ],
      "execution_count": 15,
      "outputs": [
        {
          "output_type": "stream",
          "text": [
            "  * * * * * \n",
            "    * * * * \n",
            "      * * * \n",
            "        * * \n",
            "          * \n"
          ],
          "name": "stdout"
        }
      ]
    },
    {
      "metadata": {
        "id": "7lO2K0YnDtFU",
        "colab_type": "text"
      },
      "cell_type": "markdown",
      "source": [
        "### 6 Write a program in Python to print Floyd triangle for range entered by user.\n",
        "For example: range=4\n",
        "\n",
        "    1 \n",
        "    2 3 \n",
        "    4 5 6     \n",
        "    7 8 9 10"
      ]
    },
    {
      "metadata": {
        "id": "vABUjhTYDtFW",
        "colab_type": "code",
        "colab": {
          "base_uri": "https://localhost:8080/",
          "height": 181
        },
        "outputId": "c8671f76-bc20-48a8-8761-40107480885a"
      },
      "cell_type": "code",
      "source": [
        "#Write your code\n",
        "x=int(input(\"Enter any range of your choice:\"))\n",
        "a=x\n",
        "b=0\n",
        "for x in range(1,a+1):\n",
        "    for s in range(1,x+1):\n",
        "        b=b+1\n",
        "        print(b, end=\" \")\n",
        "    print()\n"
      ],
      "execution_count": 17,
      "outputs": [
        {
          "output_type": "stream",
          "text": [
            "Enter any range of your choice:8\n",
            "1 \n",
            "2 3 \n",
            "4 5 6 \n",
            "7 8 9 10 \n",
            "11 12 13 14 15 \n",
            "16 17 18 19 20 21 \n",
            "22 23 24 25 26 27 28 \n",
            "29 30 31 32 33 34 35 36 \n"
          ],
          "name": "stdout"
        }
      ]
    },
    {
      "metadata": {
        "id": "x_6cBOyBDtFe",
        "colab_type": "text"
      },
      "cell_type": "markdown",
      "source": [
        "### 7 Write a program in Python to take 5 numbers from user and print their factors."
      ]
    },
    {
      "metadata": {
        "id": "kk1luhjnDtFj",
        "colab_type": "code",
        "colab": {
          "base_uri": "https://localhost:8080/",
          "height": 581
        },
        "outputId": "8133a228-9fe8-4d34-ed39-3e9673d719a2"
      },
      "cell_type": "code",
      "source": [
        "#Write your code\n",
        "for i in range(5):\n",
        "    n=int(input(\"Enter any number:\"))\n",
        "    for j in range(1,n):\n",
        "        if(n%j==0):\n",
        "            print('The factors are:',j)\n",
        "    print()"
      ],
      "execution_count": 21,
      "outputs": [
        {
          "output_type": "stream",
          "text": [
            "Enter any number:12\n",
            "The factors are: 1\n",
            "The factors are: 2\n",
            "The factors are: 3\n",
            "The factors are: 4\n",
            "The factors are: 6\n",
            "\n",
            "Enter any number:24\n",
            "The factors are: 1\n",
            "The factors are: 2\n",
            "The factors are: 3\n",
            "The factors are: 4\n",
            "The factors are: 6\n",
            "The factors are: 8\n",
            "The factors are: 12\n",
            "\n",
            "Enter any number:30\n",
            "The factors are: 1\n",
            "The factors are: 2\n",
            "The factors are: 3\n",
            "The factors are: 5\n",
            "The factors are: 6\n",
            "The factors are: 10\n",
            "The factors are: 15\n",
            "\n",
            "Enter any number:29\n",
            "The factors are: 1\n",
            "\n",
            "Enter any number:2\n",
            "The factors are: 1\n",
            "\n"
          ],
          "name": "stdout"
        }
      ]
    },
    {
      "metadata": {
        "id": "yjjc9_1xDtF0",
        "colab_type": "text"
      },
      "cell_type": "markdown",
      "source": [
        "### 8 Write a program in Python to print all prime numbers between 1 and 20."
      ]
    },
    {
      "metadata": {
        "id": "CsJztRLsDtF2",
        "colab_type": "code",
        "colab": {
          "base_uri": "https://localhost:8080/",
          "height": 199
        },
        "outputId": "3e09dac2-e862-4894-de55-41e8d41621c3"
      },
      "cell_type": "code",
      "source": [
        "#Write your code\n",
        "import math\n",
        "n1=1\n",
        "n2=20\n",
        "print(\"The list of Prime numbers between 1 to 20:\")\n",
        "for x in range(n1,n2+1):\n",
        "    y= int(math.sqrt(x))+1\n",
        "    for i in range(2,y):\n",
        "        if(x%i==0):\n",
        "            break\n",
        "    else:\n",
        "        print(x)"
      ],
      "execution_count": 25,
      "outputs": [
        {
          "output_type": "stream",
          "text": [
            "The list of Prime numbers between 1 to 20:\n",
            "1\n",
            "2\n",
            "3\n",
            "5\n",
            "7\n",
            "11\n",
            "13\n",
            "17\n",
            "19\n"
          ],
          "name": "stdout"
        }
      ]
    },
    {
      "metadata": {
        "id": "7t-Fi-8mDtF_",
        "colab_type": "text"
      },
      "cell_type": "markdown",
      "source": [
        "### 9 Write a program in Python to input multiple number till enter -1 and print the digits of an each integer number in reverse order. The program should also print the count of digits. For example, if n=235, digits are 5,3 and 2. The count is 3."
      ]
    },
    {
      "metadata": {
        "id": "Eq04d5AMDtGB",
        "colab_type": "code",
        "colab": {
          "base_uri": "https://localhost:8080/",
          "height": 399
        },
        "outputId": "c1ee80f1-cf0d-4e98-cf59-c6786274c142"
      },
      "cell_type": "code",
      "source": [
        "#Write your code\n",
        "x=int(input(\"Enter any number of your choice:\"))\n",
        "while(x != -1):\n",
        "    while(x != 0):\n",
        "        print(x % 10)\n",
        "        x =x // 10\n",
        "    x=int(input('Number is:'))"
      ],
      "execution_count": 27,
      "outputs": [
        {
          "output_type": "stream",
          "text": [
            "Enter any number of your choice:234\n",
            "4\n",
            "3\n",
            "2\n",
            "Number is:123\n",
            "3\n",
            "2\n",
            "1\n",
            "Number is:678\n",
            "8\n",
            "7\n",
            "6\n",
            "Number is:890\n",
            "0\n",
            "9\n",
            "8\n",
            "Number is:234\n",
            "4\n",
            "3\n",
            "2\n",
            "Number is:-1\n"
          ],
          "name": "stdout"
        }
      ]
    },
    {
      "metadata": {
        "id": "hL3u75dQDtGL",
        "colab_type": "text"
      },
      "cell_type": "markdown",
      "source": [
        "### 10 Print the following output using a Python program:\n",
        "    1  2  3  4  5    \n",
        "    1  2  3  4  5    \n",
        "    1  2  3  4  5    \n",
        "    1  2  3  4  5"
      ]
    },
    {
      "metadata": {
        "id": "VY_odG5bDtGN",
        "colab_type": "code",
        "colab": {
          "base_uri": "https://localhost:8080/",
          "height": 126
        },
        "outputId": "e248e180-c3e2-4a09-e172-eb000658cf2d"
      },
      "cell_type": "code",
      "source": [
        "#Write your code\n",
        "print(\"The required sequence is:\")\n",
        "for a in range(5):\n",
        "    for b in range(1,6):\n",
        "        print(b , end=\" \")\n",
        "    print()"
      ],
      "execution_count": 28,
      "outputs": [
        {
          "output_type": "stream",
          "text": [
            "The required sequence is:\n",
            "1 2 3 4 5 \n",
            "1 2 3 4 5 \n",
            "1 2 3 4 5 \n",
            "1 2 3 4 5 \n",
            "1 2 3 4 5 \n"
          ],
          "name": "stdout"
        }
      ]
    },
    {
      "metadata": {
        "id": "soIlmgWWDtGb",
        "colab_type": "text"
      },
      "cell_type": "markdown",
      "source": [
        "## Optional Questions"
      ]
    },
    {
      "metadata": {
        "id": "ze_kgb05DtGf",
        "colab_type": "text"
      },
      "cell_type": "markdown",
      "source": [
        "### 11 Write a program in Python to print tilted line of length entered by user:\n",
        "For len=3. Output should look like:\n",
        "\n",
        "    \\\n",
        "     \\\n",
        "      \\"
      ]
    },
    {
      "metadata": {
        "id": "v3KeEj7nDtGh",
        "colab_type": "code",
        "colab": {}
      },
      "cell_type": "code",
      "source": [
        "#Write your code\n"
      ],
      "execution_count": 0,
      "outputs": []
    },
    {
      "metadata": {
        "id": "NFp8dBQMDtG6",
        "colab_type": "text"
      },
      "cell_type": "markdown",
      "source": [
        "### 12 Write a program in Python to print following pattern using loop.\n",
        "\n",
        "             *\n",
        "           * *\n",
        "         * * *\n",
        "       * * * *\n",
        "     * * * * *"
      ]
    },
    {
      "metadata": {
        "id": "4beJLMjEDtG9",
        "colab_type": "code",
        "colab": {
          "base_uri": "https://localhost:8080/",
          "height": 126
        },
        "outputId": "62e8abd6-b6bd-4109-a5ff-d62878f7cfc7"
      },
      "cell_type": "code",
      "source": [
        "#Write your code\n",
        "for a in range(6):\n",
        "    for b in range(7-a,0,-1):\n",
        "        print(\" \", end=\" \")\n",
        "    for b in range(a):\n",
        "        \n",
        "         print('*',end=\" \" )\n",
        "    print()\n",
        "    "
      ],
      "execution_count": 29,
      "outputs": [
        {
          "output_type": "stream",
          "text": [
            "              \n",
            "            * \n",
            "          * * \n",
            "        * * * \n",
            "      * * * * \n",
            "    * * * * * \n"
          ],
          "name": "stdout"
        }
      ]
    },
    {
      "metadata": {
        "id": "syjmBn8iDtHH",
        "colab_type": "text"
      },
      "cell_type": "markdown",
      "source": [
        "### 13 Write a program in Python to print following pattern using loop:\n",
        "    * * * * *\n",
        "    * * * *\n",
        "    * * *    \n",
        "    * *\n",
        "    * "
      ]
    },
    {
      "metadata": {
        "id": "LxdjH3_7DtHK",
        "colab_type": "code",
        "colab": {
          "base_uri": "https://localhost:8080/",
          "height": 108
        },
        "outputId": "9448dcef-678d-422f-f460-f566991912fe"
      },
      "cell_type": "code",
      "source": [
        "#Write your code\n",
        "for a in range(5,0,-1):\n",
        "    for b in range(a):\n",
        "        print('*',end=\" \")\n",
        "    print()"
      ],
      "execution_count": 30,
      "outputs": [
        {
          "output_type": "stream",
          "text": [
            "* * * * * \n",
            "* * * * \n",
            "* * * \n",
            "* * \n",
            "* \n"
          ],
          "name": "stdout"
        }
      ]
    },
    {
      "metadata": {
        "id": "r3F1UWW2DtHY",
        "colab_type": "text"
      },
      "cell_type": "markdown",
      "source": [
        "### 14 Write a program in Python to draw a pencil using loop.\n",
        "       * \n",
        "      * * \n",
        "     * * * \n",
        "    | | | |\n",
        "    | | | |\n",
        "    | | | |\n",
        "    | | | |\n",
        "    | | | |\n",
        "    | | | |"
      ]
    },
    {
      "metadata": {
        "id": "pXxcGiDDDtHZ",
        "colab_type": "code",
        "colab": {}
      },
      "cell_type": "code",
      "source": [
        "#Write your code\n",
        "\n",
        "\n",
        "char='| '\n",
        "for i in range(6):\n",
        "    print(char*4)"
      ],
      "execution_count": 0,
      "outputs": []
    },
    {
      "metadata": {
        "id": "HFmo_B5ZDtHi",
        "colab_type": "text"
      },
      "cell_type": "markdown",
      "source": [
        "### 15 Write a program in Python to print XYZ pattern using loop."
      ]
    },
    {
      "metadata": {
        "id": "PBlFEZ7DDtHk",
        "colab_type": "code",
        "colab": {}
      },
      "cell_type": "code",
      "source": [
        "#Write your code"
      ],
      "execution_count": 0,
      "outputs": []
    }
  ]
}
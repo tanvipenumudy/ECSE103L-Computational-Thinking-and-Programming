{
  "nbformat": 4,
  "nbformat_minor": 0,
  "metadata": {
    "colab": {
      "name": "Lab 4 Assignment.ipynb",
      "version": "0.3.2",
      "provenance": [],
      "collapsed_sections": []
    },
    "kernelspec": {
      "display_name": "Python 3",
      "language": "python",
      "name": "python3"
    }
  },
  "cells": [
    {
      "metadata": {
        "id": "NoWRjXs-jwLE",
        "colab_type": "text"
      },
      "cell_type": "markdown",
      "source": [
        "# Student Name: Tanvi Penumudy\n",
        "# Enrollment Number: E18CSE187\n",
        "# Lab assignment number: 4"
      ]
    },
    {
      "metadata": {
        "id": "gbv4ntgOjwLV",
        "colab_type": "text"
      },
      "cell_type": "markdown",
      "source": [
        "##                                       Control Structure, Decision Statements (If, else)"
      ]
    },
    {
      "metadata": {
        "id": "5ZWiuJeojwLf",
        "colab_type": "text"
      },
      "cell_type": "markdown",
      "source": [
        "##### Syntax of if statement"
      ]
    },
    {
      "metadata": {
        "id": "0UQCOKjzjwLo",
        "colab_type": "raw"
      },
      "cell_type": "markdown",
      "source": [
        "                            if(cond):\n",
        "                                stmt\n",
        "                            else:\n",
        "                                stmt"
      ]
    },
    {
      "metadata": {
        "id": "gudwSjPDjwLz",
        "colab_type": "text"
      },
      "cell_type": "markdown",
      "source": [
        "##### Syntax of if-elif statement"
      ]
    },
    {
      "metadata": {
        "id": "e2o8zgVajwMA",
        "colab_type": "raw"
      },
      "cell_type": "markdown",
      "source": [
        "\n",
        "                            if(cond):\n",
        "                                stmt\n",
        "                            elif(cond):\n",
        "                                stmt\n",
        "                            .\n",
        "                            .\n",
        "                            .\n",
        "                            else: \n",
        "                                stmt"
      ]
    },
    {
      "metadata": {
        "id": "APUaNPG8jwMN",
        "colab_type": "text"
      },
      "cell_type": "markdown",
      "source": [
        "##### Syntax of Nested if-else statement"
      ]
    },
    {
      "metadata": {
        "id": "bxZfeeDLn5Vc",
        "colab_type": "code",
        "colab": {}
      },
      "cell_type": "code",
      "source": [
        ""
      ],
      "execution_count": 0,
      "outputs": []
    },
    {
      "metadata": {
        "id": "1nkjGL1-jwMc",
        "colab_type": "raw"
      },
      "cell_type": "markdown",
      "source": [
        "                            if(cond):\n",
        "                                stmt\n",
        "                                if(cond):\n",
        "                                    stmt1\n",
        "                            else:\n",
        "                                if(cond):\n",
        "                                    stmt3\n",
        "                                else:\n",
        "                                    stmt4"
      ]
    },
    {
      "metadata": {
        "id": "vcQtrT3-jwMt",
        "colab_type": "text"
      },
      "cell_type": "markdown",
      "source": [
        "### 1. Write a python program to sum two user input integers. However, if the sum is between x to y it will return True. X and Y is from user."
      ]
    },
    {
      "metadata": {
        "id": "N0xf2SmsjwM6",
        "colab_type": "code",
        "colab": {},
        "outputId": "b0161d70-f373-47bd-91a0-fa58ecf9c37c"
      },
      "cell_type": "code",
      "source": [
        "# Write your Code Here\n",
        "a=int(input('Enter the first input: '))\n",
        "b=int(input('Enter the second input: '))\n",
        "x=int(input('Enter the left limit within which you want to confine the sum: '))\n",
        "y=int(input('Enter the right limit within which you want to confine the sum: '))\n",
        "sum=a+b\n",
        "if(x<sum<y):\n",
        "    print(True)\n",
        "else:\n",
        "    print(False)\n"
      ],
      "execution_count": 0,
      "outputs": [
        {
          "output_type": "stream",
          "text": [
            "Enter the first input: 10\n",
            "Enter the second input: 15\n",
            "Enter the left limit within which you want to confine the sum: 2\n",
            "Enter the right limit within which you want to confine the sum: 50\n",
            "True\n"
          ],
          "name": "stdout"
        }
      ]
    },
    {
      "metadata": {
        "id": "X6bTchp5jwOA",
        "colab_type": "text"
      },
      "cell_type": "markdown",
      "source": [
        "### 2. \tWrite a  Program to display smallest number from three input numbers. (Hint: Nested if)"
      ]
    },
    {
      "metadata": {
        "id": "gGt14UzIjwOQ",
        "colab_type": "code",
        "colab": {},
        "outputId": "2e1640e6-8ccd-4b7d-c469-4ba56d27dcba"
      },
      "cell_type": "code",
      "source": [
        "# Write your code here\n",
        "a=int(input('Enter first number of your choice:'))\n",
        "b=int(input('Enter second number of your choice:'))\n",
        "c=int(input('Enter third number of your choice:'))\n",
        "if(a<b):\n",
        "    if(a<c):\n",
        "        print(a,' is the smallest of all')\n",
        "    else:\n",
        "        print(c,' is the smallest of all')\n",
        "else:\n",
        "    if(b<c):\n",
        "        print(b,' is the smallest of all')\n",
        "    else:\n",
        "        print(c,' is the smallest of all')\n",
        "    \n",
        "    \n",
        "    \n",
        "    \n",
        "\n"
      ],
      "execution_count": 0,
      "outputs": [
        {
          "output_type": "stream",
          "text": [
            "Enter first number of your choice:12\n",
            "Enter second number of your choice:1\n",
            "Enter third number of your choice:35\n",
            "1  is the smallest of all\n"
          ],
          "name": "stdout"
        }
      ]
    },
    {
      "metadata": {
        "id": "f5xu8ouTjwPT",
        "colab_type": "text"
      },
      "cell_type": "markdown",
      "source": [
        "### 3. \tWrite a proram that accept a lowercase/ uppercase character from the user and check whether the character is a vowel or consonant."
      ]
    },
    {
      "metadata": {
        "id": "V2VZuBvWjwPg",
        "colab_type": "code",
        "colab": {},
        "outputId": "9d290430-ab7c-4537-cb3f-ea84f2caeb91"
      },
      "cell_type": "code",
      "source": [
        "# Write your code here\n",
        "x=input('Enter any lowercase/uppercase character of your choice: ')\n",
        "if(x=='a' or x=='e' or x=='i' or x=='o' or x=='u'or x=='A' or x=='E' or x=='I' or x=='O' or x=='U'):\n",
        "    print('Your input is a vowel')\n",
        "else:\n",
        "    print('Your input is a consonant')\n",
        "    \n"
      ],
      "execution_count": 0,
      "outputs": [
        {
          "output_type": "stream",
          "text": [
            "Enter any lowercase/uppercase character of your choice: g\n",
            "Your input is a consonant\n"
          ],
          "name": "stdout"
        }
      ]
    },
    {
      "metadata": {
        "id": "Ql7TW04njwQZ",
        "colab_type": "text"
      },
      "cell_type": "markdown",
      "source": [
        "### 4. Write a Python program to input a number between 1 and 7 and print the day of the week: 1-Sun, 2-Mon, 3-Tue, 4-Wed, 5-Thur, 6-Fri, 7-Sat. It should print 'invalid' if the number does not lie in correct range. "
      ]
    },
    {
      "metadata": {
        "id": "ZGPvcEgZjwQn",
        "colab_type": "code",
        "colab": {},
        "outputId": "ccc7464f-9734-45ee-f27d-796d506ac5b1"
      },
      "cell_type": "code",
      "source": [
        "# Write your code here\n",
        "x=int(input('Enter any value between 1 to 7 which corresponds to a day in a week: '))\n",
        "if(x==1):\n",
        "    print('Sunday')\n",
        "elif(x==2):\n",
        "    print('Monday')\n",
        "elif(x==3):\n",
        "    print('Tuesday')\n",
        "elif(x==4):\n",
        "    print('Wednesday')\n",
        "elif(x==5):\n",
        "    print('Thursday')\n",
        "elif(x==6):\n",
        "    print('Friday')\n",
        "elif(x==7):\n",
        "    print('Saturday')\n",
        "else:\n",
        "    print('Invalid value')\n"
      ],
      "execution_count": 0,
      "outputs": [
        {
          "output_type": "stream",
          "text": [
            "Enter any value between 1 to 7 which corresponds to a day in a week: 5\n",
            "Thursday\n"
          ],
          "name": "stdout"
        }
      ]
    },
    {
      "metadata": {
        "id": "gd8hnn0VjwR3",
        "colab_type": "text"
      },
      "cell_type": "markdown",
      "source": [
        "### 5. Write a Python program to accept three numbers x,y,z from user. The program should check whether x lies  between the range specified by other two numbers, i.e. y and z (y<=x<=z)"
      ]
    },
    {
      "metadata": {
        "id": "75F7kp0FjwSE",
        "colab_type": "code",
        "colab": {},
        "outputId": "321fa813-8613-43a8-96a0-12dcdfb01de3"
      },
      "cell_type": "code",
      "source": [
        "# Write your code here\n",
        "x=float(input('Enter first number of your choice:'))\n",
        "y=float(input('Enter second number of your choice:'))\n",
        "z=float(input('Enter third number of your choice:'))\n",
        "if(y<=x<=z):\n",
        "    print('Yes, the first value lies in the closed interval of the second and the third number ')\n",
        "else:\n",
        "    print('No, the first value does not lie in the closed interval of the second and the third number ')\n",
        "\n"
      ],
      "execution_count": 0,
      "outputs": [
        {
          "output_type": "stream",
          "text": [
            "Enter first number of your choice:14.2345\n",
            "Enter second number of your choice:12\n",
            "Enter third number of your choice:14.789\n",
            "Yes, the first value lies in the closed interval of the second and the third number \n"
          ],
          "name": "stdout"
        }
      ]
    },
    {
      "metadata": {
        "id": "xzIb0UTCjwS9",
        "colab_type": "text"
      },
      "cell_type": "markdown",
      "source": [
        "### 6. Write a program that accept three sides of triangle as input, and print whether the triangle is valid or not.  "
      ]
    },
    {
      "metadata": {
        "id": "smrJlMd2jwTN",
        "colab_type": "raw"
      },
      "cell_type": "markdown",
      "source": [
        "Hint: A triangle is valid if sum of its two sides is greater than the third side. If three sides are a, b and c, then three conditions should be met.\n",
        "                                        a + b > c \n",
        "                                        a + c > b \n",
        "                                        b + c > a"
      ]
    },
    {
      "metadata": {
        "id": "zHpayVl6jwTf",
        "colab_type": "code",
        "colab": {},
        "outputId": "419f643d-f22d-48d4-bc69-5a4ea86259a7"
      },
      "cell_type": "code",
      "source": [
        "# Write your code here\n",
        "a=int(input('Enter first side of the triangle: '))\n",
        "b=int(input('Enter second side of the triangle: '))\n",
        "c=int(input('Enter third side of the triangle: '))\n",
        "if(a+b>c and a+c>b and b+c>a):\n",
        "    print('Yes, the triangle with the input sides exists')\n",
        "else:\n",
        "    print('No, the triangle with the input sides does not exist')\n",
        "    \n"
      ],
      "execution_count": 0,
      "outputs": [
        {
          "output_type": "stream",
          "text": [
            "Enter first side of the triangle: 3\n",
            "Enter second side of the triangle: 4\n",
            "Enter third side of the triangle: 5\n",
            "Yes, the triangle with the input sides exists\n"
          ],
          "name": "stdout"
        }
      ]
    },
    {
      "metadata": {
        "id": "WDzDL_0yjwUe",
        "colab_type": "text"
      },
      "cell_type": "markdown",
      "source": [
        "### 7. Write a Python program to check a triangle is equilateral, isosceles or scalene. \n",
        "Hint: Input is the angles of triangles."
      ]
    },
    {
      "metadata": {
        "id": "fzRKATl2jwUr",
        "colab_type": "text"
      },
      "cell_type": "markdown",
      "source": [
        "![image.png](attachment:image.png)"
      ]
    },
    {
      "metadata": {
        "id": "Tlb4l96jjwU3",
        "colab_type": "code",
        "colab": {
          "base_uri": "https://localhost:8080/",
          "height": 85
        },
        "outputId": "f63637c1-4ca1-4219-c786-d03ba1002790"
      },
      "cell_type": "code",
      "source": [
        "#write your code here\n",
        "a=int(input('Enter first angle of any valid triangle: '))\n",
        "b=int(input('Enter second angle of any valid triangle: '))\n",
        "c=int(input('Enter third angle of any valid triangle: '))\n",
        "if(a==b==c):\n",
        "    print('The Triangle is Equilateral')\n",
        "elif(a==b or b==c or c==a):\n",
        "    print('The Triangle is Isosceles')\n",
        "else:\n",
        "    print('The Triangle is Scalene')\n",
        "    \n"
      ],
      "execution_count": 21,
      "outputs": [
        {
          "output_type": "stream",
          "text": [
            "Enter first angle of any valid triangle: 30\n",
            "Enter second angle of any valid triangle: 120\n",
            "Enter third angle of any valid triangle: 30\n",
            "The Triangle is Isosceles\n"
          ],
          "name": "stdout"
        }
      ]
    },
    {
      "metadata": {
        "id": "kxAVAKmCjwVe",
        "colab_type": "text"
      },
      "cell_type": "markdown",
      "source": [
        "### 8. A bank requires customers to have a minimum salary of Rs.30,000 and at least 2 years of experience on the job to qualify for a loan. Write a Python program to check whether a customer qualifies for loan or not, based on these two parameters."
      ]
    },
    {
      "metadata": {
        "id": "G5h6qNBHjwVo",
        "colab_type": "code",
        "colab": {},
        "outputId": "4d2bdd5f-d9e2-40fb-ce8a-ed78e4948f91"
      },
      "cell_type": "code",
      "source": [
        "# Write your code here\n",
        "x=int(input('Enter your salary: '))\n",
        "y=int(input('Enter your job experience in years: '))\n",
        "if(x>=30000 and y>=2):\n",
        "    print('You are qualified for the loan!')\n",
        "else:\n",
        "    print('Sorry, you are not qualified for the loan.')"
      ],
      "execution_count": 0,
      "outputs": [
        {
          "output_type": "stream",
          "text": [
            "Enter your salary: 100000000000\n",
            "Enter your job experience in years: 15\n",
            "You are qualified for the loan!\n"
          ],
          "name": "stdout"
        }
      ]
    },
    {
      "metadata": {
        "id": "mbChrPmfjwWb",
        "colab_type": "text"
      },
      "cell_type": "markdown",
      "source": [
        "### 9. Write a program to input a number x from the keyboard. If the number is larger than 0, find its square root. Otherwise, calculate the square of x."
      ]
    },
    {
      "metadata": {
        "id": "MJoAFwwBjwWp",
        "colab_type": "code",
        "colab": {
          "base_uri": "https://localhost:8080/",
          "height": 68
        },
        "outputId": "d6054b22-823e-4c35-e1ac-bb88201b9342"
      },
      "cell_type": "code",
      "source": [
        "# Write your code here\n",
        "x=int(input('Enter any number which is either positive or negative: '))\n",
        "if(x>0):\n",
        "    print('The number is positive')\n",
        "    print(x**(1/2), 'is its square root')\n",
        "elif(x<0):\n",
        "    print('The number is negative')\n",
        "    print(x**2, 'is its square')\n",
        "else:\n",
        "    print('It is zero')\n"
      ],
      "execution_count": 20,
      "outputs": [
        {
          "output_type": "stream",
          "text": [
            "Enter any number which is either positive or negative: 2\n",
            "The number is positive\n",
            "1.4142135623730951 is its square root\n"
          ],
          "name": "stdout"
        }
      ]
    },
    {
      "metadata": {
        "id": "USLqc8s-jwX2",
        "colab_type": "text"
      },
      "cell_type": "markdown",
      "source": [
        "### 10. Write a program to check whether given character is a digit or a character in lowercase or uppercase alphabet. Hint: ASCII value of digit is between 48 to 58 and Lowercase characters in the range of 97 to122, uppercase is between 65 and 90)."
      ]
    },
    {
      "metadata": {
        "id": "umQGx69PjwYU",
        "colab_type": "code",
        "colab": {
          "base_uri": "https://localhost:8080/",
          "height": 51
        },
        "outputId": "4a5d2fe8-8d04-4ce1-f354-61811c99eba0"
      },
      "cell_type": "code",
      "source": [
        "# Write your code here\n",
        "x=int(input('Enter the ASCII code of any character: '))\n",
        "if(48<=x<=58):\n",
        "    print('The character is a digit')\n",
        "elif(97<=x<=122):  \n",
        "    print('The character is a lowercase alphabet')\n",
        "elif(65<=x<=90):\n",
        "    print('The character is an uppercase alphabet')\n",
        "else:\n",
        "    print('It is neither an alphabet nor a digit')\n"
      ],
      "execution_count": 28,
      "outputs": [
        {
          "output_type": "stream",
          "text": [
            "Enter the ASCII code of any character: 86\n",
            "The character is an uppercase alphabet\n"
          ],
          "name": "stdout"
        }
      ]
    },
    {
      "metadata": {
        "id": "_Sh6wC25jwZu",
        "colab_type": "text"
      },
      "cell_type": "markdown",
      "source": [
        "# Optional Programs"
      ]
    },
    {
      "metadata": {
        "id": "4-nPZ5uFjwZ4",
        "colab_type": "text"
      },
      "cell_type": "markdown",
      "source": [
        "### 11. Write a Python program to find the solution the quadratic equation below:\n",
        "              ax 2+ bx + c = 0\n",
        "The program should print the roots if these are real or equal. It should print 'roots are imaginary' otherwise. \n",
        "Input a, b & C from user."
      ]
    },
    {
      "metadata": {
        "id": "F7fnfBhbjwZ8",
        "colab_type": "code",
        "colab": {
          "base_uri": "https://localhost:8080/",
          "height": 85
        },
        "outputId": "f79322bd-327e-41d9-e400-c1b74ce517ff"
      },
      "cell_type": "code",
      "source": [
        "# Write your code here\n",
        "a=int(input('Enter the coefficient of x^2: '))\n",
        "b=int(input('Enter the coefficient of x: '))\n",
        "c=int(input('Enter the constant term: '))\n",
        "discriminate=b**2-(4*a*c)\n",
        "if(discriminate>=0):\n",
        "  print('The roots of the quadratic equation are: ', (-b+discriminate**(1/2))/(2*a),'and',(-b-discriminate**(1/2))/(2*a))\n",
        "else:\n",
        "  print('The equation has no real roots')\n",
        "       \n"
      ],
      "execution_count": 6,
      "outputs": [
        {
          "output_type": "stream",
          "text": [
            "Enter the coefficient of x^2: 1\n",
            "Enter the coefficient of x: 3\n",
            "Enter the constant term: 2\n",
            "The roots of the quadratic equation are:  -1.0 and -2.0\n"
          ],
          "name": "stdout"
        }
      ]
    },
    {
      "metadata": {
        "id": "5qBTSw6BjwaU",
        "colab_type": "text"
      },
      "cell_type": "markdown",
      "source": [
        "### 12. Write a program, which accepts annual basic salary of an employee and calculates and displays the Income tax as per the following rules. \n",
        "####                 If Basic is less than Rs. 1,50,000/-, then Tax = 0\n",
        "####                 If Basic is from Rs. 1,50,000/- to Rs. 3,00,000/-, then tax is 20%\n",
        "####                 If Basic is greater than Rs. 3,00,000/-, then tax is 30%\n"
      ]
    },
    {
      "metadata": {
        "id": "440iicNcjwaX",
        "colab_type": "code",
        "colab": {
          "base_uri": "https://localhost:8080/",
          "height": 51
        },
        "outputId": "10dbd72c-1184-4cce-f59f-dbf639a77b8c"
      },
      "cell_type": "code",
      "source": [
        "# Write your code here\n",
        "x=int(input('Enter your annual salary: '))\n",
        "if(x<=150000):\n",
        "  print('Your Income tax is 0/-')\n",
        "elif(150000<x<=300000):\n",
        "  print('Your Income tax is: ', (20/100)*x)\n",
        "else:\n",
        "  print('Your Income tax is: ', (30/100)*x)"
      ],
      "execution_count": 5,
      "outputs": [
        {
          "output_type": "stream",
          "text": [
            "Enter your annual salary: 30000000\n",
            "Your Income tax is:  9000000.0\n"
          ],
          "name": "stdout"
        }
      ]
    },
    {
      "metadata": {
        "id": "aWD-ApL5jwai",
        "colab_type": "text"
      },
      "cell_type": "markdown",
      "source": [
        "### 13. Write a program for electrical billing system based on the given requirements. Input the amount of K/watt have been used."
      ]
    },
    {
      "metadata": {
        "id": "Ufafjo-Ljwal",
        "colab_type": "text"
      },
      "cell_type": "markdown",
      "source": [
        "## ![image.png](attachment:image.png)"
      ]
    },
    {
      "metadata": {
        "id": "AFhPQxsmqq02",
        "colab_type": "text"
      },
      "cell_type": "markdown",
      "source": [
        ""
      ]
    },
    {
      "metadata": {
        "id": "F1GcOfwZjwap",
        "colab_type": "code",
        "colab": {
          "base_uri": "https://localhost:8080/",
          "height": 51
        },
        "outputId": "dcd59327-01d9-47f2-a09c-4aebf3a2818d"
      },
      "cell_type": "code",
      "source": [
        "# write your code here\n",
        "a=int(input('Enter the amount of K/Watt that has been used: '))\n",
        "if(0<=a<=200):\n",
        "      print('Rate of charge is RM 0.50 per unit')\n",
        "elif(201<=a<=400):\n",
        "      print('Rate of charge is RM 0.65 in excess of 200 units')\n",
        "elif(401<=a<=600):\n",
        "      print('Rate of charge is RM 0.80 in excess of 400 units')\n",
        "else:\n",
        "      print('Rate of charge is RM 1.00 in excess of 6000 units')"
      ],
      "execution_count": 27,
      "outputs": [
        {
          "output_type": "stream",
          "text": [
            "Enter the amount of K/Watt that has been used: 329\n",
            "Rate of charge is RM 0.65 in excess of 200 units\n"
          ],
          "name": "stdout"
        }
      ]
    }
  ]
}
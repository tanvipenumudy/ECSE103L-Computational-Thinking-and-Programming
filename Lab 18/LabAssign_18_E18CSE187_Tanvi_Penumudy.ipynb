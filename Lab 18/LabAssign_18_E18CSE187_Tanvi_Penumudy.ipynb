{
  "nbformat": 4,
  "nbformat_minor": 0,
  "metadata": {
    "colab": {
      "name": "LabAssign_18_E18CSE187_Tanvi_Penumudy.ipynb",
      "version": "0.3.2",
      "provenance": [],
      "collapsed_sections": []
    },
    "kernelspec": {
      "display_name": "Python 3",
      "language": "python",
      "name": "python3"
    }
  },
  "cells": [
    {
      "metadata": {
        "id": "UZOo9a7zXvYJ",
        "colab_type": "text"
      },
      "cell_type": "markdown",
      "source": [
        "# Name : Tanvi Penumudy"
      ]
    },
    {
      "metadata": {
        "id": "iPQNHiu6XvYO",
        "colab_type": "text"
      },
      "cell_type": "markdown",
      "source": [
        "# Enrollment No. :E18CSE187"
      ]
    },
    {
      "metadata": {
        "id": "COKaY7W4XvYQ",
        "colab_type": "text"
      },
      "cell_type": "markdown",
      "source": [
        "# Lab on : Object Oriented Programming"
      ]
    },
    {
      "metadata": {
        "id": "BcEcvMe_XvYS",
        "colab_type": "text"
      },
      "cell_type": "markdown",
      "source": [
        "### Creating class"
      ]
    },
    {
      "metadata": {
        "scrolled": true,
        "id": "4dDDh3rEXvYW",
        "colab_type": "code",
        "colab": {
          "base_uri": "https://localhost:8080/",
          "height": 34
        },
        "outputId": "a52840f8-bbe0-473a-c2a5-753c5b867b94"
      },
      "cell_type": "code",
      "source": [
        "class Employee:  #Define a class\n",
        "     pass  #body of class may contain attribute, methods, statements\n",
        "e1 = Employee()   ##creating object or instance of a class\n",
        "print(e1)  #printing e1 will show the addrees of memory where object is stored"
      ],
      "execution_count": 19,
      "outputs": [
        {
          "output_type": "stream",
          "text": [
            "<__main__.Employee object at 0x7f7e5d2ccbe0>\n"
          ],
          "name": "stdout"
        }
      ]
    },
    {
      "metadata": {
        "id": "VhAjUwDlXvYg",
        "colab_type": "text"
      },
      "cell_type": "markdown",
      "source": [
        "### 1 Write a program to create a \"Demo\" class and print message \"Introdution of Object Oriented Programming Concept\" and print the address of created object."
      ]
    },
    {
      "metadata": {
        "id": "SgIPXJNPXvYj",
        "colab_type": "code",
        "colab": {
          "base_uri": "https://localhost:8080/",
          "height": 51
        },
        "outputId": "b629891d-4994-4df3-ccac-a8ff8dccee1d"
      },
      "cell_type": "code",
      "source": [
        "class Demo: \n",
        "    def __init__(self):\n",
        "        print(\"Introduction to Object Oriented Programming Concept\")\n",
        "d = Demo()   \n",
        "print(d)"
      ],
      "execution_count": 8,
      "outputs": [
        {
          "output_type": "stream",
          "text": [
            "Introduction to Object Oriented Programming Concept\n",
            "<__main__.Demo object at 0x7f599d037f98>\n"
          ],
          "name": "stdout"
        }
      ]
    },
    {
      "metadata": {
        "id": "O0E6ssjwXvYx",
        "colab_type": "text"
      },
      "cell_type": "markdown",
      "source": [
        "### Instance attribute and  __init__() Function"
      ]
    },
    {
      "metadata": {
        "id": "GxgFBax1XvY0",
        "colab_type": "text"
      },
      "cell_type": "markdown",
      "source": [
        "- Instance attributes are object-specific attributes defined as parameters to the __init__ method. \n",
        "- Each object can has different values for themselves.\n",
        "- All classes have a function called __init__(), which is always executed when the class is being initiated.\n",
        "- Use the __init__() function to assign values to object properties, or other operations that are necessary to do when the object is being created\n",
        "- It is like constructor which is used to initialize the instance variable of a class"
      ]
    },
    {
      "metadata": {
        "id": "OKOdmTv8XvY2",
        "colab_type": "code",
        "colab": {
          "base_uri": "https://localhost:8080/",
          "height": 85
        },
        "outputId": "46dde2a5-e882-4631-e588-e012f5458531"
      },
      "cell_type": "code",
      "source": [
        "class Employee:\n",
        "    def __init__(self, name, age):\n",
        "        self._name = name\n",
        "        self._age = age\n",
        "    \n",
        "    def access_detail(self):\n",
        "        print(self._name,self._age)\n",
        "        \n",
        "e1 = Employee(\"Harry\", 25)\n",
        "e2 = Employee(\"Sean\", 16)\n",
        "e3 = Employee(\"Justin\", 20)\n",
        "e4 = Employee(\"Zayn\", 19)\n",
        "e1.access_detail()\n",
        "e2.access_detail()\n",
        "e3.access_detail()\n",
        "e4.access_detail()\n"
      ],
      "execution_count": 20,
      "outputs": [
        {
          "output_type": "stream",
          "text": [
            "Harry 25\n",
            "Sean 16\n",
            "Justin 20\n",
            "Zayn 19\n"
          ],
          "name": "stdout"
        }
      ]
    },
    {
      "metadata": {
        "id": "OxKN0_fTXvZC",
        "colab_type": "text"
      },
      "cell_type": "markdown",
      "source": [
        "### 2 Write a program to create class \"Person\" with name and age attributes and show method to show the details. Create three objects of this class and show their details."
      ]
    },
    {
      "metadata": {
        "scrolled": true,
        "id": "mG1VJ5WtXvZG",
        "colab_type": "code",
        "colab": {
          "base_uri": "https://localhost:8080/",
          "height": 85
        },
        "outputId": "707fa634-d9b5-4380-a02f-7b68bd6fade4"
      },
      "cell_type": "code",
      "source": [
        "#write your code here\n",
        "class Person:\n",
        "    def __init__(self, name, age, place):\n",
        "        self.name = name\n",
        "        self.age = age\n",
        "        self.place = place\n",
        "    \n",
        "    def ac(self):\n",
        "        print(self.name,self.age,self.place)\n",
        "        \n",
        "p1 = Person(\"Harry\", 25,\"Hyderabad\")\n",
        "p2 = Person(\"Patrick\", 16,\"Delhi\")\n",
        "p3 = Person(\"Louis\", 20,\"Vizag\")\n",
        "p4 = Person(\"Peter\", 19,\"Goa\")\n",
        "p1.ac()\n",
        "p2.ac()\n",
        "p3.ac()\n",
        "p4.ac()\n",
        "\n"
      ],
      "execution_count": 21,
      "outputs": [
        {
          "output_type": "stream",
          "text": [
            "Harry 25 Hyderabad\n",
            "Patrick 16 Delhi\n",
            "Louis 20 Vizag\n",
            "Peter 19 Goa\n"
          ],
          "name": "stdout"
        }
      ]
    },
    {
      "metadata": {
        "id": "1dNkyxZxXvZR",
        "colab_type": "text"
      },
      "cell_type": "markdown",
      "source": [
        "#### 3 Write a program for following:\n",
        "- Create a class Book with title and author attribute and bookinfo method that shows the details of book.\n",
        "- create three object for three book's detail and show their details "
      ]
    },
    {
      "metadata": {
        "scrolled": true,
        "id": "Ov1m7l0ZXvZU",
        "colab_type": "code",
        "colab": {
          "base_uri": "https://localhost:8080/",
          "height": 68
        },
        "outputId": "9dea32ce-6503-4bf1-d87c-3952d718b9cb"
      },
      "cell_type": "code",
      "source": [
        "#write your code here\n",
        "class Book:\n",
        "    def __init__(bk, title, author, bookinfo):\n",
        "        bk.title = title\n",
        "        bk.author = author\n",
        "        bk.bookinfo = bookinfo\n",
        "    \n",
        "    def acc(bk):\n",
        "        print(bk.title,bk.author,bk.bookinfo)\n",
        "b1 = Book(\"Lord of the Rings\", \"JJ.Tolkien\",\"Adventure\")\n",
        "b2 = Book(\"Harry Potter\", \"J.K. Rowling\",\"Mystery,..etc\")\n",
        "b3 = Book(\"Chronicles of Narnia\", \"Author_Name\",\"Book_info\")\n",
        "b1.acc()\n",
        "b2.acc()\n",
        "b3.acc()\n",
        "\n",
        "        \n",
        "\n",
        "\n"
      ],
      "execution_count": 22,
      "outputs": [
        {
          "output_type": "stream",
          "text": [
            "Lord of the Rings JJ.Tolkien Adventure\n",
            "Harry Potter J.K. Rowling Mystery,..etc\n",
            "Chronicles of Narnia Author_Name Book_info\n"
          ],
          "name": "stdout"
        }
      ]
    },
    {
      "metadata": {
        "id": "Jx8gLNWTXvZe",
        "colab_type": "text"
      },
      "cell_type": "markdown",
      "source": [
        "### Creating class with methods\n",
        "- self-parameter is used in the implementation of method of a class.\n",
        "- self-parameter is not used when we call that method\n",
        "- self-parameter references the object of itself\n",
        "- self is used to access the class variable of current object within the class method\n",
        "- self is used within the method to call another method of same class"
      ]
    },
    {
      "metadata": {
        "id": "OdhvBg8UXvZh",
        "colab_type": "code",
        "colab": {
          "base_uri": "https://localhost:8080/",
          "height": 51
        },
        "outputId": "a57f7f10-32b0-485a-edba-40533773aeae"
      },
      "cell_type": "code",
      "source": [
        "class Employee:\n",
        "    def __init__(self,name,age):\n",
        "        self._name=name\n",
        "        self._age=age\n",
        "    def access_detail(self):\n",
        "        print(self._name)\n",
        "        print(self._age)\n",
        "    \n",
        "    def change_name(self, new_name): # note that the first argument is self\n",
        "        self._name = new_name # access the class attribute with the self keyword\n",
        "        self.access_detail()  # access the another method of class with the self keyword\n",
        "    \n",
        "    def change_age(self, new_age): \n",
        "        self._age = new_age \n",
        "        self.access_detail()\n",
        "\n",
        "e1=Employee(\"Priyanka\",20)  \n",
        "e1.access_detail()\n",
        "\n"
      ],
      "execution_count": 24,
      "outputs": [
        {
          "output_type": "stream",
          "text": [
            "Priyanka\n",
            "20\n"
          ],
          "name": "stdout"
        }
      ]
    },
    {
      "metadata": {
        "id": "4IZJ27ahXvZr",
        "colab_type": "text"
      },
      "cell_type": "markdown",
      "source": [
        "### 4 Write a program to do following:-\n",
        "  - Create a class \"Rectangle\"\n",
        "  - Class has attributes: \"length\" and \"width\"\n",
        "  - Class has method \"calculate_area\" with parameters length and width and returns area of rectangle\n",
        "  - Create one object of class\n",
        "  - Display the values of length and width\n",
        "  - Display the area of rectangle\n",
        "  - change the values of length and width of that object\n",
        "  - Again Display the values of length and width\n",
        "  - Again Display the area of rectangle"
      ]
    },
    {
      "metadata": {
        "id": "NTRn-UQ9XvZt",
        "colab_type": "code",
        "colab": {
          "base_uri": "https://localhost:8080/",
          "height": 119
        },
        "outputId": "eff94480-4ae9-4069-b105-5c3c6282a486"
      },
      "cell_type": "code",
      "source": [
        "#write your code here\n",
        "class rectangle:\n",
        "    def __init__(rect,length,width):\n",
        "        rect._length=length\n",
        "        rect._width=width\n",
        "    def ar(rect):\n",
        "        print(\"Area=\",(rect._length)*(rect._width))\n",
        "        \n",
        "    def access_detail(rect):\n",
        "        print(\"Length=\",rect._length)\n",
        "        print(\"Width=\",rect._width)\n",
        "    \n",
        "    def change_value(rect, new_value):  \n",
        "        rect._length=new_value\n",
        "        \n",
        "    def change_value1(rect, new_value1):\n",
        "        rect._width=new_value1\n",
        "        \n",
        "    def access(rect):\n",
        "        print(\"Length=\",rect._length)\n",
        "        print(\"Width=\",rect._width)\n",
        "    def ar1(rect):\n",
        "        print(\"New Area=\",(rect._length)*(rect._width))\n",
        "    \n",
        "\n",
        "    \n",
        "\n",
        "e1=rectangle(10,20)\n",
        "e1.access_detail()\n",
        "e1.ar()\n",
        "e1.change_value(100)\n",
        "e1.change_value1(200)\n",
        "e1.access_detail()\n",
        "e1.ar1()\n",
        "\n",
        "\n",
        "\n",
        "    "
      ],
      "execution_count": 25,
      "outputs": [
        {
          "output_type": "stream",
          "text": [
            "Length= 10\n",
            "Width= 20\n",
            "Area= 200\n",
            "Length= 100\n",
            "Width= 200\n",
            "New Area= 20000\n"
          ],
          "name": "stdout"
        }
      ]
    },
    {
      "metadata": {
        "id": "dN_OOFujXvZ4",
        "colab_type": "text"
      },
      "cell_type": "markdown",
      "source": [
        "### 5 Write a program to cleate two empty classes A and B and create their objects then Check the membership of an object using isinstanceof() method.\n",
        "isinstance(object_name,class_name)"
      ]
    },
    {
      "metadata": {
        "id": "bSjSHmrJXvZ6",
        "colab_type": "code",
        "colab": {
          "base_uri": "https://localhost:8080/",
          "height": 34
        },
        "outputId": "272ea697-9ae5-4dfd-f604-d76d82b59046"
      },
      "cell_type": "code",
      "source": [
        "#write your code here\n",
        "class A:\n",
        "    pass\n",
        "class B:\n",
        "    pass\n",
        "    \n",
        "e1 = A() \n",
        "e2 = B ()\n",
        "\n",
        "\n",
        "        \n",
        "isinstance(e1,A)\n",
        "isinstance(e2,A)\n",
        "\n",
        "\n"
      ],
      "execution_count": 26,
      "outputs": [
        {
          "output_type": "execute_result",
          "data": {
            "text/plain": [
              "False"
            ]
          },
          "metadata": {
            "tags": []
          },
          "execution_count": 26
        }
      ]
    },
    {
      "metadata": {
        "id": "ioPOY-wmXvaF",
        "colab_type": "text"
      },
      "cell_type": "markdown",
      "source": [
        "### The __del__() function"
      ]
    },
    {
      "metadata": {
        "id": "MKA0VaPJXvaH",
        "colab_type": "text"
      },
      "cell_type": "markdown",
      "source": [
        "- As __init__() function is used to initialize the values of variables. __del__() is used to destroy the class variable\n",
        "- This function is executed only if all the references to an object have been removed\n",
        "- It is like destructor and is executed once per object"
      ]
    },
    {
      "metadata": {
        "id": "KBjeA2rBXvaK",
        "colab_type": "code",
        "colab": {
          "base_uri": "https://localhost:8080/",
          "height": 51
        },
        "outputId": "be2a2d4b-7b63-45fc-d5ac-65eb849c28b2"
      },
      "cell_type": "code",
      "source": [
        "class Demo:\n",
        "    def __init__(self):\n",
        "        print(\"Constructor of class\")\n",
        "    def __del__(self):\n",
        "        print(\"Destructor of class\")\n",
        "        \n",
        "d1=Demo()\n",
        "d2=d1\n",
        "d3=d1\n",
        "del d1\n",
        "del d2\n",
        "\n",
        "\n"
      ],
      "execution_count": 14,
      "outputs": [
        {
          "output_type": "stream",
          "text": [
            "Constructor of class\n",
            "Destructor of class\n"
          ],
          "name": "stdout"
        }
      ]
    },
    {
      "metadata": {
        "id": "cxNCIIE1XvaR",
        "colab_type": "text"
      },
      "cell_type": "markdown",
      "source": [
        "### Accessibility"
      ]
    },
    {
      "metadata": {
        "id": "nOLFE1JVXvaU",
        "colab_type": "text"
      },
      "cell_type": "markdown",
      "source": [
        "- By default all attributes and methods are public.\n",
        "- to define private member of a class we add two __ in front of the attribute and method name."
      ]
    },
    {
      "metadata": {
        "scrolled": true,
        "id": "lHwnrETSXvaX",
        "colab_type": "code",
        "colab": {
          "base_uri": "https://localhost:8080/",
          "height": 231
        },
        "outputId": "c2728267-f31d-469a-c356-ba9e50d4b691"
      },
      "cell_type": "code",
      "source": [
        "class Info:\n",
        "    def __init__(self, name, acc_no):\n",
        "        self._name=name      #public\n",
        "        self.__acc_no=acc_no   #private attribute of class\n",
        "    def show(self):\n",
        "        print(self._name,self.__acc_no) #within class you can access both public and private members of Info class\n",
        "        \n",
        "name=\"Surbhi\"     \n",
        "acc_no=17837\n",
        "oi=Info(name,acc_no)\n",
        "oi.show()\n",
        "print(oi._name)    #public member so it is accessiable\n",
        "print(oi.__acc_no) #will show error bcz it is private"
      ],
      "execution_count": 19,
      "outputs": [
        {
          "output_type": "stream",
          "text": [
            "Surbhi 17837\n",
            "Surbhi\n"
          ],
          "name": "stdout"
        },
        {
          "output_type": "error",
          "ename": "AttributeError",
          "evalue": "ignored",
          "traceback": [
            "\u001b[0;31m---------------------------------------------------------------------------\u001b[0m",
            "\u001b[0;31mAttributeError\u001b[0m                            Traceback (most recent call last)",
            "\u001b[0;32m<ipython-input-19-67565f31104d>\u001b[0m in \u001b[0;36m<module>\u001b[0;34m()\u001b[0m\n\u001b[1;32m     11\u001b[0m \u001b[0moi\u001b[0m\u001b[0;34m.\u001b[0m\u001b[0mshow\u001b[0m\u001b[0;34m(\u001b[0m\u001b[0;34m)\u001b[0m\u001b[0;34m\u001b[0m\u001b[0m\n\u001b[1;32m     12\u001b[0m \u001b[0mprint\u001b[0m\u001b[0;34m(\u001b[0m\u001b[0moi\u001b[0m\u001b[0;34m.\u001b[0m\u001b[0m_name\u001b[0m\u001b[0;34m)\u001b[0m    \u001b[0;31m#public member so it is accessiable\u001b[0m\u001b[0;34m\u001b[0m\u001b[0m\n\u001b[0;32m---> 13\u001b[0;31m \u001b[0mprint\u001b[0m\u001b[0;34m(\u001b[0m\u001b[0moi\u001b[0m\u001b[0;34m.\u001b[0m\u001b[0m__acc_no\u001b[0m\u001b[0;34m)\u001b[0m \u001b[0;31m#will show error bcz it is private\u001b[0m\u001b[0;34m\u001b[0m\u001b[0m\n\u001b[0m",
            "\u001b[0;31mAttributeError\u001b[0m: 'Info' object has no attribute '__acc_no'"
          ]
        }
      ]
    },
    {
      "metadata": {
        "scrolled": false,
        "id": "jEs-6xDMXvaj",
        "colab_type": "code",
        "colab": {
          "base_uri": "https://localhost:8080/",
          "height": 350
        },
        "outputId": "00f54f92-d3c1-42d8-c6e7-5532c1fea1dc"
      },
      "cell_type": "code",
      "source": [
        "class Info:\n",
        "    def __init__(self, name, acc_no):\n",
        "        self._name=name      #public\n",
        "        self.__acc_no=acc_no   #private attribute of class\n",
        "    def show(self):\n",
        "        print(self._name,self.__acc_no) #within class you can access both public and private members of Info class\n",
        "\n",
        "class B:\n",
        "    def display(self):\n",
        "        n=Info('Dr. Shivani','18000')\n",
        "        print(n._name)\n",
        "        print(n.__acc_no)#show error bcz private member of a class also not ccessiable in another class\n",
        "                \n",
        "name=\"Surbhi\"    \n",
        "acc_no=17837    \n",
        "oi=Info(name,acc_no)\n",
        "oi.show()\n",
        "ob=B()\n",
        "ob.display()"
      ],
      "execution_count": 21,
      "outputs": [
        {
          "output_type": "stream",
          "text": [
            "Surbhi 17837\n",
            "Dr. Shivani\n"
          ],
          "name": "stdout"
        },
        {
          "output_type": "error",
          "ename": "AttributeError",
          "evalue": "ignored",
          "traceback": [
            "\u001b[0;31m---------------------------------------------------------------------------\u001b[0m",
            "\u001b[0;31mAttributeError\u001b[0m                            Traceback (most recent call last)",
            "\u001b[0;32m<ipython-input-21-aef8ec0c6cb6>\u001b[0m in \u001b[0;36m<module>\u001b[0;34m()\u001b[0m\n\u001b[1;32m     17\u001b[0m \u001b[0moi\u001b[0m\u001b[0;34m.\u001b[0m\u001b[0mshow\u001b[0m\u001b[0;34m(\u001b[0m\u001b[0;34m)\u001b[0m\u001b[0;34m\u001b[0m\u001b[0m\n\u001b[1;32m     18\u001b[0m \u001b[0mob\u001b[0m\u001b[0;34m=\u001b[0m\u001b[0mB\u001b[0m\u001b[0;34m(\u001b[0m\u001b[0;34m)\u001b[0m\u001b[0;34m\u001b[0m\u001b[0m\n\u001b[0;32m---> 19\u001b[0;31m \u001b[0mob\u001b[0m\u001b[0;34m.\u001b[0m\u001b[0mdisplay\u001b[0m\u001b[0;34m(\u001b[0m\u001b[0;34m)\u001b[0m\u001b[0;34m\u001b[0m\u001b[0m\n\u001b[0m",
            "\u001b[0;32m<ipython-input-21-aef8ec0c6cb6>\u001b[0m in \u001b[0;36mdisplay\u001b[0;34m(self)\u001b[0m\n\u001b[1;32m     10\u001b[0m         \u001b[0mn\u001b[0m\u001b[0;34m=\u001b[0m\u001b[0mInfo\u001b[0m\u001b[0;34m(\u001b[0m\u001b[0;34m'Dr. Shivani'\u001b[0m\u001b[0;34m,\u001b[0m\u001b[0;34m'18000'\u001b[0m\u001b[0;34m)\u001b[0m\u001b[0;34m\u001b[0m\u001b[0m\n\u001b[1;32m     11\u001b[0m         \u001b[0mprint\u001b[0m\u001b[0;34m(\u001b[0m\u001b[0mn\u001b[0m\u001b[0;34m.\u001b[0m\u001b[0m_name\u001b[0m\u001b[0;34m)\u001b[0m\u001b[0;34m\u001b[0m\u001b[0m\n\u001b[0;32m---> 12\u001b[0;31m         \u001b[0mprint\u001b[0m\u001b[0;34m(\u001b[0m\u001b[0mn\u001b[0m\u001b[0;34m.\u001b[0m\u001b[0m__acc_no\u001b[0m\u001b[0;34m)\u001b[0m\u001b[0;31m#show error bcz private member of a class also not ccessiable in another class\u001b[0m\u001b[0;34m\u001b[0m\u001b[0m\n\u001b[0m\u001b[1;32m     13\u001b[0m \u001b[0;34m\u001b[0m\u001b[0m\n\u001b[1;32m     14\u001b[0m \u001b[0mname\u001b[0m\u001b[0;34m=\u001b[0m\u001b[0;34m\"Surbhi\"\u001b[0m\u001b[0;34m\u001b[0m\u001b[0m\n",
            "\u001b[0;31mAttributeError\u001b[0m: 'Info' object has no attribute '_B__acc_no'"
          ]
        }
      ]
    },
    {
      "metadata": {
        "id": "kzi_VuSlXvax",
        "colab_type": "text"
      },
      "cell_type": "markdown",
      "source": [
        "### 6 Write a program for following:\n",
        "- create a class \"Employee\" that has attributes name, id, post, passward and account_number. Keep pass and account no private.\n",
        "- Define method \"show_public\" that shows public information like name, post and id\n",
        "- Define method \"show_private\" that shows private information like passward and account_no\n",
        "- Take details from user, create object of employee and show the details using defined functions"
      ]
    },
    {
      "metadata": {
        "scrolled": true,
        "id": "4gKmt2x7Xva0",
        "colab_type": "code",
        "colab": {
          "base_uri": "https://localhost:8080/",
          "height": 51
        },
        "outputId": "aea99608-6d18-44f1-e705-97d0fe5e7f12"
      },
      "cell_type": "code",
      "source": [
        "#write your code here\n",
        "class Employee:\n",
        "    def __init__(self,name,Id,post,password,account_no):\n",
        "      self._name=name\n",
        "      self._Id=Id\n",
        "      self._post=post\n",
        "      self.__password=password\n",
        "      self.__account_no=account_no\n",
        "    def show_public(self):\n",
        "        print(\"Public:\",self._name,self._Id,self._post)\n",
        "    def show_private(self):\n",
        "        print(\"Private:\",self.__password,self.__account_no)\n",
        "name=\"Tanvi\"\n",
        "Id=12345\n",
        "post=\"CEO & Entrepreneur\"\n",
        "password=\"abc\"\n",
        "account_no=24680\n",
        "oi=Employee(name,Id,post,password,account_no)\n",
        "oi.show_public()\n",
        "oi.show_private()\n",
        "  \n",
        "\n"
      ],
      "execution_count": 18,
      "outputs": [
        {
          "output_type": "stream",
          "text": [
            "Public: Tanvi 12345 CEO & Entrepreneur\n",
            "Private: abc 24680\n"
          ],
          "name": "stdout"
        }
      ]
    },
    {
      "metadata": {
        "id": "sVDXhiPGXva-",
        "colab_type": "text"
      },
      "cell_type": "markdown",
      "source": [
        "### 7 Write a program for same as above question but takes details of two or more employees store their objects in list and show their details in the end"
      ]
    },
    {
      "metadata": {
        "id": "WzasPKymXvbA",
        "colab_type": "code",
        "colab": {
          "base_uri": "https://localhost:8080/",
          "height": 85
        },
        "outputId": "df2a10c3-79a7-48ba-ba84-bd305ebe8f56"
      },
      "cell_type": "code",
      "source": [
        "#write your code here\n",
        "class Employee:\n",
        "    def __init__(self,name,Id,post,password,account_no):\n",
        "      self._name=name\n",
        "      self._Id=Id\n",
        "      self._post=post\n",
        "      self.__password=password\n",
        "      self.__account_no=account_no\n",
        "    def show_public(self):\n",
        "        print(\"Public Details of the Employee:\",self._name,self._Id,self._post)\n",
        "    def show_private(self):\n",
        "        print(\"Private Details of the Employee:\",self.__password,self.__account_no)\n",
        "        \n",
        "emp_1=Employee(emp_1.name,emp_1.Id,emp_1.post,emp_1.password,emp_1.account_no)\n",
        "emp_2=Employee(emp_2.name,emp_2.Id,emp_2.post,emp_2.password,emp_2.account_no)\n",
        "\n",
        "emp_1.name=\"Harry\"\n",
        "emp_1.Id=12345\n",
        "emp_1.post=\"Front End Developer\"\n",
        "emp_1.password=\"abc\"\n",
        "emp_1.account_no=24680\n",
        "\n",
        "emp_2.name=\"Larry\"\n",
        "emp_2.Id=67890\n",
        "emp_2.post=\"Back End Developer\"\n",
        "emp_2.password=\"efg\"\n",
        "emp_2.account_no=13579\n",
        "\n",
        "emp_1.show_public()\n",
        "emp_1.show_private()\n",
        "\n",
        "emp_2.show_public()\n",
        "emp_2.show_private()\n"
      ],
      "execution_count": 17,
      "outputs": [
        {
          "output_type": "stream",
          "text": [
            "Public Details of the Employee: Harry 12345 Front End Developer\n",
            "Private Details of the Employee: abc 24680\n",
            "Public Details of the Employee: Larry 67890 Back End Developer\n",
            "Private Details of the Employee: efg 13579\n"
          ],
          "name": "stdout"
        }
      ]
    },
    {
      "metadata": {
        "id": "evsLRHN-XvbT",
        "colab_type": "text"
      },
      "cell_type": "markdown",
      "source": [
        "### 8 Write a program for following:\n",
        "- Create a class \"Credit_card\" that has id, private attributes( card_no and PIN ), a method \"show\" to show the card details\n",
        "- Create a class \"Person\" that has attribute id, name and an object of credit card class and a method \"show\" to show id and name information.\n",
        "- crerate object of person and show complete details"
      ]
    },
    {
      "metadata": {
        "id": "jeE9qH18XvbY",
        "colab_type": "code",
        "colab": {
          "base_uri": "https://localhost:8080/",
          "height": 51
        },
        "outputId": "ad71b63f-390f-4f31-d762-d1d31fc3c110"
      },
      "cell_type": "code",
      "source": [
        "#write your code here\n",
        "class Credit_card:\n",
        "  def __init__(self,card_no,PIN):\n",
        "    self.__card_no=card_no\n",
        "    self.__PIN=PIN\n",
        "  def show(self):\n",
        "    print(self.__card_no,self.__PIN)\n",
        "class Person:\n",
        "  def __init__(self,Id,name,PIN):\n",
        "    self._Id=Id\n",
        "    self._name=name\n",
        "    self.__PIN=PIN\n",
        "  def show(self):\n",
        "    print(self._Id,self._name,self.__PIN)\n",
        "\n",
        "c1=Credit_card(card_no,PIN)\n",
        "c2=Person(Id,name,PIN)\n",
        "card_no=124\n",
        "PIN=125\n",
        "Id=123\n",
        "name=\"Tanvi\"\n",
        "c1.show()\n",
        "c2.show()\n",
        "\n"
      ],
      "execution_count": 35,
      "outputs": [
        {
          "output_type": "stream",
          "text": [
            "124 125\n",
            "123 Tanvi 125\n"
          ],
          "name": "stdout"
        }
      ]
    },
    {
      "metadata": {
        "id": "b8whxJe9Xvbj",
        "colab_type": "text"
      },
      "cell_type": "markdown",
      "source": [
        "## Optional"
      ]
    },
    {
      "metadata": {
        "id": "mNJ25XYNXvbl",
        "colab_type": "text"
      },
      "cell_type": "markdown",
      "source": [
        "### 9 Write a program for following:\n",
        "- Create a Time class and initialize it with hours and minutes.\n",
        "- Make a method addTime which should take two time object and add them. E.g.- (2 hour and 50 min)+(1 hr and 20 min) is (4 hr and 10 min)\n",
        "- Make a method displayTime which should print the time.\n",
        "- Make a method DisplayMinute which should display the total minutes in the Time. E.g.- (1 hr 2 min) should display 62 minute."
      ]
    },
    {
      "metadata": {
        "id": "A_LMtToOXvbn",
        "colab_type": "code",
        "colab": {}
      },
      "cell_type": "code",
      "source": [
        "#write your code here"
      ],
      "execution_count": 0,
      "outputs": []
    },
    {
      "metadata": {
        "id": "UwPPPqR2Xvbu",
        "colab_type": "text"
      },
      "cell_type": "markdown",
      "source": [
        "### 10 Write a program for following:\n",
        "- Create a class \"Die\" that has attribut \"value\" and method roll that sets \"value\" between 1 and 6 (both inclusive) and returns this value. \n",
        "- Create class \"Player\" with name attribute and it has two dies (attributes) and play method to roll the dies and calculate sum of both dies.\n",
        "- Create two players. let them play and decide who win"
      ]
    },
    {
      "metadata": {
        "id": "og0e7OewXvbx",
        "colab_type": "code",
        "colab": {}
      },
      "cell_type": "code",
      "source": [
        "#write your code here"
      ],
      "execution_count": 0,
      "outputs": []
    }
  ]
}
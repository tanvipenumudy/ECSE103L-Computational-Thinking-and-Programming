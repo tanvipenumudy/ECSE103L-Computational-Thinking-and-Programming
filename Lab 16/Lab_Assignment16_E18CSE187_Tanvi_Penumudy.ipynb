{
  "nbformat": 4,
  "nbformat_minor": 0,
  "metadata": {
    "colab": {
      "name": "Lab_Assignment16_E18CSE187_Tanvi_Penumudy.ipynb",
      "version": "0.3.2",
      "provenance": [],
      "collapsed_sections": []
    },
    "kernelspec": {
      "display_name": "Python 3",
      "language": "python",
      "name": "python3"
    }
  },
  "cells": [
    {
      "metadata": {
        "id": "P8RQ_wtv6ePA",
        "colab_type": "text"
      },
      "cell_type": "markdown",
      "source": [
        "# File Handling Part 1"
      ]
    },
    {
      "metadata": {
        "id": "OyOP3fzS6ePF",
        "colab_type": "text"
      },
      "cell_type": "markdown",
      "source": [
        "### Some commonly used code\n",
        "- fobjr = open(\"sample.txt\", \"r\") # open the file in read only mode\n",
        "- fobjw = open(\"example.txt\", \"w\") # open the file in write mode\n",
        "- data = open(\"sample.txt\").readlines() # read all the contents line wise into data[0], data[1] etc.... \n",
        "- data = open(\"sample.txt\").read() # read all the contents as string into data\n",
        "- fobj.close() # close the file\n",
        "\n",
        "\n",
        "\n",
        "- with open(\"sample.txt\") as fobj # no need to close the file"
      ]
    },
    {
      "metadata": {
        "id": "Socgrjhe6ePI",
        "colab_type": "text"
      },
      "cell_type": "markdown",
      "source": [
        "### Read from file"
      ]
    },
    {
      "metadata": {
        "id": "W1MeDWm76ePL",
        "colab_type": "code",
        "colab": {}
      },
      "cell_type": "code",
      "source": [
        "# open the file for reading the contents\n",
        "fobj = open(\"sample.txt\", \"r\")"
      ],
      "execution_count": 0,
      "outputs": []
    },
    {
      "metadata": {
        "scrolled": true,
        "id": "BdHmi9YY6ePV",
        "colab_type": "code",
        "colab": {}
      },
      "cell_type": "code",
      "source": [
        "for line in fobj:\n",
        "    #print(line)\n",
        "    print(line.rstrip()) # commnet this line and uncomment the first line and run it again"
      ],
      "execution_count": 0,
      "outputs": []
    },
    {
      "metadata": {
        "id": "qgl2oOmR6ePm",
        "colab_type": "code",
        "colab": {}
      },
      "cell_type": "code",
      "source": [
        "# close the file after reading the contents\n",
        "fobj.close()"
      ],
      "execution_count": 0,
      "outputs": []
    },
    {
      "metadata": {
        "id": "ZRRSHsez6ePz",
        "colab_type": "text"
      },
      "cell_type": "markdown",
      "source": [
        "### Write to file"
      ]
    },
    {
      "metadata": {
        "id": "6O2uEvni6eP2",
        "colab_type": "code",
        "colab": {}
      },
      "cell_type": "code",
      "source": [
        "# open the file for writing\n",
        "fobj2 = open(\"example.txt\", \"w\")\n",
        "\n",
        "# write some text to file\n",
        "fobj2.write(\"Bennett University, \\nGreater Noida\")\n",
        "fobj2.write(\"\\nWriting to file example.txt\")\n",
        "fobj2.write(\"\\nIf example.txt doesn't exixts on the disk, new file will be created\")\n",
        "\n",
        "# close the file after writing\n",
        "fobj2.close()"
      ],
      "execution_count": 0,
      "outputs": []
    },
    {
      "metadata": {
        "id": "_s8jpziG6eQB",
        "colab_type": "text"
      },
      "cell_type": "markdown",
      "source": [
        "### Program 1: Write a program to read and display the contents of the file \"example.txt\""
      ]
    },
    {
      "metadata": {
        "scrolled": false,
        "id": "SIRpcVDR6eQE",
        "colab_type": "code",
        "colab": {
          "base_uri": "https://localhost:8080/",
          "height": 34
        },
        "outputId": "f2769c37-70c1-4402-e194-76be3e20e54d"
      },
      "cell_type": "code",
      "source": [
        "# write your code after this line\n",
        "f1=open(\"tanvi.txt\",\"w\")\n",
        "f1.write(\"Hello, this is a file.\")\n",
        "f1.close()\n",
        "f1=open(\"tanvi.txt\",\"r\")\n",
        "for i in f1:\n",
        "    print(i.rstrip())\n",
        "f1.close()\n"
      ],
      "execution_count": 64,
      "outputs": [
        {
          "output_type": "stream",
          "text": [
            "Hello, this is a file.\n"
          ],
          "name": "stdout"
        }
      ]
    },
    {
      "metadata": {
        "id": "wgBrca8t6eQV",
        "colab_type": "text"
      },
      "cell_type": "markdown",
      "source": [
        "### Program 2: WAP to create a new file called \"myinfo.txt\" and write your name, branch, semester, university and hobbies into it. Add code to read the contents of the file and display them."
      ]
    },
    {
      "metadata": {
        "id": "2REbSvYZ6eQZ",
        "colab_type": "code",
        "colab": {
          "base_uri": "https://localhost:8080/",
          "height": 119
        },
        "outputId": "f8f08711-0180-47d0-d2c8-d46c2ddc10f4"
      },
      "cell_type": "code",
      "source": [
        "# Write your code here\n",
        "f1=open(\"example.txt\",\"w\")\n",
        "f1.write(\"Hello this is a file.\\nMy name is Tanvi Penumudy.\\nBatch: Btech CSE \\nSemester: First Semester \\nUniversity: Bennett University \\nHobbies:Reading,Music,Art and many other things\")\n",
        "f1.close()\n",
        "f1=open(\"example.txt\",\"r\")\n",
        "for i in f1:\n",
        "    print(i.rstrip())\n",
        "f1.close()\n"
      ],
      "execution_count": 65,
      "outputs": [
        {
          "output_type": "stream",
          "text": [
            "Hello this is a file.\n",
            "My name is Tanvi Penumudy.\n",
            "Batch: Btech CSE\n",
            "Semester: First Semester\n",
            "University: Bennett University\n",
            "Hobbies:Reading,Music,Art and many other things\n"
          ],
          "name": "stdout"
        }
      ]
    },
    {
      "metadata": {
        "id": "f8OEdNCC6eQq",
        "colab_type": "text"
      },
      "cell_type": "markdown",
      "source": [
        "### Program 3: Write a program to write more content to file \"example.txt\" in \"w\" mode and display all the cotents of the file."
      ]
    },
    {
      "metadata": {
        "id": "njYBU0n16eQu",
        "colab_type": "code",
        "colab": {
          "base_uri": "https://localhost:8080/",
          "height": 170
        },
        "outputId": "694b428e-843e-41b6-87ab-81df6169029f"
      },
      "cell_type": "code",
      "source": [
        "# write your code after this line for writing to file \"example.txt\"\n",
        "f1=open(\"example.txt\",\"a\")\n",
        "f1.write(\"\\nMother Tongue:Telugu\\nfavourite food:Hyderabadi Biriyani\\nGoals:To do everything which I dreamt of\")\n",
        "f1.close()\n",
        "f1=open(\"example.txt\",\"r\")\n",
        "for i in f1:\n",
        "    print(i.rstrip())\n",
        "f1.close()"
      ],
      "execution_count": 66,
      "outputs": [
        {
          "output_type": "stream",
          "text": [
            "Hello this is a file.\n",
            "My name is Tanvi Penumudy.\n",
            "Batch: Btech CSE\n",
            "Semester: First Semester\n",
            "University: Bennett University\n",
            "Hobbies:Reading,Music,Art and many other things\n",
            "Mother Tongue:Telugu\n",
            "favourite food:Hyderabadi Biriyani\n",
            "Goals:To do everything which I dreamt of\n"
          ],
          "name": "stdout"
        }
      ]
    },
    {
      "metadata": {
        "id": "aVja-Z0c6eQ4",
        "colab_type": "text"
      },
      "cell_type": "markdown",
      "source": [
        "#### What happended to earlier content of the file \"example.txt\" ??"
      ]
    },
    {
      "metadata": {
        "id": "j7zHzkm46eQ8",
        "colab_type": "text"
      },
      "cell_type": "markdown",
      "source": [
        "Answer:It gets erased"
      ]
    },
    {
      "metadata": {
        "id": "smtpsdzR6eQ-",
        "colab_type": "text"
      },
      "cell_type": "markdown",
      "source": [
        "### Program 4: Write a program to read the contents from one file(\"sample.txt\") and write to another file(\"sample_new.txt\") and display the contents of the newly created file.                              \n",
        "\n"
      ]
    },
    {
      "metadata": {
        "id": "-_quYZDf6eRB",
        "colab_type": "code",
        "colab": {
          "base_uri": "https://localhost:8080/",
          "height": 102
        },
        "outputId": "5f2a1f31-594c-491c-8297-d2ca6eac6d23"
      },
      "cell_type": "code",
      "source": [
        "f=open(\"sample.txt\",\"w\")\n",
        "f.write(\"Hey,this is Tanvi Penumudy\")\n",
        "f.write(\"\\nListening to music is really pleasing\")\n",
        "f.write(\"\\nCoding is really amazing\")\n",
        "f.write(\"\\nMark Zuckerberg is my idol\")\n",
        "f.write(\"\\nI love my family more than any other thing\")\n",
        "f.close()\n",
        "f=open(\"sample.txt\",\"r\")\n",
        "for i in f:\n",
        "    print(i.rstrip())\n",
        "f.close()\n"
      ],
      "execution_count": 67,
      "outputs": [
        {
          "output_type": "stream",
          "text": [
            "Hey,this is Tanvi Penumudy\n",
            "Listening to music is really pleasing\n",
            "Coding is really amazing\n",
            "Mark Zuckerberg is my idol\n",
            "I love my family more than any other thing\n"
          ],
          "name": "stdout"
        }
      ]
    },
    {
      "metadata": {
        "scrolled": true,
        "id": "NvyO0dvR6eRR",
        "colab_type": "code",
        "colab": {
          "base_uri": "https://localhost:8080/",
          "height": 102
        },
        "outputId": "aabb133d-4079-45e7-f215-e664580a6d10"
      },
      "cell_type": "code",
      "source": [
        "# write your code here\n",
        "#f1=open('sample.txt',\"w\")\n",
        "#f1=write(\"Hey,this is Tanvi Penumudy\")\n",
        "#f1.close()\n",
        "f1=open('sample.txt','r')\n",
        "f2=open('sample_new.txt','w+')\n",
        "for l in f1:\n",
        "    f2.write(l)\n",
        "f2.seek(0)\n",
        "print(f2.read())\n",
        "f1.close()\n",
        "f2.close()\n",
        "\n",
        "\n"
      ],
      "execution_count": 68,
      "outputs": [
        {
          "output_type": "stream",
          "text": [
            "Hey,this is Tanvi Penumudy\n",
            "Listening to music is really pleasing\n",
            "Coding is really amazing\n",
            "Mark Zuckerberg is my idol\n",
            "I love my family more than any other thing\n"
          ],
          "name": "stdout"
        }
      ]
    },
    {
      "metadata": {
        "id": "am5LzSlq6eRi",
        "colab_type": "text"
      },
      "cell_type": "markdown",
      "source": [
        "### Program 5: Write a program to append some new text to an existing file (\"sample_new.txt\") and display all the contents"
      ]
    },
    {
      "metadata": {
        "scrolled": true,
        "id": "czYs8gr66eRl",
        "colab_type": "code",
        "colab": {
          "base_uri": "https://localhost:8080/",
          "height": 153
        },
        "outputId": "841c8769-0519-4526-93ec-cfbcc3b99cf4"
      },
      "cell_type": "code",
      "source": [
        "# write your code here\n",
        "fp =open(\"sample_new.txt\",\"a\") \n",
        "fp.write(\"\\nMy name is Tanvi Penumudy \\nI'm 16 years old\\nI am studying at Bennett University\")\n",
        "fp.close()\n",
        "f1=open(\"sample_new.txt\",\"r\")\n",
        "for i in f1:\n",
        "    print(i.rstrip())\n",
        "f1.close()\n",
        "\n"
      ],
      "execution_count": 69,
      "outputs": [
        {
          "output_type": "stream",
          "text": [
            "Hey,this is Tanvi Penumudy\n",
            "Listening to music is really pleasing\n",
            "Coding is really amazing\n",
            "Mark Zuckerberg is my idol\n",
            "I love my family more than any other thing\n",
            "My name is Tanvi Penumudy\n",
            "I'm 16 years old\n",
            "I am studying at Bennett University\n"
          ],
          "name": "stdout"
        }
      ]
    },
    {
      "metadata": {
        "id": "33bXn7HZ6eRw",
        "colab_type": "text"
      },
      "cell_type": "markdown",
      "source": [
        "### Program 6: Write a program which does the following:\n",
        "- Read the content of the file(\"sample.txt\") using readlines() method\n",
        "- Print only first and third line of the file\n",
        "- Print all the contents of the file using for loop\n",
        "- Count number of lines of text in the file"
      ]
    },
    {
      "metadata": {
        "scrolled": false,
        "id": "3fwjVSFc6eRz",
        "colab_type": "code",
        "colab": {
          "base_uri": "https://localhost:8080/",
          "height": 187
        },
        "outputId": "4ea3f70e-aa5d-4d9f-b4d1-dcab9b09ae19"
      },
      "cell_type": "code",
      "source": [
        "# write your code here\n",
        "fp1=open('sample.txt','r').readlines()\n",
        "print(fp1[0])\n",
        "print(fp1[2])\n",
        "\n",
        "fp2=open(\"sample.txt\",\"r\").readlines()\n",
        "for i in fp2:\n",
        "    print(i.rstrip())\n",
        "print(len(fp2))\n",
        "    \n",
        "    \n",
        "\n",
        "\n"
      ],
      "execution_count": 70,
      "outputs": [
        {
          "output_type": "stream",
          "text": [
            "Hey,this is Tanvi Penumudy\n",
            "\n",
            "Coding is really amazing\n",
            "\n",
            "Hey,this is Tanvi Penumudy\n",
            "Listening to music is really pleasing\n",
            "Coding is really amazing\n",
            "Mark Zuckerberg is my idol\n",
            "I love my family more than any other thing\n",
            "5\n"
          ],
          "name": "stdout"
        }
      ]
    },
    {
      "metadata": {
        "id": "M-MVJrn96eR-",
        "colab_type": "text"
      },
      "cell_type": "markdown",
      "source": [
        "### Program 7: Write a program which does the following:\n",
        "- Read all the content of the file(\"sample.txt\") as a string using read() method. \n",
        "- print first 10 characters of the file\n",
        "- print last 5 character of the file\n",
        "- print all the characters between 10 and 20\n",
        "- print all the conents of the file"
      ]
    },
    {
      "metadata": {
        "scrolled": false,
        "id": "CHQPtBvZ6eSA",
        "colab_type": "code",
        "colab": {
          "base_uri": "https://localhost:8080/",
          "height": 153
        },
        "outputId": "52dd0111-0255-432d-d31b-f15b559320a0"
      },
      "cell_type": "code",
      "source": [
        "# write your code here\n",
        "fp1=open('sample.txt','r').read()\n",
        "print(fp1[0:11])\n",
        "print(fp1[-5:])\n",
        "print(fp1[10:21])\n",
        "print(fp1[:])\n",
        "\n",
        "\n",
        "\n"
      ],
      "execution_count": 71,
      "outputs": [
        {
          "output_type": "stream",
          "text": [
            "Hey,this is\n",
            "thing\n",
            "s Tanvi Pen\n",
            "Hey,this is Tanvi Penumudy\n",
            "Listening to music is really pleasing\n",
            "Coding is really amazing\n",
            "Mark Zuckerberg is my idol\n",
            "I love my family more than any other thing\n"
          ],
          "name": "stdout"
        }
      ]
    },
    {
      "metadata": {
        "id": "9rxAlkqj6eSM",
        "colab_type": "text"
      },
      "cell_type": "markdown",
      "source": [
        "### Program 8: Write a program which does the following:\n",
        "- Read the contents of the file(\"sample.txt\") using readlines() method\n",
        "- print the first line of the file\n",
        "- Split and display the contents of the first line\n",
        "- print one splitted word per line"
      ]
    },
    {
      "metadata": {
        "id": "UnBJjiJa6eSP",
        "colab_type": "code",
        "colab": {
          "base_uri": "https://localhost:8080/",
          "height": 136
        },
        "outputId": "2226bbf0-617d-4f44-a584-e234613187c8"
      },
      "cell_type": "code",
      "source": [
        "# write your code here\n",
        "fp1=open('sample.txt','r').readlines()\n",
        "print(fp1[0])\n",
        "print(fp1[0].split())\n",
        "s=fp1[0].split()\n",
        "#fp2=open('sample.txt','r').readlines()\n",
        "for i in s:\n",
        "    print(i)\n",
        "\n",
        "\n"
      ],
      "execution_count": 72,
      "outputs": [
        {
          "output_type": "stream",
          "text": [
            "Hey,this is Tanvi Penumudy\n",
            "\n",
            "['Hey,this', 'is', 'Tanvi', 'Penumudy']\n",
            "Hey,this\n",
            "is\n",
            "Tanvi\n",
            "Penumudy\n"
          ],
          "name": "stdout"
        }
      ]
    },
    {
      "metadata": {
        "id": "zT0dnLgd6eSZ",
        "colab_type": "text"
      },
      "cell_type": "markdown",
      "source": [
        "### Program 9: Write a program to read the contents of the file(\"sample.txt\") using \"with open()\""
      ]
    },
    {
      "metadata": {
        "scrolled": false,
        "id": "4wDW3xEk6eSe",
        "colab_type": "code",
        "colab": {
          "base_uri": "https://localhost:8080/",
          "height": 102
        },
        "outputId": "899c784c-b2c8-46d1-ae2e-cfd8e222a720"
      },
      "cell_type": "code",
      "source": [
        "# write your code here\n",
        "with open (\"sample.txt\",\"r\") as f:\n",
        "    print(f.read())\n",
        "\n",
        "\n"
      ],
      "execution_count": 75,
      "outputs": [
        {
          "output_type": "stream",
          "text": [
            "Hey,this is Tanvi Penumudy\n",
            "Listening to music is really pleasing\n",
            "Coding is really amazing\n",
            "Mark Zuckerberg is my idol\n",
            "I love my family more than any other thing\n"
          ],
          "name": "stdout"
        }
      ]
    },
    {
      "metadata": {
        "id": "kVOv3iCz6eSu",
        "colab_type": "text"
      },
      "cell_type": "markdown",
      "source": [
        "### Program 10: Write a program to write to file(\"example2.txt\") using \"with open()\""
      ]
    },
    {
      "metadata": {
        "id": "U-SbbcqG6eSw",
        "colab_type": "code",
        "colab": {
          "base_uri": "https://localhost:8080/",
          "height": 68
        },
        "outputId": "84af720c-b3cc-46ff-dbf5-d402e58fd778"
      },
      "cell_type": "code",
      "source": [
        "# write your code here\n",
        "with open (\"sample.txt\",\"w\") as f:\n",
        "    print(\"Hey everyone....\\nSometimes when things get hard, the only solution is to be yourself.\\nI'm really lucky to do what I am doing.\")\n",
        "\n",
        "\n"
      ],
      "execution_count": 76,
      "outputs": [
        {
          "output_type": "stream",
          "text": [
            "Hey everyone....\n",
            "Sometimes when things get hard, the only solution is to be yourself.\n",
            "I'm really lucky to do what I am doing.\n"
          ],
          "name": "stdout"
        }
      ]
    },
    {
      "metadata": {
        "id": "2HIqzatW6eS-",
        "colab_type": "text"
      },
      "cell_type": "markdown",
      "source": [
        "## Optional Programs"
      ]
    },
    {
      "metadata": {
        "id": "tz08YW9l6eTA",
        "colab_type": "text"
      },
      "cell_type": "markdown",
      "source": [
        "### Program 11: WAP to find the square and cube of all the numbers between start and end. Create a file named  \"cubes.txt\" and store one number per line into file. Read the values of start and end from the file. Also print the start and ending number. "
      ]
    },
    {
      "metadata": {
        "id": "ZCrl6YmP6eTD",
        "colab_type": "raw"
      },
      "cell_type": "markdown",
      "source": [
        "Output should look like:\n",
        "Start number = 1\n",
        "End number = 20\n",
        "Cube of 1 is 1\n",
        "Cube 2 is 8\n",
        "Cube of 3 is 27\n",
        "....."
      ]
    },
    {
      "metadata": {
        "id": "7HDYG9dE6eTF",
        "colab_type": "code",
        "colab": {}
      },
      "cell_type": "code",
      "source": [
        "# write your code here\n",
        "c=open(\"cubes.txt\",\"w\")\n",
        "print(\"Start Number: 1\")\n",
        "print(\"End Number: 20\")\n",
        "for i in range(1,21,1):\n",
        "    print(\"Cube of:\",i is i**3)\n",
        "c.close()\n",
        "c1=open(\"cubes.txt,\"r\")\n",
        "for i in c:\n",
        "    print(i)\n",
        "c1.close()\n",
        "    \n",
        "\n"
      ],
      "execution_count": 0,
      "outputs": []
    },
    {
      "metadata": {
        "id": "dM1Psfta6eTO",
        "colab_type": "text"
      },
      "cell_type": "markdown",
      "source": [
        "### Program 12: WAP for following:\n",
        "- Create a new file called \"states.txt\". \n",
        "- Take the values of state and its capital(atleast 10 records) from the user and write them to newly created file.\n",
        "- The file should containt 1 record per state."
      ]
    },
    {
      "metadata": {
        "id": "RovYRivj6eTR",
        "colab_type": "code",
        "colab": {}
      },
      "cell_type": "code",
      "source": [
        "# write your code here\n"
      ],
      "execution_count": 0,
      "outputs": []
    }
  ]
}
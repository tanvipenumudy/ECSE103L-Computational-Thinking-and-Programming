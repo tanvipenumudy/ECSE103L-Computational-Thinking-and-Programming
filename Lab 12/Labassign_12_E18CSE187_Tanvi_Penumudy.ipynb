{
  "nbformat": 4,
  "nbformat_minor": 0,
  "metadata": {
    "colab": {
      "name": "Labassign_12_E18CSE187_Tanvi_Penumudy.ipynb",
      "version": "0.3.2",
      "provenance": [],
      "collapsed_sections": []
    },
    "kernelspec": {
      "display_name": "Python 3",
      "language": "python",
      "name": "python3"
    }
  },
  "cells": [
    {
      "metadata": {
        "id": "KFuU0sMA-X9Z",
        "colab_type": "text"
      },
      "cell_type": "markdown",
      "source": [
        "# Name: Tanvi Penumudy\n",
        "# Enrollment ID: E18CSE187\n",
        "# Lab Assignment: 12"
      ]
    },
    {
      "metadata": {
        "id": "EjXXgSx0-X9d",
        "colab_type": "text"
      },
      "cell_type": "markdown",
      "source": [
        "## All code should be done using Functions and parameters should be user defined!! \n",
        "## Input cases for program at least two."
      ]
    },
    {
      "metadata": {
        "id": "BgCpcVfB-X9f",
        "colab_type": "text"
      },
      "cell_type": "markdown",
      "source": [
        "## Function with arguments\n",
        "### Write a program in Python to convert time into minutes using function. "
      ]
    },
    {
      "metadata": {
        "id": "vxLLeRK4-X9j",
        "colab_type": "code",
        "colab": {
          "base_uri": "https://localhost:8080/",
          "height": 68
        },
        "outputId": "10e7a7e4-6783-4466-bdde-6a3197387065"
      },
      "cell_type": "code",
      "source": [
        "#input Hours and minutes from user\n",
        "\n",
        "#function definition\n",
        "def convert(hrs, minute):\n",
        "    #write your code here\n",
        "    minute=hrs*60+minute\n",
        "    return minute\n",
        "h=int(input(\"Enter the number of hours to be converted: \"))\n",
        "m=int(input(\"Enter the number of minutes to be converted:\"))\n",
        "\n",
        "#function calling\n",
        "print(convert(h,m))\n",
        "\n"
      ],
      "execution_count": 5,
      "outputs": [
        {
          "output_type": "stream",
          "text": [
            "Enter the number of hours to be converted: 2\n",
            "Enter the number of minutes to be converted:36\n",
            "156\n"
          ],
          "name": "stdout"
        }
      ]
    },
    {
      "metadata": {
        "id": "oNhO8vqB-X92",
        "colab_type": "text"
      },
      "cell_type": "markdown",
      "source": [
        "### Write a prgram to calculate simple interest. If customer is a senior citizen, he is offered 12 percent rate of interest. For all other customers, rate of interest is 10 percent. Use a function which accepts principle amount, time in years and yes or no for senior citizen (Boolean)."
      ]
    },
    {
      "metadata": {
        "id": "7PbFj4oS-X94",
        "colab_type": "code",
        "colab": {
          "base_uri": "https://localhost:8080/",
          "height": 85
        },
        "outputId": "f7b7fdcb-be6e-4620-85a7-0e0b2e78580c"
      },
      "cell_type": "code",
      "source": [
        "def interest(principle, year, senior):\n",
        "    #write your code here\n",
        "    if(senior==\"yes\"):\n",
        "        amount=(principle*year*12)/100\n",
        "        print(amount)\n",
        "    else:\n",
        "        amount=(principle*year*10)/100\n",
        "        print(amount)\n",
        "a=int(input(\"Please enter the amount:\"))\n",
        "b=int(input(\"Please enter the number of years:\"))\n",
        "c=input(\"Are you a senior citizen?\")\n",
        "interest(a,b,c)"
      ],
      "execution_count": 6,
      "outputs": [
        {
          "output_type": "stream",
          "text": [
            "Please enter the amount:7000\n",
            "Please enter the number of years:58\n",
            "Are you a senior citizen?yes\n",
            "48720.0\n"
          ],
          "name": "stdout"
        }
      ]
    },
    {
      "metadata": {
        "id": "zqbo3vEV-X-E",
        "colab_type": "text"
      },
      "cell_type": "markdown",
      "source": [
        "## Function with no argument \n",
        "### Write a program in Python to print the current date and time using function showtime(). \n",
        "## Use import datetime and datetime.datetime.now() to print the current date and time. "
      ]
    },
    {
      "metadata": {
        "id": "KVbbmKwF-X-G",
        "colab_type": "code",
        "colab": {},
        "outputId": "8687ca9e-7789-4eae-9f35-8c1fa70195ea"
      },
      "cell_type": "code",
      "source": [
        "import datetime\n",
        "def showtime():\n",
        "    #write your code here\n",
        "    print(datetime.datetime.now())\n",
        "showtime()"
      ],
      "execution_count": 0,
      "outputs": [
        {
          "output_type": "stream",
          "text": [
            "2018-09-14 16:00:13.970823\n"
          ],
          "name": "stdout"
        }
      ]
    },
    {
      "metadata": {
        "id": "sBYvFe0A-X-Q",
        "colab_type": "text"
      },
      "cell_type": "markdown",
      "source": [
        "## Default arguments"
      ]
    },
    {
      "metadata": {
        "id": "TBAkBfsq-X-S",
        "colab_type": "text"
      },
      "cell_type": "markdown",
      "source": [
        "### Write a program using a function that greets a person using default message Welcome! followed by name of the person. Call this with a different message also."
      ]
    },
    {
      "metadata": {
        "id": "nfTJN_RS-X-U",
        "colab_type": "code",
        "colab": {
          "base_uri": "https://localhost:8080/",
          "height": 34
        },
        "outputId": "9dcf97cb-8358-4d78-c70e-435347dbfd4e"
      },
      "cell_type": "code",
      "source": [
        "def greet(name, msg='WELCOME!!'):\n",
        "    print(msg, name)\n",
        "    #write your code here\n",
        "greet(\"Tanvi Penumudy\")"
      ],
      "execution_count": 7,
      "outputs": [
        {
          "output_type": "stream",
          "text": [
            "WELCOME!! Tanvi Penumudy\n"
          ],
          "name": "stdout"
        }
      ]
    },
    {
      "metadata": {
        "id": "zf4AxFuS-X-e",
        "colab_type": "text"
      },
      "cell_type": "markdown",
      "source": [
        "### Write a program to calculate the volume of a cuboid (length\\*width*height) using default arguments in a function. Length parameter is compulsory to be passed from user."
      ]
    },
    {
      "metadata": {
        "id": "eGJqap69-X-h",
        "colab_type": "code",
        "colab": {
          "base_uri": "https://localhost:8080/",
          "height": 68
        },
        "outputId": "85d60ff7-e2a1-478d-a944-79ebded37ff0"
      },
      "cell_type": "code",
      "source": [
        "def volume(length, width=2, height=3):\n",
        "    #write your code here\n",
        "    volume=length*width*height\n",
        "    print(volume)\n",
        "    \n",
        "    \n",
        "#Function Calling\n",
        "volume(2)\n",
        "volume(2,3)\n",
        "volume(2,3,4)"
      ],
      "execution_count": 8,
      "outputs": [
        {
          "output_type": "stream",
          "text": [
            "12\n",
            "18\n",
            "24\n"
          ],
          "name": "stdout"
        }
      ]
    },
    {
      "metadata": {
        "id": "Np_vRJoi-X-v",
        "colab_type": "text"
      },
      "cell_type": "markdown",
      "source": [
        "# Variable Length arguments\n",
        "### Write a program that uses variable-length arguments to multiply the values passed to the function.\n",
        "### For example, calling mul(2,3,1) will print 6. Calling mul(1,4,2,5) will return 40. "
      ]
    },
    {
      "metadata": {
        "id": "wX72pmoB-X-0",
        "colab_type": "code",
        "colab": {
          "base_uri": "https://localhost:8080/",
          "height": 34
        },
        "outputId": "b260eb3a-9ebc-4dbd-d9f1-4ac87c47fbdd"
      },
      "cell_type": "code",
      "source": [
        "def mul(*args):\n",
        "    #write your code here\n",
        "    a=1\n",
        "    for i in args:\n",
        "        a*=i\n",
        "    print(a)\n",
        "mul(5,4,1,2,3,7,8)\n",
        "    "
      ],
      "execution_count": 9,
      "outputs": [
        {
          "output_type": "stream",
          "text": [
            "6720\n"
          ],
          "name": "stdout"
        }
      ]
    },
    {
      "metadata": {
        "id": "27ULUBUz-X_L",
        "colab_type": "text"
      },
      "cell_type": "markdown",
      "source": [
        "### Write a program in Python to find the roots of a quadratic equation ax^2+bx+c=0 using a function which takes the coefficients a,b,c as arguments."
      ]
    },
    {
      "metadata": {
        "id": "KWKEpNo_-X_R",
        "colab_type": "code",
        "colab": {
          "base_uri": "https://localhost:8080/",
          "height": 51
        },
        "outputId": "dee83434-4cf7-4fa3-f9a3-55307802d0e4"
      },
      "cell_type": "code",
      "source": [
        "def roots(a,b,c):\n",
        "    #write your code here\n",
        "    discriminate=b**2-(4*a*c)\n",
        "    roots=print((-b+discriminate**(1/2))/(2*a),\"and\",(-b-discriminate**(1/2))/(2*a))\n",
        "    \n",
        "    \n",
        "#Function calling\n",
        "roots(1,5,6)\n",
        "roots(1,2,5)"
      ],
      "execution_count": 22,
      "outputs": [
        {
          "output_type": "stream",
          "text": [
            "-2.0 and -3.0\n",
            "(-0.9999999999999999+2j) and (-1.0000000000000002-2j)\n"
          ],
          "name": "stdout"
        }
      ]
    },
    {
      "metadata": {
        "id": "9TR-Ihoa-X_Z",
        "colab_type": "text"
      },
      "cell_type": "markdown",
      "source": [
        "# Return multiple arguments\n",
        "### Write a program in Python to return square and square root of the number passed as argument from a function."
      ]
    },
    {
      "metadata": {
        "id": "0McSUY6k-X_b",
        "colab_type": "code",
        "colab": {
          "base_uri": "https://localhost:8080/",
          "height": 34
        },
        "outputId": "b64dc742-fe6b-4df2-a78f-b970b7125094"
      },
      "cell_type": "code",
      "source": [
        "import math\n",
        "def compute(num):\n",
        "    #write your code here\n",
        "    root=math.sqrt(num)\n",
        "    return root,num*num\n",
        "print(compute(9))"
      ],
      "execution_count": 10,
      "outputs": [
        {
          "output_type": "stream",
          "text": [
            "(3.0, 81)\n"
          ],
          "name": "stdout"
        }
      ]
    },
    {
      "metadata": {
        "id": "0TbJY6eC-X_j",
        "colab_type": "text"
      },
      "cell_type": "markdown",
      "source": [
        "# Lambda Functions\n",
        "### write a program in Python to calculate the cube of a number using the lambda function."
      ]
    },
    {
      "metadata": {
        "id": "YToSt7Ko-X_l",
        "colab_type": "code",
        "colab": {
          "base_uri": "https://localhost:8080/",
          "height": 34
        },
        "outputId": "f0be8512-31cf-4487-b12f-0aab9e25d2c0"
      },
      "cell_type": "code",
      "source": [
        "g = lambda x: x*x*x \n",
        "print(g(6)) \n",
        "  \n",
        "\n"
      ],
      "execution_count": 11,
      "outputs": [
        {
          "output_type": "stream",
          "text": [
            "216\n"
          ],
          "name": "stdout"
        }
      ]
    },
    {
      "metadata": {
        "id": "XMNs3v5m-X_u",
        "colab_type": "text"
      },
      "cell_type": "markdown",
      "source": [
        "# Global and Local Variables"
      ]
    },
    {
      "metadata": {
        "id": "MqeokaUf-X_x",
        "colab_type": "text"
      },
      "cell_type": "markdown",
      "source": [
        "### Check the output of the following code to understand the Global and local variables."
      ]
    },
    {
      "metadata": {
        "id": "M1D4KyHm-X_z",
        "colab_type": "code",
        "colab": {
          "base_uri": "https://localhost:8080/",
          "height": 34
        },
        "outputId": "f2d36ecf-6597-44f3-849b-3eab84aa6737"
      },
      "cell_type": "code",
      "source": [
        "# This function uses global variable s \n",
        "def f():\n",
        "    print(s, end=\" \")\n",
        "\n",
        "# Global scope \n",
        "s = \"Python\"\n",
        "f()"
      ],
      "execution_count": 12,
      "outputs": [
        {
          "output_type": "stream",
          "text": [
            "Python "
          ],
          "name": "stdout"
        }
      ]
    },
    {
      "metadata": {
        "id": "OHMaTGHH-X_9",
        "colab_type": "code",
        "colab": {
          "base_uri": "https://localhost:8080/",
          "height": 34
        },
        "outputId": "d186a329-2a15-4720-8f6b-10628ef0965a"
      },
      "cell_type": "code",
      "source": [
        "# This function has a variable with name same as s. \n",
        "def f():  \n",
        "    s = \"I love\"\n",
        "    print(s, end=\" \")\n",
        "# Global scope \n",
        "s = \"Python\" \n",
        "f()\n",
        "print(s)"
      ],
      "execution_count": 23,
      "outputs": [
        {
          "output_type": "stream",
          "text": [
            "I love Python\n"
          ],
          "name": "stdout"
        }
      ]
    },
    {
      "metadata": {
        "id": "ZjoZZ3oN-YAG",
        "colab_type": "code",
        "colab": {
          "base_uri": "https://localhost:8080/",
          "height": 333
        },
        "outputId": "742d0bb7-49e6-4c15-9d47-f3ad6d76a9a5"
      },
      "cell_type": "code",
      "source": [
        "def f():\n",
        "    print(s)\n",
        "    # This program will NOT show error, if we comment below line.\n",
        "    s = \"Me too.\"\n",
        "    print(s)\n",
        "\n",
        "# Global scope\n",
        "s= \"Python\"\n",
        "f()\n",
        "print(s)"
      ],
      "execution_count": 24,
      "outputs": [
        {
          "output_type": "error",
          "ename": "UnboundLocalError",
          "evalue": "ignored",
          "traceback": [
            "\u001b[0;31m---------------------------------------------------------------------------\u001b[0m",
            "\u001b[0;31mUnboundLocalError\u001b[0m                         Traceback (most recent call last)",
            "\u001b[0;32m<ipython-input-24-f9c9764a7855>\u001b[0m in \u001b[0;36m<module>\u001b[0;34m()\u001b[0m\n\u001b[1;32m      7\u001b[0m \u001b[0;31m# Global scope\u001b[0m\u001b[0;34m\u001b[0m\u001b[0;34m\u001b[0m\u001b[0m\n\u001b[1;32m      8\u001b[0m \u001b[0ms\u001b[0m\u001b[0;34m=\u001b[0m \u001b[0;34m\"Python\"\u001b[0m\u001b[0;34m\u001b[0m\u001b[0m\n\u001b[0;32m----> 9\u001b[0;31m \u001b[0mf\u001b[0m\u001b[0;34m(\u001b[0m\u001b[0;34m)\u001b[0m\u001b[0;34m\u001b[0m\u001b[0m\n\u001b[0m\u001b[1;32m     10\u001b[0m \u001b[0mprint\u001b[0m\u001b[0;34m(\u001b[0m\u001b[0ms\u001b[0m\u001b[0;34m)\u001b[0m\u001b[0;34m\u001b[0m\u001b[0m\n",
            "\u001b[0;32m<ipython-input-24-f9c9764a7855>\u001b[0m in \u001b[0;36mf\u001b[0;34m()\u001b[0m\n\u001b[1;32m      1\u001b[0m \u001b[0;32mdef\u001b[0m \u001b[0mf\u001b[0m\u001b[0;34m(\u001b[0m\u001b[0;34m)\u001b[0m\u001b[0;34m:\u001b[0m\u001b[0;34m\u001b[0m\u001b[0m\n\u001b[0;32m----> 2\u001b[0;31m     \u001b[0mprint\u001b[0m\u001b[0;34m(\u001b[0m\u001b[0ms\u001b[0m\u001b[0;34m)\u001b[0m\u001b[0;34m\u001b[0m\u001b[0m\n\u001b[0m\u001b[1;32m      3\u001b[0m     \u001b[0;31m# This program will NOT show error, if we comment below line.\u001b[0m\u001b[0;34m\u001b[0m\u001b[0;34m\u001b[0m\u001b[0m\n\u001b[1;32m      4\u001b[0m     \u001b[0ms\u001b[0m \u001b[0;34m=\u001b[0m \u001b[0;34m\"Me too.\"\u001b[0m\u001b[0;34m\u001b[0m\u001b[0m\n\u001b[1;32m      5\u001b[0m     \u001b[0mprint\u001b[0m\u001b[0;34m(\u001b[0m\u001b[0ms\u001b[0m\u001b[0;34m)\u001b[0m\u001b[0;34m\u001b[0m\u001b[0m\n",
            "\u001b[0;31mUnboundLocalError\u001b[0m: local variable 's' referenced before assignment"
          ]
        }
      ]
    },
    {
      "metadata": {
        "id": "vNPd5vwo-YAT",
        "colab_type": "code",
        "colab": {
          "base_uri": "https://localhost:8080/",
          "height": 68
        },
        "outputId": "0dfefc8a-f8fe-415e-ec3e-073541ca24e3"
      },
      "cell_type": "code",
      "source": [
        "def f(): \n",
        "    global s\n",
        "    print (s) \n",
        "    s = \"Python\"\n",
        "    print (s)  \n",
        "\n",
        "# Global Scope \n",
        "s = \"Python\"\n",
        "f()\n",
        "print(s)"
      ],
      "execution_count": 15,
      "outputs": [
        {
          "output_type": "stream",
          "text": [
            "Python\n",
            "Python\n",
            "Python\n"
          ],
          "name": "stdout"
        }
      ]
    },
    {
      "metadata": {
        "id": "9KxfKxUl-YAb",
        "colab_type": "text"
      },
      "cell_type": "markdown",
      "source": [
        "# Recursive function"
      ]
    },
    {
      "metadata": {
        "id": "JB4MmHdZ-YAd",
        "colab_type": "code",
        "colab": {
          "base_uri": "https://localhost:8080/",
          "height": 34
        },
        "outputId": "6b3200bf-8d28-4634-d185-4f1226aaddc6"
      },
      "cell_type": "code",
      "source": [
        "def sum(n):\n",
        "    if(n==1):\n",
        "        return 1\n",
        "    return n+sum(n-1)\n",
        "\n",
        "print(sum(7))\n",
        "    "
      ],
      "execution_count": 17,
      "outputs": [
        {
          "output_type": "stream",
          "text": [
            "28\n"
          ],
          "name": "stdout"
        }
      ]
    },
    {
      "metadata": {
        "id": "D4gsCK_v-YAn",
        "colab_type": "text"
      },
      "cell_type": "markdown",
      "source": [
        "# Optional Questions"
      ]
    },
    {
      "metadata": {
        "id": "gY-hhUnr-YAp",
        "colab_type": "text"
      },
      "cell_type": "markdown",
      "source": [
        "### Write a program to design the pow function using recursion."
      ]
    },
    {
      "metadata": {
        "id": "y-99FInT-YAq",
        "colab_type": "code",
        "colab": {
          "base_uri": "https://localhost:8080/",
          "height": 34
        },
        "outputId": "a1e271b3-7eb0-45ea-b6ba-1a146f2cb66a"
      },
      "cell_type": "code",
      "source": [
        "#Function Definition\n",
        "def pow(m,n):\n",
        "    if(n==1):\n",
        "        return m\n",
        "    #Complete the code here\n",
        "    return m*pow(m,n-1)\n",
        "\n",
        "#Function Calling\n",
        "print(pow(3,4))"
      ],
      "execution_count": 18,
      "outputs": [
        {
          "output_type": "stream",
          "text": [
            "81\n"
          ],
          "name": "stdout"
        }
      ]
    },
    {
      "metadata": {
        "id": "p99d7qcq-YAz",
        "colab_type": "text"
      },
      "cell_type": "markdown",
      "source": [
        "## 2’s complement of a number is obtained by scanning it from right to left and complementing all the bits after the first appearance of a 1. Thus 2’s complement of 11100 is 00100. \n",
        "### Write a Python program to find the 2’s complement of a binary."
      ]
    },
    {
      "metadata": {
        "id": "4pjL5Auz-YA2",
        "colab_type": "code",
        "colab": {}
      },
      "cell_type": "code",
      "source": [
        "def complement_two(n)\n",
        "    n=input(\"Enter any number of your choice:\")\n",
        "    binary = int(\"{0:b}\".format(n)) \n",
        "    reverse = ~binary \n",
        "    reverse += 1 \n",
        "    integer_reverse=int(str(reverse),2)\n",
        "    return integer_reverse\n",
        "complement_two(10)\n",
        "    \n",
        "\n",
        "\n",
        "\n",
        "\n",
        "\n",
        "    "
      ],
      "execution_count": 0,
      "outputs": []
    },
    {
      "metadata": {
        "id": "tQGsy5g4-YA8",
        "colab_type": "text"
      },
      "cell_type": "markdown",
      "source": [
        "### Write a program to calculate the sum of digits using recursion."
      ]
    },
    {
      "metadata": {
        "id": "IZuqLRwB-YA-",
        "colab_type": "code",
        "colab": {}
      },
      "cell_type": "code",
      "source": [
        "#recursive Function\n",
        "def sumofd(x):\n",
        "    #Complete the code\n",
        "    if(x==0):\n",
        "        return 0\n",
        "    else:\n",
        "        return(s=(x%10)+sumofd(x//10))\n",
        "\n",
        "\n",
        "#Calling function\n",
        "sumofd(12) \n",
        "    #Continue the loop untill zero is input.    "
      ],
      "execution_count": 0,
      "outputs": []
    },
    {
      "metadata": {
        "id": "1WnvXvs0-YBF",
        "colab_type": "text"
      },
      "cell_type": "markdown",
      "source": [
        "### Write a program to calculate the hexa-decimal of decimal number using recursion."
      ]
    },
    {
      "metadata": {
        "id": "WnMGbQwG-YBI",
        "colab_type": "code",
        "colab": {},
        "outputId": "c8bdfd81-a32c-47d9-9e54-51ad480ea740"
      },
      "cell_type": "code",
      "source": [
        "#recursive Function\n",
        "def hexa(number):\n",
        "    \n",
        "    \n",
        "\n",
        "#Calling function\n",
        "    print(\"Hexa Decimal\")\n",
        "    print(\"\\nHexa Decimal\")\n",
        "print(hexa(18))\n",
        "\n",
        "print(hexa(65))"
      ],
      "execution_count": 0,
      "outputs": [
        {
          "output_type": "stream",
          "text": [
            "Hexa Decimal\n",
            "\n",
            "Hexa Decimal\n",
            "None\n",
            "Hexa Decimal\n",
            "\n",
            "Hexa Decimal\n",
            "None\n"
          ],
          "name": "stdout"
        }
      ]
    },
    {
      "metadata": {
        "id": "aUJxNEZ--YBX",
        "colab_type": "code",
        "colab": {}
      },
      "cell_type": "code",
      "source": [
        ""
      ],
      "execution_count": 0,
      "outputs": []
    }
  ]
}
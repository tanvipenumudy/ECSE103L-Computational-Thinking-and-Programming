{
 "cells": [
  {
   "cell_type": "markdown",
   "metadata": {},
   "source": [
    "# Name:\n",
    "# Enrollment ID:"
   ]
  },
  {
   "cell_type": "markdown",
   "metadata": {},
   "source": [
    "## All code should be done using Functions and parameters should be user defined!! \n",
    "## Input cases for program at least two."
   ]
  },
  {
   "cell_type": "markdown",
   "metadata": {},
   "source": [
    "## Function with arguments\n",
    "### Write a program in Python to convert time into minutes using function. "
   ]
  },
  {
   "cell_type": "code",
   "execution_count": null,
   "metadata": {},
   "outputs": [],
   "source": [
    "#input Hours and minutes from user\n",
    "\n",
    "#function definition\n",
    "def convert(hrs, minute):\n",
    "    #write your code here\n",
    "    return\n",
    "\n",
    "#function calling\n",
    "converts(h,m)\n"
   ]
  },
  {
   "cell_type": "markdown",
   "metadata": {},
   "source": [
    "### Write a prgram to calculate simple interest. If customer is a senior citizen, he is offered 12 percent rate of interest. For all other customers, rate of interest is 10 percent. Use a function which accepts principle amount, time in years and yes or no for senior citizen (Boolean)."
   ]
  },
  {
   "cell_type": "code",
   "execution_count": null,
   "metadata": {},
   "outputs": [],
   "source": [
    "def interest(priciple, year, senior):\n",
    "    #write your code here"
   ]
  },
  {
   "cell_type": "markdown",
   "metadata": {},
   "source": [
    "# Function with no argument \n",
    "### Write a program in Python to print the current date and time using function showtime(). \n",
    "## Use import datetime and datetime.datetime.now() to print the current date and time. "
   ]
  },
  {
   "cell_type": "code",
   "execution_count": null,
   "metadata": {},
   "outputs": [],
   "source": [
    "def showtime():\n",
    "    #write your code here"
   ]
  },
  {
   "cell_type": "markdown",
   "metadata": {},
   "source": [
    "## Default arguments"
   ]
  },
  {
   "cell_type": "markdown",
   "metadata": {},
   "source": [
    "### Write a program using a function that greets a person using default message Welcome! followed by name of the person. Call this with a different message also."
   ]
  },
  {
   "cell_type": "code",
   "execution_count": null,
   "metadata": {},
   "outputs": [],
   "source": [
    "def greet(name, msg='Welcome!'):\n",
    "    print(msg, name)\n",
    "    #write your code here"
   ]
  },
  {
   "cell_type": "markdown",
   "metadata": {},
   "source": [
    "### Write a program to calculate the volume of a cuboid (length\\*width*height) using default arguments in a function. Length parameter is compulsory to be passed from user."
   ]
  },
  {
   "cell_type": "code",
   "execution_count": null,
   "metadata": {},
   "outputs": [],
   "source": [
    "def volume(length, width=2, height=3):\n",
    "    #write your code here\n",
    "    \n",
    "    \n",
    "#Function Calling\n",
    "volume(2)\n",
    "volume(2,3)\n",
    "volume(2,3,4)"
   ]
  },
  {
   "cell_type": "markdown",
   "metadata": {},
   "source": [
    "# Variable Length arguments\n",
    "### Write a program that uses variable-length arguments to multiply the values passed to the function.\n",
    "### For example, calling mul(2,3,1) will print 6. Calling mul(1,4,2,5) will return 40. "
   ]
  },
  {
   "cell_type": "code",
   "execution_count": null,
   "metadata": {},
   "outputs": [],
   "source": [
    "def mul(*args):\n",
    "    #write your code here"
   ]
  },
  {
   "cell_type": "markdown",
   "metadata": {},
   "source": [
    "### Write a program in Python to find the roots of a quadratic equation ax^2+bx+c=0 using a function which takes the coefficients a,b,c as arguments."
   ]
  },
  {
   "cell_type": "code",
   "execution_count": null,
   "metadata": {},
   "outputs": [],
   "source": [
    "def roots(a,b,c):\n",
    "    #write your code here\n",
    "    \n",
    "    \n",
    "#Function calling\n",
    "roots(1,5,6)\n",
    "roots(1,2,5)"
   ]
  },
  {
   "cell_type": "markdown",
   "metadata": {},
   "source": [
    "# Return multiple arguments\n",
    "### Write a program in Python to return square and square root of the number passed as argument from a function."
   ]
  },
  {
   "cell_type": "code",
   "execution_count": null,
   "metadata": {},
   "outputs": [],
   "source": [
    "def compute(num):\n",
    "    #write your code here"
   ]
  },
  {
   "cell_type": "markdown",
   "metadata": {},
   "source": [
    "# Lambda Functions\n",
    "### write a program in Python to calculate the cube of a number using the lambda function."
   ]
  },
  {
   "cell_type": "code",
   "execution_count": null,
   "metadata": {},
   "outputs": [],
   "source": [
    "def func(x):\n",
    "    #write your code here"
   ]
  },
  {
   "cell_type": "markdown",
   "metadata": {},
   "source": [
    "# Global and Local Variables"
   ]
  },
  {
   "cell_type": "markdown",
   "metadata": {},
   "source": [
    "### Check the output of the following code to understand the Global and local variables."
   ]
  },
  {
   "cell_type": "code",
   "execution_count": null,
   "metadata": {},
   "outputs": [],
   "source": [
    "# This function uses global variable s \n",
    "def f():\n",
    "    print(s, end=\" \")\n",
    "\n",
    "# Global scope \n",
    "s = \"Python\"\n",
    "f()"
   ]
  },
  {
   "cell_type": "code",
   "execution_count": null,
   "metadata": {},
   "outputs": [],
   "source": [
    "# This function has a variable with name same as s. \n",
    "def f():  \n",
    "    s = \"I hate\"\n",
    "    print(s, end=\" \")\n",
    "# Global scope \n",
    "s = \"Python\" \n",
    "f()\n",
    "print(s)"
   ]
  },
  {
   "cell_type": "code",
   "execution_count": null,
   "metadata": {},
   "outputs": [],
   "source": [
    "def f():\n",
    "    print(s)\n",
    "    # This program will NOT show error, if we comment below line.\n",
    "    s = \"Me too.\"\n",
    "    print(s)\n",
    "\n",
    "# Global scope\n",
    "s= \"Python\"\n",
    "f()\n",
    "print(s)"
   ]
  },
  {
   "cell_type": "code",
   "execution_count": null,
   "metadata": {},
   "outputs": [],
   "source": [
    "def f(): \n",
    "    global s\n",
    "    print (s) \n",
    "    s = \"Python\"\n",
    "    print (s)  \n",
    "\n",
    "# Global Scope \n",
    "s = \"Python\"\n",
    "f()\n",
    "print(s)"
   ]
  },
  {
   "cell_type": "markdown",
   "metadata": {},
   "source": [
    "# Recursive function"
   ]
  },
  {
   "cell_type": "code",
   "execution_count": null,
   "metadata": {},
   "outputs": [],
   "source": [
    "def sum(n):\n",
    "    if(n==1):\n",
    "        return 1\n",
    "    return n+sum(n-1)\n",
    "\n",
    "print(sum(5))\n",
    "    "
   ]
  },
  {
   "cell_type": "markdown",
   "metadata": {},
   "source": [
    "# Optional Questions"
   ]
  },
  {
   "cell_type": "markdown",
   "metadata": {},
   "source": [
    "### Write a program to design the pow function using recursion."
   ]
  },
  {
   "cell_type": "code",
   "execution_count": null,
   "metadata": {},
   "outputs": [],
   "source": [
    "#Function Definition\n",
    "def pow(a,b):\n",
    "    if(b==1):\n",
    "        return a\n",
    "    #Complete the code here\n",
    "    return a*pow(a,b-1)\n",
    "\n",
    "#Function Calling\n",
    "print(pow(2,5))"
   ]
  },
  {
   "cell_type": "markdown",
   "metadata": {},
   "source": [
    "## 2’s complement of a number is obtained by scanning it from right to left and complementing all the bits after the first appearance of a 1. Thus 2’s complement of 11100 is 00100. \n",
    "### Write a Python program to find the 2’s complement of a binary."
   ]
  },
  {
   "cell_type": "code",
   "execution_count": null,
   "metadata": {},
   "outputs": [],
   "source": []
  },
  {
   "cell_type": "markdown",
   "metadata": {},
   "source": [
    "### Write a program to calculate the sum of digits using recursion."
   ]
  },
  {
   "cell_type": "code",
   "execution_count": null,
   "metadata": {},
   "outputs": [],
   "source": [
    "#recursive Function\n",
    "def digit_Sum(number)\n",
    "    #Complete the code\n",
    "    \n",
    "    return \n",
    "\n",
    "\n",
    "#Calling function\n",
    "while(1)\n",
    "    digit_sum(n) \n",
    "    #Continue the loop untill zero is input.    "
   ]
  },
  {
   "cell_type": "markdown",
   "metadata": {},
   "source": [
    "### Write a program to calculate the hexa-decimal of decimal number using recursion."
   ]
  },
  {
   "cell_type": "code",
   "execution_count": null,
   "metadata": {},
   "outputs": [],
   "source": [
    "#recursive Function\n",
    "def hexa(number):\n",
    "    \n",
    "\n",
    "#Calling function\n",
    "print(\"Hexa Decimal\")\n",
    "hexa(18)\n",
    "print(\"\\nHexa Decimal\")\n",
    "hexa(65)"
   ]
  }
 ],
 "metadata": {
  "kernelspec": {
   "display_name": "Python 3",
   "language": "python",
   "name": "python3"
  },
  "language_info": {
   "codemirror_mode": {
    "name": "ipython",
    "version": 3
   },
   "file_extension": ".py",
   "mimetype": "text/x-python",
   "name": "python",
   "nbconvert_exporter": "python",
   "pygments_lexer": "ipython3",
   "version": "3.6.5"
  }
 },
 "nbformat": 4,
 "nbformat_minor": 2
}
